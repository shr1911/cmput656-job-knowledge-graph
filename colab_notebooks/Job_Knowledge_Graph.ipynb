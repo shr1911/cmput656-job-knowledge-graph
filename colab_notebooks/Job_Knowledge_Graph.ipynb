{
  "nbformat": 4,
  "nbformat_minor": 0,
  "metadata": {
    "colab": {
      "name": "Job_Knowledge_Graph.ipynb",
      "provenance": [],
      "collapsed_sections": []
    },
    "kernelspec": {
      "name": "python3",
      "display_name": "Python 3"
    },
    "language_info": {
      "name": "python"
    },
    "accelerator": "GPU"
  },
  "cells": [
    {
      "cell_type": "code",
      "execution_count": null,
      "metadata": {
        "colab": {
          "base_uri": "https://localhost:8080/"
        },
        "id": "S0jpc8sO9ulR",
        "outputId": "5731b493-6e8e-43ea-8c5d-355b8b5ca074"
      },
      "outputs": [
        {
          "output_type": "stream",
          "name": "stdout",
          "text": [
            "Mounted at /content/drive\n"
          ]
        }
      ],
      "source": [
        "from google.colab import drive\n",
        "drive.mount('/content/drive')"
      ]
    },
    {
      "cell_type": "code",
      "source": [
        "pip install -U spacy"
      ],
      "metadata": {
        "colab": {
          "base_uri": "https://localhost:8080/"
        },
        "id": "-B-13o3mA0Ds",
        "outputId": "7c27605e-28d5-4d11-993a-a6da0896f7f4"
      },
      "execution_count": null,
      "outputs": [
        {
          "output_type": "stream",
          "name": "stdout",
          "text": [
            "Requirement already satisfied: spacy in /usr/local/lib/python3.7/dist-packages (2.2.4)\n",
            "Collecting spacy\n",
            "  Downloading spacy-3.2.3-cp37-cp37m-manylinux_2_17_x86_64.manylinux2014_x86_64.whl (6.0 MB)\n",
            "\u001b[K     |████████████████████████████████| 6.0 MB 5.3 MB/s \n",
            "\u001b[?25hRequirement already satisfied: cymem<2.1.0,>=2.0.2 in /usr/local/lib/python3.7/dist-packages (from spacy) (2.0.6)\n",
            "Collecting pydantic!=1.8,!=1.8.1,<1.9.0,>=1.7.4\n",
            "  Downloading pydantic-1.8.2-cp37-cp37m-manylinux2014_x86_64.whl (10.1 MB)\n",
            "\u001b[K     |████████████████████████████████| 10.1 MB 41.2 MB/s \n",
            "\u001b[?25hCollecting srsly<3.0.0,>=2.4.1\n",
            "  Downloading srsly-2.4.2-cp37-cp37m-manylinux_2_17_x86_64.manylinux2014_x86_64.whl (451 kB)\n",
            "\u001b[K     |████████████████████████████████| 451 kB 52.5 MB/s \n",
            "\u001b[?25hRequirement already satisfied: packaging>=20.0 in /usr/local/lib/python3.7/dist-packages (from spacy) (21.3)\n",
            "Collecting langcodes<4.0.0,>=3.2.0\n",
            "  Downloading langcodes-3.3.0-py3-none-any.whl (181 kB)\n",
            "\u001b[K     |████████████████████████████████| 181 kB 40.3 MB/s \n",
            "\u001b[?25hCollecting typer<0.5.0,>=0.3.0\n",
            "  Downloading typer-0.4.0-py3-none-any.whl (27 kB)\n",
            "Requirement already satisfied: preshed<3.1.0,>=3.0.2 in /usr/local/lib/python3.7/dist-packages (from spacy) (3.0.6)\n",
            "Requirement already satisfied: tqdm<5.0.0,>=4.38.0 in /usr/local/lib/python3.7/dist-packages (from spacy) (4.63.0)\n",
            "Requirement already satisfied: setuptools in /usr/local/lib/python3.7/dist-packages (from spacy) (57.4.0)\n",
            "Collecting thinc<8.1.0,>=8.0.12\n",
            "  Downloading thinc-8.0.15-cp37-cp37m-manylinux_2_17_x86_64.manylinux2014_x86_64.whl (653 kB)\n",
            "\u001b[K     |████████████████████████████████| 653 kB 45.3 MB/s \n",
            "\u001b[?25hRequirement already satisfied: requests<3.0.0,>=2.13.0 in /usr/local/lib/python3.7/dist-packages (from spacy) (2.23.0)\n",
            "Requirement already satisfied: blis<0.8.0,>=0.4.0 in /usr/local/lib/python3.7/dist-packages (from spacy) (0.4.1)\n",
            "Requirement already satisfied: wasabi<1.1.0,>=0.8.1 in /usr/local/lib/python3.7/dist-packages (from spacy) (0.9.0)\n",
            "Requirement already satisfied: typing-extensions<4.0.0.0,>=3.7.4 in /usr/local/lib/python3.7/dist-packages (from spacy) (3.10.0.2)\n",
            "Collecting spacy-legacy<3.1.0,>=3.0.8\n",
            "  Downloading spacy_legacy-3.0.9-py2.py3-none-any.whl (20 kB)\n",
            "Requirement already satisfied: numpy>=1.15.0 in /usr/local/lib/python3.7/dist-packages (from spacy) (1.21.5)\n",
            "Collecting spacy-loggers<2.0.0,>=1.0.0\n",
            "  Downloading spacy_loggers-1.0.1-py3-none-any.whl (7.0 kB)\n",
            "Collecting catalogue<2.1.0,>=2.0.6\n",
            "  Downloading catalogue-2.0.7-py3-none-any.whl (17 kB)\n",
            "Collecting pathy>=0.3.5\n",
            "  Downloading pathy-0.6.1-py3-none-any.whl (42 kB)\n",
            "\u001b[K     |████████████████████████████████| 42 kB 1.3 MB/s \n",
            "\u001b[?25hRequirement already satisfied: murmurhash<1.1.0,>=0.28.0 in /usr/local/lib/python3.7/dist-packages (from spacy) (1.0.6)\n",
            "Requirement already satisfied: jinja2 in /usr/local/lib/python3.7/dist-packages (from spacy) (2.11.3)\n",
            "Requirement already satisfied: zipp>=0.5 in /usr/local/lib/python3.7/dist-packages (from catalogue<2.1.0,>=2.0.6->spacy) (3.7.0)\n",
            "Requirement already satisfied: pyparsing!=3.0.5,>=2.0.2 in /usr/local/lib/python3.7/dist-packages (from packaging>=20.0->spacy) (3.0.7)\n",
            "Requirement already satisfied: smart-open<6.0.0,>=5.0.0 in /usr/local/lib/python3.7/dist-packages (from pathy>=0.3.5->spacy) (5.2.1)\n",
            "Requirement already satisfied: idna<3,>=2.5 in /usr/local/lib/python3.7/dist-packages (from requests<3.0.0,>=2.13.0->spacy) (2.10)\n",
            "Requirement already satisfied: chardet<4,>=3.0.2 in /usr/local/lib/python3.7/dist-packages (from requests<3.0.0,>=2.13.0->spacy) (3.0.4)\n",
            "Requirement already satisfied: certifi>=2017.4.17 in /usr/local/lib/python3.7/dist-packages (from requests<3.0.0,>=2.13.0->spacy) (2021.10.8)\n",
            "Requirement already satisfied: urllib3!=1.25.0,!=1.25.1,<1.26,>=1.21.1 in /usr/local/lib/python3.7/dist-packages (from requests<3.0.0,>=2.13.0->spacy) (1.24.3)\n",
            "Requirement already satisfied: click<9.0.0,>=7.1.1 in /usr/local/lib/python3.7/dist-packages (from typer<0.5.0,>=0.3.0->spacy) (7.1.2)\n",
            "Requirement already satisfied: MarkupSafe>=0.23 in /usr/local/lib/python3.7/dist-packages (from jinja2->spacy) (2.0.1)\n",
            "Installing collected packages: catalogue, typer, srsly, pydantic, thinc, spacy-loggers, spacy-legacy, pathy, langcodes, spacy\n",
            "  Attempting uninstall: catalogue\n",
            "    Found existing installation: catalogue 1.0.0\n",
            "    Uninstalling catalogue-1.0.0:\n",
            "      Successfully uninstalled catalogue-1.0.0\n",
            "  Attempting uninstall: srsly\n",
            "    Found existing installation: srsly 1.0.5\n",
            "    Uninstalling srsly-1.0.5:\n",
            "      Successfully uninstalled srsly-1.0.5\n",
            "  Attempting uninstall: thinc\n",
            "    Found existing installation: thinc 7.4.0\n",
            "    Uninstalling thinc-7.4.0:\n",
            "      Successfully uninstalled thinc-7.4.0\n",
            "  Attempting uninstall: spacy\n",
            "    Found existing installation: spacy 2.2.4\n",
            "    Uninstalling spacy-2.2.4:\n",
            "      Successfully uninstalled spacy-2.2.4\n",
            "Successfully installed catalogue-2.0.7 langcodes-3.3.0 pathy-0.6.1 pydantic-1.8.2 spacy-3.2.3 spacy-legacy-3.0.9 spacy-loggers-1.0.1 srsly-2.4.2 thinc-8.0.15 typer-0.4.0\n"
          ]
        }
      ]
    },
    {
      "cell_type": "code",
      "source": [
        "!pip install -U pip setuptools wheel"
      ],
      "metadata": {
        "colab": {
          "base_uri": "https://localhost:8080/",
          "height": 505
        },
        "id": "FxDSkcefA-FR",
        "outputId": "00e3b4ce-9aec-48ef-a0f7-c5ac0dc4247a"
      },
      "execution_count": null,
      "outputs": [
        {
          "output_type": "stream",
          "name": "stdout",
          "text": [
            "Requirement already satisfied: pip in /usr/local/lib/python3.7/dist-packages (21.1.3)\n",
            "Collecting pip\n",
            "  Downloading pip-22.0.4-py3-none-any.whl (2.1 MB)\n",
            "\u001b[K     |████████████████████████████████| 2.1 MB 5.0 MB/s \n",
            "\u001b[?25hRequirement already satisfied: setuptools in /usr/local/lib/python3.7/dist-packages (57.4.0)\n",
            "Collecting setuptools\n",
            "  Downloading setuptools-61.2.0-py3-none-any.whl (1.1 MB)\n",
            "\u001b[K     |████████████████████████████████| 1.1 MB 22.6 MB/s \n",
            "\u001b[?25hRequirement already satisfied: wheel in /usr/local/lib/python3.7/dist-packages (0.37.1)\n",
            "Installing collected packages: setuptools, pip\n",
            "  Attempting uninstall: setuptools\n",
            "    Found existing installation: setuptools 57.4.0\n",
            "    Uninstalling setuptools-57.4.0:\n",
            "      Successfully uninstalled setuptools-57.4.0\n",
            "  Attempting uninstall: pip\n",
            "    Found existing installation: pip 21.1.3\n",
            "    Uninstalling pip-21.1.3:\n",
            "      Successfully uninstalled pip-21.1.3\n",
            "\u001b[31mERROR: pip's dependency resolver does not currently take into account all the packages that are installed. This behaviour is the source of the following dependency conflicts.\n",
            "tensorflow 2.8.0 requires tf-estimator-nightly==2.8.0.dev2021122109, which is not installed.\n",
            "datascience 0.10.6 requires folium==0.2.1, but you have folium 0.8.3 which is incompatible.\u001b[0m\n",
            "Successfully installed pip-22.0.4 setuptools-61.2.0\n"
          ]
        },
        {
          "output_type": "display_data",
          "data": {
            "application/vnd.colab-display-data+json": {
              "pip_warning": {
                "packages": [
                  "pkg_resources"
                ]
              }
            }
          },
          "metadata": {}
        }
      ]
    },
    {
      "cell_type": "code",
      "source": [
        "!python -m spacy download en_core_web_trf"
      ],
      "metadata": {
        "colab": {
          "base_uri": "https://localhost:8080/"
        },
        "id": "2D_DyoIWCFdC",
        "outputId": "8b87db34-c0f5-4cb6-e59e-04fbd4cd0b95"
      },
      "execution_count": null,
      "outputs": [
        {
          "output_type": "stream",
          "name": "stdout",
          "text": [
            "Collecting en-core-web-trf==3.2.0\n",
            "  Downloading https://github.com/explosion/spacy-models/releases/download/en_core_web_trf-3.2.0/en_core_web_trf-3.2.0-py3-none-any.whl (460.2 MB)\n",
            "\u001b[2K     \u001b[90m━━━━━━━━━━━━━━━━━━━━━━━━━━━━━━━━━━━━━━━\u001b[0m \u001b[32m460.2/460.2 MB\u001b[0m \u001b[31m3.5 MB/s\u001b[0m eta \u001b[36m0:00:00\u001b[0m\n",
            "\u001b[?25hCollecting spacy-transformers<1.2.0,>=1.1.2\n",
            "  Downloading spacy_transformers-1.1.5-py2.py3-none-any.whl (51 kB)\n",
            "\u001b[2K     \u001b[90m━━━━━━━━━━━━━━━━━━━━━━━━━━━━━━━━━━━━━━━━\u001b[0m \u001b[32m51.4/51.4 KB\u001b[0m \u001b[31m3.0 MB/s\u001b[0m eta \u001b[36m0:00:00\u001b[0m\n",
            "\u001b[?25hRequirement already satisfied: spacy<3.3.0,>=3.2.0 in /usr/local/lib/python3.7/dist-packages (from en-core-web-trf==3.2.0) (3.2.3)\n",
            "Requirement already satisfied: spacy-loggers<2.0.0,>=1.0.0 in /usr/local/lib/python3.7/dist-packages (from spacy<3.3.0,>=3.2.0->en-core-web-trf==3.2.0) (1.0.1)\n",
            "Requirement already satisfied: jinja2 in /usr/local/lib/python3.7/dist-packages (from spacy<3.3.0,>=3.2.0->en-core-web-trf==3.2.0) (2.11.3)\n",
            "Requirement already satisfied: blis<0.8.0,>=0.4.0 in /usr/local/lib/python3.7/dist-packages (from spacy<3.3.0,>=3.2.0->en-core-web-trf==3.2.0) (0.4.1)\n",
            "Requirement already satisfied: numpy>=1.15.0 in /usr/local/lib/python3.7/dist-packages (from spacy<3.3.0,>=3.2.0->en-core-web-trf==3.2.0) (1.21.5)\n",
            "Requirement already satisfied: spacy-legacy<3.1.0,>=3.0.8 in /usr/local/lib/python3.7/dist-packages (from spacy<3.3.0,>=3.2.0->en-core-web-trf==3.2.0) (3.0.9)\n",
            "Requirement already satisfied: wasabi<1.1.0,>=0.8.1 in /usr/local/lib/python3.7/dist-packages (from spacy<3.3.0,>=3.2.0->en-core-web-trf==3.2.0) (0.9.0)\n",
            "Requirement already satisfied: srsly<3.0.0,>=2.4.1 in /usr/local/lib/python3.7/dist-packages (from spacy<3.3.0,>=3.2.0->en-core-web-trf==3.2.0) (2.4.2)\n",
            "Requirement already satisfied: murmurhash<1.1.0,>=0.28.0 in /usr/local/lib/python3.7/dist-packages (from spacy<3.3.0,>=3.2.0->en-core-web-trf==3.2.0) (1.0.6)\n",
            "Requirement already satisfied: preshed<3.1.0,>=3.0.2 in /usr/local/lib/python3.7/dist-packages (from spacy<3.3.0,>=3.2.0->en-core-web-trf==3.2.0) (3.0.6)\n",
            "Requirement already satisfied: cymem<2.1.0,>=2.0.2 in /usr/local/lib/python3.7/dist-packages (from spacy<3.3.0,>=3.2.0->en-core-web-trf==3.2.0) (2.0.6)\n",
            "Requirement already satisfied: catalogue<2.1.0,>=2.0.6 in /usr/local/lib/python3.7/dist-packages (from spacy<3.3.0,>=3.2.0->en-core-web-trf==3.2.0) (2.0.7)\n",
            "Requirement already satisfied: setuptools in /usr/local/lib/python3.7/dist-packages (from spacy<3.3.0,>=3.2.0->en-core-web-trf==3.2.0) (61.2.0)\n",
            "Requirement already satisfied: tqdm<5.0.0,>=4.38.0 in /usr/local/lib/python3.7/dist-packages (from spacy<3.3.0,>=3.2.0->en-core-web-trf==3.2.0) (4.63.0)\n",
            "Requirement already satisfied: typing-extensions<4.0.0.0,>=3.7.4 in /usr/local/lib/python3.7/dist-packages (from spacy<3.3.0,>=3.2.0->en-core-web-trf==3.2.0) (3.10.0.2)\n",
            "Requirement already satisfied: langcodes<4.0.0,>=3.2.0 in /usr/local/lib/python3.7/dist-packages (from spacy<3.3.0,>=3.2.0->en-core-web-trf==3.2.0) (3.3.0)\n",
            "Requirement already satisfied: thinc<8.1.0,>=8.0.12 in /usr/local/lib/python3.7/dist-packages (from spacy<3.3.0,>=3.2.0->en-core-web-trf==3.2.0) (8.0.15)\n",
            "Requirement already satisfied: typer<0.5.0,>=0.3.0 in /usr/local/lib/python3.7/dist-packages (from spacy<3.3.0,>=3.2.0->en-core-web-trf==3.2.0) (0.4.0)\n",
            "Requirement already satisfied: packaging>=20.0 in /usr/local/lib/python3.7/dist-packages (from spacy<3.3.0,>=3.2.0->en-core-web-trf==3.2.0) (21.3)\n",
            "Requirement already satisfied: pathy>=0.3.5 in /usr/local/lib/python3.7/dist-packages (from spacy<3.3.0,>=3.2.0->en-core-web-trf==3.2.0) (0.6.1)\n",
            "Requirement already satisfied: requests<3.0.0,>=2.13.0 in /usr/local/lib/python3.7/dist-packages (from spacy<3.3.0,>=3.2.0->en-core-web-trf==3.2.0) (2.23.0)\n",
            "Requirement already satisfied: pydantic!=1.8,!=1.8.1,<1.9.0,>=1.7.4 in /usr/local/lib/python3.7/dist-packages (from spacy<3.3.0,>=3.2.0->en-core-web-trf==3.2.0) (1.8.2)\n",
            "Requirement already satisfied: torch>=1.6.0 in /usr/local/lib/python3.7/dist-packages (from spacy-transformers<1.2.0,>=1.1.2->en-core-web-trf==3.2.0) (1.10.0+cu111)\n",
            "Collecting transformers<4.18.0,>=3.4.0\n",
            "  Downloading transformers-4.17.0-py3-none-any.whl (3.8 MB)\n",
            "\u001b[2K     \u001b[90m━━━━━━━━━━━━━━━━━━━━━━━━━━━━━━━━━━━━━━━━\u001b[0m \u001b[32m3.8/3.8 MB\u001b[0m \u001b[31m42.1 MB/s\u001b[0m eta \u001b[36m0:00:00\u001b[0m\n",
            "\u001b[?25hCollecting spacy-alignments<1.0.0,>=0.7.2\n",
            "  Downloading spacy_alignments-0.8.4-cp37-cp37m-manylinux_2_17_x86_64.manylinux2014_x86_64.whl (1.1 MB)\n",
            "\u001b[2K     \u001b[90m━━━━━━━━━━━━━━━━━━━━━━━━━━━━━━━━━━━━━━━━\u001b[0m \u001b[32m1.1/1.1 MB\u001b[0m \u001b[31m44.5 MB/s\u001b[0m eta \u001b[36m0:00:00\u001b[0m\n",
            "\u001b[?25hRequirement already satisfied: zipp>=0.5 in /usr/local/lib/python3.7/dist-packages (from catalogue<2.1.0,>=2.0.6->spacy<3.3.0,>=3.2.0->en-core-web-trf==3.2.0) (3.7.0)\n",
            "Requirement already satisfied: pyparsing!=3.0.5,>=2.0.2 in /usr/local/lib/python3.7/dist-packages (from packaging>=20.0->spacy<3.3.0,>=3.2.0->en-core-web-trf==3.2.0) (3.0.7)\n",
            "Requirement already satisfied: smart-open<6.0.0,>=5.0.0 in /usr/local/lib/python3.7/dist-packages (from pathy>=0.3.5->spacy<3.3.0,>=3.2.0->en-core-web-trf==3.2.0) (5.2.1)\n",
            "Requirement already satisfied: chardet<4,>=3.0.2 in /usr/local/lib/python3.7/dist-packages (from requests<3.0.0,>=2.13.0->spacy<3.3.0,>=3.2.0->en-core-web-trf==3.2.0) (3.0.4)\n",
            "Requirement already satisfied: certifi>=2017.4.17 in /usr/local/lib/python3.7/dist-packages (from requests<3.0.0,>=2.13.0->spacy<3.3.0,>=3.2.0->en-core-web-trf==3.2.0) (2021.10.8)\n",
            "Requirement already satisfied: idna<3,>=2.5 in /usr/local/lib/python3.7/dist-packages (from requests<3.0.0,>=2.13.0->spacy<3.3.0,>=3.2.0->en-core-web-trf==3.2.0) (2.10)\n",
            "Requirement already satisfied: urllib3!=1.25.0,!=1.25.1,<1.26,>=1.21.1 in /usr/local/lib/python3.7/dist-packages (from requests<3.0.0,>=2.13.0->spacy<3.3.0,>=3.2.0->en-core-web-trf==3.2.0) (1.24.3)\n",
            "Requirement already satisfied: regex!=2019.12.17 in /usr/local/lib/python3.7/dist-packages (from transformers<4.18.0,>=3.4.0->spacy-transformers<1.2.0,>=1.1.2->en-core-web-trf==3.2.0) (2019.12.20)\n",
            "Collecting tokenizers!=0.11.3,>=0.11.1\n",
            "  Downloading tokenizers-0.11.6-cp37-cp37m-manylinux_2_12_x86_64.manylinux2010_x86_64.whl (6.5 MB)\n",
            "\u001b[2K     \u001b[90m━━━━━━━━━━━━━━━━━━━━━━━━━━━━━━━━━━━━━━━━\u001b[0m \u001b[32m6.5/6.5 MB\u001b[0m \u001b[31m67.3 MB/s\u001b[0m eta \u001b[36m0:00:00\u001b[0m\n",
            "\u001b[?25hCollecting huggingface-hub<1.0,>=0.1.0\n",
            "  Downloading huggingface_hub-0.4.0-py3-none-any.whl (67 kB)\n",
            "\u001b[2K     \u001b[90m━━━━━━━━━━━━━━━━━━━━━━━━━━━━━━━━━━━━━━━━\u001b[0m \u001b[32m67.0/67.0 KB\u001b[0m \u001b[31m7.8 MB/s\u001b[0m eta \u001b[36m0:00:00\u001b[0m\n",
            "\u001b[?25hCollecting pyyaml>=5.1\n",
            "  Downloading PyYAML-6.0-cp37-cp37m-manylinux_2_5_x86_64.manylinux1_x86_64.manylinux_2_12_x86_64.manylinux2010_x86_64.whl (596 kB)\n",
            "\u001b[2K     \u001b[90m━━━━━━━━━━━━━━━━━━━━━━━━━━━━━━━━━━━━━━\u001b[0m \u001b[32m596.3/596.3 KB\u001b[0m \u001b[31m21.5 MB/s\u001b[0m eta \u001b[36m0:00:00\u001b[0m\n",
            "\u001b[?25hCollecting sacremoses\n",
            "  Downloading sacremoses-0.0.49-py3-none-any.whl (895 kB)\n",
            "\u001b[2K     \u001b[90m━━━━━━━━━━━━━━━━━━━━━━━━━━━━━━━━━━━━━━\u001b[0m \u001b[32m895.2/895.2 KB\u001b[0m \u001b[31m38.0 MB/s\u001b[0m eta \u001b[36m0:00:00\u001b[0m\n",
            "\u001b[?25hRequirement already satisfied: filelock in /usr/local/lib/python3.7/dist-packages (from transformers<4.18.0,>=3.4.0->spacy-transformers<1.2.0,>=1.1.2->en-core-web-trf==3.2.0) (3.6.0)\n",
            "Requirement already satisfied: importlib-metadata in /usr/local/lib/python3.7/dist-packages (from transformers<4.18.0,>=3.4.0->spacy-transformers<1.2.0,>=1.1.2->en-core-web-trf==3.2.0) (4.11.3)\n",
            "Requirement already satisfied: click<9.0.0,>=7.1.1 in /usr/local/lib/python3.7/dist-packages (from typer<0.5.0,>=0.3.0->spacy<3.3.0,>=3.2.0->en-core-web-trf==3.2.0) (7.1.2)\n",
            "Requirement already satisfied: MarkupSafe>=0.23 in /usr/local/lib/python3.7/dist-packages (from jinja2->spacy<3.3.0,>=3.2.0->en-core-web-trf==3.2.0) (2.0.1)\n",
            "Requirement already satisfied: joblib in /usr/local/lib/python3.7/dist-packages (from sacremoses->transformers<4.18.0,>=3.4.0->spacy-transformers<1.2.0,>=1.1.2->en-core-web-trf==3.2.0) (1.1.0)\n",
            "Requirement already satisfied: six in /usr/local/lib/python3.7/dist-packages (from sacremoses->transformers<4.18.0,>=3.4.0->spacy-transformers<1.2.0,>=1.1.2->en-core-web-trf==3.2.0) (1.15.0)\n",
            "Installing collected packages: tokenizers, spacy-alignments, sacremoses, pyyaml, huggingface-hub, transformers, spacy-transformers, en-core-web-trf\n",
            "  Attempting uninstall: pyyaml\n",
            "    Found existing installation: PyYAML 3.13\n",
            "    Uninstalling PyYAML-3.13:\n",
            "      Successfully uninstalled PyYAML-3.13\n",
            "Successfully installed en-core-web-trf-3.2.0 huggingface-hub-0.4.0 pyyaml-6.0 sacremoses-0.0.49 spacy-alignments-0.8.4 spacy-transformers-1.1.5 tokenizers-0.11.6 transformers-4.17.0\n",
            "\u001b[33mWARNING: Running pip as the 'root' user can result in broken permissions and conflicting behaviour with the system package manager. It is recommended to use a virtual environment instead: https://pip.pypa.io/warnings/venv\u001b[0m\u001b[33m\n",
            "\u001b[0m\u001b[38;5;2m✔ Download and installation successful\u001b[0m\n",
            "You can now load the package via spacy.load('en_core_web_trf')\n"
          ]
        }
      ]
    },
    {
      "cell_type": "code",
      "source": [
        "!python -m spacy convert drive/MyDrive/Spacy-Project/train.tsv ./ -t json -n 1 -c iob"
      ],
      "metadata": {
        "colab": {
          "base_uri": "https://localhost:8080/"
        },
        "id": "F3tqoXDRCYch",
        "outputId": "8337038c-b855-48e1-f149-1e803e067706"
      },
      "execution_count": null,
      "outputs": [
        {
          "output_type": "stream",
          "name": "stdout",
          "text": [
            "\u001b[38;5;4mℹ Auto-detected token-per-line NER format\u001b[0m\n",
            "\u001b[38;5;3m⚠ Document delimiters found, automatic document segmentation with `-n`\n",
            "disabled.\u001b[0m\n",
            "\u001b[38;5;2m✔ Generated output file (1 documents): train.json\u001b[0m\n"
          ]
        }
      ]
    },
    {
      "cell_type": "code",
      "source": [
        "!python -m spacy convert drive/MyDrive/Spacy-Project/test.tsv ./ -t json -n 1 -c iob"
      ],
      "metadata": {
        "colab": {
          "base_uri": "https://localhost:8080/"
        },
        "id": "MJSiQs_WDCJK",
        "outputId": "fc445937-9ece-4450-d834-4abe1e36b214"
      },
      "execution_count": null,
      "outputs": [
        {
          "output_type": "stream",
          "name": "stdout",
          "text": [
            "\u001b[38;5;4mℹ Auto-detected token-per-line NER format\u001b[0m\n",
            "\u001b[38;5;3m⚠ Document delimiters found, automatic document segmentation with `-n`\n",
            "disabled.\u001b[0m\n",
            "\u001b[38;5;2m✔ Generated output file (1 documents): test.json\u001b[0m\n"
          ]
        }
      ]
    },
    {
      "cell_type": "code",
      "source": [
        "!python -m spacy convert drive/MyDrive/Spacy-Project/train.json ./ -t spacy\n",
        "!python -m spacy convert drive/MyDrive/Spacy-Project/test.json ./ -t spacy"
      ],
      "metadata": {
        "colab": {
          "base_uri": "https://localhost:8080/"
        },
        "id": "SZTLYVejkint",
        "outputId": "6f3cda85-4141-4a50-dca9-701568664959"
      },
      "execution_count": null,
      "outputs": [
        {
          "output_type": "stream",
          "name": "stdout",
          "text": [
            "\u001b[38;5;2m✔ Generated output file (77 documents): train.spacy\u001b[0m\n",
            "\u001b[38;5;2m✔ Generated output file (11 documents): test.spacy\u001b[0m\n"
          ]
        }
      ]
    },
    {
      "cell_type": "code",
      "source": [
        ""
      ],
      "metadata": {
        "id": "8n5aAvZ8kjXs"
      },
      "execution_count": null,
      "outputs": []
    },
    {
      "cell_type": "code",
      "source": [
        "import torch\n",
        "torch.cuda.is_available()"
      ],
      "metadata": {
        "colab": {
          "base_uri": "https://localhost:8080/"
        },
        "id": "f8rNsE2FDKNJ",
        "outputId": "8b432702-c91a-41a8-e484-df1747df3195"
      },
      "execution_count": null,
      "outputs": [
        {
          "output_type": "execute_result",
          "data": {
            "text/plain": [
              "True"
            ]
          },
          "metadata": {},
          "execution_count": 5
        }
      ]
    },
    {
      "cell_type": "code",
      "source": [
        "!wget https://developer.nvidia.com/compute/cuda/9.2/Prod/local_installers/cuda-repo-ubuntu1604-9-2-local_9.2.88-1_amd64 -O cuda-repo-ubuntu1604-9-2-local_9.2.88-1_amd64.deb\n",
        "!dpkg -i cuda-repo-ubuntu1604-9-2-local_9.2.88-1_amd64.deb\n",
        "!apt-key add /var/cuda-repo-9-2-local/7fa2af80.pub\n",
        "!apt-get update\n",
        "!apt-get install cuda-9.2"
      ],
      "metadata": {
        "colab": {
          "base_uri": "https://localhost:8080/"
        },
        "id": "CvWf0r7KDoBq",
        "outputId": "cee2a655-88fa-4ec7-f716-7065bc0beb9e"
      },
      "execution_count": null,
      "outputs": [
        {
          "output_type": "stream",
          "name": "stdout",
          "text": [
            "--2022-03-27 22:17:33--  https://developer.nvidia.com/compute/cuda/9.2/Prod/local_installers/cuda-repo-ubuntu1604-9-2-local_9.2.88-1_amd64\n",
            "Resolving developer.nvidia.com (developer.nvidia.com)... 152.195.19.142\n",
            "Connecting to developer.nvidia.com (developer.nvidia.com)|152.195.19.142|:443... connected.\n",
            "HTTP request sent, awaiting response... 301 Moved Permanently\n",
            "Location: https://developer.nvidia.com/compute/cuda/9.2/prod/local_installers/cuda-repo-ubuntu1604-9-2-local_9.2.88-1_amd64 [following]\n",
            "--2022-03-27 22:17:33--  https://developer.nvidia.com/compute/cuda/9.2/prod/local_installers/cuda-repo-ubuntu1604-9-2-local_9.2.88-1_amd64\n",
            "Reusing existing connection to developer.nvidia.com:443.\n",
            "HTTP request sent, awaiting response... 302 Found\n",
            "Location: https://developer.download.nvidia.com/compute/cuda/9.2/secure/Prod/local_installers/cuda-repo-ubuntu1604-9-2-local_9.2.88-1_amd64.deb?O4DsBP5Q5JhnDun6bDt1gi8KgHMqfoIt21ljmwtZzsVlDjNoQqexS-55vSelbm2Ok7AzQ_-vl4wQ0cCNT3-P1kx8x3AEBHGICGeH1laSnflQ_IHXZP9qlIrlIRi-CPHMGZlu5u3utfs6C7KskzPO26BlbJuRN-gIGuKLPpi-qo7HXPhQz0On3VpzXInIdeqiiZxLR27dCtMxcvWVB-w [following]\n",
            "--2022-03-27 22:17:34--  https://developer.download.nvidia.com/compute/cuda/9.2/secure/Prod/local_installers/cuda-repo-ubuntu1604-9-2-local_9.2.88-1_amd64.deb?O4DsBP5Q5JhnDun6bDt1gi8KgHMqfoIt21ljmwtZzsVlDjNoQqexS-55vSelbm2Ok7AzQ_-vl4wQ0cCNT3-P1kx8x3AEBHGICGeH1laSnflQ_IHXZP9qlIrlIRi-CPHMGZlu5u3utfs6C7KskzPO26BlbJuRN-gIGuKLPpi-qo7HXPhQz0On3VpzXInIdeqiiZxLR27dCtMxcvWVB-w\n",
            "Resolving developer.download.nvidia.com (developer.download.nvidia.com)... 152.195.19.142\n",
            "Connecting to developer.download.nvidia.com (developer.download.nvidia.com)|152.195.19.142|:443... connected.\n",
            "HTTP request sent, awaiting response... 200 OK\n",
            "Length: 1267391958 (1.2G) [application/x-deb]\n",
            "Saving to: ‘cuda-repo-ubuntu1604-9-2-local_9.2.88-1_amd64.deb’\n",
            "\n",
            "cuda-repo-ubuntu160 100%[===================>]   1.18G  33.1MB/s    in 28s     \n",
            "\n",
            "2022-03-27 22:18:02 (43.1 MB/s) - ‘cuda-repo-ubuntu1604-9-2-local_9.2.88-1_amd64.deb’ saved [1267391958/1267391958]\n",
            "\n",
            "Selecting previously unselected package cuda-repo-ubuntu1604-9-2-local.\n",
            "(Reading database ... 156210 files and directories currently installed.)\n",
            "Preparing to unpack cuda-repo-ubuntu1604-9-2-local_9.2.88-1_amd64.deb ...\n",
            "Unpacking cuda-repo-ubuntu1604-9-2-local (9.2.88-1) ...\n",
            "Setting up cuda-repo-ubuntu1604-9-2-local (9.2.88-1) ...\n",
            "OK\n",
            "Get:1 file:/var/cuda-repo-9-2-local  InRelease\n",
            "Ign:1 file:/var/cuda-repo-9-2-local  InRelease\n",
            "Get:2 file:/var/cuda-repo-9-2-local  Release [574 B]\n",
            "Get:2 file:/var/cuda-repo-9-2-local  Release [574 B]\n",
            "Get:3 file:/var/cuda-repo-9-2-local  Release.gpg [819 B]\n",
            "Get:3 file:/var/cuda-repo-9-2-local  Release.gpg [819 B]\n",
            "Get:4 http://security.ubuntu.com/ubuntu bionic-security InRelease [88.7 kB]\n",
            "Get:5 https://cloud.r-project.org/bin/linux/ubuntu bionic-cran40/ InRelease [3,626 B]\n",
            "Ign:6 https://developer.download.nvidia.com/compute/cuda/repos/ubuntu1804/x86_64  InRelease\n",
            "Hit:7 http://archive.ubuntu.com/ubuntu bionic InRelease\n",
            "Get:8 http://ppa.launchpad.net/c2d4u.team/c2d4u4.0+/ubuntu bionic InRelease [15.9 kB]\n",
            "Ign:9 https://developer.download.nvidia.com/compute/machine-learning/repos/ubuntu1804/x86_64  InRelease\n",
            "Get:10 file:/var/cuda-repo-9-2-local  Packages [18.7 kB]\n",
            "Get:11 https://developer.download.nvidia.com/compute/cuda/repos/ubuntu1804/x86_64  Release [696 B]\n",
            "Hit:12 https://developer.download.nvidia.com/compute/machine-learning/repos/ubuntu1804/x86_64  Release\n",
            "Get:13 https://developer.download.nvidia.com/compute/cuda/repos/ubuntu1804/x86_64  Release.gpg [836 B]\n",
            "Get:14 http://archive.ubuntu.com/ubuntu bionic-updates InRelease [88.7 kB]\n",
            "Get:15 https://cloud.r-project.org/bin/linux/ubuntu bionic-cran40/ Packages [80.8 kB]\n",
            "Hit:16 http://ppa.launchpad.net/cran/libgit2/ubuntu bionic InRelease\n",
            "Get:17 http://security.ubuntu.com/ubuntu bionic-security/universe amd64 Packages [1,484 kB]\n",
            "Get:18 http://archive.ubuntu.com/ubuntu bionic-backports InRelease [74.6 kB]\n",
            "Get:19 http://ppa.launchpad.net/deadsnakes/ppa/ubuntu bionic InRelease [15.9 kB]\n",
            "Hit:21 http://ppa.launchpad.net/graphics-drivers/ppa/ubuntu bionic InRelease\n",
            "Get:22 https://developer.download.nvidia.com/compute/cuda/repos/ubuntu1804/x86_64  Packages [945 kB]\n",
            "Get:23 http://security.ubuntu.com/ubuntu bionic-security/main amd64 Packages [2,660 kB]\n",
            "Get:24 http://ppa.launchpad.net/c2d4u.team/c2d4u4.0+/ubuntu bionic/main Sources [1,830 kB]\n",
            "Get:25 http://archive.ubuntu.com/ubuntu bionic-updates/universe amd64 Packages [2,262 kB]\n",
            "Get:26 http://archive.ubuntu.com/ubuntu bionic-updates/main amd64 Packages [3,098 kB]\n",
            "Get:27 http://ppa.launchpad.net/c2d4u.team/c2d4u4.0+/ubuntu bionic/main amd64 Packages [937 kB]\n",
            "Get:28 http://archive.ubuntu.com/ubuntu bionic-updates/multiverse amd64 Packages [29.8 kB]\n",
            "Get:29 http://ppa.launchpad.net/deadsnakes/ppa/ubuntu bionic/main amd64 Packages [45.3 kB]\n",
            "Fetched 13.7 MB in 6s (2,418 kB/s)\n",
            "Reading package lists... Done\n",
            "Reading package lists... Done\n",
            "Building dependency tree       \n",
            "Reading state information... Done\n",
            "Note, selecting 'cuda-9-2' for regex 'cuda-9.2'\n",
            "Note, selecting 'libcuda-9.2-1' for regex 'cuda-9.2'\n",
            "The following additional packages will be installed:\n",
            "  cuda-command-line-tools-9-2 cuda-compiler-9-2 cuda-cublas-9-2\n",
            "  cuda-cublas-dev-9-2 cuda-cudart-9-2 cuda-cudart-dev-9-2 cuda-cufft-9-2\n",
            "  cuda-cufft-dev-9-2 cuda-cuobjdump-9-2 cuda-cupti-9-2 cuda-curand-9-2\n",
            "  cuda-curand-dev-9-2 cuda-cusolver-9-2 cuda-cusolver-dev-9-2\n",
            "  cuda-cusparse-9-2 cuda-cusparse-dev-9-2 cuda-demo-suite-9-2\n",
            "  cuda-documentation-9-2 cuda-driver-dev-9-2 cuda-gdb-9-2\n",
            "  cuda-gpu-library-advisor-9-2 cuda-libraries-9-2 cuda-libraries-dev-9-2\n",
            "  cuda-license-9-2 cuda-memcheck-9-2 cuda-misc-headers-9-2 cuda-npp-9-2\n",
            "  cuda-npp-dev-9-2 cuda-nsight-9-2 cuda-nvcc-9-2 cuda-nvdisasm-9-2\n",
            "  cuda-nvgraph-9-2 cuda-nvgraph-dev-9-2 cuda-nvml-dev-9-2 cuda-nvprof-9-2\n",
            "  cuda-nvprune-9-2 cuda-nvrtc-9-2 cuda-nvrtc-dev-9-2 cuda-nvtx-9-2\n",
            "  cuda-nvvp-9-2 cuda-runtime-9-2 cuda-samples-9-2 cuda-toolkit-9-2\n",
            "  cuda-tools-9-2 cuda-visual-tools-9-2\n",
            "The following NEW packages will be installed:\n",
            "  cuda-9-2 cuda-command-line-tools-9-2 cuda-compiler-9-2 cuda-cublas-9-2\n",
            "  cuda-cublas-dev-9-2 cuda-cudart-9-2 cuda-cudart-dev-9-2 cuda-cufft-9-2\n",
            "  cuda-cufft-dev-9-2 cuda-cuobjdump-9-2 cuda-cupti-9-2 cuda-curand-9-2\n",
            "  cuda-curand-dev-9-2 cuda-cusolver-9-2 cuda-cusolver-dev-9-2\n",
            "  cuda-cusparse-9-2 cuda-cusparse-dev-9-2 cuda-demo-suite-9-2\n",
            "  cuda-documentation-9-2 cuda-driver-dev-9-2 cuda-gdb-9-2\n",
            "  cuda-gpu-library-advisor-9-2 cuda-libraries-9-2 cuda-libraries-dev-9-2\n",
            "  cuda-license-9-2 cuda-memcheck-9-2 cuda-misc-headers-9-2 cuda-npp-9-2\n",
            "  cuda-npp-dev-9-2 cuda-nsight-9-2 cuda-nvcc-9-2 cuda-nvdisasm-9-2\n",
            "  cuda-nvgraph-9-2 cuda-nvgraph-dev-9-2 cuda-nvml-dev-9-2 cuda-nvprof-9-2\n",
            "  cuda-nvprune-9-2 cuda-nvrtc-9-2 cuda-nvrtc-dev-9-2 cuda-nvtx-9-2\n",
            "  cuda-nvvp-9-2 cuda-runtime-9-2 cuda-samples-9-2 cuda-toolkit-9-2\n",
            "  cuda-tools-9-2 cuda-visual-tools-9-2\n",
            "0 upgraded, 46 newly installed, 0 to remove and 46 not upgraded.\n",
            "Need to get 0 B/1,146 MB of archives.\n",
            "After this operation, 2,642 MB of additional disk space will be used.\n",
            "Get:1 file:/var/cuda-repo-9-2-local  cuda-license-9-2 9.2.88-1 [22.0 kB]\n",
            "Get:2 file:/var/cuda-repo-9-2-local  cuda-misc-headers-9-2 9.2.88-1 [640 kB]\n",
            "Get:3 file:/var/cuda-repo-9-2-local  cuda-nvcc-9-2 9.2.88-1 [15.4 MB]\n",
            "Get:4 file:/var/cuda-repo-9-2-local  cuda-cuobjdump-9-2 9.2.88-1 [129 kB]\n",
            "Get:5 file:/var/cuda-repo-9-2-local  cuda-nvprune-9-2 9.2.88-1 [36.7 kB]\n",
            "Get:6 file:/var/cuda-repo-9-2-local  cuda-compiler-9-2 9.2.88-1 [2,518 B]\n",
            "Get:7 file:/var/cuda-repo-9-2-local  cuda-nvdisasm-9-2 9.2.88-1 [17.4 MB]\n",
            "Get:8 file:/var/cuda-repo-9-2-local  cuda-gdb-9-2 9.2.88-1 [2,765 kB]\n",
            "Get:9 file:/var/cuda-repo-9-2-local  cuda-nvprof-9-2 9.2.88-1 [4,737 kB]\n",
            "Get:10 file:/var/cuda-repo-9-2-local  cuda-memcheck-9-2 9.2.88-1 [137 kB]\n",
            "Get:11 file:/var/cuda-repo-9-2-local  cuda-cudart-9-2 9.2.88-1 [97.8 kB]\n",
            "Get:12 file:/var/cuda-repo-9-2-local  cuda-driver-dev-9-2 9.2.88-1 [11.1 kB]\n",
            "Get:13 file:/var/cuda-repo-9-2-local  cuda-cudart-dev-9-2 9.2.88-1 [718 kB]\n",
            "Get:14 file:/var/cuda-repo-9-2-local  cuda-cupti-9-2 9.2.88-1 [1,537 kB]\n",
            "Get:15 file:/var/cuda-repo-9-2-local  cuda-gpu-library-advisor-9-2 9.2.88-1 [1,002 kB]\n",
            "Get:16 file:/var/cuda-repo-9-2-local  cuda-nvtx-9-2 9.2.88-1 [24.3 kB]\n",
            "Get:17 file:/var/cuda-repo-9-2-local  cuda-command-line-tools-9-2 9.2.88-1 [26.3 kB]\n",
            "Get:18 file:/var/cuda-repo-9-2-local  cuda-nsight-9-2 9.2.88-1 [2,580 B]\n",
            "Get:19 file:/var/cuda-repo-9-2-local  cuda-nvvp-9-2 9.2.88-1 [2,528 B]\n",
            "Get:20 file:/var/cuda-repo-9-2-local  cuda-nvrtc-9-2 9.2.88-1 [5,908 kB]\n",
            "Get:21 file:/var/cuda-repo-9-2-local  cuda-nvrtc-dev-9-2 9.2.88-1 [9,318 B]\n",
            "Get:22 file:/var/cuda-repo-9-2-local  cuda-cusolver-9-2 9.2.88-1 [31.1 MB]\n",
            "Get:23 file:/var/cuda-repo-9-2-local  cuda-cusolver-dev-9-2 9.2.88-1 [8,184 kB]\n",
            "Get:24 file:/var/cuda-repo-9-2-local  cuda-cublas-9-2 9.2.88-1 [24.9 MB]\n",
            "Get:25 file:/var/cuda-repo-9-2-local  cuda-cublas-dev-9-2 9.2.88-1 [49.1 MB]\n",
            "Get:26 file:/var/cuda-repo-9-2-local  cuda-cufft-9-2 9.2.88-1 [51.5 MB]\n",
            "Get:27 file:/var/cuda-repo-9-2-local  cuda-cufft-dev-9-2 9.2.88-1 [106 MB]\n",
            "Get:28 file:/var/cuda-repo-9-2-local  cuda-curand-9-2 9.2.88-1 [38.8 MB]\n",
            "Get:29 file:/var/cuda-repo-9-2-local  cuda-curand-dev-9-2 9.2.88-1 [57.8 MB]\n",
            "Get:30 file:/var/cuda-repo-9-2-local  cuda-cusparse-9-2 9.2.88-1 [27.6 MB]\n",
            "Get:31 file:/var/cuda-repo-9-2-local  cuda-cusparse-dev-9-2 9.2.88-1 [27.8 MB]\n",
            "Get:32 file:/var/cuda-repo-9-2-local  cuda-npp-9-2 9.2.88-1 [52.1 MB]\n",
            "Get:33 file:/var/cuda-repo-9-2-local  cuda-npp-dev-9-2 9.2.88-1 [52.0 MB]\n",
            "Get:34 file:/var/cuda-repo-9-2-local  cuda-nvml-dev-9-2 9.2.88-1 [49.4 kB]\n",
            "Get:35 file:/var/cuda-repo-9-2-local  cuda-nvgraph-9-2 9.2.88-1 [11.7 MB]\n",
            "Get:36 file:/var/cuda-repo-9-2-local  cuda-nvgraph-dev-9-2 9.2.88-1 [30.0 MB]\n",
            "Get:37 file:/var/cuda-repo-9-2-local  cuda-visual-tools-9-2 9.2.88-1 [396 MB]\n",
            "Get:38 file:/var/cuda-repo-9-2-local  cuda-tools-9-2 9.2.88-1 [2,486 B]\n",
            "Get:39 file:/var/cuda-repo-9-2-local  cuda-samples-9-2 9.2.88-1 [76.3 MB]\n",
            "Get:40 file:/var/cuda-repo-9-2-local  cuda-documentation-9-2 9.2.88-1 [50.4 MB]\n",
            "Get:41 file:/var/cuda-repo-9-2-local  cuda-libraries-dev-9-2 9.2.88-1 [2,598 B]\n",
            "Get:42 file:/var/cuda-repo-9-2-local  cuda-toolkit-9-2 9.2.88-1 [2,828 B]\n",
            "Get:43 file:/var/cuda-repo-9-2-local  cuda-libraries-9-2 9.2.88-1 [2,568 B]\n",
            "Get:44 file:/var/cuda-repo-9-2-local  cuda-runtime-9-2 9.2.88-1 [2,530 B]\n",
            "Get:45 file:/var/cuda-repo-9-2-local  cuda-demo-suite-9-2 9.2.88-1 [3,889 kB]\n",
            "Get:46 file:/var/cuda-repo-9-2-local  cuda-9-2 9.2.88-1 [2,560 B]\n",
            "Extracting templates from packages: 100%\n",
            "Selecting previously unselected package cuda-license-9-2.\n",
            "(Reading database ... 156283 files and directories currently installed.)\n",
            "Preparing to unpack .../00-cuda-license-9-2_9.2.88-1_amd64.deb ...\n",
            "Unpacking cuda-license-9-2 (9.2.88-1) ...\n",
            "Selecting previously unselected package cuda-misc-headers-9-2.\n",
            "Preparing to unpack .../01-cuda-misc-headers-9-2_9.2.88-1_amd64.deb ...\n",
            "Unpacking cuda-misc-headers-9-2 (9.2.88-1) ...\n",
            "Selecting previously unselected package cuda-nvcc-9-2.\n",
            "Preparing to unpack .../02-cuda-nvcc-9-2_9.2.88-1_amd64.deb ...\n",
            "Unpacking cuda-nvcc-9-2 (9.2.88-1) ...\n",
            "Selecting previously unselected package cuda-cuobjdump-9-2.\n",
            "Preparing to unpack .../03-cuda-cuobjdump-9-2_9.2.88-1_amd64.deb ...\n",
            "Unpacking cuda-cuobjdump-9-2 (9.2.88-1) ...\n",
            "Selecting previously unselected package cuda-nvprune-9-2.\n",
            "Preparing to unpack .../04-cuda-nvprune-9-2_9.2.88-1_amd64.deb ...\n",
            "Unpacking cuda-nvprune-9-2 (9.2.88-1) ...\n",
            "Selecting previously unselected package cuda-compiler-9-2.\n",
            "Preparing to unpack .../05-cuda-compiler-9-2_9.2.88-1_amd64.deb ...\n",
            "Unpacking cuda-compiler-9-2 (9.2.88-1) ...\n",
            "Selecting previously unselected package cuda-nvdisasm-9-2.\n",
            "Preparing to unpack .../06-cuda-nvdisasm-9-2_9.2.88-1_amd64.deb ...\n",
            "Unpacking cuda-nvdisasm-9-2 (9.2.88-1) ...\n",
            "Selecting previously unselected package cuda-gdb-9-2.\n",
            "Preparing to unpack .../07-cuda-gdb-9-2_9.2.88-1_amd64.deb ...\n",
            "Unpacking cuda-gdb-9-2 (9.2.88-1) ...\n",
            "Selecting previously unselected package cuda-nvprof-9-2.\n",
            "Preparing to unpack .../08-cuda-nvprof-9-2_9.2.88-1_amd64.deb ...\n",
            "Unpacking cuda-nvprof-9-2 (9.2.88-1) ...\n",
            "Selecting previously unselected package cuda-memcheck-9-2.\n",
            "Preparing to unpack .../09-cuda-memcheck-9-2_9.2.88-1_amd64.deb ...\n",
            "Unpacking cuda-memcheck-9-2 (9.2.88-1) ...\n",
            "Selecting previously unselected package cuda-cudart-9-2.\n",
            "Preparing to unpack .../10-cuda-cudart-9-2_9.2.88-1_amd64.deb ...\n",
            "Unpacking cuda-cudart-9-2 (9.2.88-1) ...\n",
            "Selecting previously unselected package cuda-driver-dev-9-2.\n",
            "Preparing to unpack .../11-cuda-driver-dev-9-2_9.2.88-1_amd64.deb ...\n",
            "Unpacking cuda-driver-dev-9-2 (9.2.88-1) ...\n",
            "Selecting previously unselected package cuda-cudart-dev-9-2.\n",
            "Preparing to unpack .../12-cuda-cudart-dev-9-2_9.2.88-1_amd64.deb ...\n",
            "Unpacking cuda-cudart-dev-9-2 (9.2.88-1) ...\n",
            "Selecting previously unselected package cuda-cupti-9-2.\n",
            "Preparing to unpack .../13-cuda-cupti-9-2_9.2.88-1_amd64.deb ...\n",
            "Unpacking cuda-cupti-9-2 (9.2.88-1) ...\n",
            "Selecting previously unselected package cuda-gpu-library-advisor-9-2.\n",
            "Preparing to unpack .../14-cuda-gpu-library-advisor-9-2_9.2.88-1_amd64.deb ...\n",
            "Unpacking cuda-gpu-library-advisor-9-2 (9.2.88-1) ...\n",
            "Selecting previously unselected package cuda-nvtx-9-2.\n",
            "Preparing to unpack .../15-cuda-nvtx-9-2_9.2.88-1_amd64.deb ...\n",
            "Unpacking cuda-nvtx-9-2 (9.2.88-1) ...\n",
            "Selecting previously unselected package cuda-command-line-tools-9-2.\n",
            "Preparing to unpack .../16-cuda-command-line-tools-9-2_9.2.88-1_amd64.deb ...\n",
            "Unpacking cuda-command-line-tools-9-2 (9.2.88-1) ...\n",
            "Selecting previously unselected package cuda-nsight-9-2.\n",
            "Preparing to unpack .../17-cuda-nsight-9-2_9.2.88-1_amd64.deb ...\n",
            "Unpacking cuda-nsight-9-2 (9.2.88-1) ...\n",
            "Selecting previously unselected package cuda-nvvp-9-2.\n",
            "Preparing to unpack .../18-cuda-nvvp-9-2_9.2.88-1_amd64.deb ...\n",
            "Unpacking cuda-nvvp-9-2 (9.2.88-1) ...\n",
            "Selecting previously unselected package cuda-nvrtc-9-2.\n",
            "Preparing to unpack .../19-cuda-nvrtc-9-2_9.2.88-1_amd64.deb ...\n",
            "Unpacking cuda-nvrtc-9-2 (9.2.88-1) ...\n",
            "Selecting previously unselected package cuda-nvrtc-dev-9-2.\n",
            "Preparing to unpack .../20-cuda-nvrtc-dev-9-2_9.2.88-1_amd64.deb ...\n",
            "Unpacking cuda-nvrtc-dev-9-2 (9.2.88-1) ...\n",
            "Selecting previously unselected package cuda-cusolver-9-2.\n",
            "Preparing to unpack .../21-cuda-cusolver-9-2_9.2.88-1_amd64.deb ...\n",
            "Unpacking cuda-cusolver-9-2 (9.2.88-1) ...\n",
            "Selecting previously unselected package cuda-cusolver-dev-9-2.\n",
            "Preparing to unpack .../22-cuda-cusolver-dev-9-2_9.2.88-1_amd64.deb ...\n",
            "Unpacking cuda-cusolver-dev-9-2 (9.2.88-1) ...\n",
            "Selecting previously unselected package cuda-cublas-9-2.\n",
            "Preparing to unpack .../23-cuda-cublas-9-2_9.2.88-1_amd64.deb ...\n",
            "Unpacking cuda-cublas-9-2 (9.2.88-1) ...\n",
            "Selecting previously unselected package cuda-cublas-dev-9-2.\n",
            "Preparing to unpack .../24-cuda-cublas-dev-9-2_9.2.88-1_amd64.deb ...\n",
            "Unpacking cuda-cublas-dev-9-2 (9.2.88-1) ...\n",
            "Selecting previously unselected package cuda-cufft-9-2.\n",
            "Preparing to unpack .../25-cuda-cufft-9-2_9.2.88-1_amd64.deb ...\n",
            "Unpacking cuda-cufft-9-2 (9.2.88-1) ...\n",
            "Selecting previously unselected package cuda-cufft-dev-9-2.\n",
            "Preparing to unpack .../26-cuda-cufft-dev-9-2_9.2.88-1_amd64.deb ...\n",
            "Unpacking cuda-cufft-dev-9-2 (9.2.88-1) ...\n",
            "Selecting previously unselected package cuda-curand-9-2.\n",
            "Preparing to unpack .../27-cuda-curand-9-2_9.2.88-1_amd64.deb ...\n",
            "Unpacking cuda-curand-9-2 (9.2.88-1) ...\n",
            "Selecting previously unselected package cuda-curand-dev-9-2.\n",
            "Preparing to unpack .../28-cuda-curand-dev-9-2_9.2.88-1_amd64.deb ...\n",
            "Unpacking cuda-curand-dev-9-2 (9.2.88-1) ...\n",
            "Selecting previously unselected package cuda-cusparse-9-2.\n",
            "Preparing to unpack .../29-cuda-cusparse-9-2_9.2.88-1_amd64.deb ...\n",
            "Unpacking cuda-cusparse-9-2 (9.2.88-1) ...\n",
            "Selecting previously unselected package cuda-cusparse-dev-9-2.\n",
            "Preparing to unpack .../30-cuda-cusparse-dev-9-2_9.2.88-1_amd64.deb ...\n",
            "Unpacking cuda-cusparse-dev-9-2 (9.2.88-1) ...\n",
            "Selecting previously unselected package cuda-npp-9-2.\n",
            "Preparing to unpack .../31-cuda-npp-9-2_9.2.88-1_amd64.deb ...\n",
            "Unpacking cuda-npp-9-2 (9.2.88-1) ...\n",
            "Selecting previously unselected package cuda-npp-dev-9-2.\n",
            "Preparing to unpack .../32-cuda-npp-dev-9-2_9.2.88-1_amd64.deb ...\n",
            "Unpacking cuda-npp-dev-9-2 (9.2.88-1) ...\n",
            "Selecting previously unselected package cuda-nvml-dev-9-2.\n",
            "Preparing to unpack .../33-cuda-nvml-dev-9-2_9.2.88-1_amd64.deb ...\n",
            "Unpacking cuda-nvml-dev-9-2 (9.2.88-1) ...\n",
            "Selecting previously unselected package cuda-nvgraph-9-2.\n",
            "Preparing to unpack .../34-cuda-nvgraph-9-2_9.2.88-1_amd64.deb ...\n",
            "Unpacking cuda-nvgraph-9-2 (9.2.88-1) ...\n",
            "Selecting previously unselected package cuda-nvgraph-dev-9-2.\n",
            "Preparing to unpack .../35-cuda-nvgraph-dev-9-2_9.2.88-1_amd64.deb ...\n",
            "Unpacking cuda-nvgraph-dev-9-2 (9.2.88-1) ...\n",
            "Selecting previously unselected package cuda-visual-tools-9-2.\n",
            "Preparing to unpack .../36-cuda-visual-tools-9-2_9.2.88-1_amd64.deb ...\n",
            "Unpacking cuda-visual-tools-9-2 (9.2.88-1) ...\n",
            "Selecting previously unselected package cuda-tools-9-2.\n",
            "Preparing to unpack .../37-cuda-tools-9-2_9.2.88-1_amd64.deb ...\n",
            "Unpacking cuda-tools-9-2 (9.2.88-1) ...\n",
            "Selecting previously unselected package cuda-samples-9-2.\n",
            "Preparing to unpack .../38-cuda-samples-9-2_9.2.88-1_amd64.deb ...\n",
            "Unpacking cuda-samples-9-2 (9.2.88-1) ...\n",
            "Selecting previously unselected package cuda-documentation-9-2.\n",
            "Preparing to unpack .../39-cuda-documentation-9-2_9.2.88-1_amd64.deb ...\n",
            "Unpacking cuda-documentation-9-2 (9.2.88-1) ...\n",
            "Selecting previously unselected package cuda-libraries-dev-9-2.\n",
            "Preparing to unpack .../40-cuda-libraries-dev-9-2_9.2.88-1_amd64.deb ...\n",
            "Unpacking cuda-libraries-dev-9-2 (9.2.88-1) ...\n",
            "Selecting previously unselected package cuda-toolkit-9-2.\n",
            "Preparing to unpack .../41-cuda-toolkit-9-2_9.2.88-1_amd64.deb ...\n",
            "Unpacking cuda-toolkit-9-2 (9.2.88-1) ...\n",
            "Selecting previously unselected package cuda-libraries-9-2.\n",
            "Preparing to unpack .../42-cuda-libraries-9-2_9.2.88-1_amd64.deb ...\n",
            "Unpacking cuda-libraries-9-2 (9.2.88-1) ...\n",
            "Selecting previously unselected package cuda-runtime-9-2.\n",
            "Preparing to unpack .../43-cuda-runtime-9-2_9.2.88-1_amd64.deb ...\n",
            "Unpacking cuda-runtime-9-2 (9.2.88-1) ...\n",
            "Selecting previously unselected package cuda-demo-suite-9-2.\n",
            "Preparing to unpack .../44-cuda-demo-suite-9-2_9.2.88-1_amd64.deb ...\n",
            "Unpacking cuda-demo-suite-9-2 (9.2.88-1) ...\n",
            "Selecting previously unselected package cuda-9-2.\n",
            "Preparing to unpack .../45-cuda-9-2_9.2.88-1_amd64.deb ...\n",
            "Unpacking cuda-9-2 (9.2.88-1) ...\n",
            "Setting up cuda-license-9-2 (9.2.88-1) ...\n",
            "*** LICENSE AGREEMENT ***\n",
            "By using this software you agree to fully comply with the terms and \n",
            "conditions of the EULA (End User License Agreement). The EULA is located\n",
            "at /usr/local/cuda-9.2/doc/EULA.txt. The EULA can also be found at\n",
            "http://docs.nvidia.com/cuda/eula/index.html. If you do not agree to the\n",
            "terms and conditions of the EULA, do not use the software.\n",
            "\n",
            "Setting up cuda-nvprune-9-2 (9.2.88-1) ...\n",
            "Setting up cuda-cudart-9-2 (9.2.88-1) ...\n",
            "Setting up cuda-nvprof-9-2 (9.2.88-1) ...\n",
            "Setting up cuda-nvrtc-9-2 (9.2.88-1) ...\n",
            "Setting up cuda-nvtx-9-2 (9.2.88-1) ...\n",
            "Setting up cuda-cusolver-9-2 (9.2.88-1) ...\n",
            "Setting up cuda-nvml-dev-9-2 (9.2.88-1) ...\n",
            "Setting up cuda-cufft-9-2 (9.2.88-1) ...\n",
            "Setting up cuda-npp-9-2 (9.2.88-1) ...\n",
            "Setting up cuda-misc-headers-9-2 (9.2.88-1) ...\n",
            "Setting up cuda-memcheck-9-2 (9.2.88-1) ...\n",
            "Setting up cuda-npp-dev-9-2 (9.2.88-1) ...\n",
            "Setting up cuda-nvdisasm-9-2 (9.2.88-1) ...\n",
            "Setting up cuda-nvvp-9-2 (9.2.88-1) ...\n",
            "Setting up cuda-nvrtc-dev-9-2 (9.2.88-1) ...\n",
            "Setting up cuda-driver-dev-9-2 (9.2.88-1) ...\n",
            "Setting up cuda-curand-9-2 (9.2.88-1) ...\n",
            "Setting up cuda-cusolver-dev-9-2 (9.2.88-1) ...\n",
            "Setting up cuda-nsight-9-2 (9.2.88-1) ...\n",
            "Setting up cuda-cublas-9-2 (9.2.88-1) ...\n",
            "Setting up cuda-cuobjdump-9-2 (9.2.88-1) ...\n",
            "Setting up cuda-cusparse-9-2 (9.2.88-1) ...\n",
            "Setting up cuda-nvgraph-9-2 (9.2.88-1) ...\n",
            "Setting up cuda-gpu-library-advisor-9-2 (9.2.88-1) ...\n",
            "Setting up cuda-gdb-9-2 (9.2.88-1) ...\n",
            "Setting up cuda-cudart-dev-9-2 (9.2.88-1) ...\n",
            "Setting up cuda-cufft-dev-9-2 (9.2.88-1) ...\n",
            "Setting up cuda-libraries-9-2 (9.2.88-1) ...\n",
            "Setting up cuda-cusparse-dev-9-2 (9.2.88-1) ...\n",
            "Setting up cuda-runtime-9-2 (9.2.88-1) ...\n",
            "Setting up cuda-nvcc-9-2 (9.2.88-1) ...\n",
            "Setting up cuda-cupti-9-2 (9.2.88-1) ...\n",
            "Setting up cuda-cublas-dev-9-2 (9.2.88-1) ...\n",
            "Setting up cuda-nvgraph-dev-9-2 (9.2.88-1) ...\n",
            "Setting up cuda-command-line-tools-9-2 (9.2.88-1) ...\n",
            "Setting up cuda-curand-dev-9-2 (9.2.88-1) ...\n",
            "Setting up cuda-demo-suite-9-2 (9.2.88-1) ...\n",
            "Setting up cuda-visual-tools-9-2 (9.2.88-1) ...\n",
            "Setting up cuda-compiler-9-2 (9.2.88-1) ...\n",
            "Setting up cuda-libraries-dev-9-2 (9.2.88-1) ...\n",
            "Setting up cuda-samples-9-2 (9.2.88-1) ...\n",
            "Setting up cuda-documentation-9-2 (9.2.88-1) ...\n",
            "Setting up cuda-tools-9-2 (9.2.88-1) ...\n",
            "Setting up cuda-toolkit-9-2 (9.2.88-1) ...\n",
            "Setting up cuda-9-2 (9.2.88-1) ...\n",
            "Processing triggers for libc-bin (2.27-3ubuntu1.3) ...\n",
            "/sbin/ldconfig.real: /usr/local/lib/python3.7/dist-packages/ideep4py/lib/libmkldnn.so.0 is not a symbolic link\n",
            "\n"
          ]
        }
      ]
    },
    {
      "cell_type": "code",
      "source": [
        "pip install torch==1.7.1+cu92 torchvision==0.8.2+cu92 torchaudio==0.7.2 -f https://download.pytorch.org/whl/torch_stable.html\n"
      ],
      "metadata": {
        "colab": {
          "base_uri": "https://localhost:8080/"
        },
        "id": "106dlwezEAjb",
        "outputId": "4014dac2-929b-40f0-e18a-6c8ba21d8564"
      },
      "execution_count": null,
      "outputs": [
        {
          "output_type": "stream",
          "name": "stdout",
          "text": [
            "Looking in links: https://download.pytorch.org/whl/torch_stable.html\n",
            "Collecting torch==1.7.1+cu92\n",
            "  Downloading https://download.pytorch.org/whl/cu92/torch-1.7.1%2Bcu92-cp37-cp37m-linux_x86_64.whl (577.3 MB)\n",
            "\u001b[2K     \u001b[90m━━━━━━━━━━━━━━━━━━━━━━━━━━━━━━━━━━━━━━━\u001b[0m \u001b[32m577.3/577.3 MB\u001b[0m \u001b[31m2.7 MB/s\u001b[0m eta \u001b[36m0:00:00\u001b[0m\n",
            "\u001b[?25hCollecting torchvision==0.8.2+cu92\n",
            "  Downloading https://download.pytorch.org/whl/cu92/torchvision-0.8.2%2Bcu92-cp37-cp37m-linux_x86_64.whl (12.5 MB)\n",
            "\u001b[2K     \u001b[90m━━━━━━━━━━━━━━━━━━━━━━━━━━━━━━━━━━━━━━━━\u001b[0m \u001b[32m12.5/12.5 MB\u001b[0m \u001b[31m51.0 MB/s\u001b[0m eta \u001b[36m0:00:00\u001b[0m\n",
            "\u001b[?25hCollecting torchaudio==0.7.2\n",
            "  Downloading torchaudio-0.7.2-cp37-cp37m-manylinux1_x86_64.whl (7.6 MB)\n",
            "\u001b[2K     \u001b[90m━━━━━━━━━━━━━━━━━━━━━━━━━━━━━━━━━━━━━━━━\u001b[0m \u001b[32m7.6/7.6 MB\u001b[0m \u001b[31m45.6 MB/s\u001b[0m eta \u001b[36m0:00:00\u001b[0m\n",
            "\u001b[?25hRequirement already satisfied: numpy in /usr/local/lib/python3.7/dist-packages (from torch==1.7.1+cu92) (1.21.5)\n",
            "Requirement already satisfied: typing-extensions in /usr/local/lib/python3.7/dist-packages (from torch==1.7.1+cu92) (3.10.0.2)\n",
            "Requirement already satisfied: pillow>=4.1.1 in /usr/local/lib/python3.7/dist-packages (from torchvision==0.8.2+cu92) (7.1.2)\n",
            "Installing collected packages: torch, torchvision, torchaudio\n",
            "  Attempting uninstall: torch\n",
            "    Found existing installation: torch 1.10.0+cu111\n",
            "    Uninstalling torch-1.10.0+cu111:\n",
            "      Successfully uninstalled torch-1.10.0+cu111\n",
            "  Attempting uninstall: torchvision\n",
            "    Found existing installation: torchvision 0.11.1+cu111\n",
            "    Uninstalling torchvision-0.11.1+cu111:\n",
            "      Successfully uninstalled torchvision-0.11.1+cu111\n",
            "  Attempting uninstall: torchaudio\n",
            "    Found existing installation: torchaudio 0.10.0+cu111\n",
            "    Uninstalling torchaudio-0.10.0+cu111:\n",
            "      Successfully uninstalled torchaudio-0.10.0+cu111\n",
            "\u001b[31mERROR: pip's dependency resolver does not currently take into account all the packages that are installed. This behaviour is the source of the following dependency conflicts.\n",
            "torchtext 0.11.0 requires torch==1.10.0, but you have torch 1.7.1+cu92 which is incompatible.\u001b[0m\u001b[31m\n",
            "\u001b[0mSuccessfully installed torch-1.7.1+cu92 torchaudio-0.7.2 torchvision-0.8.2+cu92\n",
            "\u001b[33mWARNING: Running pip as the 'root' user can result in broken permissions and conflicting behaviour with the system package manager. It is recommended to use a virtual environment instead: https://pip.pypa.io/warnings/venv\u001b[0m\u001b[33m\n",
            "\u001b[0m"
          ]
        }
      ]
    },
    {
      "cell_type": "code",
      "source": [
        "!pip install -U spacy[cuda92,transformers]"
      ],
      "metadata": {
        "colab": {
          "base_uri": "https://localhost:8080/"
        },
        "id": "nOI8IkOQEv47",
        "outputId": "bde11c91-57b8-4947-f071-e7c01995001c"
      },
      "execution_count": null,
      "outputs": [
        {
          "output_type": "stream",
          "name": "stdout",
          "text": [
            "Requirement already satisfied: spacy[cuda92,transformers] in /usr/local/lib/python3.7/dist-packages (3.2.3)\n",
            "Requirement already satisfied: spacy-loggers<2.0.0,>=1.0.0 in /usr/local/lib/python3.7/dist-packages (from spacy[cuda92,transformers]) (1.0.1)\n",
            "Requirement already satisfied: blis<0.8.0,>=0.4.0 in /usr/local/lib/python3.7/dist-packages (from spacy[cuda92,transformers]) (0.4.1)\n",
            "Requirement already satisfied: typing-extensions<4.0.0.0,>=3.7.4 in /usr/local/lib/python3.7/dist-packages (from spacy[cuda92,transformers]) (3.10.0.2)\n",
            "Requirement already satisfied: typer<0.5.0,>=0.3.0 in /usr/local/lib/python3.7/dist-packages (from spacy[cuda92,transformers]) (0.4.0)\n",
            "Requirement already satisfied: catalogue<2.1.0,>=2.0.6 in /usr/local/lib/python3.7/dist-packages (from spacy[cuda92,transformers]) (2.0.7)\n",
            "Requirement already satisfied: packaging>=20.0 in /usr/local/lib/python3.7/dist-packages (from spacy[cuda92,transformers]) (21.3)\n",
            "Requirement already satisfied: pydantic!=1.8,!=1.8.1,<1.9.0,>=1.7.4 in /usr/local/lib/python3.7/dist-packages (from spacy[cuda92,transformers]) (1.8.2)\n",
            "Requirement already satisfied: cymem<2.1.0,>=2.0.2 in /usr/local/lib/python3.7/dist-packages (from spacy[cuda92,transformers]) (2.0.6)\n",
            "Requirement already satisfied: setuptools in /usr/local/lib/python3.7/dist-packages (from spacy[cuda92,transformers]) (61.2.0)\n",
            "Requirement already satisfied: jinja2 in /usr/local/lib/python3.7/dist-packages (from spacy[cuda92,transformers]) (2.11.3)\n",
            "Requirement already satisfied: wasabi<1.1.0,>=0.8.1 in /usr/local/lib/python3.7/dist-packages (from spacy[cuda92,transformers]) (0.9.0)\n",
            "Requirement already satisfied: preshed<3.1.0,>=3.0.2 in /usr/local/lib/python3.7/dist-packages (from spacy[cuda92,transformers]) (3.0.6)\n",
            "Requirement already satisfied: thinc<8.1.0,>=8.0.12 in /usr/local/lib/python3.7/dist-packages (from spacy[cuda92,transformers]) (8.0.15)\n",
            "Requirement already satisfied: langcodes<4.0.0,>=3.2.0 in /usr/local/lib/python3.7/dist-packages (from spacy[cuda92,transformers]) (3.3.0)\n",
            "Requirement already satisfied: tqdm<5.0.0,>=4.38.0 in /usr/local/lib/python3.7/dist-packages (from spacy[cuda92,transformers]) (4.63.0)\n",
            "Requirement already satisfied: srsly<3.0.0,>=2.4.1 in /usr/local/lib/python3.7/dist-packages (from spacy[cuda92,transformers]) (2.4.2)\n",
            "Requirement already satisfied: pathy>=0.3.5 in /usr/local/lib/python3.7/dist-packages (from spacy[cuda92,transformers]) (0.6.1)\n",
            "Requirement already satisfied: spacy-legacy<3.1.0,>=3.0.8 in /usr/local/lib/python3.7/dist-packages (from spacy[cuda92,transformers]) (3.0.9)\n",
            "Requirement already satisfied: numpy>=1.15.0 in /usr/local/lib/python3.7/dist-packages (from spacy[cuda92,transformers]) (1.21.5)\n",
            "Requirement already satisfied: murmurhash<1.1.0,>=0.28.0 in /usr/local/lib/python3.7/dist-packages (from spacy[cuda92,transformers]) (1.0.6)\n",
            "Requirement already satisfied: requests<3.0.0,>=2.13.0 in /usr/local/lib/python3.7/dist-packages (from spacy[cuda92,transformers]) (2.23.0)\n",
            "Requirement already satisfied: spacy-transformers<1.2.0,>=1.1.2 in /usr/local/lib/python3.7/dist-packages (from spacy[cuda92,transformers]) (1.1.5)\n",
            "Collecting cupy-cuda92<11.0.0,>=5.0.0b4\n",
            "  Downloading cupy_cuda92-9.6.0-cp37-cp37m-manylinux1_x86_64.whl (55.0 MB)\n",
            "\u001b[2K     \u001b[90m━━━━━━━━━━━━━━━━━━━━━━━━━━━━━━━━━━━━━━━━\u001b[0m \u001b[32m55.0/55.0 MB\u001b[0m \u001b[31m10.3 MB/s\u001b[0m eta \u001b[36m0:00:00\u001b[0m\n",
            "\u001b[?25hRequirement already satisfied: zipp>=0.5 in /usr/local/lib/python3.7/dist-packages (from catalogue<2.1.0,>=2.0.6->spacy[cuda92,transformers]) (3.7.0)\n",
            "Requirement already satisfied: fastrlock>=0.5 in /usr/local/lib/python3.7/dist-packages (from cupy-cuda92<11.0.0,>=5.0.0b4->spacy[cuda92,transformers]) (0.8)\n",
            "Requirement already satisfied: pyparsing!=3.0.5,>=2.0.2 in /usr/local/lib/python3.7/dist-packages (from packaging>=20.0->spacy[cuda92,transformers]) (3.0.7)\n",
            "Requirement already satisfied: smart-open<6.0.0,>=5.0.0 in /usr/local/lib/python3.7/dist-packages (from pathy>=0.3.5->spacy[cuda92,transformers]) (5.2.1)\n",
            "Requirement already satisfied: certifi>=2017.4.17 in /usr/local/lib/python3.7/dist-packages (from requests<3.0.0,>=2.13.0->spacy[cuda92,transformers]) (2021.10.8)\n",
            "Requirement already satisfied: chardet<4,>=3.0.2 in /usr/local/lib/python3.7/dist-packages (from requests<3.0.0,>=2.13.0->spacy[cuda92,transformers]) (3.0.4)\n",
            "Requirement already satisfied: idna<3,>=2.5 in /usr/local/lib/python3.7/dist-packages (from requests<3.0.0,>=2.13.0->spacy[cuda92,transformers]) (2.10)\n",
            "Requirement already satisfied: urllib3!=1.25.0,!=1.25.1,<1.26,>=1.21.1 in /usr/local/lib/python3.7/dist-packages (from requests<3.0.0,>=2.13.0->spacy[cuda92,transformers]) (1.24.3)\n",
            "Requirement already satisfied: transformers<4.18.0,>=3.4.0 in /usr/local/lib/python3.7/dist-packages (from spacy-transformers<1.2.0,>=1.1.2->spacy[cuda92,transformers]) (4.17.0)\n",
            "Requirement already satisfied: torch>=1.6.0 in /usr/local/lib/python3.7/dist-packages (from spacy-transformers<1.2.0,>=1.1.2->spacy[cuda92,transformers]) (1.7.1+cu92)\n",
            "Requirement already satisfied: spacy-alignments<1.0.0,>=0.7.2 in /usr/local/lib/python3.7/dist-packages (from spacy-transformers<1.2.0,>=1.1.2->spacy[cuda92,transformers]) (0.8.4)\n",
            "Requirement already satisfied: click<9.0.0,>=7.1.1 in /usr/local/lib/python3.7/dist-packages (from typer<0.5.0,>=0.3.0->spacy[cuda92,transformers]) (7.1.2)\n",
            "Requirement already satisfied: MarkupSafe>=0.23 in /usr/local/lib/python3.7/dist-packages (from jinja2->spacy[cuda92,transformers]) (2.0.1)\n",
            "Requirement already satisfied: huggingface-hub<1.0,>=0.1.0 in /usr/local/lib/python3.7/dist-packages (from transformers<4.18.0,>=3.4.0->spacy-transformers<1.2.0,>=1.1.2->spacy[cuda92,transformers]) (0.4.0)\n",
            "Requirement already satisfied: pyyaml>=5.1 in /usr/local/lib/python3.7/dist-packages (from transformers<4.18.0,>=3.4.0->spacy-transformers<1.2.0,>=1.1.2->spacy[cuda92,transformers]) (6.0)\n",
            "Requirement already satisfied: tokenizers!=0.11.3,>=0.11.1 in /usr/local/lib/python3.7/dist-packages (from transformers<4.18.0,>=3.4.0->spacy-transformers<1.2.0,>=1.1.2->spacy[cuda92,transformers]) (0.11.6)\n",
            "Requirement already satisfied: sacremoses in /usr/local/lib/python3.7/dist-packages (from transformers<4.18.0,>=3.4.0->spacy-transformers<1.2.0,>=1.1.2->spacy[cuda92,transformers]) (0.0.49)\n",
            "Requirement already satisfied: importlib-metadata in /usr/local/lib/python3.7/dist-packages (from transformers<4.18.0,>=3.4.0->spacy-transformers<1.2.0,>=1.1.2->spacy[cuda92,transformers]) (4.11.3)\n",
            "Requirement already satisfied: filelock in /usr/local/lib/python3.7/dist-packages (from transformers<4.18.0,>=3.4.0->spacy-transformers<1.2.0,>=1.1.2->spacy[cuda92,transformers]) (3.6.0)\n",
            "Requirement already satisfied: regex!=2019.12.17 in /usr/local/lib/python3.7/dist-packages (from transformers<4.18.0,>=3.4.0->spacy-transformers<1.2.0,>=1.1.2->spacy[cuda92,transformers]) (2019.12.20)\n",
            "Requirement already satisfied: six in /usr/local/lib/python3.7/dist-packages (from sacremoses->transformers<4.18.0,>=3.4.0->spacy-transformers<1.2.0,>=1.1.2->spacy[cuda92,transformers]) (1.15.0)\n",
            "Requirement already satisfied: joblib in /usr/local/lib/python3.7/dist-packages (from sacremoses->transformers<4.18.0,>=3.4.0->spacy-transformers<1.2.0,>=1.1.2->spacy[cuda92,transformers]) (1.1.0)\n",
            "Installing collected packages: cupy-cuda92\n",
            "Successfully installed cupy-cuda92-9.6.0\n",
            "\u001b[33mWARNING: Running pip as the 'root' user can result in broken permissions and conflicting behaviour with the system package manager. It is recommended to use a virtual environment instead: https://pip.pypa.io/warnings/venv\u001b[0m\u001b[33m\n",
            "\u001b[0m"
          ]
        }
      ]
    },
    {
      "cell_type": "code",
      "source": [
        "pip install wheel"
      ],
      "metadata": {
        "colab": {
          "base_uri": "https://localhost:8080/"
        },
        "id": "JQFiul66oTSe",
        "outputId": "77d7ad83-aa79-45d7-d4c2-4b9a476e1747"
      },
      "execution_count": null,
      "outputs": [
        {
          "output_type": "stream",
          "name": "stdout",
          "text": [
            "Requirement already satisfied: wheel in /usr/local/lib/python3.7/dist-packages (0.37.1)\n",
            "\u001b[33mWARNING: Running pip as the 'root' user can result in broken permissions and conflicting behaviour with the system package manager. It is recommended to use a virtual environment instead: https://pip.pypa.io/warnings/venv\u001b[0m\u001b[33m\n",
            "\u001b[0m"
          ]
        }
      ]
    },
    {
      "cell_type": "code",
      "source": [
        "pip install cupy-cuda100"
      ],
      "metadata": {
        "colab": {
          "base_uri": "https://localhost:8080/",
          "height": 262
        },
        "id": "PXkd-TlEE4mB",
        "outputId": "baa281fa-6586-4eba-b4ac-e7e7302dee38"
      },
      "execution_count": null,
      "outputs": [
        {
          "output_type": "stream",
          "name": "stdout",
          "text": [
            "Collecting cupy-cuda100\n",
            "  Downloading cupy_cuda100-9.6.0-cp37-cp37m-manylinux1_x86_64.whl (58.9 MB)\n",
            "\u001b[2K     \u001b[90m━━━━━━━━━━━━━━━━━━━━━━━━━━━━━━━━━━━━━━━━\u001b[0m \u001b[32m58.9/58.9 MB\u001b[0m \u001b[31m10.5 MB/s\u001b[0m eta \u001b[36m0:00:00\u001b[0m\n",
            "\u001b[?25hRequirement already satisfied: numpy<1.24,>=1.17 in /usr/local/lib/python3.7/dist-packages (from cupy-cuda100) (1.21.5)\n",
            "Requirement already satisfied: fastrlock>=0.5 in /usr/local/lib/python3.7/dist-packages (from cupy-cuda100) (0.8)\n",
            "Installing collected packages: cupy-cuda100\n",
            "Successfully installed cupy-cuda100-9.6.0\n",
            "\u001b[33mWARNING: Running pip as the 'root' user can result in broken permissions and conflicting behaviour with the system package manager. It is recommended to use a virtual environment instead: https://pip.pypa.io/warnings/venv\u001b[0m\u001b[33m\n",
            "\u001b[0m"
          ]
        },
        {
          "output_type": "display_data",
          "data": {
            "application/vnd.colab-display-data+json": {
              "pip_warning": {
                "packages": [
                  "cupy",
                  "cupy_backends",
                  "cupyx"
                ]
              }
            }
          },
          "metadata": {}
        }
      ]
    },
    {
      "cell_type": "code",
      "source": [
        "!export LD_LIBRARY_PATH=$CUDA_PATH/lib64:$LD_LIBRARY_PATH"
      ],
      "metadata": {
        "id": "0BbfBlLuE4qB"
      },
      "execution_count": null,
      "outputs": []
    },
    {
      "cell_type": "code",
      "source": [
        "!python -m spacy init fill-config drive/MyDrive/Spacy-Project/base_config.cfg drive/MyDrive/Spacy-Project/config.cfg"
      ],
      "metadata": {
        "id": "OzOs6mQ5FuIp"
      },
      "execution_count": null,
      "outputs": []
    },
    {
      "cell_type": "code",
      "source": [
        "import torch\n",
        "torch.cuda.is_available()"
      ],
      "metadata": {
        "colab": {
          "base_uri": "https://localhost:8080/"
        },
        "id": "ufcNJtgrjBN8",
        "outputId": "f442b1c9-601e-401c-f3c6-0959e1aa7dab"
      },
      "execution_count": null,
      "outputs": [
        {
          "output_type": "execute_result",
          "data": {
            "text/plain": [
              "True"
            ]
          },
          "metadata": {},
          "execution_count": 13
        }
      ]
    },
    {
      "cell_type": "code",
      "source": [
        "!python -m spacy debug data drive/MyDrive/Spacy-Project/config.cfg\n"
      ],
      "metadata": {
        "colab": {
          "base_uri": "https://localhost:8080/"
        },
        "id": "wDF8g8FFjFib",
        "outputId": "a55f75da-e3e9-49f3-aefe-2c6a3406925b"
      },
      "execution_count": null,
      "outputs": [
        {
          "output_type": "stream",
          "name": "stdout",
          "text": [
            "\u001b[1m\n",
            "============================ Data file validation ============================\u001b[0m\n",
            "Downloading: 100% 481/481 [00:00<00:00, 616kB/s]\n",
            "Downloading: 100% 878k/878k [00:00<00:00, 4.96MB/s]\n",
            "Downloading: 100% 446k/446k [00:00<00:00, 3.04MB/s]\n",
            "Downloading: 100% 1.29M/1.29M [00:00<00:00, 7.08MB/s]\n",
            "Downloading: 100% 478M/478M [00:11<00:00, 43.4MB/s]\n",
            "Some weights of the model checkpoint at roberta-base were not used when initializing RobertaModel: ['lm_head.dense.weight', 'lm_head.bias', 'lm_head.layer_norm.weight', 'lm_head.dense.bias', 'lm_head.decoder.weight', 'lm_head.layer_norm.bias']\n",
            "- This IS expected if you are initializing RobertaModel from the checkpoint of a model trained on another task or with another architecture (e.g. initializing a BertForSequenceClassification model from a BertForPreTraining model).\n",
            "- This IS NOT expected if you are initializing RobertaModel from the checkpoint of a model that you expect to be exactly identical (initializing a BertForSequenceClassification model from a BertForSequenceClassification model).\n",
            "\u001b[38;5;2m✔ Pipeline can be initialized with data\u001b[0m\n",
            "\u001b[38;5;2m✔ Corpus is loadable\u001b[0m\n",
            "\u001b[1m\n",
            "=============================== Training stats ===============================\u001b[0m\n",
            "Language: en\n",
            "Training pipeline: transformer, ner\n",
            "77 training docs\n",
            "11 evaluation docs\n",
            "\u001b[38;5;2m✔ No overlap between training and evaluation data\u001b[0m\n",
            "\u001b[38;5;1m✘ Low number of examples to train a new pipeline (77)\u001b[0m\n",
            "\u001b[1m\n",
            "============================== Vocab & Vectors ==============================\u001b[0m\n",
            "\u001b[38;5;4mℹ 13228 total word(s) in the data (1950 unique)\u001b[0m\n",
            "\u001b[38;5;4mℹ No word vectors present in the package\u001b[0m\n",
            "\u001b[1m\n",
            "========================== Named Entity Recognition ==========================\u001b[0m\n",
            "\u001b[38;5;4mℹ 4 label(s)\u001b[0m\n",
            "0 missing value(s) (tokens with '-' label)\n",
            "\u001b[38;5;2m✔ Good amount of examples for all labels\u001b[0m\n",
            "\u001b[38;5;2m✔ Examples without occurrences available for all labels\u001b[0m\n",
            "\u001b[38;5;2m✔ No entities consisting of or starting/ending with whitespace\u001b[0m\n",
            "\u001b[38;5;2m✔ No entities crossing sentence boundaries\u001b[0m\n",
            "\u001b[1m\n",
            "================================== Summary ==================================\u001b[0m\n",
            "\u001b[38;5;2m✔ 7 checks passed\u001b[0m\n",
            "\u001b[38;5;1m✘ 1 error\u001b[0m\n"
          ]
        }
      ]
    },
    {
      "cell_type": "code",
      "source": [
        "!pip uninstall cupy\n"
      ],
      "metadata": {
        "colab": {
          "base_uri": "https://localhost:8080/"
        },
        "id": "FcXHTL78msv8",
        "outputId": "52304040-9592-4660-f2f0-c1462bac140a"
      },
      "execution_count": null,
      "outputs": [
        {
          "output_type": "stream",
          "name": "stdout",
          "text": [
            "\u001b[33mWARNING: Skipping cupy as it is not installed.\u001b[0m\u001b[33m\n",
            "\u001b[0m\u001b[33mWARNING: Running pip as the 'root' user can result in broken permissions and conflicting behaviour with the system package manager. It is recommended to use a virtual environment instead: https://pip.pypa.io/warnings/venv\u001b[0m\u001b[33m\n",
            "\u001b[0m"
          ]
        }
      ]
    },
    {
      "cell_type": "code",
      "source": [
        "!python -m spacy train -g 0 drive/MyDrive/Spacy-Project/config.cfg --output drive/MyDrive/\n"
      ],
      "metadata": {
        "colab": {
          "base_uri": "https://localhost:8080/"
        },
        "id": "EFhcYyk_lehv",
        "outputId": "40ae3343-030a-4779-ad01-16bf98ffbe45"
      },
      "execution_count": null,
      "outputs": [
        {
          "output_type": "stream",
          "name": "stdout",
          "text": [
            "Traceback (most recent call last):\n",
            "  File \"/usr/lib/python3.7/runpy.py\", line 183, in _run_module_as_main\n",
            "    mod_name, mod_spec, code = _get_module_details(mod_name, _Error)\n",
            "  File \"/usr/lib/python3.7/runpy.py\", line 142, in _get_module_details\n",
            "    return _get_module_details(pkg_main_name, error)\n",
            "  File \"/usr/lib/python3.7/runpy.py\", line 109, in _get_module_details\n",
            "    __import__(pkg_name)\n",
            "  File \"/usr/local/lib/python3.7/dist-packages/spacy/__init__.py\", line 11, in <module>\n",
            "    from thinc.api import prefer_gpu, require_gpu, require_cpu  # noqa: F401\n",
            "  File \"/usr/local/lib/python3.7/dist-packages/thinc/api.py\", line 2, in <module>\n",
            "    from .initializers import normal_init, uniform_init, glorot_uniform_init, zero_init\n",
            "  File \"/usr/local/lib/python3.7/dist-packages/thinc/initializers.py\", line 4, in <module>\n",
            "    from .backends import Ops\n",
            "  File \"/usr/local/lib/python3.7/dist-packages/thinc/backends/__init__.py\", line 7, in <module>\n",
            "    from .ops import Ops\n",
            "  File \"/usr/local/lib/python3.7/dist-packages/thinc/backends/ops.py\", line 13, in <module>\n",
            "    from ..util import get_array_module, is_xp_array, to_numpy\n",
            "  File \"/usr/local/lib/python3.7/dist-packages/thinc/util.py\", line 47, in <module>\n",
            "    import tensorflow.experimental.dlpack\n",
            "  File \"/usr/local/lib/python3.7/dist-packages/tensorflow/__init__.py\", line 37, in <module>\n",
            "    from tensorflow.python.tools import module_util as _module_util\n",
            "  File \"/usr/local/lib/python3.7/dist-packages/tensorflow/python/__init__.py\", line 42, in <module>\n",
            "    from tensorflow.python import data\n",
            "  File \"/usr/local/lib/python3.7/dist-packages/tensorflow/python/data/__init__.py\", line 21, in <module>\n",
            "    from tensorflow.python.data import experimental\n",
            "  File \"/usr/local/lib/python3.7/dist-packages/tensorflow/python/data/experimental/__init__.py\", line 95, in <module>\n",
            "    from tensorflow.python.data.experimental import service\n",
            "  File \"/usr/local/lib/python3.7/dist-packages/tensorflow/python/data/experimental/service/__init__.py\", line 387, in <module>\n",
            "    from tensorflow.python.data.experimental.ops.data_service_ops import distribute\n",
            "  File \"/usr/local/lib/python3.7/dist-packages/tensorflow/python/data/experimental/ops/data_service_ops.py\", line 26, in <module>\n",
            "    from tensorflow.python.data.ops import dataset_ops\n",
            "  File \"/usr/local/lib/python3.7/dist-packages/tensorflow/python/data/ops/dataset_ops.py\", line 31, in <module>\n",
            "    from tensorflow.python.data.ops import iterator_ops\n",
            "  File \"/usr/local/lib/python3.7/dist-packages/tensorflow/python/data/ops/iterator_ops.py\", line 23, in <module>\n",
            "    from tensorflow.python.data.ops import optional_ops\n",
            "  File \"/usr/local/lib/python3.7/dist-packages/tensorflow/python/data/ops/optional_ops.py\", line 26, in <module>\n",
            "    from tensorflow.python.ops import gen_dataset_ops\n",
            "  File \"/usr/local/lib/python3.7/dist-packages/tensorflow/python/ops/gen_dataset_ops.py\", line 7072, in <module>\n",
            "    ShuffleDatasetV3 = tf_export(\"raw_ops.ShuffleDatasetV3\")(_ops.to_raw_op(shuffle_dataset_v3))\n",
            "  File \"/usr/local/lib/python3.7/dist-packages/tensorflow/python/framework/ops.py\", line 7181, in to_raw_op\n",
            "    return kwarg_only(f)\n",
            "  File \"/usr/local/lib/python3.7/dist-packages/tensorflow/python/util/tf_export.py\", line 392, in kwarg_only\n",
            "    f_argspec = tf_inspect.getargspec(f)\n",
            "  File \"/usr/local/lib/python3.7/dist-packages/tensorflow/python/util/tf_inspect.py\", line 140, in getargspec\n",
            "    return _getargspec(target)\n",
            "  File \"/usr/local/lib/python3.7/dist-packages/tensorflow/python/util/tf_inspect.py\", line 81, in _getargspec\n",
            "    fullargspecs = getfullargspec(target)\n",
            "  File \"/usr/local/lib/python3.7/dist-packages/tensorflow/python/util/tf_inspect.py\", line 266, in getfullargspec\n",
            "    return _getfullargspec(target)\n",
            "  File \"/usr/lib/python3.7/inspect.py\", line 1126, in getfullargspec\n",
            "    sigcls=Signature)\n",
            "  File \"/usr/lib/python3.7/inspect.py\", line 2284, in _signature_from_callable\n",
            "    return _signature_from_function(sigcls, obj)\n",
            "  File \"/usr/lib/python3.7/inspect.py\", line 2161, in _signature_from_function\n",
            "    default=defaults[offset]))\n",
            "  File \"/usr/lib/python3.7/inspect.py\", line 2467, in __init__\n",
            "    def __init__(self, name, kind, *, default=_empty, annotation=_empty):\n",
            "KeyboardInterrupt\n"
          ]
        }
      ]
    },
    {
      "cell_type": "code",
      "source": [
        "import spacy\n",
        "nlp = spacy.load(\"/content/drive/MyDrive/Spacy-Project/model-best\")\n",
        "text = [\n",
        "'''Qualifications\n",
        "- A thorough understanding of C# and .NET Core\n",
        "- Knowledge of good database design and usage\n",
        "- An understanding of NoSQL principles\n",
        "- Excellent problem solving and critical thinking skills\n",
        "- Curious about new technologies\n",
        "- Experience building cloud hosted, scalable web services\n",
        "- Azure experience is a plus\n",
        "Requirements\n",
        "- Bachelor's degree in Computer Science or related field\n",
        "(Equivalent experience can substitute for earned educational qualifications)\n",
        "- Minimum 4 years experience with C# and .NET\n",
        "- Minimum 4 years overall experience in developing commercial software\n",
        "'''\n",
        "]\n",
        "for doc in nlp.pipe(text, disable=[\"tagger\", \"parser\"]):\n",
        "    print([(ent.text, ent.label_) for ent in doc.ents])"
      ],
      "metadata": {
        "colab": {
          "base_uri": "https://localhost:8080/"
        },
        "id": "epx6M2gU7hb0",
        "outputId": "6ce874df-de49-426f-fb8d-ea6c092c3f3c"
      },
      "execution_count": null,
      "outputs": [
        {
          "output_type": "stream",
          "name": "stdout",
          "text": [
            "[('C', 'SKILLS'), ('#', 'SKILLS'), ('.NET', 'SKILLS'), ('database design', 'SKILLS'), ('usage\\n', 'SKILLS'), ('NoSQL', 'SKILLS'), ('problem solving', 'SKILLS'), ('critical thinking', 'SKILLS'), ('building cloud hosted, scalable web services', 'SKILLS'), ('Azure', 'SKILLS'), ('Bachelor', 'DIPLOMA'), (\"'s\", 'DIPLOMA'), ('Computer Science', 'DIPLOMA_MAJOR'), ('4 years', 'EXPERIENCE'), ('C', 'SKILLS'), ('#', 'SKILLS'), ('.NET', 'SKILLS'), ('4 years', 'EXPERIENCE'), ('developing commercial software', 'SKILLS')]\n"
          ]
        }
      ]
    },
    {
      "cell_type": "code",
      "source": [
        "import spacy\n",
        "\n",
        "nlp = spacy.load(\"/content/drive/MyDrive/Spacy-Project/model-best\")\n",
        "Text=['''2+ years of non-internship professional software development experience\n",
        "Programming experience with at least one modern language such as Java, C++, or C# including object-oriented design.\n",
        "1+ years of experience contributing to the architecture and design (architecture, design patterns, reliability and scaling) of new and current systems.\n",
        "Bachelor / MS Degree in Computer Science. Preferably a PhD in data science.\n",
        "8+ years of professional experience in software development. 2+ years of experience in project management.\n",
        "Experience in mentoring junior software engineers to improve their skills, and make them more effective, product software engineers.\n",
        "Experience in data structures, algorithm design, complexity analysis, object-oriented design.\n",
        "3+ years experience in at least one modern programming language such as Java, Scala, Python, C++, C#\n",
        "Experience in professional software engineering practices & best practices for the full software development life cycle, including coding standards, code reviews, source control management, build processes, testing, and operations\n",
        "Experience in communicating with users, other technical teams, and management to collect requirements, describe software product features, and technical designs.\n",
        "Experience with building complex software systems that have been successfully delivered to customers\n",
        "Proven ability to take a project from scoping requirements through actual launch of the project, with experience in the subsequent operation of the system in production''']\n",
        "for doc in nlp.pipe(text, disable=[\"tagger\"]):\n",
        "   print(f\"spans: {[(e.start, e.text, e.label_) for e in doc.ents]}\")"
      ],
      "metadata": {
        "id": "Qh2kJN9DmEo-",
        "colab": {
          "base_uri": "https://localhost:8080/"
        },
        "outputId": "fb12136f-4129-4f2a-d6f6-a8bbf5ee6358"
      },
      "execution_count": null,
      "outputs": [
        {
          "output_type": "stream",
          "name": "stdout",
          "text": [
            "spans: [(7, 'C', 'SKILLS'), (8, '#', 'SKILLS'), (10, '.NET', 'SKILLS'), (17, 'database design', 'SKILLS'), (20, 'usage\\n', 'SKILLS'), (26, 'NoSQL', 'SKILLS'), (31, 'problem solving', 'SKILLS'), (34, 'critical thinking', 'SKILLS'), (46, 'building cloud hosted, scalable web services', 'SKILLS'), (55, 'Azure', 'SKILLS'), (64, 'Bachelor', 'DIPLOMA'), (65, \"'s\", 'DIPLOMA'), (68, 'Computer Science', 'DIPLOMA_MAJOR'), (87, '4 years', 'EXPERIENCE'), (91, 'C', 'SKILLS'), (92, '#', 'SKILLS'), (94, '.NET', 'SKILLS'), (98, '4 years', 'EXPERIENCE'), (103, 'developing commercial software', 'SKILLS')]\n"
          ]
        }
      ]
    },
    {
      "cell_type": "code",
      "source": [
        "!python -m spacy project clone tutorials/rel_component"
      ],
      "metadata": {
        "colab": {
          "base_uri": "https://localhost:8080/"
        },
        "id": "qyCzTvLkfG1m",
        "outputId": "e89c9ca7-7848-4d0b-9226-a7bc94380863"
      },
      "execution_count": null,
      "outputs": [
        {
          "output_type": "stream",
          "name": "stdout",
          "text": [
            "\u001b[38;5;2m✔ Cloned 'tutorials/rel_component' from explosion/projects\u001b[0m\n",
            "/content/rel_component\n",
            "\u001b[38;5;2m✔ Your project is now ready!\u001b[0m\n",
            "To fetch the assets, run:\n",
            "python -m spacy project assets /content/rel_component\n"
          ]
        }
      ]
    },
    {
      "cell_type": "code",
      "source": [
        "!python -m spacy download en_core_web_trf"
      ],
      "metadata": {
        "colab": {
          "base_uri": "https://localhost:8080/"
        },
        "id": "9evj4BlffMgW",
        "outputId": "4b0ca012-8b32-42ce-d290-904773b7402f"
      },
      "execution_count": null,
      "outputs": [
        {
          "output_type": "stream",
          "name": "stdout",
          "text": [
            "Collecting en-core-web-trf==3.2.0\n",
            "  Downloading https://github.com/explosion/spacy-models/releases/download/en_core_web_trf-3.2.0/en_core_web_trf-3.2.0-py3-none-any.whl (460.2 MB)\n",
            "\u001b[2K     \u001b[90m━━━━━━━━━━━━━━━━━━━━━━━━━━━━━━━━━━━━━━━\u001b[0m \u001b[32m460.2/460.2 MB\u001b[0m \u001b[31m3.4 MB/s\u001b[0m eta \u001b[36m0:00:00\u001b[0m\n",
            "\u001b[?25hRequirement already satisfied: spacy<3.3.0,>=3.2.0 in /usr/local/lib/python3.7/dist-packages (from en-core-web-trf==3.2.0) (3.2.3)\n",
            "Requirement already satisfied: spacy-transformers<1.2.0,>=1.1.2 in /usr/local/lib/python3.7/dist-packages (from en-core-web-trf==3.2.0) (1.1.5)\n",
            "Requirement already satisfied: langcodes<4.0.0,>=3.2.0 in /usr/local/lib/python3.7/dist-packages (from spacy<3.3.0,>=3.2.0->en-core-web-trf==3.2.0) (3.3.0)\n",
            "Requirement already satisfied: spacy-legacy<3.1.0,>=3.0.8 in /usr/local/lib/python3.7/dist-packages (from spacy<3.3.0,>=3.2.0->en-core-web-trf==3.2.0) (3.0.9)\n",
            "Requirement already satisfied: thinc<8.1.0,>=8.0.12 in /usr/local/lib/python3.7/dist-packages (from spacy<3.3.0,>=3.2.0->en-core-web-trf==3.2.0) (8.0.15)\n",
            "Requirement already satisfied: numpy>=1.15.0 in /usr/local/lib/python3.7/dist-packages (from spacy<3.3.0,>=3.2.0->en-core-web-trf==3.2.0) (1.21.5)\n",
            "Requirement already satisfied: murmurhash<1.1.0,>=0.28.0 in /usr/local/lib/python3.7/dist-packages (from spacy<3.3.0,>=3.2.0->en-core-web-trf==3.2.0) (1.0.6)\n",
            "Requirement already satisfied: pathy>=0.3.5 in /usr/local/lib/python3.7/dist-packages (from spacy<3.3.0,>=3.2.0->en-core-web-trf==3.2.0) (0.6.1)\n",
            "Requirement already satisfied: jinja2 in /usr/local/lib/python3.7/dist-packages (from spacy<3.3.0,>=3.2.0->en-core-web-trf==3.2.0) (2.11.3)\n",
            "Requirement already satisfied: cymem<2.1.0,>=2.0.2 in /usr/local/lib/python3.7/dist-packages (from spacy<3.3.0,>=3.2.0->en-core-web-trf==3.2.0) (2.0.6)\n",
            "Requirement already satisfied: spacy-loggers<2.0.0,>=1.0.0 in /usr/local/lib/python3.7/dist-packages (from spacy<3.3.0,>=3.2.0->en-core-web-trf==3.2.0) (1.0.1)\n",
            "Requirement already satisfied: typer<0.5.0,>=0.3.0 in /usr/local/lib/python3.7/dist-packages (from spacy<3.3.0,>=3.2.0->en-core-web-trf==3.2.0) (0.4.0)\n",
            "Requirement already satisfied: typing-extensions<4.0.0.0,>=3.7.4 in /usr/local/lib/python3.7/dist-packages (from spacy<3.3.0,>=3.2.0->en-core-web-trf==3.2.0) (3.10.0.2)\n",
            "Requirement already satisfied: wasabi<1.1.0,>=0.8.1 in /usr/local/lib/python3.7/dist-packages (from spacy<3.3.0,>=3.2.0->en-core-web-trf==3.2.0) (0.9.0)\n",
            "Requirement already satisfied: preshed<3.1.0,>=3.0.2 in /usr/local/lib/python3.7/dist-packages (from spacy<3.3.0,>=3.2.0->en-core-web-trf==3.2.0) (3.0.6)\n",
            "Requirement already satisfied: packaging>=20.0 in /usr/local/lib/python3.7/dist-packages (from spacy<3.3.0,>=3.2.0->en-core-web-trf==3.2.0) (21.3)\n",
            "Requirement already satisfied: pydantic!=1.8,!=1.8.1,<1.9.0,>=1.7.4 in /usr/local/lib/python3.7/dist-packages (from spacy<3.3.0,>=3.2.0->en-core-web-trf==3.2.0) (1.8.2)\n",
            "Requirement already satisfied: requests<3.0.0,>=2.13.0 in /usr/local/lib/python3.7/dist-packages (from spacy<3.3.0,>=3.2.0->en-core-web-trf==3.2.0) (2.23.0)\n",
            "Requirement already satisfied: tqdm<5.0.0,>=4.38.0 in /usr/local/lib/python3.7/dist-packages (from spacy<3.3.0,>=3.2.0->en-core-web-trf==3.2.0) (4.63.0)\n",
            "Requirement already satisfied: catalogue<2.1.0,>=2.0.6 in /usr/local/lib/python3.7/dist-packages (from spacy<3.3.0,>=3.2.0->en-core-web-trf==3.2.0) (2.0.7)\n",
            "Requirement already satisfied: srsly<3.0.0,>=2.4.1 in /usr/local/lib/python3.7/dist-packages (from spacy<3.3.0,>=3.2.0->en-core-web-trf==3.2.0) (2.4.2)\n",
            "Requirement already satisfied: setuptools in /usr/local/lib/python3.7/dist-packages (from spacy<3.3.0,>=3.2.0->en-core-web-trf==3.2.0) (61.2.0)\n",
            "Requirement already satisfied: blis<0.8.0,>=0.4.0 in /usr/local/lib/python3.7/dist-packages (from spacy<3.3.0,>=3.2.0->en-core-web-trf==3.2.0) (0.4.1)\n",
            "Requirement already satisfied: spacy-alignments<1.0.0,>=0.7.2 in /usr/local/lib/python3.7/dist-packages (from spacy-transformers<1.2.0,>=1.1.2->en-core-web-trf==3.2.0) (0.8.4)\n",
            "Requirement already satisfied: transformers<4.18.0,>=3.4.0 in /usr/local/lib/python3.7/dist-packages (from spacy-transformers<1.2.0,>=1.1.2->en-core-web-trf==3.2.0) (4.17.0)\n",
            "Requirement already satisfied: torch>=1.6.0 in /usr/local/lib/python3.7/dist-packages (from spacy-transformers<1.2.0,>=1.1.2->en-core-web-trf==3.2.0) (1.7.1+cu92)\n",
            "Requirement already satisfied: zipp>=0.5 in /usr/local/lib/python3.7/dist-packages (from catalogue<2.1.0,>=2.0.6->spacy<3.3.0,>=3.2.0->en-core-web-trf==3.2.0) (3.7.0)\n",
            "Requirement already satisfied: pyparsing!=3.0.5,>=2.0.2 in /usr/local/lib/python3.7/dist-packages (from packaging>=20.0->spacy<3.3.0,>=3.2.0->en-core-web-trf==3.2.0) (3.0.7)\n",
            "Requirement already satisfied: smart-open<6.0.0,>=5.0.0 in /usr/local/lib/python3.7/dist-packages (from pathy>=0.3.5->spacy<3.3.0,>=3.2.0->en-core-web-trf==3.2.0) (5.2.1)\n",
            "Requirement already satisfied: idna<3,>=2.5 in /usr/local/lib/python3.7/dist-packages (from requests<3.0.0,>=2.13.0->spacy<3.3.0,>=3.2.0->en-core-web-trf==3.2.0) (2.10)\n",
            "Requirement already satisfied: urllib3!=1.25.0,!=1.25.1,<1.26,>=1.21.1 in /usr/local/lib/python3.7/dist-packages (from requests<3.0.0,>=2.13.0->spacy<3.3.0,>=3.2.0->en-core-web-trf==3.2.0) (1.24.3)\n",
            "Requirement already satisfied: certifi>=2017.4.17 in /usr/local/lib/python3.7/dist-packages (from requests<3.0.0,>=2.13.0->spacy<3.3.0,>=3.2.0->en-core-web-trf==3.2.0) (2021.10.8)\n",
            "Requirement already satisfied: chardet<4,>=3.0.2 in /usr/local/lib/python3.7/dist-packages (from requests<3.0.0,>=2.13.0->spacy<3.3.0,>=3.2.0->en-core-web-trf==3.2.0) (3.0.4)\n",
            "Requirement already satisfied: importlib-metadata in /usr/local/lib/python3.7/dist-packages (from transformers<4.18.0,>=3.4.0->spacy-transformers<1.2.0,>=1.1.2->en-core-web-trf==3.2.0) (4.11.3)\n",
            "Requirement already satisfied: huggingface-hub<1.0,>=0.1.0 in /usr/local/lib/python3.7/dist-packages (from transformers<4.18.0,>=3.4.0->spacy-transformers<1.2.0,>=1.1.2->en-core-web-trf==3.2.0) (0.4.0)\n",
            "Requirement already satisfied: filelock in /usr/local/lib/python3.7/dist-packages (from transformers<4.18.0,>=3.4.0->spacy-transformers<1.2.0,>=1.1.2->en-core-web-trf==3.2.0) (3.6.0)\n",
            "Requirement already satisfied: tokenizers!=0.11.3,>=0.11.1 in /usr/local/lib/python3.7/dist-packages (from transformers<4.18.0,>=3.4.0->spacy-transformers<1.2.0,>=1.1.2->en-core-web-trf==3.2.0) (0.11.6)\n",
            "Requirement already satisfied: regex!=2019.12.17 in /usr/local/lib/python3.7/dist-packages (from transformers<4.18.0,>=3.4.0->spacy-transformers<1.2.0,>=1.1.2->en-core-web-trf==3.2.0) (2019.12.20)\n",
            "Requirement already satisfied: sacremoses in /usr/local/lib/python3.7/dist-packages (from transformers<4.18.0,>=3.4.0->spacy-transformers<1.2.0,>=1.1.2->en-core-web-trf==3.2.0) (0.0.49)\n",
            "Requirement already satisfied: pyyaml>=5.1 in /usr/local/lib/python3.7/dist-packages (from transformers<4.18.0,>=3.4.0->spacy-transformers<1.2.0,>=1.1.2->en-core-web-trf==3.2.0) (6.0)\n",
            "Requirement already satisfied: click<9.0.0,>=7.1.1 in /usr/local/lib/python3.7/dist-packages (from typer<0.5.0,>=0.3.0->spacy<3.3.0,>=3.2.0->en-core-web-trf==3.2.0) (7.1.2)\n",
            "Requirement already satisfied: MarkupSafe>=0.23 in /usr/local/lib/python3.7/dist-packages (from jinja2->spacy<3.3.0,>=3.2.0->en-core-web-trf==3.2.0) (2.0.1)\n",
            "Requirement already satisfied: joblib in /usr/local/lib/python3.7/dist-packages (from sacremoses->transformers<4.18.0,>=3.4.0->spacy-transformers<1.2.0,>=1.1.2->en-core-web-trf==3.2.0) (1.1.0)\n",
            "Requirement already satisfied: six in /usr/local/lib/python3.7/dist-packages (from sacremoses->transformers<4.18.0,>=3.4.0->spacy-transformers<1.2.0,>=1.1.2->en-core-web-trf==3.2.0) (1.15.0)\n",
            "\u001b[33mWARNING: Running pip as the 'root' user can result in broken permissions and conflicting behaviour with the system package manager. It is recommended to use a virtual environment instead: https://pip.pypa.io/warnings/venv\u001b[0m\u001b[33m\n",
            "\u001b[0m\u001b[38;5;2m✔ Download and installation successful\u001b[0m\n",
            "You can now load the package via spacy.load('en_core_web_trf')\n"
          ]
        }
      ]
    },
    {
      "cell_type": "code",
      "source": [
        "!pip install -U spacy transformers"
      ],
      "metadata": {
        "id": "lr0TEkrFfPn3"
      },
      "execution_count": null,
      "outputs": []
    },
    {
      "cell_type": "code",
      "source": [
        "cd rel_component"
      ],
      "metadata": {
        "colab": {
          "base_uri": "https://localhost:8080/"
        },
        "id": "Z4U9dH1AfUtM",
        "outputId": "a534c6f5-9cff-476d-e606-a6a786ba59e3"
      },
      "execution_count": null,
      "outputs": [
        {
          "output_type": "stream",
          "name": "stdout",
          "text": [
            "/content/rel_component\n"
          ]
        }
      ]
    },
    {
      "cell_type": "code",
      "source": [
        "!spacy project run train_gpu"
      ],
      "metadata": {
        "colab": {
          "base_uri": "https://localhost:8080/"
        },
        "id": "DCb-5laPfyRl",
        "outputId": "2b7fd565-42e9-4886-eec5-cd6a87b2d3c0"
      },
      "execution_count": null,
      "outputs": [
        {
          "output_type": "stream",
          "name": "stdout",
          "text": [
            "\u001b[1m\n",
            "================================= train_gpu =================================\u001b[0m\n",
            "Running command: /usr/bin/python3 -m spacy train configs/rel_trf.cfg --output training --paths.train data/relations_training.spacy --paths.dev data/relations_dev.spacy -c ./scripts/custom_functions.py --gpu-id 0\n",
            "\u001b[38;5;4mℹ Saving to output directory: training\u001b[0m\n",
            "\u001b[38;5;4mℹ Using GPU: 0\u001b[0m\n",
            "\u001b[1m\n",
            "=========================== Initializing pipeline ===========================\u001b[0m\n",
            "[2022-03-27 22:31:15,298] [INFO] Set up nlp object from config\n",
            "[2022-03-27 22:31:15,310] [INFO] Pipeline: ['transformer', 'relation_extractor']\n",
            "[2022-03-27 22:31:15,316] [INFO] Created vocabulary\n",
            "[2022-03-27 22:31:15,317] [INFO] Finished initializing nlp object\n",
            "Some weights of the model checkpoint at roberta-base were not used when initializing RobertaModel: ['lm_head.layer_norm.bias', 'lm_head.dense.weight', 'lm_head.bias', 'lm_head.decoder.weight', 'lm_head.layer_norm.weight', 'lm_head.dense.bias']\n",
            "- This IS expected if you are initializing RobertaModel from the checkpoint of a model trained on another task or with another architecture (e.g. initializing a BertForSequenceClassification model from a BertForPreTraining model).\n",
            "- This IS NOT expected if you are initializing RobertaModel from the checkpoint of a model that you expect to be exactly identical (initializing a BertForSequenceClassification model from a BertForSequenceClassification model).\n",
            "[2022-03-27 22:32:01,996] [INFO] Initialized pipeline components: ['transformer', 'relation_extractor']\n",
            "\u001b[38;5;2m✔ Initialized pipeline\u001b[0m\n",
            "\u001b[1m\n",
            "============================= Training pipeline =============================\u001b[0m\n",
            "\u001b[38;5;4mℹ Pipeline: ['transformer', 'relation_extractor']\u001b[0m\n",
            "\u001b[38;5;4mℹ Initial learn rate: 0.0\u001b[0m\n",
            "E    #       LOSS TRANS...  LOSS RELAT...  REL_MICRO_P  REL_MICRO_R  REL_MICRO_F  SCORE \n",
            "---  ------  -------------  -------------  -----------  -----------  -----------  ------\n",
            "  0       0           0.32           0.72         6.71        89.36        12.48    0.12\n",
            " 12     100          11.08          16.06        87.32        65.96        75.15    0.75\n",
            " 25     200           0.25           2.80        86.73        90.43        88.54    0.89\n",
            " 37     300           0.11           2.00        85.71        89.36        87.50    0.88\n",
            " 50     400           0.04           1.43        79.31        97.87        87.62    0.88\n",
            " 62     500           0.03           1.38        90.91        95.74        93.26    0.93\n",
            " 75     600           0.01           1.19        90.10        96.81        93.33    0.93\n",
            " 87     700           0.01           1.18        89.00        94.68        91.75    0.92\n",
            "100     800           0.01           1.16        90.72        93.62        92.15    0.92\n",
            "112     900           0.00           1.15        88.24        95.74        91.84    0.92\n",
            "125    1000           0.01           1.15        87.50        96.81        91.92    0.92\n",
            "\u001b[38;5;2m✔ Saved pipeline to output directory\u001b[0m\n",
            "training/model-last\n"
          ]
        }
      ]
    },
    {
      "cell_type": "code",
      "source": [
        "!spacy project run evaluate\n"
      ],
      "metadata": {
        "colab": {
          "base_uri": "https://localhost:8080/"
        },
        "id": "fxi80ZZcf2bF",
        "outputId": "b0d6ba39-f238-4751-8ccb-6b5d6c401531"
      },
      "execution_count": null,
      "outputs": [
        {
          "output_type": "stream",
          "name": "stdout",
          "text": [
            "\u001b[1m\n",
            "================================== evaluate ==================================\u001b[0m\n",
            "Running command: /usr/bin/python3 ./scripts/evaluate.py training/model-best data/relations_test.spacy False\n",
            "\n",
            "Random baseline:\n",
            "threshold 0.00 \t {'rel_micro_p': '5.49', 'rel_micro_r': '100.00', 'rel_micro_f': '10.41'}\n",
            "threshold 0.05 \t {'rel_micro_p': '5.64', 'rel_micro_r': '96.92', 'rel_micro_f': '10.66'}\n",
            "threshold 0.10 \t {'rel_micro_p': '5.83', 'rel_micro_r': '93.85', 'rel_micro_f': '10.97'}\n",
            "threshold 0.20 \t {'rel_micro_p': '5.34', 'rel_micro_r': '75.38', 'rel_micro_f': '9.98'}\n",
            "threshold 0.30 \t {'rel_micro_p': '5.52', 'rel_micro_r': '69.23', 'rel_micro_f': '10.23'}\n",
            "threshold 0.40 \t {'rel_micro_p': '5.64', 'rel_micro_r': '60.00', 'rel_micro_f': '10.32'}\n",
            "threshold 0.50 \t {'rel_micro_p': '4.71', 'rel_micro_r': '41.54', 'rel_micro_f': '8.46'}\n",
            "threshold 0.60 \t {'rel_micro_p': '4.31', 'rel_micro_r': '30.77', 'rel_micro_f': '7.56'}\n",
            "threshold 0.70 \t {'rel_micro_p': '4.18', 'rel_micro_r': '23.08', 'rel_micro_f': '7.08'}\n",
            "threshold 0.80 \t {'rel_micro_p': '3.61', 'rel_micro_r': '13.85', 'rel_micro_f': '5.73'}\n",
            "threshold 0.90 \t {'rel_micro_p': '3.10', 'rel_micro_r': '6.15', 'rel_micro_f': '4.12'}\n",
            "threshold 0.99 \t {'rel_micro_p': '0.00', 'rel_micro_r': '0.00', 'rel_micro_f': '0.00'}\n",
            "threshold 1.00 \t {'rel_micro_p': '0.00', 'rel_micro_r': '0.00', 'rel_micro_f': '0.00'}\n",
            "\n",
            "Results of the trained model:\n",
            "threshold 0.00 \t {'rel_micro_p': '5.49', 'rel_micro_r': '100.00', 'rel_micro_f': '10.41'}\n",
            "threshold 0.05 \t {'rel_micro_p': '72.94', 'rel_micro_r': '95.38', 'rel_micro_f': '82.67'}\n",
            "threshold 0.10 \t {'rel_micro_p': '78.21', 'rel_micro_r': '93.85', 'rel_micro_f': '85.31'}\n",
            "threshold 0.20 \t {'rel_micro_p': '81.33', 'rel_micro_r': '93.85', 'rel_micro_f': '87.14'}\n",
            "threshold 0.30 \t {'rel_micro_p': '82.43', 'rel_micro_r': '93.85', 'rel_micro_f': '87.77'}\n",
            "threshold 0.40 \t {'rel_micro_p': '83.56', 'rel_micro_r': '93.85', 'rel_micro_f': '88.41'}\n",
            "threshold 0.50 \t {'rel_micro_p': '86.96', 'rel_micro_r': '92.31', 'rel_micro_f': '89.55'}\n",
            "threshold 0.60 \t {'rel_micro_p': '88.06', 'rel_micro_r': '90.77', 'rel_micro_f': '89.39'}\n",
            "threshold 0.70 \t {'rel_micro_p': '90.48', 'rel_micro_r': '87.69', 'rel_micro_f': '89.06'}\n",
            "threshold 0.80 \t {'rel_micro_p': '90.16', 'rel_micro_r': '84.62', 'rel_micro_f': '87.30'}\n",
            "threshold 0.90 \t {'rel_micro_p': '91.49', 'rel_micro_r': '66.15', 'rel_micro_f': '76.79'}\n",
            "threshold 0.99 \t {'rel_micro_p': '70.00', 'rel_micro_r': '10.77', 'rel_micro_f': '18.67'}\n",
            "threshold 1.00 \t {'rel_micro_p': '33.33', 'rel_micro_r': '1.54', 'rel_micro_f': '2.94'}\n"
          ]
        }
      ]
    },
    {
      "cell_type": "code",
      "source": [
        "import random\n",
        "import typer\n",
        "from pathlib import Path\n",
        "import spacy\n",
        "from spacy.tokens import DocBin, Doc\n",
        "from spacy.training.example import Example\n",
        "from rel_pipe import make_relation_etractor, score_relations\n",
        "from rel_model import create_relation_model, create_classification_layer, create_instances, create_tensors\n",
        "nlp2 = spacy.load(\"training/model-best\")\n",
        "nlp2.add_pipe('sentencizer')\n",
        "for name, proc in nlp2.pipeline:\n",
        "          doc = proc(doc)\n",
        "# Here, we split the paragraph into sentences and apply the relation extraction for each pair of entities found in each sentence.\n",
        "for value, rel_dict in doc._.rel.items():\n",
        "        for sent in doc.sents:\n",
        "          for e in sent.ents:\n",
        "            for b in sent.ents:\n",
        "              if e.start == value[0] and b.start == value[1]:\n",
        "                if rel_dict['EXPERIENCE_IN'] >=0.9 :\n",
        "                  print(f\" entities: {e.text, b.text} --> predicted relation: {rel_dict}\")"
      ],
      "metadata": {
        "colab": {
          "base_uri": "https://localhost:8080/"
        },
        "id": "IIxJ5PuYl8YV",
        "outputId": "4305ebfd-d68f-4795-e5af-29c877810b1c"
      },
      "execution_count": null,
      "outputs": [
        {
          "output_type": "stream",
          "name": "stdout",
          "text": [
            " entities: ('4 years', 'C') --> predicted relation: {'DEGREE_IN': 5.2546743e-06, 'EXPERIENCE_IN': 0.98516774}\n",
            " entities: ('4 years', '#') --> predicted relation: {'DEGREE_IN': 3.988358e-06, 'EXPERIENCE_IN': 0.99154305}\n",
            " entities: ('4 years', '.NET') --> predicted relation: {'DEGREE_IN': 6.1793085e-06, 'EXPERIENCE_IN': 0.99169606}\n",
            " entities: ('4 years', 'developing commercial software') --> predicted relation: {'DEGREE_IN': 2.7790095e-06, 'EXPERIENCE_IN': 0.98653734}\n",
            " entities: ('4 years', 'C') --> predicted relation: {'DEGREE_IN': 2.1208325e-06, 'EXPERIENCE_IN': 0.9677913}\n",
            " entities: ('4 years', '#') --> predicted relation: {'DEGREE_IN': 1.609735e-06, 'EXPERIENCE_IN': 0.9814951}\n",
            " entities: ('4 years', '.NET') --> predicted relation: {'DEGREE_IN': 2.4940246e-06, 'EXPERIENCE_IN': 0.98182666}\n",
            " entities: ('4 years', 'developing commercial software') --> predicted relation: {'DEGREE_IN': 1.121631e-06, 'EXPERIENCE_IN': 0.97071785}\n"
          ]
        }
      ]
    },
    {
      "cell_type": "code",
      "source": [
        "!zip -r /content/rel_component.zip /content/rel_component\n",
        "\n"
      ],
      "metadata": {
        "colab": {
          "base_uri": "https://localhost:8080/"
        },
        "id": "_yjUbvO1nOur",
        "outputId": "acfe9088-566e-45b2-92a2-b9c51659f064"
      },
      "execution_count": null,
      "outputs": [
        {
          "output_type": "stream",
          "name": "stdout",
          "text": [
            "  adding: content/rel_component/ (stored 0%)\n",
            "  adding: content/rel_component/__pycache__/ (stored 0%)\n",
            "  adding: content/rel_component/__pycache__/rel_pipe.cpython-37.pyc (deflated 49%)\n",
            "  adding: content/rel_component/__pycache__/rel_model.cpython-37.pyc (deflated 44%)\n",
            "  adding: content/rel_component/job_descriptions (stored 0%)\n",
            "  adding: content/rel_component/configs/ (stored 0%)\n",
            "  adding: content/rel_component/configs/rel_tok2vec.cfg (deflated 63%)\n",
            "  adding: content/rel_component/configs/rel_trf.cfg (deflated 65%)\n",
            "  adding: content/rel_component/project.yml (deflated 64%)\n",
            "  adding: content/rel_component/project.lock (deflated 62%)\n",
            "  adding: content/rel_component/rel_model.py (deflated 69%)\n",
            "  adding: content/rel_component/data/ (stored 0%)\n",
            "  adding: content/rel_component/data/relations_dev.spacy (deflated 9%)\n",
            "  adding: content/rel_component/data/relations_training.spacy (deflated 13%)\n",
            "  adding: content/rel_component/data/relations_test.spacy (deflated 18%)\n",
            "  adding: content/rel_component/.ipynb_checkpoints/ (stored 0%)\n",
            "  adding: content/rel_component/assets/ (stored 0%)\n",
            "  adding: content/rel_component/assets/annotations.jsonl (deflated 87%)\n",
            "  adding: content/rel_component/README.md (deflated 54%)\n",
            "  adding: content/rel_component/test_project_rel.py (deflated 43%)\n",
            "  adding: content/rel_component/.gitignore (stored 0%)\n",
            "  adding: content/rel_component/rel_pipe.py (deflated 71%)\n",
            "  adding: content/rel_component/path_to_job_descriptions (stored 0%)\n",
            "  adding: content/rel_component/scripts/ (stored 0%)\n",
            "  adding: content/rel_component/scripts/__pycache__/ (stored 0%)\n",
            "  adding: content/rel_component/scripts/__pycache__/rel_pipe.cpython-37.pyc (deflated 49%)\n",
            "  adding: content/rel_component/scripts/__pycache__/__init__.cpython-37.pyc (deflated 25%)\n",
            "  adding: content/rel_component/scripts/__pycache__/rel_model.cpython-37.pyc (deflated 44%)\n",
            "  adding: content/rel_component/scripts/__pycache__/custom_functions.cpython-37.pyc (deflated 39%)\n",
            "  adding: content/rel_component/scripts/rel_model.py (deflated 69%)\n",
            "  adding: content/rel_component/scripts/__init__.py (stored 0%)\n",
            "  adding: content/rel_component/scripts/custom_functions.py (deflated 52%)\n",
            "  adding: content/rel_component/scripts/evaluate.py (deflated 66%)\n",
            "  adding: content/rel_component/scripts/rel_pipe.py (deflated 71%)\n",
            "  adding: content/rel_component/scripts/parse_data.py (deflated 73%)\n",
            "  adding: content/rel_component/training/ (stored 0%)\n",
            "  adding: content/rel_component/training/model-last/ (stored 0%)\n",
            "  adding: content/rel_component/training/model-last/tokenizer (deflated 80%)\n",
            "  adding: content/rel_component/training/model-last/meta.json (deflated 55%)\n",
            "  adding: content/rel_component/training/model-last/relation_extractor/ (stored 0%)\n",
            "  adding: content/rel_component/training/model-last/relation_extractor/cfg (deflated 14%)\n",
            "  adding: content/rel_component/training/model-last/relation_extractor/model (deflated 9%)\n",
            "  adding: content/rel_component/training/model-last/config.cfg (deflated 64%)\n",
            "  adding: content/rel_component/training/model-last/transformer/ (stored 0%)\n",
            "  adding: content/rel_component/training/model-last/transformer/cfg (stored 0%)\n",
            "  adding: content/rel_component/training/model-last/transformer/model (deflated 15%)\n",
            "  adding: content/rel_component/training/model-last/vocab/ (stored 0%)\n",
            "  adding: content/rel_component/training/model-last/vocab/key2row (stored 0%)\n",
            "  adding: content/rel_component/training/model-last/vocab/vectors.cfg (stored 0%)\n",
            "  adding: content/rel_component/training/model-last/vocab/lookups.bin (stored 0%)\n",
            "  adding: content/rel_component/training/model-last/vocab/strings.json (deflated 72%)\n",
            "  adding: content/rel_component/training/model-last/vocab/vectors (deflated 45%)\n",
            "  adding: content/rel_component/training/model-best/ (stored 0%)\n",
            "  adding: content/rel_component/training/model-best/tokenizer (deflated 80%)\n",
            "  adding: content/rel_component/training/model-best/meta.json (deflated 55%)\n",
            "  adding: content/rel_component/training/model-best/relation_extractor/ (stored 0%)\n",
            "  adding: content/rel_component/training/model-best/relation_extractor/cfg (deflated 14%)\n",
            "  adding: content/rel_component/training/model-best/relation_extractor/model (deflated 9%)\n",
            "  adding: content/rel_component/training/model-best/config.cfg (deflated 64%)\n",
            "  adding: content/rel_component/training/model-best/transformer/ (stored 0%)\n",
            "  adding: content/rel_component/training/model-best/transformer/cfg (stored 0%)\n",
            "  adding: content/rel_component/training/model-best/transformer/model (deflated 15%)\n",
            "  adding: content/rel_component/training/model-best/vocab/ (stored 0%)\n",
            "  adding: content/rel_component/training/model-best/vocab/key2row (stored 0%)\n",
            "  adding: content/rel_component/training/model-best/vocab/vectors.cfg (stored 0%)\n",
            "  adding: content/rel_component/training/model-best/vocab/lookups.bin (stored 0%)\n",
            "  adding: content/rel_component/training/model-best/vocab/strings.json (deflated 72%)\n",
            "  adding: content/rel_component/training/model-best/vocab/vectors (deflated 45%)\n"
          ]
        }
      ]
    },
    {
      "cell_type": "code",
      "source": [
        "from google.colab import files\n",
        "files.download(\"/content/rel_component.zip\")"
      ],
      "metadata": {
        "id": "o86Nl-MlngN7"
      },
      "execution_count": null,
      "outputs": []
    },
    {
      "cell_type": "code",
      "source": [
        "\n",
        "import spacy\n",
        "nlp = spacy.load(\"/content/drive/MyDrive/Spacy-Project/model-last\")"
      ],
      "metadata": {
        "id": "_7lyULrDyUD7"
      },
      "execution_count": null,
      "outputs": []
    },
    {
      "cell_type": "code",
      "source": [
        "import spacy\n",
        "\n",
        "nlp = spacy.load(\"/content/drive/MyDrive/Spacy-Project/model-best\")\n",
        "Text=['''2+ years of non-internship professional software development experience\n",
        "Programming experience with at least one modern language such as Java, C++, or C# including object-oriented design.\n",
        "1+ years of experience contributing to the architecture and design (architecture, design patterns, reliability and scaling) of new and current systems.\n",
        "Bachelor / MS Degree in Computer Science. Preferably a PhD in data science.\n",
        "8+ years of professional experience in software development. 2+ years of experience in project management.\n",
        "Experience in mentoring junior software engineers to improve their skills, and make them more effective, product software engineers.\n",
        "Experience in data structures, algorithm design, complexity analysis, object-oriented design.\n",
        "3+ years experience in at least one modern programming language such as Java, Scala, Python, C++, C#\n",
        "Experience in professional software engineering practices & best practices for the full software development life cycle, including coding standards, code reviews, source control management, build processes, testing, and operations\n",
        "Experience in communicating with users, other technical teams, and management to collect requirements, describe software product features, and technical designs.\n",
        "Experience with building complex software systems that have been successfully delivered to customers\n",
        "Proven ability to take a project from scoping requirements through actual launch of the project, with experience in the subsequent operation of the system in production''']\n",
        "for doc in nlp.pipe(text, disable=[\"tagger\"]):\n",
        "   print(f\"spans: {[(e.start, e.text, e.label_) for e in doc.ents]}\")"
      ],
      "metadata": {
        "colab": {
          "base_uri": "https://localhost:8080/"
        },
        "id": "pKGph-kkCBkS",
        "outputId": "9fa7bfec-8211-48ab-8836-8f543b396305"
      },
      "execution_count": null,
      "outputs": [
        {
          "output_type": "stream",
          "name": "stdout",
          "text": [
            "spans: [(7, 'C', 'SKILLS'), (8, '#', 'SKILLS'), (10, '.NET', 'SKILLS'), (17, 'database design', 'SKILLS'), (20, 'usage\\n', 'SKILLS'), (26, 'NoSQL', 'SKILLS'), (31, 'problem solving', 'SKILLS'), (34, 'critical thinking', 'SKILLS'), (46, 'building cloud hosted, scalable web services', 'SKILLS'), (55, 'Azure', 'SKILLS'), (64, 'Bachelor', 'DIPLOMA'), (65, \"'s\", 'DIPLOMA'), (68, 'Computer Science', 'DIPLOMA_MAJOR'), (87, '4 years', 'EXPERIENCE'), (91, 'C', 'SKILLS'), (92, '#', 'SKILLS'), (94, '.NET', 'SKILLS'), (98, '4 years', 'EXPERIENCE'), (103, 'developing commercial software', 'SKILLS')]\n"
          ]
        }
      ]
    },
    {
      "cell_type": "code",
      "source": [
        "import pandas as pd\n",
        "import spacy\n",
        "\n",
        "def extract_ents():\n",
        "  col_names = [\"Id\", \"Title\", \"FullDescription\", \"LocationRaw\", \"LocationNormalized\", \"Company\", \"Category\", \"SalaryRaw\", \"SalaryNormalized\",\"SourceName\"]\n",
        "  df = pd.read_csv(\"/content/traindataset.csv\",names=col_names, header=None)\n",
        "  documents = []\n",
        "  docs = list()\n",
        "\n",
        "  nlp = spacy.load(\"/content/drive/MyDrive/Spacy-Project/model-best\")\n",
        "\n",
        "  for index, row in df.iterrows():\n",
        "    #print(row['FullDescription'])\n",
        "    text=[row['FullDescription']]\n",
        "    for doc in nlp.pipe(text, disable=[\"tagger\"]):\n",
        "      dictionary=dict.fromkeys([\"text\", \"annotations\"])\n",
        "      dictionary[\"text\"]= str(doc)\n",
        "      dictionary['text_sha256'] =  hashlib.sha256(dictionary[\"text\"].encode('utf-8')).hexdigest()\n",
        "      annotations=[]\n",
        "      \n",
        "      for e in doc.ents:\n",
        "        ent_id = hashlib.sha256(str(e.text).encode('utf-8')).hexdigest()\n",
        "        ent = {\"start\":e.start_char,\"end\":e.end_char, \"label\":e.label_,\"label_upper\":e.label_.upper(),\"text\":e.text,\"id\":ent_id}\n",
        "        # if e.label_ == \"EXPERIENCE\":\n",
        "        #   ent[\"years\"] = int(e.text[0])\n",
        "\n",
        "        annotations.append(ent)\n",
        "        \n",
        "      dictionary[\"annotations\"] = annotations\n",
        "      docs.append(dictionary)\n",
        "      # for e in doc.ents:\n",
        "      #   docs.append((e.text, e.label_))\n",
        "  return docs\n",
        "\n",
        "docs = extract_ents()\n",
        "print(docs)\n"
      ],
      "metadata": {
        "colab": {
          "base_uri": "https://localhost:8080/"
        },
        "id": "NYl6SV-PsZjM",
        "outputId": "55154b8a-a032-4b58-bdcc-79f778f1ed7b"
      },
      "execution_count": null,
      "outputs": [
        {
          "output_type": "stream",
          "name": "stdout",
          "text": [
            "[{'text': 'FullDescription', 'annotations': [], 'text_sha256': '671a07ab3abe524b0b2ecd1fc8543ca612bd4cd924a7d3da73cf5925505da0c1'}, {'text': 'Stress Engineer Glasgow Salary **** to **** We re currently looking for talented engineers to join our growing Glasgow team at a variety of levels. The roles are ideally suited to high calibre engineering graduates with any level of appropriate experience, so that we can give you the opportunity to use your technical skills to provide high quality input to our aerospace projects, spanning both aerostructures and aeroengines. In return, you can expect good career opportunities and the chance for advancement and personal and professional development, support while you gain Chartership and some opportunities to possibly travel or work in other offices, in or outside of the UK. The Requirements You will need to have a good engineering degree that includes structural analysis (such as aeronautical, mechanical, automotive, civil) with some experience in a professional engineering environment relevant to (but not limited to) the aerospace sector. You will need to demonstrate experience in at least one or more of the following areas: Structural/stress analysis Composite stress analysis (any industry) Linear and nonlinear finite element analysis Fatigue and damage tolerance Structural dynamics Thermal analysis Aerostructures experience You will also be expected to demonstrate the following qualities: A strong desire to progress quickly to a position of leadership Professional approach Strong communication skills, written and verbal Commercial awareness Team working, being comfortable working in international teams and self managing PLEASE NOTE SECURITY CLEARANCE IS REQUIRED FOR THIS ROLE Stress Engineer Glasgow Salary **** to ****', 'annotations': [{'start': 363, 'end': 381, 'label': 'SKILLS', 'label_upper': 'SKILLS', 'text': 'aerospace projects', 'id': '8a1957bd77dad5c8f8d7244213beca76c49a9413384cb49c1fe5347c13ad8e38'}, {'start': 397, 'end': 411, 'label': 'SKILLS', 'label_upper': 'SKILLS', 'text': 'aerostructures', 'id': '478852fc67fd28bfc8621860273423e439af894821cf8531d16f06730e38100b'}, {'start': 416, 'end': 427, 'label': 'SKILLS', 'label_upper': 'SKILLS', 'text': 'aeroengines', 'id': '83c771ba7621c630536defaa34cb8f436b1a577247865f983e10a596326ce982'}, {'start': 762, 'end': 781, 'label': 'SKILLS', 'label_upper': 'SKILLS', 'text': 'structural analysis', 'id': 'b233a24123fd58bf6e3f7887997bafb5473eb2ac9cac62299853ce03dd5acf8a'}, {'start': 791, 'end': 803, 'label': 'SKILLS', 'label_upper': 'SKILLS', 'text': 'aeronautical', 'id': '53eecc993a8a8d8eb6508c9368273e9da3b65c520a7b4d7d6d85a304713afd62'}, {'start': 805, 'end': 815, 'label': 'DIPLOMA_MAJOR', 'label_upper': 'DIPLOMA_MAJOR', 'text': 'mechanical', 'id': '96ae0f875bd9062d5e263473590877f82d65b160571e0d4385c65d9a3e3c081f'}, {'start': 817, 'end': 827, 'label': 'SKILLS', 'label_upper': 'SKILLS', 'text': 'automotive', 'id': '812df4136a77ca7a4ff72ab9e4a4f2deabeeb21817f6e25718582fd412d8e8e8'}, {'start': 829, 'end': 834, 'label': 'SKILLS', 'label_upper': 'SKILLS', 'text': 'civil', 'id': '1272dcc42dbfeb2af89e74602906819ed69e7e47a712a8a11f67aa98b4136b43'}, {'start': 936, 'end': 952, 'label': 'SKILLS', 'label_upper': 'SKILLS', 'text': 'aerospace sector', 'id': 'f90a805ccdf0ac2f94964e63c1d3de2d2f275766266df5a30477f8732d3448e8'}, {'start': 1042, 'end': 1068, 'label': 'SKILLS', 'label_upper': 'SKILLS', 'text': 'Structural/stress analysis', 'id': '567ab93d2ecd8e5f5ecf91489ae457b3a4bae78f55efe3684eccf53fe5d03931'}, {'start': 1069, 'end': 1094, 'label': 'SKILLS', 'label_upper': 'SKILLS', 'text': 'Composite stress analysis', 'id': '32f06d4a6486f947e369baba264cbdfc2e1d28865c8d66288a11906dd68dc77c'}, {'start': 1110, 'end': 1154, 'label': 'SKILLS', 'label_upper': 'SKILLS', 'text': 'Linear and nonlinear finite element analysis', 'id': '7dc2d20d26ea292ae94c8a82ec0b931d7158d688ea4e3ce0ce4b13e1b7ba7394'}, {'start': 1155, 'end': 1162, 'label': 'SKILLS', 'label_upper': 'SKILLS', 'text': 'Fatigue', 'id': 'c83bec1f02849a09edc642f2d4226774435f1233abc8b85f7d559ba9d022f570'}, {'start': 1167, 'end': 1183, 'label': 'SKILLS', 'label_upper': 'SKILLS', 'text': 'damage tolerance', 'id': '6407b888f309538e08df00f0142f6d9cc70c72ecb7ea228f9823a0e0cf27ad66'}, {'start': 1184, 'end': 1203, 'label': 'SKILLS', 'label_upper': 'SKILLS', 'text': 'Structural dynamics', 'id': 'af15fd7c1ff3956d877eb19e9ddbca35eb8cedc3ef25af5ccc7ff427d4b4bd49'}, {'start': 1204, 'end': 1220, 'label': 'SKILLS', 'label_upper': 'SKILLS', 'text': 'Thermal analysis', 'id': 'fc29e79136ec3d466e932a82126f9a598e9044a10d760feac2808884b3c315c6'}, {'start': 1221, 'end': 1235, 'label': 'SKILLS', 'label_upper': 'SKILLS', 'text': 'Aerostructures', 'id': '65fca34babe65362612df9d4f521fdac939c6ac5cc6c82c77a43bba54c5514d2'}, {'start': 1366, 'end': 1376, 'label': 'SKILLS', 'label_upper': 'SKILLS', 'text': 'leadership', 'id': '9e720e53885580b1e0c5866c98e04988f0b0d071037fb54621a5180ba29e72e7'}, {'start': 1406, 'end': 1419, 'label': 'SKILLS', 'label_upper': 'SKILLS', 'text': 'communication', 'id': 'd4e16994df9002e53294f899714d7137592fd13ba986fcd070214dc85d659968'}, {'start': 1428, 'end': 1435, 'label': 'SKILLS', 'label_upper': 'SKILLS', 'text': 'written', 'id': 'ccc0e8da6b80e08e80d75a89afe11e8f2d5cd0f29a10f782104ca5f2648e8903'}, {'start': 1440, 'end': 1446, 'label': 'SKILLS', 'label_upper': 'SKILLS', 'text': 'verbal', 'id': '713e270f9aebe83fe5c95998d46addd107d76e7549547dbed754d3f5ec977295'}, {'start': 1447, 'end': 1457, 'label': 'SKILLS', 'label_upper': 'SKILLS', 'text': 'Commercial', 'id': 'ea7d0b7634355f44b9d8380584d66eac54061f00a6d89342a5175c07eaeb4e19'}, {'start': 1535, 'end': 1548, 'label': 'SKILLS', 'label_upper': 'SKILLS', 'text': 'self managing', 'id': 'd47a6848ac0fea37e7e13c95b0522f535dabb9b9076aad6fba55d82753f99b08'}], 'text_sha256': '3d76de56d22f1ae10f77f91e1d0046f8036c04e3abf67d1076aeef2a03e2397c'}, {'text': 'Mathematical Modeller / Simulation Analyst / Operational Analyst Basingstoke, Hampshire Up to ****K AAE pension contribution, private medical and dental The opportunity Our client is an independent consultancy firm which has an opportunity for a Data Analyst with 35 years experience. The role will require the successful candidate to demonstrate their ability to analyse a problem and arrive at a solution, with varying levels of data being available. Essential skills Thorough knowledge of Excel and proven ability to utilise this to create powerful decision support models Experience in Modelling and Simulation Techniques, Experience of techniques such as Discrete Event Simulation and/or SD modelling Mathematical/scientific background  minimum degree qualified Proven analytical and problem solving skills Self Starter Ability to develop solid working relationships In addition to formal qualifications and experience, the successful candidate will require excellent written and verbal communication skills, be energetic, enterprising and have a determination to succeed. They will be required to build solid working relationships, both internally with colleagues and, most importantly, externally with our clients. They must be comfortable working independently to deliver against challenging client demands. The offices are located in Basingstoke, Hampshire, but our client work for clients worldwide. The successful candidate must therefore be prepared to undertake work at client sites for short periods of time. Physics, Mathematics, Modelling, Simulation, Analytical, Operational Research, Mathematical Modelling Mathematical Modeller / Simulation Analyst / Operational Analyst Basingstoke, Hampshire ****K AAE pension contribution, private medical and dental', 'annotations': [{'start': 0, 'end': 21, 'label': 'SKILLS', 'label_upper': 'SKILLS', 'text': 'Mathematical Modeller', 'id': '09d5dddc306062890d4cde06afa2d15798ffba6a202cd4b5531577fb3993bf84'}, {'start': 24, 'end': 42, 'label': 'SKILLS', 'label_upper': 'SKILLS', 'text': 'Simulation Analyst', 'id': 'cff7a95815ffa0fafa5a5358ac9b97c0caa315d714197910ef5dcd118248e095'}, {'start': 45, 'end': 64, 'label': 'SKILLS', 'label_upper': 'SKILLS', 'text': 'Operational Analyst', 'id': 'e5b2b6e4547dd1512653c8fdf35cce5d0adbedb32097ade2da608ae1aab5a9f4'}, {'start': 78, 'end': 87, 'label': 'SKILLS', 'label_upper': 'SKILLS', 'text': 'Hampshire', 'id': '13c100c88c32d4024132e19d80b58683c9e39e963c538af78cc4c6f24e5fbeb4'}, {'start': 146, 'end': 152, 'label': 'SKILLS', 'label_upper': 'SKILLS', 'text': 'dental', 'id': 'd138e4e2606d9c58caab4709a9a5e295aef1efdbc7dacfe64b462ac238691bfc'}, {'start': 198, 'end': 209, 'label': 'SKILLS', 'label_upper': 'SKILLS', 'text': 'consultancy', 'id': '3f2e8d6863fe45c7ee9f982a10ad9b9490391ba0bdb63ba4443e60d19b8158a6'}, {'start': 246, 'end': 258, 'label': 'SKILLS', 'label_upper': 'SKILLS', 'text': 'Data Analyst', 'id': 'f7ffdd206e7ee16b70acb2f0f00fbfd5d4f000766c9d02d286ca9e8dfa0f0486'}, {'start': 264, 'end': 272, 'label': 'EXPERIENCE', 'label_upper': 'EXPERIENCE', 'text': '35 years', 'id': '1bddf730f6351e4a9e2c31a2d50d8d53d718cdc3ee54fbc509fc98db5d01c997'}, {'start': 364, 'end': 381, 'label': 'SKILLS', 'label_upper': 'SKILLS', 'text': 'analyse a problem', 'id': '2a584911e27e07715bd7fddcf31824dcfa44106f6b6baa11ecfd257cb8b71710'}, {'start': 492, 'end': 497, 'label': 'SKILLS', 'label_upper': 'SKILLS', 'text': 'Excel', 'id': '48d53635551c8fd4564251d49f4e6eba58c2774469144e4346310955fbadbf4c'}, {'start': 590, 'end': 599, 'label': 'SKILLS', 'label_upper': 'SKILLS', 'text': 'Modelling', 'id': 'ec54a244fe91cc803b851791ac228d24663e90d919513866e6e7b58a4040ac89'}, {'start': 604, 'end': 614, 'label': 'SKILLS', 'label_upper': 'SKILLS', 'text': 'Simulation', 'id': '45314e97b0c26a862b5411d0a943d801583e13bb5d104382ed7a2f4773969e66'}, {'start': 660, 'end': 685, 'label': 'SKILLS', 'label_upper': 'SKILLS', 'text': 'Discrete Event Simulation', 'id': 'ff6ed901514725a9b1489377d1aa65b8897a4fa909081db5f5a545d31e049691'}, {'start': 693, 'end': 705, 'label': 'SKILLS', 'label_upper': 'SKILLS', 'text': 'SD modelling', 'id': 'bddee0370806c07fdf6c890943f074f6062c68e5c92c09b0384bd3aeb220b0f1'}, {'start': 706, 'end': 729, 'label': 'SKILLS', 'label_upper': 'SKILLS', 'text': 'Mathematical/scientific', 'id': 'd949af2b91ba52f32a125dbb735534540e0b10aae7429ebb43bdad003cece97f'}, {'start': 774, 'end': 784, 'label': 'SKILLS', 'label_upper': 'SKILLS', 'text': 'analytical', 'id': '05aa6659dbc4d45231c447b876866c889f9ebc7863ccecc79e38b049a204e4a0'}, {'start': 789, 'end': 804, 'label': 'SKILLS', 'label_upper': 'SKILLS', 'text': 'problem solving', 'id': '682c9ffb347dde323882c513f8dc39aab12c6f31297f21be051c7559448662bd'}, {'start': 973, 'end': 980, 'label': 'SKILLS', 'label_upper': 'SKILLS', 'text': 'written', 'id': 'ccc0e8da6b80e08e80d75a89afe11e8f2d5cd0f29a10f782104ca5f2648e8903'}, {'start': 985, 'end': 1005, 'label': 'SKILLS', 'label_upper': 'SKILLS', 'text': 'verbal communication', 'id': 'd3e7b51466c3634633d76a56d6c3717fdd92f79c901d3c35b9c637ee282751ca'}, {'start': 1028, 'end': 1040, 'label': 'SKILLS', 'label_upper': 'SKILLS', 'text': 'enterprising', 'id': 'ca5bebfcdc1d920a78d5c670fb58c46af72ce31ff1209f4117fdcf8891a0a87a'}, {'start': 1523, 'end': 1530, 'label': 'SKILLS', 'label_upper': 'SKILLS', 'text': 'Physics', 'id': '349096910d3c474b61ec0cc741486084dbd9c8f2a57e37557b35c7ab5e6205f3'}, {'start': 1532, 'end': 1543, 'label': 'SKILLS', 'label_upper': 'SKILLS', 'text': 'Mathematics', 'id': 'cdba6dc33e22fb468026fce488b4a6dc484e9647345ee03901eb8fc3b0ee1693'}, {'start': 1545, 'end': 1554, 'label': 'SKILLS', 'label_upper': 'SKILLS', 'text': 'Modelling', 'id': 'ec54a244fe91cc803b851791ac228d24663e90d919513866e6e7b58a4040ac89'}, {'start': 1556, 'end': 1566, 'label': 'SKILLS', 'label_upper': 'SKILLS', 'text': 'Simulation', 'id': '45314e97b0c26a862b5411d0a943d801583e13bb5d104382ed7a2f4773969e66'}, {'start': 1568, 'end': 1578, 'label': 'SKILLS', 'label_upper': 'SKILLS', 'text': 'Analytical', 'id': 'ded7980362809474420eb217bbfd1b2c943ce520db5a5aa90b4a168b5d242d60'}, {'start': 1580, 'end': 1600, 'label': 'SKILLS', 'label_upper': 'SKILLS', 'text': 'Operational Research', 'id': 'b7429f1499115bb063cba2c9c0dab99bd555c567c3b01af8a59d452e1b1783ec'}, {'start': 1602, 'end': 1624, 'label': 'SKILLS', 'label_upper': 'SKILLS', 'text': 'Mathematical Modelling', 'id': '28c7595110eca46abd79ef0754a4a329d679d3f43328612e88c65fb688f3e3bb'}, {'start': 1625, 'end': 1646, 'label': 'SKILLS', 'label_upper': 'SKILLS', 'text': 'Mathematical Modeller', 'id': '09d5dddc306062890d4cde06afa2d15798ffba6a202cd4b5531577fb3993bf84'}, {'start': 1649, 'end': 1659, 'label': 'SKILLS', 'label_upper': 'SKILLS', 'text': 'Simulation', 'id': '45314e97b0c26a862b5411d0a943d801583e13bb5d104382ed7a2f4773969e66'}, {'start': 1670, 'end': 1689, 'label': 'SKILLS', 'label_upper': 'SKILLS', 'text': 'Operational Analyst', 'id': 'e5b2b6e4547dd1512653c8fdf35cce5d0adbedb32097ade2da608ae1aab5a9f4'}, {'start': 1765, 'end': 1771, 'label': 'SKILLS', 'label_upper': 'SKILLS', 'text': 'dental', 'id': 'd138e4e2606d9c58caab4709a9a5e295aef1efdbc7dacfe64b462ac238691bfc'}], 'text_sha256': 'b0b7425e328182dbc46a24f4cd397cfeeb5cc96fd5fd55b717d0306f4260a6cc'}, {'text': 'Engineering Systems Analyst / Mathematical Modeller. Our client is a highly successful and respected Consultancy providing specialist software development MISER, PIONEER, Maths, Mathematical, Optimisation, Risk Analysis, Asset Management, Water Industry, Access, Excel, VBA, SQL, Systems . Engineering Systems Analyst / Mathematical Modeller. Salary  ****K****K negotiable Location Dorking, Surrey', 'annotations': [{'start': 0, 'end': 27, 'label': 'SKILLS', 'label_upper': 'SKILLS', 'text': 'Engineering Systems Analyst', 'id': '6c767fb39dc56584a2de31d5a94fafb8e1d1ae6f81b9c67a6f74162c5a0d9453'}, {'start': 30, 'end': 51, 'label': 'SKILLS', 'label_upper': 'SKILLS', 'text': 'Mathematical Modeller', 'id': '09d5dddc306062890d4cde06afa2d15798ffba6a202cd4b5531577fb3993bf84'}, {'start': 101, 'end': 112, 'label': 'SKILLS', 'label_upper': 'SKILLS', 'text': 'Consultancy', 'id': 'ba8a78fe03c8ad4bde2e0c91de92cf2a4b64bdd6e5f7876bec6fe72e64f29565'}, {'start': 155, 'end': 160, 'label': 'SKILLS', 'label_upper': 'SKILLS', 'text': 'MISER', 'id': '666e2ca074ec398a8a22f52fa6f15f65d3a5fa550a0bc4e14def753ddaf63003'}, {'start': 162, 'end': 169, 'label': 'SKILLS', 'label_upper': 'SKILLS', 'text': 'PIONEER', 'id': 'cf9da59885848f8d391f109b10fe90385f93305f278af74725732369576742c6'}, {'start': 171, 'end': 176, 'label': 'SKILLS', 'label_upper': 'SKILLS', 'text': 'Maths', 'id': '01048162ed9f3c90314dad141b82deb449db9a6ed2182b24c78ba8175c5c6d24'}, {'start': 178, 'end': 190, 'label': 'SKILLS', 'label_upper': 'SKILLS', 'text': 'Mathematical', 'id': 'e1d3936423c9b54a15aaf6fdac1fa3c522c998f9e13c8e59457a393e104e6c0d'}, {'start': 192, 'end': 204, 'label': 'SKILLS', 'label_upper': 'SKILLS', 'text': 'Optimisation', 'id': '97ebde6175ac2c291092fa587e058e21844dcaf1d90caf4eaa0895cb01790a23'}, {'start': 206, 'end': 219, 'label': 'SKILLS', 'label_upper': 'SKILLS', 'text': 'Risk Analysis', 'id': '78dd5c690f2e5ffdf8675e2cbda5cecccb58fd4d77d3bd28171ca56b05e19ab7'}, {'start': 221, 'end': 237, 'label': 'SKILLS', 'label_upper': 'SKILLS', 'text': 'Asset Management', 'id': '2fe368d1be5963ce53315a7c78d5ec64561b3e4985fcb49143b30cca858c33d9'}, {'start': 239, 'end': 253, 'label': 'SKILLS', 'label_upper': 'SKILLS', 'text': 'Water Industry', 'id': '0e7ed77846507ad6ad9fe9e28ed60a4b0d9cd29023e2aa5f499c49071574eb0c'}, {'start': 255, 'end': 261, 'label': 'SKILLS', 'label_upper': 'SKILLS', 'text': 'Access', 'id': 'ec5ba0abb717da87aab2655bd4b4a40f93f2a591a0ade63611c42925c49c17e9'}, {'start': 263, 'end': 268, 'label': 'SKILLS', 'label_upper': 'SKILLS', 'text': 'Excel', 'id': '48d53635551c8fd4564251d49f4e6eba58c2774469144e4346310955fbadbf4c'}, {'start': 270, 'end': 273, 'label': 'SKILLS', 'label_upper': 'SKILLS', 'text': 'VBA', 'id': '3c4d46b337e35f633e48cdc7761a79c48fe1157b9647f2edf4413d44e4ae239e'}, {'start': 275, 'end': 278, 'label': 'SKILLS', 'label_upper': 'SKILLS', 'text': 'SQL', 'id': 'a7056a455639d1c7deec82ee787db24a0c1878e2792b4597709f0facf7cc7b35'}, {'start': 280, 'end': 287, 'label': 'SKILLS', 'label_upper': 'SKILLS', 'text': 'Systems', 'id': 'd9148b16c1107bd3b371165e897a11620fc58e6c9d274550488b73200616bdeb'}, {'start': 290, 'end': 317, 'label': 'SKILLS', 'label_upper': 'SKILLS', 'text': 'Engineering Systems Analyst', 'id': '6c767fb39dc56584a2de31d5a94fafb8e1d1ae6f81b9c67a6f74162c5a0d9453'}, {'start': 320, 'end': 341, 'label': 'SKILLS', 'label_upper': 'SKILLS', 'text': 'Mathematical Modeller', 'id': '09d5dddc306062890d4cde06afa2d15798ffba6a202cd4b5531577fb3993bf84'}], 'text_sha256': 'e3aef01cedc96041a96ad5333bd815cb16d8c4a6405998f8d2a589e0f6b2b7a0'}, {'text': 'Pioneer, Miser  Engineering Systems Analyst Dorking  Surrey Salary ****K Located in Surrey, our client provides specialist software development Pioneer, Miser  Engineering Systems Analyst Dorking  Surrey Salary ****K', 'annotations': [{'start': 16, 'end': 27, 'label': 'SKILLS', 'label_upper': 'SKILLS', 'text': 'Engineering', 'id': '729bb48d0f86a9e240a9839bf8c50f62f7ed973338514432666cf53c5d30c9ca'}, {'start': 28, 'end': 35, 'label': 'SKILLS', 'label_upper': 'SKILLS', 'text': 'Systems', 'id': 'd9148b16c1107bd3b371165e897a11620fc58e6c9d274550488b73200616bdeb'}, {'start': 123, 'end': 143, 'label': 'SKILLS', 'label_upper': 'SKILLS', 'text': 'software development', 'id': 'e36077aeb577e03d92d9c9b0d7ce7c62f4a0da1d031c74a88280bf8a68bcdd92'}, {'start': 144, 'end': 151, 'label': 'SKILLS', 'label_upper': 'SKILLS', 'text': 'Pioneer', 'id': '743d781adc55be212d5f00e3e3215cff3a5bea46c94feabc36df94734546a0ea'}, {'start': 160, 'end': 171, 'label': 'SKILLS', 'label_upper': 'SKILLS', 'text': 'Engineering', 'id': '729bb48d0f86a9e240a9839bf8c50f62f7ed973338514432666cf53c5d30c9ca'}, {'start': 172, 'end': 179, 'label': 'SKILLS', 'label_upper': 'SKILLS', 'text': 'Systems', 'id': 'd9148b16c1107bd3b371165e897a11620fc58e6c9d274550488b73200616bdeb'}], 'text_sha256': '5985d5b3a5300a17a5de7b8c4e48b4fc392301efb3f476190dc32e4773d5f036'}, {'text': 'A globally renowned engineering and training company in the Oil Develop and manage both internal and external inspection plans and plan remedial and preventative maintenance work Implement, apply and update pipeline databases and spreadsheets and assist operators with projects, including project management, assurance support and procedure reviews Handle consulting, problem solving, risk assessments and presentations Be responsible for technical representation offshore Prepare proposals and tenders for clients and write reports and specifications. You will offer analysis using various types of software such as MathCAD, ABAQUS, Olga or Orcaflex. You will also present the company s technical courses and handle project management and sales and customer relationship management. For this role, you must have a minimum of 10 years experience in subsea engineering, pipelines design or construction. Background in controls, corrosion, decommissioning or structures would be an advantage. A degree in Engineering, Aeronautics, Naval Architecture, Maths, or Physics, preferably with honours is essential for this role. A full clean driving license is also required. If you are a Subsea Engineering professional with excellent design/construction skills and exposure to the Oil & Gas/Subsea Engineering industry, we would love to hear from you. Send in your CV now', 'annotations': [{'start': 20, 'end': 31, 'label': 'SKILLS', 'label_upper': 'SKILLS', 'text': 'engineering', 'id': '8c85b6639e62e10b8330a8b883004b43c119053d7d62b512a98c77eb069627a7'}, {'start': 36, 'end': 44, 'label': 'SKILLS', 'label_upper': 'SKILLS', 'text': 'training', 'id': 'c2fb788c7deedbeaa296e424d4c2921b871a4f6cb4cf393c1c1105653ab399b4'}, {'start': 60, 'end': 71, 'label': 'SKILLS', 'label_upper': 'SKILLS', 'text': 'Oil Develop', 'id': '66c49bb13280897552fd78672a3b1219ee77008dd6fe792671a723533dc75a0b'}, {'start': 76, 'end': 126, 'label': 'SKILLS', 'label_upper': 'SKILLS', 'text': 'manage both internal and external inspection plans', 'id': '476ed7e6cb799e5809b26054a38f35606172d681efb74714e9ca6581318e54d6'}, {'start': 131, 'end': 178, 'label': 'SKILLS', 'label_upper': 'SKILLS', 'text': 'plan remedial and preventative maintenance work', 'id': 'd37c33f5d2f46ddd16bc18fefd2f791118a4d0dc3ad6f93ced15fb0e890b037f'}, {'start': 179, 'end': 188, 'label': 'SKILLS', 'label_upper': 'SKILLS', 'text': 'Implement', 'id': 'c7a2b3bc051ae2eff75f6ed2dc13bdd9afbe8d9b6c3f0c86d3ae7cb2496256d3'}, {'start': 190, 'end': 195, 'label': 'SKILLS', 'label_upper': 'SKILLS', 'text': 'apply', 'id': '97a5e41b45ddd2b2381046e77ccfa5c45d3553b81b66aeba7ed5c460c660f93f'}, {'start': 207, 'end': 225, 'label': 'SKILLS', 'label_upper': 'SKILLS', 'text': 'pipeline databases', 'id': '2bb993556e42a1a40a7cd325042b3a7fb13dd58bd4cd5011132fea214ea35755'}, {'start': 230, 'end': 242, 'label': 'SKILLS', 'label_upper': 'SKILLS', 'text': 'spreadsheets', 'id': 'eb2bfd49b36e1ae41253c74bd57dabe4f4b4eb57392da7d1eb343541560fbd1b'}, {'start': 289, 'end': 307, 'label': 'SKILLS', 'label_upper': 'SKILLS', 'text': 'project management', 'id': '5a7c3011cba026a3ec113edc43b7dcbb8a6227cf735ac9a88e14ea9321a676a4'}, {'start': 309, 'end': 326, 'label': 'SKILLS', 'label_upper': 'SKILLS', 'text': 'assurance support', 'id': '8ae01cb3ff95e797fa7a3265ef24c4c16e5cc4b6870c693268bea9c803244b7f'}, {'start': 331, 'end': 348, 'label': 'SKILLS', 'label_upper': 'SKILLS', 'text': 'procedure reviews', 'id': 'ee60bae209a90a9c1073a8a47d930a1efb4b487f1ea0cb7fb0625c4a947c9100'}, {'start': 356, 'end': 366, 'label': 'SKILLS', 'label_upper': 'SKILLS', 'text': 'consulting', 'id': '7242dfd44b1ebef4fa2ad4d3abf2fea23ff5a4c798e2a8db6e6c033ea39e29c6'}, {'start': 368, 'end': 383, 'label': 'SKILLS', 'label_upper': 'SKILLS', 'text': 'problem solving', 'id': '682c9ffb347dde323882c513f8dc39aab12c6f31297f21be051c7559448662bd'}, {'start': 385, 'end': 401, 'label': 'SKILLS', 'label_upper': 'SKILLS', 'text': 'risk assessments', 'id': 'd584a156005ca7d013e768c1cfa764e3fb637cb39ebea53e4d36bd09717453a7'}, {'start': 406, 'end': 419, 'label': 'SKILLS', 'label_upper': 'SKILLS', 'text': 'presentations', 'id': '994d7d6ffaf3b4f623fe361b87782864bdbd95c8a813da3184957cbfe19ae8aa'}, {'start': 473, 'end': 490, 'label': 'SKILLS', 'label_upper': 'SKILLS', 'text': 'Prepare proposals', 'id': '38fb3e3e971f704a509897428304423cd4d8cc6841385f70672a3f6a0f91fd61'}, {'start': 519, 'end': 532, 'label': 'SKILLS', 'label_upper': 'SKILLS', 'text': 'write reports', 'id': 'e64d2032cc1d428faf68934d65e9c7d41788d834c995d5f1766a40903deb8ea9'}, {'start': 537, 'end': 551, 'label': 'SKILLS', 'label_upper': 'SKILLS', 'text': 'specifications', 'id': 'ac05a7eb3b0e3ce2ba9c6e4a0e3efbcfe676aa1628bc3d9a80458d98eee56965'}, {'start': 568, 'end': 576, 'label': 'SKILLS', 'label_upper': 'SKILLS', 'text': 'analysis', 'id': 'f44e85c4b8ea2addc796f8beab6600e801d767ccd26c800dce6d88fdaa5eb4e6'}, {'start': 617, 'end': 624, 'label': 'SKILLS', 'label_upper': 'SKILLS', 'text': 'MathCAD', 'id': '5b9cd8fc47d0fea97db91020517e3b9f6f43150f2138405424aafde9a1000797'}, {'start': 626, 'end': 632, 'label': 'SKILLS', 'label_upper': 'SKILLS', 'text': 'ABAQUS', 'id': '41476fb98db867ccb3ef611b46de826a10812969855df237eadd5fc366dc0d1d'}, {'start': 634, 'end': 638, 'label': 'SKILLS', 'label_upper': 'SKILLS', 'text': 'Olga', 'id': '9c2d29850e7fd884c19b3ef48a01b82c0a88854082ad150056ac770dcbeee05c'}, {'start': 642, 'end': 650, 'label': 'SKILLS', 'label_upper': 'SKILLS', 'text': 'Orcaflex', 'id': '452f6ebda82753480afee1f47a239aa54b6a2e2d3d4a4128d2c21f8a5da84e8b'}, {'start': 666, 'end': 705, 'label': 'SKILLS', 'label_upper': 'SKILLS', 'text': 'present the company s technical courses', 'id': '4ca6382093214fe21f17b51d1a1382aea779dd43e49c1c2a1478c7821ab650e5'}, {'start': 717, 'end': 735, 'label': 'SKILLS', 'label_upper': 'SKILLS', 'text': 'project management', 'id': '5a7c3011cba026a3ec113edc43b7dcbb8a6227cf735ac9a88e14ea9321a676a4'}, {'start': 740, 'end': 745, 'label': 'SKILLS', 'label_upper': 'SKILLS', 'text': 'sales', 'id': 'e04eb29020eaa961e99d3162635e9fe9585c5a1121bd88784c1378aa8837195c'}, {'start': 750, 'end': 782, 'label': 'SKILLS', 'label_upper': 'SKILLS', 'text': 'customer relationship management', 'id': '75166d1127c6e73a1ed66e8c9c6424577287538d4f15fb6b0b34761d1c8bd0b0'}, {'start': 826, 'end': 834, 'label': 'EXPERIENCE', 'label_upper': 'EXPERIENCE', 'text': '10 years', 'id': 'b5dbae5bc9a65f93ce2b66899d34ec42121b4629518880374f59c589fbbde20c'}, {'start': 849, 'end': 867, 'label': 'SKILLS', 'label_upper': 'SKILLS', 'text': 'subsea engineering', 'id': 'b8804fc38daef4a56cf69b8a636a664403e926346f0824dfd7400554d1017db4'}, {'start': 869, 'end': 885, 'label': 'SKILLS', 'label_upper': 'SKILLS', 'text': 'pipelines design', 'id': '3b3013392dc210aef48029d0055b63410947114b5cdd2c4ea10796b2de0ee07a'}, {'start': 889, 'end': 901, 'label': 'SKILLS', 'label_upper': 'SKILLS', 'text': 'construction', 'id': '7a01adea4b8a1084a7aebd7f3256080c31a3013aa5ad7638add2136d6f3e5371'}, {'start': 917, 'end': 925, 'label': 'SKILLS', 'label_upper': 'SKILLS', 'text': 'controls', 'id': '1e2135d1b50f14d3d3d6cbe24a4294bcb9e4d5d3c28eb1ce4980ff2a17c5d3b6'}, {'start': 927, 'end': 936, 'label': 'SKILLS', 'label_upper': 'SKILLS', 'text': 'corrosion', 'id': '25cf535032e514459bbfd63017c57a57844f2c7c9047a2b99addf8477bf37857'}, {'start': 938, 'end': 953, 'label': 'SKILLS', 'label_upper': 'SKILLS', 'text': 'decommissioning', 'id': '016420dff2ee9f9453c5d7fc8a500f32c23cd6ad305dda12bc66ba203a79bf56'}, {'start': 957, 'end': 967, 'label': 'SKILLS', 'label_upper': 'SKILLS', 'text': 'structures', 'id': 'e60854b862f4123fe502f4b07423a0bbf2c86955103680db4710a293cd2e736b'}, {'start': 1003, 'end': 1014, 'label': 'DIPLOMA_MAJOR', 'label_upper': 'DIPLOMA_MAJOR', 'text': 'Engineering', 'id': '729bb48d0f86a9e240a9839bf8c50f62f7ed973338514432666cf53c5d30c9ca'}, {'start': 1016, 'end': 1027, 'label': 'DIPLOMA_MAJOR', 'label_upper': 'DIPLOMA_MAJOR', 'text': 'Aeronautics', 'id': '8647062a4db8b321a1365b2526a6091d2a5255d8fa7ac591c63894e544f6f829'}, {'start': 1029, 'end': 1047, 'label': 'DIPLOMA_MAJOR', 'label_upper': 'DIPLOMA_MAJOR', 'text': 'Naval Architecture', 'id': 'a1b977dcb16516a3801ecc21acd5cff597e889e9ad60c327b4adc4ffc9c1f1e4'}, {'start': 1049, 'end': 1054, 'label': 'DIPLOMA_MAJOR', 'label_upper': 'DIPLOMA_MAJOR', 'text': 'Maths', 'id': '01048162ed9f3c90314dad141b82deb449db9a6ed2182b24c78ba8175c5c6d24'}, {'start': 1059, 'end': 1066, 'label': 'DIPLOMA_MAJOR', 'label_upper': 'DIPLOMA_MAJOR', 'text': 'Physics', 'id': '349096910d3c474b61ec0cc741486084dbd9c8f2a57e37557b35c7ab5e6205f3'}, {'start': 1180, 'end': 1198, 'label': 'SKILLS', 'label_upper': 'SKILLS', 'text': 'Subsea Engineering', 'id': 'bdd874796e5b8da8cecdd7ad3ec4a876c37b5fe7bac1ef093f31c8278b0fb4e8'}, {'start': 1227, 'end': 1233, 'label': 'SKILLS', 'label_upper': 'SKILLS', 'text': 'design', 'id': 'a77de8a6daa1129516b14c8ca1e233a51a8414b202eac7c8acfbb9b485046ad4'}, {'start': 1234, 'end': 1246, 'label': 'SKILLS', 'label_upper': 'SKILLS', 'text': 'construction', 'id': '7a01adea4b8a1084a7aebd7f3256080c31a3013aa5ad7638add2136d6f3e5371'}, {'start': 1274, 'end': 1283, 'label': 'SKILLS', 'label_upper': 'SKILLS', 'text': 'Oil & Gas', 'id': '2cbd7e1d32c67da604fddf42035fd5fe95ecc78f46002f2c4825eb2a74bc1807'}, {'start': 1284, 'end': 1302, 'label': 'SKILLS', 'label_upper': 'SKILLS', 'text': 'Subsea Engineering', 'id': 'bdd874796e5b8da8cecdd7ad3ec4a876c37b5fe7bac1ef093f31c8278b0fb4e8'}], 'text_sha256': '6914927f548ec01736d8ba06b3d9654f5b312606bce1505fab3218a941093fd8'}, {'text': 'THIS IS A LIVE VACANCY NOT A GENERIC ADVERTISEMENT ) DO YOU WANT TO EARN UP TO ****K BASIC SALARY WITH UNCAPPED OTE, FOR A NATIONAL RECRUITER WHO ARE EXPANDING, RECRUITING AND CAN OFFER YOU JOB SECURITY ? ARE YOU AN EXPERIENCED RECRUITMENT CONSULTANT, SALES OR BUSINESS DEVELOPMENT EXECUTIVE? WHO WANTS INNOVATIVE TRAINING, GENUINE CAREER PROSPECTS WHERE ****5% OF THE MANAGEMENT TEAM ARE HOME GROWN, DYNAMIC WORKING ENVIRONMENT  BASED IN MANCHESTER(ONE OF THE TOP PERFORMING LOCATIONS IN THE UK) AND EXCELLENT EARNING POTENTIAL  UP TO 30% COMMISSION FOR ACHIEVERS Job details: Generating business for one of my clients **** specialist divisions across **** branches in the UK. Access to all the leading websites for candidate and job opportunities, over ****k annual investment why make the job harder? Full and comprehensive Administration and IT back up for every Consultant Working established bespoke database to generate opportunities with both existing and new clients. Inter division cross fertilisation, working closely with 8 professional divisions providing clients with the complete recruitment solution Corporate and HO support for national business/tenders and PSL s. Managing own desk to achieve daily, weekly and monthly targets. Person: Energy and desire to succeed, with a competitive streak that wants to beat the competition. Professional personal appearance with the ability to build sustainable business relationships. Positive mental attitude. Able to demonstrate working to and exceeding targets. Career focussed, good listening skills and a natural confidence. Naturally positive and looking for the opportunity to work for a national player who are committed to your success Recruitment experience or 2 years business to business sales experience required. Benefits: ****k  ****K basic  benefits Pension scheme. Uncapped OTE Innovative award winning training academy. Genuine career opportunities. Incentives, awards and excellent team building UK wide. IF YOU FEEL YOU HAVE THE ENERGY AND DRIVE TO SUCCEED IN A FAST PACED, DYNAMIC SALES ENVIRONMENT WITH REWARDS THEN CALL OR EMAIL FRO AN INFORMAL AND DISCREET DISCUSSION. PLEASE NOTE YOUR CV WILL NOT BE FORWARDED TO MY CLIENT WITHOUT YOUR WRITTEN AUTHORISATION. Code Blue Recruitment handle nearly **** LIVE VACANCIES, for all sectors and levels of the Recruitment industry across the whole of the UK . Positions include Junior and Trainee Consultants, Recruitment and Senior Recruitment Consultants, Team Leaders, Account Managers, Branch Managers, Sales Managers & Directors. Sectors covered include Professional Recruitment such as Finance, Accountancy & Banking, Legal & HR, Commercial markets such as Office Support, Industrial, Driving, Hospitality & Catering, the Public Sector including Medical, Care, Education, Technical markets such as I.T., Telecoms, Media, Construction, Engineering, Energy & Environment, and Pharmaceutical, as well as diverse areas such as Sales Recruitment, Search, and Supply Chain', 'annotations': [{'start': 228, 'end': 250, 'label': 'SKILLS', 'label_upper': 'SKILLS', 'text': 'RECRUITMENT CONSULTANT', 'id': '3237bcbdbdbf271fa82fa611f2a77b71637885006be2bf6f4c30c73636f8c3f5'}, {'start': 252, 'end': 257, 'label': 'SKILLS', 'label_upper': 'SKILLS', 'text': 'SALES', 'id': 'f6075f134e6971c426788f06b15508f061da2faa18c018b3b0f9b01b63a148b3'}, {'start': 261, 'end': 269, 'label': 'SKILLS', 'label_upper': 'SKILLS', 'text': 'BUSINESS', 'id': '8eb6a764bc6f20a33477008670d0d4f5026ad1d95094790864e08923aef9d82a'}, {'start': 439, 'end': 453, 'label': 'SKILLS', 'label_upper': 'SKILLS', 'text': 'MANCHESTER(ONE', 'id': '45d16738f15415e9e312ab45460f14a4fdbb49aa41c1876442f2a038d065ad44'}, {'start': 578, 'end': 597, 'label': 'SKILLS', 'label_upper': 'SKILLS', 'text': 'Generating business', 'id': 'b221f6fb2fb9a72da0e61fbe4040187d85303f2446e5fa6fca0039b24689b6fd'}, {'start': 827, 'end': 841, 'label': 'SKILLS', 'label_upper': 'SKILLS', 'text': 'Administration', 'id': '4b42c6690ebeb867e96784025c16e1b109cf5b688cadce26dd9355a22cc3ad7d'}, {'start': 846, 'end': 848, 'label': 'SKILLS', 'label_upper': 'SKILLS', 'text': 'IT', 'id': 'f415bf7b07a9b2c07029144aafb3c59d0187682ecd2b8c8ac911e742a38a5f36'}, {'start': 977, 'end': 1011, 'label': 'SKILLS', 'label_upper': 'SKILLS', 'text': 'Inter division cross fertilisation', 'id': 'be2c4af3b62c226f930466fa05c025ae104137af30610c20cb7fe4a01e7c0a71'}, {'start': 1095, 'end': 1106, 'label': 'SKILLS', 'label_upper': 'SKILLS', 'text': 'recruitment', 'id': '3cdc6d6e23e0f9475e986208c25b453d7aca1b947d527659c718359b91c81c06'}, {'start': 1116, 'end': 1125, 'label': 'SKILLS', 'label_upper': 'SKILLS', 'text': 'Corporate', 'id': 'a034729933d1cbf407645e11d9c91d9ac1bfddbef23fd58cb36782e3f60ae659'}, {'start': 1130, 'end': 1132, 'label': 'SKILLS', 'label_upper': 'SKILLS', 'text': 'HO', 'id': 'c73e81873048dce45ab1bd599057ede07b66645a40fab6eb57984df159c7aed4'}, {'start': 1543, 'end': 1552, 'label': 'SKILLS', 'label_upper': 'SKILLS', 'text': 'listening', 'id': '8560878b8782af43a43abf7108cd07c0ebf379d28370f85799821f495a7d9283'}, {'start': 1701, 'end': 1712, 'label': 'SKILLS', 'label_upper': 'SKILLS', 'text': 'Recruitment', 'id': '9396ed8f2948bfa6e6a7b666a407746891f7b4d5be46b978ee025b96420dd901'}, {'start': 1727, 'end': 1734, 'label': 'EXPERIENCE', 'label_upper': 'EXPERIENCE', 'text': '2 years', 'id': '7dab2372ff909b063d57bf1e7ac4212c333337fcd47e30f7791d189a63c912db'}, {'start': 1735, 'end': 1761, 'label': 'SKILLS', 'label_upper': 'SKILLS', 'text': 'business to business sales', 'id': '79b24af7d2fc83df090337e7fb62ebeea2183a3fc82d31496fb3d7bd0c639ba2'}, {'start': 2050, 'end': 2075, 'label': 'SKILLS', 'label_upper': 'SKILLS', 'text': 'DYNAMIC SALES ENVIRONMENT', 'id': 'f6207337be9691aea84d68fbbbc9e2d026402276d99e7e28ff8e592b03b7bc51'}, {'start': 2399, 'end': 2405, 'label': 'SKILLS', 'label_upper': 'SKILLS', 'text': 'Junior', 'id': 'ecc6252a91d769cdae6d1375c367199026ba80249cf1c4c55a75a6833b9bc717'}, {'start': 2410, 'end': 2429, 'label': 'SKILLS', 'label_upper': 'SKILLS', 'text': 'Trainee Consultants', 'id': 'e720575cac20e3212438936901e47f37649a1e447476ae30a47da82065464af7'}, {'start': 2431, 'end': 2442, 'label': 'SKILLS', 'label_upper': 'SKILLS', 'text': 'Recruitment', 'id': '9396ed8f2948bfa6e6a7b666a407746891f7b4d5be46b978ee025b96420dd901'}, {'start': 2447, 'end': 2477, 'label': 'SKILLS', 'label_upper': 'SKILLS', 'text': 'Senior Recruitment Consultants', 'id': 'ee6e0c2f0e8e3b7be956adb2871ecb913d46aa4f1ec4723491b539a7757fcd08'}, {'start': 2484, 'end': 2491, 'label': 'SKILLS', 'label_upper': 'SKILLS', 'text': 'Leaders', 'id': '1fb13407f01dea17546d7a017e9f181695d0201fcbe026248970dfaf63a9a3c0'}, {'start': 2493, 'end': 2509, 'label': 'SKILLS', 'label_upper': 'SKILLS', 'text': 'Account Managers', 'id': '02364974d36efadb1b8d1bdb134484cba3ea3a97b603941a3b416479aab21c63'}, {'start': 2511, 'end': 2526, 'label': 'SKILLS', 'label_upper': 'SKILLS', 'text': 'Branch Managers', 'id': '065cd06f6f0dc38fad1b7c9cc6a045d38650b5f43ce94f51f1afcda12f2f75e7'}, {'start': 2528, 'end': 2554, 'label': 'SKILLS', 'label_upper': 'SKILLS', 'text': 'Sales Managers & Directors', 'id': '3cc2f1c6d0abfb9480631d5dbcd44250295fc257dcbd05a05148826bd52a8ab0'}, {'start': 2580, 'end': 2604, 'label': 'SKILLS', 'label_upper': 'SKILLS', 'text': 'Professional Recruitment', 'id': 'd0ec9a252135a4ecd701de4b43a249b926230f33da641af0e6d69460cd481b77'}, {'start': 2613, 'end': 2620, 'label': 'SKILLS', 'label_upper': 'SKILLS', 'text': 'Finance', 'id': 'b696d75511dc16f2b52563e3113a498311a79866f4672862197aa9a8c5c0da12'}, {'start': 2622, 'end': 2633, 'label': 'SKILLS', 'label_upper': 'SKILLS', 'text': 'Accountancy', 'id': '196264bd3842b6eae299d307c13ed7c9c6326b238149427828671022539623ff'}, {'start': 2636, 'end': 2643, 'label': 'SKILLS', 'label_upper': 'SKILLS', 'text': 'Banking', 'id': 'd7a596cdc2dabcf8b959386dba342f2bfac80a0dde2e2bb2f51cb78cde7b887a'}, {'start': 2645, 'end': 2655, 'label': 'SKILLS', 'label_upper': 'SKILLS', 'text': 'Legal & HR', 'id': 'ef05faf45b0598786378dbf57758451ee4f888a8bd90f033be35407bfd610669'}, {'start': 2657, 'end': 2675, 'label': 'SKILLS', 'label_upper': 'SKILLS', 'text': 'Commercial markets', 'id': 'fd47765bd0c7651215a542286727145906f5bff3a9ea9e4bf504bd2538dcbdbb'}, {'start': 2684, 'end': 2698, 'label': 'SKILLS', 'label_upper': 'SKILLS', 'text': 'Office Support', 'id': 'e8179c8f584282f669e02c4e95412738dc62a685dbedd21a0c7f162562488503'}, {'start': 2700, 'end': 2710, 'label': 'SKILLS', 'label_upper': 'SKILLS', 'text': 'Industrial', 'id': 'b60cae533995be12da8b187c9663ad5e95ab3e7c8e3970f6e32ad1982b4eb49f'}, {'start': 2712, 'end': 2719, 'label': 'SKILLS', 'label_upper': 'SKILLS', 'text': 'Driving', 'id': 'd61f3033cbb6e0b2583eec3cd08b2b913d53f1001109c9baa8db6876a69ef8c0'}, {'start': 2721, 'end': 2732, 'label': 'SKILLS', 'label_upper': 'SKILLS', 'text': 'Hospitality', 'id': 'fb6cd373360f7179eae047a92301edadfe01b9cdf64f037344702bc3b3d0ef4f'}, {'start': 2735, 'end': 2743, 'label': 'SKILLS', 'label_upper': 'SKILLS', 'text': 'Catering', 'id': '5007171689640d4e08f71e77d919a24eacfc554f2b7593faf9405108271d63a5'}, {'start': 2749, 'end': 2762, 'label': 'SKILLS', 'label_upper': 'SKILLS', 'text': 'Public Sector', 'id': '1937fd4e78fa951978d8fc586f726796b114bbe25ef1d87a2545203894d32f80'}, {'start': 2773, 'end': 2780, 'label': 'SKILLS', 'label_upper': 'SKILLS', 'text': 'Medical', 'id': 'fec80bef0d8a00b11f126092f35bd5de02a59e23d1edcf8c7e6ea6a53ecfc357'}, {'start': 2782, 'end': 2786, 'label': 'SKILLS', 'label_upper': 'SKILLS', 'text': 'Care', 'id': '4262074d6c601e6405849868e832028c1782e20ce0617c2b0d05b24ff6ad595d'}, {'start': 2788, 'end': 2797, 'label': 'SKILLS', 'label_upper': 'SKILLS', 'text': 'Education', 'id': '512ab3c6b9869577bd4474c56b88f9e3f1c40c54d18e8e5a2329821254d362d2'}, {'start': 2799, 'end': 2816, 'label': 'SKILLS', 'label_upper': 'SKILLS', 'text': 'Technical markets', 'id': 'f6ee7ff835ddca4b2295b0759b252764570d72f48f39c482fa0861544a4f2c8b'}, {'start': 2825, 'end': 2829, 'label': 'SKILLS', 'label_upper': 'SKILLS', 'text': 'I.T.', 'id': 'cf51d5ddeb9b425d2c6013ebc0d69e8bb7e147944a6c58c93e5f952a456a46a9'}, {'start': 2831, 'end': 2839, 'label': 'SKILLS', 'label_upper': 'SKILLS', 'text': 'Telecoms', 'id': '74d8d14dabf30db228b9a9b476a3cdd79d5976908be22efb46d4a8910f34a215'}, {'start': 2841, 'end': 2846, 'label': 'SKILLS', 'label_upper': 'SKILLS', 'text': 'Media', 'id': 'd357175cfe8978d39b0f86552dcd9404973493e2816101d9ff6c05ee248ef6bd'}, {'start': 2848, 'end': 2860, 'label': 'SKILLS', 'label_upper': 'SKILLS', 'text': 'Construction', 'id': '9dc7e90e56b2f2635e18b04c731ea09762e1acd223b106df46e0013851b532b1'}, {'start': 2862, 'end': 2873, 'label': 'SKILLS', 'label_upper': 'SKILLS', 'text': 'Engineering', 'id': '729bb48d0f86a9e240a9839bf8c50f62f7ed973338514432666cf53c5d30c9ca'}, {'start': 2875, 'end': 2895, 'label': 'SKILLS', 'label_upper': 'SKILLS', 'text': 'Energy & Environment', 'id': '4caf48c555434d8fd3223e751f81f5ff0ca82769637c2e5e9c34962cb6c76d36'}, {'start': 2901, 'end': 2915, 'label': 'SKILLS', 'label_upper': 'SKILLS', 'text': 'Pharmaceutical', 'id': 'f468f5e445285f1d34cd682cf2bb314f517848c95b20412b23323905ae3ede78'}, {'start': 2950, 'end': 2967, 'label': 'SKILLS', 'label_upper': 'SKILLS', 'text': 'Sales Recruitment', 'id': '68403fd2656b7b8ab8c692a0950dd8dd133e530d2eee0b770241ccd2de5fcca6'}, {'start': 2969, 'end': 2975, 'label': 'SKILLS', 'label_upper': 'SKILLS', 'text': 'Search', 'id': '49c266baaaa70981ea188fa714d5c40cf13830d786a861c9943ae0d26a7f3fe9'}, {'start': 2981, 'end': 2993, 'label': 'SKILLS', 'label_upper': 'SKILLS', 'text': 'Supply Chain', 'id': 'd6c88a7829f8c891235ebc0b62759422dfc35391c8c7aa3644aabdd83c2defdf'}], 'text_sha256': '745170ffa0339574119fbe5162c39bc530055fe3858c6f07cdc69a0d085669b6'}, {'text': 'This is an exceptional opportunity to join a construction / technical agency that hasn t shrunk in the current market one bit Our client is seeking a nononsense and highly skilled Recruiter with at least a couple of years experience under their belt. They specialise in placing highcalibre candidates both in the UK and worldwide, within blue and white collar on both a temp and perm basis. You will have a genuine servicefocus but not definately not be afraid to pick up the phone and develop new business, acting on leads and referrals like any professional should. Your matching skills should be excellent and your CVInterviewPlacement ratios should be impressive. The incentives and benefits here are excellent with the real opportunity to earn an aboveaverage basic salary and competitive commission package: Basic to ****k  car allowan Bonus to 22.5%(OTE ****k) Car Alloowance . Additional quarterly and annual bonuses Sensible & Supportive atmosphere If you are looking to join a serious competitor in the marketplace who take a genuine interest in their people contact Donna Turner now, and please have your billing figures to hand Code Blue Recruitment handle nearly **** LIVE VACANCIES, for all sectors and levels of the Recruitment industry across the whole of the UK . Positions include Junior and Trainee Consultants, Recruitment and Senior Recruitment Consultants, Team Leaders, Account Managers, Branch Managers, Sales Managers & Directors. Sectors covered include Professional Recruitment such as Finance, Accountancy & Banking, Legal & HR, Commercial markets such as Office Support, Industrial, Driving, Hospitality & Catering, the Public Sector including Medical, Care, Education, Technical markets such as I.T., Telecoms, Media, Construction, Engineering, Energy & Environment, and Pharmaceutical, as well as diverse areas such as Sales Recruitment, Search, and Supply Chain', 'annotations': [{'start': 45, 'end': 76, 'label': 'SKILLS', 'label_upper': 'SKILLS', 'text': 'construction / technical agency', 'id': 'b9f62b916fdd2a18168f7262f3b076e18434b09025ba417720859f41aca52370'}, {'start': 180, 'end': 189, 'label': 'SKILLS', 'label_upper': 'SKILLS', 'text': 'Recruiter', 'id': 'b25031e25d454b7d0681108c6e77b157a6bd71e3665be4343622e18dd7b895d7'}, {'start': 206, 'end': 221, 'label': 'EXPERIENCE', 'label_upper': 'EXPERIENCE', 'text': 'couple of years', 'id': 'ee2af0d73abf8c51f09c4d83fafbc09b7b8fe9aabae45214b0c8d996a65f1b4a'}, {'start': 486, 'end': 506, 'label': 'SKILLS', 'label_upper': 'SKILLS', 'text': 'develop new business', 'id': '4f4348cc7b34290ef5ae272d47284e4fd25e468dca0621f6ed17f66e951cfe8f'}, {'start': 573, 'end': 581, 'label': 'SKILLS', 'label_upper': 'SKILLS', 'text': 'matching', 'id': 'e0705e68b0468289858b543f8a57f375a3b4f46391a72f94a28d82d6a3dacaa7'}, {'start': 1231, 'end': 1251, 'label': 'SKILLS', 'label_upper': 'SKILLS', 'text': 'Recruitment industry', 'id': 'ba7a13e9442373bcfe50931bb556461ad3358e3320ae7e4555e62a7dfd3aba74'}, {'start': 1331, 'end': 1342, 'label': 'SKILLS', 'label_upper': 'SKILLS', 'text': 'Recruitment', 'id': '9396ed8f2948bfa6e6a7b666a407746891f7b4d5be46b978ee025b96420dd901'}, {'start': 1347, 'end': 1377, 'label': 'SKILLS', 'label_upper': 'SKILLS', 'text': 'Senior Recruitment Consultants', 'id': 'ee6e0c2f0e8e3b7be956adb2871ecb913d46aa4f1ec4723491b539a7757fcd08'}, {'start': 1384, 'end': 1391, 'label': 'SKILLS', 'label_upper': 'SKILLS', 'text': 'Leaders', 'id': '1fb13407f01dea17546d7a017e9f181695d0201fcbe026248970dfaf63a9a3c0'}, {'start': 1393, 'end': 1409, 'label': 'SKILLS', 'label_upper': 'SKILLS', 'text': 'Account Managers', 'id': '02364974d36efadb1b8d1bdb134484cba3ea3a97b603941a3b416479aab21c63'}, {'start': 1411, 'end': 1426, 'label': 'SKILLS', 'label_upper': 'SKILLS', 'text': 'Branch Managers', 'id': '065cd06f6f0dc38fad1b7c9cc6a045d38650b5f43ce94f51f1afcda12f2f75e7'}, {'start': 1428, 'end': 1454, 'label': 'SKILLS', 'label_upper': 'SKILLS', 'text': 'Sales Managers & Directors', 'id': '3cc2f1c6d0abfb9480631d5dbcd44250295fc257dcbd05a05148826bd52a8ab0'}, {'start': 1480, 'end': 1504, 'label': 'SKILLS', 'label_upper': 'SKILLS', 'text': 'Professional Recruitment', 'id': 'd0ec9a252135a4ecd701de4b43a249b926230f33da641af0e6d69460cd481b77'}, {'start': 1513, 'end': 1520, 'label': 'SKILLS', 'label_upper': 'SKILLS', 'text': 'Finance', 'id': 'b696d75511dc16f2b52563e3113a498311a79866f4672862197aa9a8c5c0da12'}, {'start': 1522, 'end': 1533, 'label': 'SKILLS', 'label_upper': 'SKILLS', 'text': 'Accountancy', 'id': '196264bd3842b6eae299d307c13ed7c9c6326b238149427828671022539623ff'}, {'start': 1536, 'end': 1543, 'label': 'SKILLS', 'label_upper': 'SKILLS', 'text': 'Banking', 'id': 'd7a596cdc2dabcf8b959386dba342f2bfac80a0dde2e2bb2f51cb78cde7b887a'}, {'start': 1545, 'end': 1550, 'label': 'SKILLS', 'label_upper': 'SKILLS', 'text': 'Legal', 'id': '4787eaf7c938045fd5285fe6a2cd72558caf7bd5faeb93fd1ad490a502e0e37b'}, {'start': 1553, 'end': 1555, 'label': 'SKILLS', 'label_upper': 'SKILLS', 'text': 'HR', 'id': '15e68b1f46577e27d82b47596b5bb9224ec847838c53432b4ae182a4e20a04e7'}, {'start': 1557, 'end': 1575, 'label': 'SKILLS', 'label_upper': 'SKILLS', 'text': 'Commercial markets', 'id': 'fd47765bd0c7651215a542286727145906f5bff3a9ea9e4bf504bd2538dcbdbb'}, {'start': 1584, 'end': 1598, 'label': 'SKILLS', 'label_upper': 'SKILLS', 'text': 'Office Support', 'id': 'e8179c8f584282f669e02c4e95412738dc62a685dbedd21a0c7f162562488503'}, {'start': 1600, 'end': 1610, 'label': 'SKILLS', 'label_upper': 'SKILLS', 'text': 'Industrial', 'id': 'b60cae533995be12da8b187c9663ad5e95ab3e7c8e3970f6e32ad1982b4eb49f'}, {'start': 1612, 'end': 1619, 'label': 'SKILLS', 'label_upper': 'SKILLS', 'text': 'Driving', 'id': 'd61f3033cbb6e0b2583eec3cd08b2b913d53f1001109c9baa8db6876a69ef8c0'}, {'start': 1621, 'end': 1643, 'label': 'SKILLS', 'label_upper': 'SKILLS', 'text': 'Hospitality & Catering', 'id': 'a736ac396161f45bac26fbc58b0160c5e63949d9f1809bc5a86be874701ed27f'}, {'start': 1673, 'end': 1680, 'label': 'SKILLS', 'label_upper': 'SKILLS', 'text': 'Medical', 'id': 'fec80bef0d8a00b11f126092f35bd5de02a59e23d1edcf8c7e6ea6a53ecfc357'}, {'start': 1682, 'end': 1686, 'label': 'SKILLS', 'label_upper': 'SKILLS', 'text': 'Care', 'id': '4262074d6c601e6405849868e832028c1782e20ce0617c2b0d05b24ff6ad595d'}, {'start': 1688, 'end': 1697, 'label': 'SKILLS', 'label_upper': 'SKILLS', 'text': 'Education', 'id': '512ab3c6b9869577bd4474c56b88f9e3f1c40c54d18e8e5a2329821254d362d2'}, {'start': 1699, 'end': 1716, 'label': 'SKILLS', 'label_upper': 'SKILLS', 'text': 'Technical markets', 'id': 'f6ee7ff835ddca4b2295b0759b252764570d72f48f39c482fa0861544a4f2c8b'}, {'start': 1725, 'end': 1729, 'label': 'SKILLS', 'label_upper': 'SKILLS', 'text': 'I.T.', 'id': 'cf51d5ddeb9b425d2c6013ebc0d69e8bb7e147944a6c58c93e5f952a456a46a9'}, {'start': 1731, 'end': 1739, 'label': 'SKILLS', 'label_upper': 'SKILLS', 'text': 'Telecoms', 'id': '74d8d14dabf30db228b9a9b476a3cdd79d5976908be22efb46d4a8910f34a215'}, {'start': 1741, 'end': 1746, 'label': 'SKILLS', 'label_upper': 'SKILLS', 'text': 'Media', 'id': 'd357175cfe8978d39b0f86552dcd9404973493e2816101d9ff6c05ee248ef6bd'}, {'start': 1748, 'end': 1760, 'label': 'SKILLS', 'label_upper': 'SKILLS', 'text': 'Construction', 'id': '9dc7e90e56b2f2635e18b04c731ea09762e1acd223b106df46e0013851b532b1'}, {'start': 1762, 'end': 1773, 'label': 'SKILLS', 'label_upper': 'SKILLS', 'text': 'Engineering', 'id': '729bb48d0f86a9e240a9839bf8c50f62f7ed973338514432666cf53c5d30c9ca'}, {'start': 1775, 'end': 1795, 'label': 'SKILLS', 'label_upper': 'SKILLS', 'text': 'Energy & Environment', 'id': '4caf48c555434d8fd3223e751f81f5ff0ca82769637c2e5e9c34962cb6c76d36'}, {'start': 1801, 'end': 1815, 'label': 'SKILLS', 'label_upper': 'SKILLS', 'text': 'Pharmaceutical', 'id': 'f468f5e445285f1d34cd682cf2bb314f517848c95b20412b23323905ae3ede78'}, {'start': 1850, 'end': 1867, 'label': 'SKILLS', 'label_upper': 'SKILLS', 'text': 'Sales Recruitment', 'id': '68403fd2656b7b8ab8c692a0950dd8dd133e530d2eee0b770241ccd2de5fcca6'}, {'start': 1869, 'end': 1875, 'label': 'SKILLS', 'label_upper': 'SKILLS', 'text': 'Search', 'id': '49c266baaaa70981ea188fa714d5c40cf13830d786a861c9943ae0d26a7f3fe9'}, {'start': 1881, 'end': 1893, 'label': 'SKILLS', 'label_upper': 'SKILLS', 'text': 'Supply Chain', 'id': 'd6c88a7829f8c891235ebc0b62759422dfc35391c8c7aa3644aabdd83c2defdf'}], 'text_sha256': '30547ee0e91fc309120d02582d620f22d56f405d1c40cb650b15e5a0e8447347'}, {'text': 'A subsea engineering company is looking for an experienced Subsea Cable Engineer who will be responsible for providing all issues related to cables. They will need someone who has at least 1015 years of subsea cable engineering experience with significant experience within offshore oil and gas industries. The qualified candidate will be responsible for developing new modelling methods for FEA and CFD. You will also be providing technical leadership to all staff therefore you must be an expert in problem solving and risk assessments. You must also be proactive and must have strong interpersonal skills. You must be a Chartered Engineer or working towards it the qualification. The company offers an extremely competitive salary, health care plan, training, professional membership sponsorship, and relocation package', 'annotations': [{'start': 2, 'end': 20, 'label': 'SKILLS', 'label_upper': 'SKILLS', 'text': 'subsea engineering', 'id': 'b8804fc38daef4a56cf69b8a636a664403e926346f0824dfd7400554d1017db4'}, {'start': 59, 'end': 80, 'label': 'SKILLS', 'label_upper': 'SKILLS', 'text': 'Subsea Cable Engineer', 'id': '72f56ceb2fb93a24f75897d1e2ecfcf7bde4b033c6475ab67d203464420244e4'}, {'start': 141, 'end': 147, 'label': 'SKILLS', 'label_upper': 'SKILLS', 'text': 'cables', 'id': '038a3891672b25760f5c4cfe497b95ffa2a5b30f4c748b3aebebb8a17089ba84'}, {'start': 189, 'end': 199, 'label': 'EXPERIENCE', 'label_upper': 'EXPERIENCE', 'text': '1015 years', 'id': '2b3320436db117ffa73acdb30802f07f2f854be87b6c35dfeb3f4de80da05a9a'}, {'start': 203, 'end': 227, 'label': 'SKILLS', 'label_upper': 'SKILLS', 'text': 'subsea cable engineering', 'id': 'de6a432fa5fbf0834daffa9f2f6ddd2c5ccce71f7cc857e1053b2f5f14f2dbfe'}, {'start': 274, 'end': 305, 'label': 'SKILLS', 'label_upper': 'SKILLS', 'text': 'offshore oil and gas industries', 'id': '0da10e1d7d04b0b26c311293a68e471eac37d6f31dd0d33fde6a88bf200a00ca'}, {'start': 370, 'end': 379, 'label': 'SKILLS', 'label_upper': 'SKILLS', 'text': 'modelling', 'id': '980323ece44bfd76417bce8a06383675f913201d0547c5b3068e90b567fe7e3e'}, {'start': 392, 'end': 395, 'label': 'SKILLS', 'label_upper': 'SKILLS', 'text': 'FEA', 'id': '8d03267b6ceac0a1891928ed4ff030b4dca4a691fc5a33557e17a0781a9fa81d'}, {'start': 400, 'end': 403, 'label': 'SKILLS', 'label_upper': 'SKILLS', 'text': 'CFD', 'id': 'bdce664245d10adf3418713edb53f739c4836e89f45e73f028f26c13175bd027'}, {'start': 422, 'end': 452, 'label': 'SKILLS', 'label_upper': 'SKILLS', 'text': 'providing technical leadership', 'id': '7a3e145af20035bd5adb16ab23553f959d8a72c432d3f4fe3df0f9e194f44874'}, {'start': 501, 'end': 516, 'label': 'SKILLS', 'label_upper': 'SKILLS', 'text': 'problem solving', 'id': '682c9ffb347dde323882c513f8dc39aab12c6f31297f21be051c7559448662bd'}, {'start': 521, 'end': 537, 'label': 'SKILLS', 'label_upper': 'SKILLS', 'text': 'risk assessments', 'id': 'd584a156005ca7d013e768c1cfa764e3fb637cb39ebea53e4d36bd09717453a7'}, {'start': 556, 'end': 565, 'label': 'SKILLS', 'label_upper': 'SKILLS', 'text': 'proactive', 'id': '1774757a37ce2c78be566425e460b65dd9274a8ec46b4aba7dc7e1de5f1dce71'}, {'start': 623, 'end': 641, 'label': 'DIPLOMA_MAJOR', 'label_upper': 'DIPLOMA_MAJOR', 'text': 'Chartered Engineer', 'id': '2d403412a22b37d24d44f879cd1c2d9237f31197a8c25ee5f4f86cdcb766199b'}, {'start': 753, 'end': 761, 'label': 'SKILLS', 'label_upper': 'SKILLS', 'text': 'training', 'id': 'c2fb788c7deedbeaa296e424d4c2921b871a4f6cb4cf393c1c1105653ab399b4'}, {'start': 763, 'end': 798, 'label': 'SKILLS', 'label_upper': 'SKILLS', 'text': 'professional membership sponsorship', 'id': 'cd1164830b2d1376dd0349d4051ea8c99d79d34b976038b43a674d1186401a90'}, {'start': 804, 'end': 822, 'label': 'SKILLS', 'label_upper': 'SKILLS', 'text': 'relocation package', 'id': '24f282200b4a86751e02a700be847ed29c6127b8859b15c82878f1a58557cf8f'}], 'text_sha256': '01ebbef3b655d5cc1f3ff286b29104c0e09181da9cf9c63ea35e9cd1a8ed478d'}, {'text': 'Are you a successful, results driven person? Are you looking to start a career in Financial Services? Are you looking for a fast paced, dynamic working environment? Our Client is proud to be an independent estate agent with an unbeatable local knowledge and reputation for excellent service. They have a mortgage advisor within each of their branches to accommodate their customer s needs. As a Trainee Mortgage Advisor, you will work closely with your team to learn and develop whilst achieving shared goals. In addition to this; You will have the determination to succeed in the Financial Services market. You will be capable of working effectively under pressure and in a target orientated environment. You will have the ability to successfully achieve your CeMap qualifications. You will be able to evaluate business at every opportunity. The company will offer a fantastic training programme as well as full funding for CeMap qualifications all within a supportive, team working environment. Once fully qualified, achievable progression thresholds are put in place with excellent earning potential. With a track record of successful sales abilities, preferably within an Estate Agency setting, suitable candidates will have: A drive and enthusiasm to work within the Financial Services market The ability to qualify applicants to advise on their purchasing abilities Excellent communication skills A professional and friendly approach Refined numerate abilities and an attention to detail A driving licence/own car Excellent computing skills You must be a self motivated, driven individual with the ability to be proactive with your own learning and development. You will have the ability to work successfully within a team whilst managing your own, individual work load. Organisational skills and a will to succeed are also a must. Belper, Ilkeston, Eastwood, Derby, Leicester, Mansfield, Melbourne, Ripley', 'annotations': [{'start': 82, 'end': 100, 'label': 'SKILLS', 'label_upper': 'SKILLS', 'text': 'Financial Services', 'id': 'fbe065970201fb55f19a51222e494e7bf256b667be17a15cb293165e9d636197'}, {'start': 194, 'end': 218, 'label': 'SKILLS', 'label_upper': 'SKILLS', 'text': 'independent estate agent', 'id': '64cf872191f8201ef38ce8a9bbe323e8046d15301db6025f26bf203b5157576b'}, {'start': 304, 'end': 320, 'label': 'SKILLS', 'label_upper': 'SKILLS', 'text': 'mortgage advisor', 'id': '403207e57e87cff716bf5254462fa34cb8f5ece5a88f34305248a1a24935f184'}, {'start': 403, 'end': 419, 'label': 'SKILLS', 'label_upper': 'SKILLS', 'text': 'Mortgage Advisor', 'id': 'a960c0f772324da21a176358da32abf668652ea87b4fad1ac5e4398e2cb453c3'}, {'start': 581, 'end': 606, 'label': 'SKILLS', 'label_upper': 'SKILLS', 'text': 'Financial Services market', 'id': 'b5abb91097596e286b3eeeab4f0c8b0fa2ae363c23b0f8597d8e465fd0c9cc5e'}, {'start': 761, 'end': 766, 'label': 'SKILLS', 'label_upper': 'SKILLS', 'text': 'CeMap', 'id': '6633a55a04155e5434bfa3dcee823aebfec9a9c987c979697c3a11ec5676e6a6'}, {'start': 803, 'end': 820, 'label': 'SKILLS', 'label_upper': 'SKILLS', 'text': 'evaluate business', 'id': '11a41b012a8db34925dabe7cfde9800200a828cc4d57a9ca0b7dd8dc164426e9'}, {'start': 925, 'end': 930, 'label': 'SKILLS', 'label_upper': 'SKILLS', 'text': 'CeMap', 'id': '6633a55a04155e5434bfa3dcee823aebfec9a9c987c979697c3a11ec5676e6a6'}, {'start': 1138, 'end': 1143, 'label': 'SKILLS', 'label_upper': 'SKILLS', 'text': 'sales', 'id': 'e04eb29020eaa961e99d3162635e9fe9585c5a1121bd88784c1378aa8837195c'}, {'start': 1176, 'end': 1189, 'label': 'SKILLS', 'label_upper': 'SKILLS', 'text': 'Estate Agency', 'id': 'd3628116a2a32c5ff4064e1266cb22dcf57a497fd5b11a7376c4f46fcc45a879'}, {'start': 1272, 'end': 1297, 'label': 'SKILLS', 'label_upper': 'SKILLS', 'text': 'Financial Services market', 'id': 'b5abb91097596e286b3eeeab4f0c8b0fa2ae363c23b0f8597d8e465fd0c9cc5e'}, {'start': 1382, 'end': 1395, 'label': 'SKILLS', 'label_upper': 'SKILLS', 'text': 'communication', 'id': 'd4e16994df9002e53294f899714d7137592fd13ba986fcd070214dc85d659968'}, {'start': 1474, 'end': 1493, 'label': 'SKILLS', 'label_upper': 'SKILLS', 'text': 'attention to detail', 'id': '4ab7a5209fdbe1fbc211c67ca6cde3c9834cf4bb34e5ef2fad134e21b638dd60'}, {'start': 1530, 'end': 1539, 'label': 'SKILLS', 'label_upper': 'SKILLS', 'text': 'computing', 'id': '2ddeaa83d0898c3fdc3e17b3d880a1270c36ee36f84f6604bd010e41eecf36cb'}, {'start': 1618, 'end': 1627, 'label': 'SKILLS', 'label_upper': 'SKILLS', 'text': 'proactive', 'id': '1774757a37ce2c78be566425e460b65dd9274a8ec46b4aba7dc7e1de5f1dce71'}, {'start': 1736, 'end': 1775, 'label': 'SKILLS', 'label_upper': 'SKILLS', 'text': 'managing your own, individual work load', 'id': '3e126ba3fdcac91eb94c9ebaf7a83fd33d5cc928211abfaf7e73fa33b08aa6cd'}, {'start': 1838, 'end': 1844, 'label': 'SKILLS', 'label_upper': 'SKILLS', 'text': 'Belper', 'id': '9141911198da2bc9e5630668d3c1bcd02fdf9a868ac69cb1c472aa6f9d63a169'}, {'start': 1846, 'end': 1854, 'label': 'SKILLS', 'label_upper': 'SKILLS', 'text': 'Ilkeston', 'id': '42c29341acdaebba06016f2bb9b052b2f38c0cbe97ad45d3cab2c3f535afdcd1'}, {'start': 1856, 'end': 1864, 'label': 'SKILLS', 'label_upper': 'SKILLS', 'text': 'Eastwood', 'id': '6c41b8d125a95f568e6bd1a84a25dd7a41bc86122537f9eceea776c0bf8ff91c'}, {'start': 1866, 'end': 1871, 'label': 'SKILLS', 'label_upper': 'SKILLS', 'text': 'Derby', 'id': 'f4a95c80f4c35feff42a9f3830c6bfca4c0ea7bd43c6487fb2dc31eef7042736'}, {'start': 1873, 'end': 1882, 'label': 'SKILLS', 'label_upper': 'SKILLS', 'text': 'Leicester', 'id': '9b8cc3c63cdf447e463c11544924bf027945cbd29675f77955bb36364356c14e'}, {'start': 1884, 'end': 1893, 'label': 'SKILLS', 'label_upper': 'SKILLS', 'text': 'Mansfield', 'id': '27786f2d8cb64be14801919f2015f9c3c6f91295ab9692fbdbf263876b4c011f'}, {'start': 1895, 'end': 1904, 'label': 'SKILLS', 'label_upper': 'SKILLS', 'text': 'Melbourne', 'id': '54818870165a6374576f54458561a3d1592c45e7d49bd4de3c41cc9fb3d4d9db'}, {'start': 1906, 'end': 1912, 'label': 'SKILLS', 'label_upper': 'SKILLS', 'text': 'Ripley', 'id': 'bae2434878afc1c40e9329e00068db0543933f6b3b9e06e491830d8ab4ccb974'}], 'text_sha256': '2a484cb2db61a871466a29c29fdf775a47e729dc130b96c8a6f3d877d5416743'}, {'text': 'PROJECT ENGINEER PHAMACEUTICAL, c****  Excellent Benefits, Oxfordshire ****/****/mg PROJECT ENGINEER : JOB ROLE: Responsible for execution of Continuous improvement and compliance projects. Responsible too for subprojects related to introduction of new products and processes in order to meet strategic business plans.The position is jointly responsible fo reporting of designated capital and expenses (actual Vs. Plan) associated with implementation of new process equipment or modifications to Existing process equipment. PROJECT ENGINEER: KEY RESPONSIBILITIES: Manage project tasks & deliverables within agreed time, cost, quality Responsbile for process equipment validation, material validation, remediation activity Maintain effectiveness of Quality System in accordance with corporate requirements Effective liaison with Engineering functions, external suppliers and regulatory bodies PROJECT ENGINEER: SKILLS, EXPERIENCE, QUALIFICATION: Proven problem solving skills to quickly implement process improvements Understanding of technical drawings, dealing with suppliers and subcontractors Experience of Project Engineering/Project Management within regulated manufacturing Working knowledge of quality/regulatory systems BSc/HNC with related experience', 'annotations': [{'start': 0, 'end': 16, 'label': 'SKILLS', 'label_upper': 'SKILLS', 'text': 'PROJECT ENGINEER', 'id': 'a75f3f12240f405380abbb84005e0696a6d4f947b9cbf7ddf68c1e5721789e0c'}, {'start': 17, 'end': 30, 'label': 'SKILLS', 'label_upper': 'SKILLS', 'text': 'PHAMACEUTICAL', 'id': 'd5a16572b026f4543ed8a5976d3fc6fc5d596bde37521d4469c2d3243fde5b03'}, {'start': 458, 'end': 475, 'label': 'SKILLS', 'label_upper': 'SKILLS', 'text': 'process equipment', 'id': 'bdb03d1b07e35336fdbd38248928a20e5cc0a14c8b88992c927c87f3d6283ebb'}, {'start': 564, 'end': 599, 'label': 'SKILLS', 'label_upper': 'SKILLS', 'text': 'Manage project tasks & deliverables', 'id': '965812f3cab45181db24a50ca4e67cf195b878a6b26f4cb22f6c46a47062526b'}, {'start': 650, 'end': 678, 'label': 'SKILLS', 'label_upper': 'SKILLS', 'text': 'process equipment validation', 'id': '60b99ba3be42eee483835117a431490ea7682e18a5af1ddbd4181c5f4c81c2c8'}, {'start': 680, 'end': 699, 'label': 'SKILLS', 'label_upper': 'SKILLS', 'text': 'material validation', 'id': '222b1ce81ba8639dc8c8a43c3befcb0a68ad6d2de007ae47fc274c1d8335ac89'}, {'start': 701, 'end': 721, 'label': 'SKILLS', 'label_upper': 'SKILLS', 'text': 'remediation activity', 'id': '9dae9e2b6e2d3f506b1a84d42f89882252f5ab1501cf5d1adabdd244f5be4ff6'}, {'start': 748, 'end': 762, 'label': 'SKILLS', 'label_upper': 'SKILLS', 'text': 'Quality System', 'id': '3f26817942a4e71777765320f72978bc6fa0d765611a79b6c490bb3be9e4283a'}, {'start': 900, 'end': 908, 'label': 'SKILLS', 'label_upper': 'SKILLS', 'text': 'ENGINEER', 'id': 'cafa51a40e34a9536eecbeceb8cb6ee5e961a54daa5b2ba60b00f6c9d8eaeefc'}, {'start': 910, 'end': 916, 'label': 'SKILLS', 'label_upper': 'SKILLS', 'text': 'SKILLS', 'id': '463051f456ad180aff19c834b279b6a3e58a4cbb2f12984234b66f0b393db4c7'}, {'start': 952, 'end': 967, 'label': 'SKILLS', 'label_upper': 'SKILLS', 'text': 'problem solving', 'id': '682c9ffb347dde323882c513f8dc39aab12c6f31297f21be051c7559448662bd'}, {'start': 1034, 'end': 1052, 'label': 'SKILLS', 'label_upper': 'SKILLS', 'text': 'technical drawings', 'id': 'ef52b66e44b1ce1e02db58942ec08095a71bc0bea8e1aa4122f1016755d17103'}, {'start': 1054, 'end': 1076, 'label': 'SKILLS', 'label_upper': 'SKILLS', 'text': 'dealing with suppliers', 'id': '4f704d3dbfd57e5b00442246c776cc401b82d9bff97dab72f7896ba00b865987'}, {'start': 1081, 'end': 1095, 'label': 'SKILLS', 'label_upper': 'SKILLS', 'text': 'subcontractors', 'id': '3a3866616b4f9f3d56610f3e794bf2a4cae764767e8dd7e2fdc3dd84051dd569'}, {'start': 1110, 'end': 1129, 'label': 'SKILLS', 'label_upper': 'SKILLS', 'text': 'Project Engineering', 'id': 'fae65a667d9e6a0911d3ad3edb25e253e133b3dc3b16e067a836ef9b99124b07'}, {'start': 1130, 'end': 1148, 'label': 'SKILLS', 'label_upper': 'SKILLS', 'text': 'Project Management', 'id': '58a34ff5ee9e7f084176d046f3d4a097c840081442ce8ad5fc9c2982fd59c3b5'}, {'start': 1201, 'end': 1227, 'label': 'SKILLS', 'label_upper': 'SKILLS', 'text': 'quality/regulatory systems', 'id': 'bba617d1b6038fd4f72192013c48fef1c25c2aff34a8ed0fc378f428c94f4083'}, {'start': 1228, 'end': 1235, 'label': 'DIPLOMA', 'label_upper': 'DIPLOMA', 'text': 'BSc/HNC', 'id': '42e23fc95a5f8922ec83e5dfe2fb9ae6b7137af51502617894908752d1b7bd1b'}], 'text_sha256': '9235e42dbce023c9adde2c66aa72a21117172a7abddafa43d4b3931978267334'}, {'text': 'Aerospace Senior Composite Structures Engineer Aerospace, Bristol Our client is a progressive and rapidly expanding organisation, providing high end technical and project management services to the prime aerospace sector. As the Senior Composite Structures Engineer for the aerostructures team you will be involved in some of the most challenging and exciting aerospace projects in the world. You will be expected to take full ownership of technical tasks, and to lead others in their execution. This position is ideally suited to high calibre engineering graduate with significant and appropriate post graduate experience. You will need to demonstrate a desire to be challenged and to contribute towards the success and growth of the business. In return our client offers excellent career development and a competitive reward package. The Senior Composite Structures Engineer should be qualified to degree level or above in engineering and be a recognised expert in the analysis of lightweight Composite structures. You should also have experience of leading teams to deliver effective technical solutions to time, quality and cost objectives. Aerospace industry experience would be advantageous covering aerostructures and/or aero engines. A demonstrable track record in one or more of the following technical disciplines is also required: Fatigue and damage tolerance analysis of composite laminates Static stress analysis of composite structures, including bolted and bonded joints and buckling analysis Finite element analysis of composite laminates and sandwich structures Some work outside normal office hours and national/international travel may be required. Keywords Aerospace, Composites, Structures Aerospace Senior Composite Structures Engineer Aerospace, Bristol Salary ****K****K  benefits package', 'annotations': [{'start': 0, 'end': 9, 'label': 'SKILLS', 'label_upper': 'SKILLS', 'text': 'Aerospace', 'id': 'd527f8c5f94f1aa6ea3caf7f116478445b031bde93b7e0efb51180b1bb60a54e'}, {'start': 17, 'end': 37, 'label': 'SKILLS', 'label_upper': 'SKILLS', 'text': 'Composite Structures', 'id': '2611b306eb23c9b81c30c972b86748623dff41cc88a667b48ae0701cbeff83df'}, {'start': 47, 'end': 56, 'label': 'SKILLS', 'label_upper': 'SKILLS', 'text': 'Aerospace', 'id': 'd527f8c5f94f1aa6ea3caf7f116478445b031bde93b7e0efb51180b1bb60a54e'}, {'start': 58, 'end': 65, 'label': 'SKILLS', 'label_upper': 'SKILLS', 'text': 'Bristol', 'id': '13d4b96b6ee361b737e22404aeecca45f322ba7d4c2c425b8f31cc85f2d3808a'}, {'start': 163, 'end': 181, 'label': 'SKILLS', 'label_upper': 'SKILLS', 'text': 'project management', 'id': '5a7c3011cba026a3ec113edc43b7dcbb8a6227cf735ac9a88e14ea9321a676a4'}, {'start': 236, 'end': 265, 'label': 'SKILLS', 'label_upper': 'SKILLS', 'text': 'Composite Structures Engineer', 'id': 'f6b01f24a3a2687d6c5977626468c105aae0bcbdd1f5b4f37528e827d09b12e2'}, {'start': 360, 'end': 378, 'label': 'SKILLS', 'label_upper': 'SKILLS', 'text': 'aerospace projects', 'id': '8a1957bd77dad5c8f8d7244213beca76c49a9413384cb49c1fe5347c13ad8e38'}, {'start': 847, 'end': 867, 'label': 'SKILLS', 'label_upper': 'SKILLS', 'text': 'Composite Structures', 'id': '2611b306eb23c9b81c30c972b86748623dff41cc88a667b48ae0701cbeff83df'}, {'start': 925, 'end': 936, 'label': 'DIPLOMA_MAJOR', 'label_upper': 'DIPLOMA_MAJOR', 'text': 'engineering', 'id': '8c85b6639e62e10b8330a8b883004b43c119053d7d62b512a98c77eb069627a7'}, {'start': 1052, 'end': 1059, 'label': 'SKILLS', 'label_upper': 'SKILLS', 'text': 'leading', 'id': '30adc606fce3d6b75837c5a9c3c1020f6cb132a3f315685468f5f4a1b10583db'}, {'start': 1145, 'end': 1163, 'label': 'SKILLS', 'label_upper': 'SKILLS', 'text': 'Aerospace industry', 'id': '4063cd1d8f7867e5335979148bebdc10c7fb01e910231770f9370d8384430756'}, {'start': 1206, 'end': 1220, 'label': 'SKILLS', 'label_upper': 'SKILLS', 'text': 'aerostructures', 'id': '478852fc67fd28bfc8621860273423e439af894821cf8531d16f06730e38100b'}, {'start': 1228, 'end': 1240, 'label': 'SKILLS', 'label_upper': 'SKILLS', 'text': 'aero engines', 'id': '240d441e981246ce1e62cf48faf71f7d5e8e48af45325a19d758e62b5241c605'}, {'start': 1342, 'end': 1349, 'label': 'SKILLS', 'label_upper': 'SKILLS', 'text': 'Fatigue', 'id': 'c83bec1f02849a09edc642f2d4226774435f1233abc8b85f7d559ba9d022f570'}, {'start': 1354, 'end': 1379, 'label': 'SKILLS', 'label_upper': 'SKILLS', 'text': 'damage tolerance analysis', 'id': '7abf368adfe10d6bb6cafc2b7bead6c91a92b1ed889c77e746b33fcb5c49ff4f'}, {'start': 1383, 'end': 1402, 'label': 'SKILLS', 'label_upper': 'SKILLS', 'text': 'composite laminates', 'id': 'f1cf912bc646e04994d91f2fc6808280e7684a65ee2a0b5ed619bc3a975e46ef'}, {'start': 1403, 'end': 1425, 'label': 'SKILLS', 'label_upper': 'SKILLS', 'text': 'Static stress analysis', 'id': '155f3465c850410290f95d1a935faf05efa5d0c1b93f0c20d7721a98d3e81a2f'}, {'start': 1429, 'end': 1449, 'label': 'SKILLS', 'label_upper': 'SKILLS', 'text': 'composite structures', 'id': 'ddac590a25fedae029c4486536a10e095cdcdd85352c69e034e392d6394c3967'}, {'start': 1461, 'end': 1485, 'label': 'SKILLS', 'label_upper': 'SKILLS', 'text': 'bolted and bonded joints', 'id': '870b45e31b3e63515338e4b0db725da89a3bce914a0b7ffd0a541bad7b9e7234'}, {'start': 1490, 'end': 1507, 'label': 'SKILLS', 'label_upper': 'SKILLS', 'text': 'buckling analysis', 'id': 'f8b8fc7093de9b18d46dc452e9ebfbc5a04e8ad786aced56070bfcca6762d702'}, {'start': 1508, 'end': 1531, 'label': 'SKILLS', 'label_upper': 'SKILLS', 'text': 'Finite element analysis', 'id': 'eba790a200e5b72eb16f8adca046c6f1b35632b76b86f2565b17f1bfc0f97d33'}, {'start': 1535, 'end': 1554, 'label': 'SKILLS', 'label_upper': 'SKILLS', 'text': 'composite laminates', 'id': 'f1cf912bc646e04994d91f2fc6808280e7684a65ee2a0b5ed619bc3a975e46ef'}, {'start': 1559, 'end': 1578, 'label': 'SKILLS', 'label_upper': 'SKILLS', 'text': 'sandwich structures', 'id': '67053d002638e28406ff73ed3982ccc49ba1bfcb8a5f94c8c6c8282dfe3c6f9f'}, {'start': 1677, 'end': 1686, 'label': 'SKILLS', 'label_upper': 'SKILLS', 'text': 'Aerospace', 'id': 'd527f8c5f94f1aa6ea3caf7f116478445b031bde93b7e0efb51180b1bb60a54e'}, {'start': 1688, 'end': 1698, 'label': 'SKILLS', 'label_upper': 'SKILLS', 'text': 'Composites', 'id': '6d0d264e16c4c8d62387e71a2ed789b8df3cbe248c708a6aef41c4f209ccf28b'}, {'start': 1700, 'end': 1720, 'label': 'SKILLS', 'label_upper': 'SKILLS', 'text': 'Structures Aerospace', 'id': '6ced31ef8ab77fa643223bc3671a6996ff7c4552df940cc3d89caebf11e1696b'}, {'start': 1728, 'end': 1748, 'label': 'SKILLS', 'label_upper': 'SKILLS', 'text': 'Composite Structures', 'id': '2611b306eb23c9b81c30c972b86748623dff41cc88a667b48ae0701cbeff83df'}, {'start': 1758, 'end': 1767, 'label': 'SKILLS', 'label_upper': 'SKILLS', 'text': 'Aerospace', 'id': 'd527f8c5f94f1aa6ea3caf7f116478445b031bde93b7e0efb51180b1bb60a54e'}, {'start': 1769, 'end': 1776, 'label': 'SKILLS', 'label_upper': 'SKILLS', 'text': 'Bristol', 'id': '13d4b96b6ee361b737e22404aeecca45f322ba7d4c2c425b8f31cc85f2d3808a'}], 'text_sha256': '3a37d46234f37ffc1e337f29359cc73ad4dc1ebd2c6470e84ee6a5651900175a'}, {'text': 'Senior Fatigue Static stress (metallic or composite) Finite element analysis. Senior Fatigue Aerospace Salary: **** to **** (dep on exp)  benefits package Located: Bristol, Avon, South West', 'annotations': [{'start': 15, 'end': 28, 'label': 'SKILLS', 'label_upper': 'SKILLS', 'text': 'Static stress', 'id': 'de4099d56454d064aead534842ae3753eee22148e31a9da880baf8fb654d0410'}, {'start': 30, 'end': 38, 'label': 'SKILLS', 'label_upper': 'SKILLS', 'text': 'metallic', 'id': 'a70a59b3981af385be12b293222f27848fbbb0387d05504b02c7f2012d02e67f'}, {'start': 42, 'end': 51, 'label': 'SKILLS', 'label_upper': 'SKILLS', 'text': 'composite', 'id': 'ad1e26066637d18f500318563e09c716fe3b0f6cf646ce32fb4c79f995aa15f5'}, {'start': 164, 'end': 171, 'label': 'SKILLS', 'label_upper': 'SKILLS', 'text': 'Bristol', 'id': '13d4b96b6ee361b737e22404aeecca45f322ba7d4c2c425b8f31cc85f2d3808a'}], 'text_sha256': '53f80b537746e6c9f6af3a2dafb667a5902ea83e89a8042162f397cb8e79275e'}, {'text': \"A well respected restaurant located in the Derby area has a Chef de Partie role available Role: A Chef de Partie who is passionate about working with all fresh produce to a high standard is required to join the brigade of chefs at an award winning restaurant.The restaurant serves **** covers at lunch with a set menu and up to **** covers in the evening for the a la carte menu, as Chef de Partie you will be expected to run a section once fully trained keeping your work space clean and tidy at all times. Requirements: All Chef de Parties applying for this role should already have fresh food experience at this level with the ability to manage a busy section.This role can offer the right candidate excellent opportunities to progress within the team. Benefits Include: Uniform Provided Meals on Duty Excellent Tips – Paid Monthly Excellent Opportunities To Progress If you are interested in this position or would like information on the other positions we are recruiting for or any temporary assignments please send your CV by clicking on the 'apply now' button below and our consultant Tony Papa will do his utmost to assist you in your search for employment. In line with the requirements of the Asylum Immigration Act **** all applicants must be eligible to live and work in the UK. Documented evidence of the eligibility will be required from candidates as part of the recruitment process. This job was originally posted as www.caterer.com/JobSeeking/ChefdePartieAwardWinningRestaurantExcellentTips_job****\", 'annotations': [{'start': 60, 'end': 74, 'label': 'SKILLS', 'label_upper': 'SKILLS', 'text': 'Chef de Partie', 'id': '6bc04b690f49d9b72b0b7c85916c21f9058b0c9c64b4581ba1b840334fa6d209'}, {'start': 98, 'end': 112, 'label': 'SKILLS', 'label_upper': 'SKILLS', 'text': 'Chef de Partie', 'id': '6bc04b690f49d9b72b0b7c85916c21f9058b0c9c64b4581ba1b840334fa6d209'}, {'start': 383, 'end': 397, 'label': 'SKILLS', 'label_upper': 'SKILLS', 'text': 'Chef de Partie', 'id': '6bc04b690f49d9b72b0b7c85916c21f9058b0c9c64b4581ba1b840334fa6d209'}, {'start': 422, 'end': 435, 'label': 'SKILLS', 'label_upper': 'SKILLS', 'text': 'run a section', 'id': '49eef85baa399c70c5685080cdf8fd2bbd2bceaaafd1f548614122765afd78be'}, {'start': 526, 'end': 541, 'label': 'SKILLS', 'label_upper': 'SKILLS', 'text': 'Chef de Parties', 'id': '2f36385325490461e2b86841f56e208bcfaa2a0a3848b1f4d6c34fc5d2267a66'}, {'start': 585, 'end': 595, 'label': 'SKILLS', 'label_upper': 'SKILLS', 'text': 'fresh food', 'id': '40dcc4bb3760dfef1c15875ac7d42e69e8ed257569a15e3ecf9bc4b459f0b1fb'}, {'start': 641, 'end': 662, 'label': 'SKILLS', 'label_upper': 'SKILLS', 'text': 'manage a busy section', 'id': '8d2c39fc92e647d4de070cf52ee400fe21c3f488695928a479eac5de79b8912a'}, {'start': 820, 'end': 821, 'label': 'SKILLS', 'label_upper': 'SKILLS', 'text': '–', 'id': 'd4f85d36757c12f0c6dab57721287f327efbfc46ea8c0f820301067f8627fc0f'}, {'start': 1098, 'end': 1102, 'label': 'SKILLS', 'label_upper': 'SKILLS', 'text': 'Papa', 'id': '4959de6ed9b841f00111f68b3cbac3d19eb2a86f656df42726ec7ee9037e555c'}], 'text_sha256': 'eb6fa4969dce6be6668f20cf37c8128b93d8c7d82aef31b6d2cfe1feb225ad34'}, {'text': 'Our client are a leading supplier of precision machined, high integrity components, integrated kits of parts and complete mechanical assemblies. Due to an large increase in workload they are recruiting a Quality Engineer Reporting to the Quality Manager, the successful individual will be responsible for providing documentation to fulfil our customers quality assurance requirements on specific contracts, whilst maintaining a system of storage and retrieval for documentation. The role will also support the internal audit schedule, performing audits as required. Responsibilities include: Documentation Checking all vendor supplied documentation to ensure it complies with the requirements or Express s customer specifications. Produce accurate, legible documentation packs, in accordance with customer requirements. Quality Systems Maintain system of storage and retrieval of all associated QA documentation in accordance with ISO9001:**** Certification Ensure certificates of conformance are checked, in accordance with the C of C matrix and any applicable concessions are referenced Material Certification Verify and approve certification on receipt for conformance to customer requirements and resolve discrepancies with suppliers Non conformance Raise and submit supplier reject reports and concessions. Store all responses received in relevant databases. Internal Auditing Carry out internal audits as and when required in line with the internal audit schedule. Identify and report all nonconformances within Quality Management System, and assist in corrective actions to close them out Supplier Rejects Ensure corrective action is received for supplier rejects submitted to key suppliers The Individual: Has experience within the quality department of a related company in a similar role Ideally from a mechanical or manufacturing engineering background. Ideally be familiar with the range of processes involved in the markets of Oil Must have good communication and organisational skills Has the ability to work as part of a team or as an individual. Has the ability to be customer facing and discuss technical / quality issues with vendors and customers', 'annotations': [{'start': 37, 'end': 55, 'label': 'SKILLS', 'label_upper': 'SKILLS', 'text': 'precision machined', 'id': '268daff99f12e3a429b716b92b580aea43d19981269565f75e4de71e55b36de0'}, {'start': 57, 'end': 82, 'label': 'SKILLS', 'label_upper': 'SKILLS', 'text': 'high integrity components', 'id': '36277329532d607853ef385015115b71a015bdf28e7032b6649cf5351ef893d2'}, {'start': 84, 'end': 99, 'label': 'SKILLS', 'label_upper': 'SKILLS', 'text': 'integrated kits', 'id': '58d02508a6a4be6928ea09d4b66338c9dadb02413cc53d3b1c0a6e8878ce04c4'}, {'start': 122, 'end': 143, 'label': 'SKILLS', 'label_upper': 'SKILLS', 'text': 'mechanical assemblies', 'id': '379f3aa9270b78ff2a0db80ab8bc88920bc94580645bbad5de81e658c8d63923'}, {'start': 204, 'end': 220, 'label': 'SKILLS', 'label_upper': 'SKILLS', 'text': 'Quality Engineer', 'id': '5c6be05b3d9c3e4d763616269bb43e0b78d3b5d6d068b50df986f67e31d6b62d'}, {'start': 820, 'end': 835, 'label': 'SKILLS', 'label_upper': 'SKILLS', 'text': 'Quality Systems', 'id': 'a49b54db8ba12eccf4701472ca469564d264b5e3c06d97bdfe7fc9189527295a'}, {'start': 895, 'end': 897, 'label': 'SKILLS', 'label_upper': 'SKILLS', 'text': 'QA', 'id': '48947c06d09a212ca1dcfbdf5a63d18dde8c964dbc66eea033a363eee856de21'}, {'start': 1364, 'end': 1381, 'label': 'SKILLS', 'label_upper': 'SKILLS', 'text': 'Internal Auditing', 'id': 'd6f03d4ce53b3100b80e531d8c5d4e15fbc76bebd2f3a32fbd850b62ef4e87a0'}, {'start': 1518, 'end': 1543, 'label': 'SKILLS', 'label_upper': 'SKILLS', 'text': 'Quality Management System', 'id': '2b3e518f73fc42da7401639fe7c1589001fea0b5ababdf6f0b6af30f5d4500f8'}, {'start': 1740, 'end': 1747, 'label': 'SKILLS', 'label_upper': 'SKILLS', 'text': 'quality', 'id': 'acef2c15bcd349db900dffece73e1256e881c4416fc1f2d3a494640183490d9a'}, {'start': 1813, 'end': 1823, 'label': 'DIPLOMA_MAJOR', 'label_upper': 'DIPLOMA_MAJOR', 'text': 'mechanical', 'id': '96ae0f875bd9062d5e263473590877f82d65b160571e0d4385c65d9a3e3c081f'}, {'start': 1827, 'end': 1852, 'label': 'SKILLS', 'label_upper': 'SKILLS', 'text': 'manufacturing engineering', 'id': 'c5f41b07dcd08e9a65146eb123ccb58b2af71ee404b45542308c33be71e10b31'}, {'start': 1940, 'end': 1943, 'label': 'SKILLS', 'label_upper': 'SKILLS', 'text': 'Oil', 'id': '2378bdd2cf4f491cf401e6b215cbb4fdfec6f76b21801d6bcd3cad070abb156c'}, {'start': 1959, 'end': 1972, 'label': 'SKILLS', 'label_upper': 'SKILLS', 'text': 'communication', 'id': 'd4e16994df9002e53294f899714d7137592fd13ba986fcd070214dc85d659968'}, {'start': 1977, 'end': 1991, 'label': 'SKILLS', 'label_upper': 'SKILLS', 'text': 'organisational', 'id': '30fc57f674fcf9c51c4549621348133e916d96e232097fc0236302e6fa35cb56'}, {'start': 2084, 'end': 2099, 'label': 'SKILLS', 'label_upper': 'SKILLS', 'text': 'customer facing', 'id': 'bdf4a4ea204bf254f79139666793f76c0ac6657e6a69ec3247c138747ce453dc'}, {'start': 2104, 'end': 2138, 'label': 'SKILLS', 'label_upper': 'SKILLS', 'text': 'discuss technical / quality issues', 'id': '4895197be7e12593ca3a745356f743493b335a515825ec2ebae512ae752a8b38'}], 'text_sha256': '7845f03ffd57041a209aaaa8dbd2cdf8e62ffccbd5a3552ebd1ee45efe7d2a89'}, {'text': 'A leading Subsea Engineering Company require a driven and highlyskilled Principal Controls Engineer who will provide technical work on all of the company s controlsrelated concerns and in charge of generating interest from potential clients. As a Principal Controls Engineer, you will be in charge of organising and ensuring engineering calculations, do reports, review designs, give technical assistance to all problems related to cable engineering and come up with methods for cable modelling. The successful candidate will have at least 15 years of Subsea Controls Engineering experience in the Oil and Gas industry. Preferably, you must have a degree in Engineering and a background in Subsea design, construction, installation, operation, or decommissioning and have covered almost all related Subsea Production Systems. This is a brilliant role which includes a very competitive salary package with flexible work hours to the most qualified candidates', 'annotations': [{'start': 10, 'end': 28, 'label': 'SKILLS', 'label_upper': 'SKILLS', 'text': 'Subsea Engineering', 'id': 'bdd874796e5b8da8cecdd7ad3ec4a876c37b5fe7bac1ef093f31c8278b0fb4e8'}, {'start': 72, 'end': 99, 'label': 'SKILLS', 'label_upper': 'SKILLS', 'text': 'Principal Controls Engineer', 'id': 'd9e7cc7a45bde14f2243a6adb128011a4f4cfd8daadee10c42f10a38af3dbea0'}, {'start': 247, 'end': 274, 'label': 'SKILLS', 'label_upper': 'SKILLS', 'text': 'Principal Controls Engineer', 'id': 'd9e7cc7a45bde14f2243a6adb128011a4f4cfd8daadee10c42f10a38af3dbea0'}, {'start': 301, 'end': 311, 'label': 'SKILLS', 'label_upper': 'SKILLS', 'text': 'organising', 'id': '60978f11ec8e8b3b7a6bcac37bbcc1e9f0d3424369aa771319f9154529c9a426'}, {'start': 316, 'end': 349, 'label': 'SKILLS', 'label_upper': 'SKILLS', 'text': 'ensuring engineering calculations', 'id': 'eb7f258173102cf3e1142d59836ec0e63545a13ccaa25162b6853477d00ad286'}, {'start': 351, 'end': 361, 'label': 'SKILLS', 'label_upper': 'SKILLS', 'text': 'do reports', 'id': 'd215a4685c731c437b090391a7e46aca5d2ad99950f94b3e25c9581f6840613d'}, {'start': 363, 'end': 377, 'label': 'SKILLS', 'label_upper': 'SKILLS', 'text': 'review designs', 'id': 'd2037a9a6f9be7f08a62a6ce9eed34cb09876c5b5a91939532290475844356df'}, {'start': 432, 'end': 449, 'label': 'SKILLS', 'label_upper': 'SKILLS', 'text': 'cable engineering', 'id': '352ff8b3432f2509432c3ce8fd4ae3779f222505528902c1842ad326ebf818bf'}, {'start': 479, 'end': 494, 'label': 'SKILLS', 'label_upper': 'SKILLS', 'text': 'cable modelling', 'id': '8b16335d820ab39ffa844aa667595503881bf8fe75ac2ebadbd3e29c93469326'}, {'start': 540, 'end': 548, 'label': 'EXPERIENCE', 'label_upper': 'EXPERIENCE', 'text': '15 years', 'id': '8a3215765ef853a76cf186dedaa1163708a3d0fe8bcf6a81658a168dc260f0d2'}, {'start': 552, 'end': 579, 'label': 'SKILLS', 'label_upper': 'SKILLS', 'text': 'Subsea Controls Engineering', 'id': '87d42b05a59cbbc1954df2e14105490a5dd7606332bcb768e215d3b5ab70577a'}, {'start': 598, 'end': 618, 'label': 'SKILLS', 'label_upper': 'SKILLS', 'text': 'Oil and Gas industry', 'id': 'fa260feebc2a10618802329f46b7a3fad914c4bd3327e52d23f5ac16651dc9d8'}, {'start': 658, 'end': 669, 'label': 'DIPLOMA_MAJOR', 'label_upper': 'DIPLOMA_MAJOR', 'text': 'Engineering', 'id': '729bb48d0f86a9e240a9839bf8c50f62f7ed973338514432666cf53c5d30c9ca'}, {'start': 690, 'end': 703, 'label': 'SKILLS', 'label_upper': 'SKILLS', 'text': 'Subsea design', 'id': '8d49e70de7e2da1c6543deeb14bff85ac90e6512b4c0d9e43ba48acccd6ebd93'}, {'start': 705, 'end': 717, 'label': 'SKILLS', 'label_upper': 'SKILLS', 'text': 'construction', 'id': '7a01adea4b8a1084a7aebd7f3256080c31a3013aa5ad7638add2136d6f3e5371'}, {'start': 719, 'end': 731, 'label': 'SKILLS', 'label_upper': 'SKILLS', 'text': 'installation', 'id': '561f0a3d84e3c5cf22f379912b7513b40c4e08edd60dc8b936a407db52b9579c'}, {'start': 733, 'end': 742, 'label': 'SKILLS', 'label_upper': 'SKILLS', 'text': 'operation', 'id': '9bf5a24e4aa779981ac41f1a0f8713ec758e12df95fa51866869849c06e51175'}, {'start': 747, 'end': 762, 'label': 'SKILLS', 'label_upper': 'SKILLS', 'text': 'decommissioning', 'id': '016420dff2ee9f9453c5d7fc8a500f32c23cd6ad305dda12bc66ba203a79bf56'}, {'start': 799, 'end': 824, 'label': 'SKILLS', 'label_upper': 'SKILLS', 'text': 'Subsea Production Systems', 'id': '31755232ab6846681588f706e9bc5d8f3e75388ebc860852c3e8c0acac8cefe3'}], 'text_sha256': '9446d2f28aff6df52d6657d9dbad8d068a93634a65b90be9c739e2317af1afe7'}, {'text': \"A popular hotel located in Norfolk which is a very busy operation has a position available for a Chef de Partie Role: A Chef de Partie capable of coping well under pressure is required to join the kitchen team at a hotel that has an excellent reputation for offering high quality dining to its guests and has gained accreditations in the main restaurant.The busy Brasserie style restaurant regularly serves **** covers for lunch and dinner so this Chef de Partie role will require you to be organised on your section ensuring all prep is complete to the standards expected by the Head Chef before each service. Requirements: All Chef de Parties applying for this role must have a strong background with highlights previous AA Rosette experience in a high volume operation.A candidate who is self motivated and capable of working well in a busy team of chefs would be ideal for this role. Benefits Include: Uniform Provided Meals on Duty Accommodation Available Share of Tips – IRO **** Per Month Excellent Opportunities To Progress If you are interested in this position or would like information on the other positions we are recruiting for or any temporary assignments please send your CV by clicking on the 'apply now' button below and our consultant Sean Bosley will do his utmost to assist you in your search for employment. In line with the requirements of the Asylum Immigration Act **** all applicants must be eligible to live and work in the UK. Documented evidence of the eligibility will be required from candidates as part of the recruitment process. This job was originally posted as www.caterer.com/JobSeeking/ChefdePartieAwardWinningDiningLiveInShareofTips_job****\", 'annotations': [{'start': 27, 'end': 34, 'label': 'SKILLS', 'label_upper': 'SKILLS', 'text': 'Norfolk', 'id': '9b3c6d54d564fd43e89fd1e6ce192f812ffd04409df7174f86a14d083b12bf4e'}, {'start': 97, 'end': 116, 'label': 'SKILLS', 'label_upper': 'SKILLS', 'text': 'Chef de Partie Role', 'id': 'be3b8829932790ee94df1de621793e7f1e1250e48a9b287c686ef353880f2228'}, {'start': 120, 'end': 134, 'label': 'SKILLS', 'label_upper': 'SKILLS', 'text': 'Chef de Partie', 'id': '6bc04b690f49d9b72b0b7c85916c21f9058b0c9c64b4581ba1b840334fa6d209'}, {'start': 197, 'end': 204, 'label': 'SKILLS', 'label_upper': 'SKILLS', 'text': 'kitchen', 'id': '3171d89ad00530ffa19a244f040e9401a657903cbbbca724996b90a56df2c189'}, {'start': 363, 'end': 389, 'label': 'SKILLS', 'label_upper': 'SKILLS', 'text': 'Brasserie style restaurant', 'id': '0bcf46711a4509a7c2ffe46057d0f6f60ad5db22ea23b0cae0832c4286b6380b'}, {'start': 448, 'end': 467, 'label': 'SKILLS', 'label_upper': 'SKILLS', 'text': 'Chef de Partie role', 'id': 'aeabd68d7c3f13891107efb8dc2debef5098bef114d2bbddf325cd9b53343f88'}, {'start': 723, 'end': 733, 'label': 'SKILLS', 'label_upper': 'SKILLS', 'text': 'AA Rosette', 'id': '3896e39042752c789db38c697cf7d8d62b90184977344dda9466b5ea907c5a32'}, {'start': 975, 'end': 976, 'label': 'SKILLS', 'label_upper': 'SKILLS', 'text': '–', 'id': 'd4f85d36757c12f0c6dab57721287f327efbfc46ea8c0f820301067f8627fc0f'}, {'start': 977, 'end': 980, 'label': 'SKILLS', 'label_upper': 'SKILLS', 'text': 'IRO', 'id': '83dff2fa27a3cb7a7f1cac3d22466b5fa0ef4ef65c256bfd6410f45a2d4bbc01'}], 'text_sha256': 'f879d8c43eee4b23c2936ed64aa3dde77bf55b27dab97b7fb43e9c50e8f83b0d'}, {'text': 'Senior Fatigue Static stress (metallic or composite) Finite element analysis. Senior Fatigue Aerospace  ****K****K (dep on exp)  benefits package Bristol, Avon', 'annotations': [{'start': 15, 'end': 28, 'label': 'SKILLS', 'label_upper': 'SKILLS', 'text': 'Static stress', 'id': 'de4099d56454d064aead534842ae3753eee22148e31a9da880baf8fb654d0410'}, {'start': 30, 'end': 38, 'label': 'SKILLS', 'label_upper': 'SKILLS', 'text': 'metallic', 'id': 'a70a59b3981af385be12b293222f27848fbbb0387d05504b02c7f2012d02e67f'}, {'start': 42, 'end': 51, 'label': 'SKILLS', 'label_upper': 'SKILLS', 'text': 'composite', 'id': 'ad1e26066637d18f500318563e09c716fe3b0f6cf646ce32fb4c79f995aa15f5'}, {'start': 53, 'end': 76, 'label': 'SKILLS', 'label_upper': 'SKILLS', 'text': 'Finite element analysis', 'id': 'eba790a200e5b72eb16f8adca046c6f1b35632b76b86f2565b17f1bfc0f97d33'}, {'start': 146, 'end': 153, 'label': 'SKILLS', 'label_upper': 'SKILLS', 'text': 'Bristol', 'id': '13d4b96b6ee361b737e22404aeecca45f322ba7d4c2c425b8f31cc85f2d3808a'}], 'text_sha256': '581ef9ce30ca2891c9552b26e15729c39ba784e4af27f3d38f2b794a5f4be605'}, {'text': 'We are currently recruiting on behalf of our client who have an exciting opportunity available for a CE Produce CE Control Panel designs  Genera Arrangements, Detail drawings, Schematics Diagrams, Interlock Diagrams for typically PLC Specification of hardware and production of parts list. Manufacturing specification. Ensure Company policies and procedures are being applied across the projects. Manage the interface between CE Communicate at all levels with both internal and external customers to meet their expectations while meeting the project budget and programme constraints. Support the Lead Engineer in the delivery of scope to budget and programme. Provide technical expertise to tenders as and when required. Provide input to the development of the CE&l function and resource', 'annotations': [{'start': 17, 'end': 27, 'label': 'SKILLS', 'label_upper': 'SKILLS', 'text': 'recruiting', 'id': '438287bf455f1f46d6d96d642f02b53006f933f291673e27cad69ba6f98767ec'}, {'start': 101, 'end': 111, 'label': 'SKILLS', 'label_upper': 'SKILLS', 'text': 'CE Produce', 'id': 'dd256269b2806ca767f180e7b9337bac2341dea17ce862ad95adbece1594a699'}, {'start': 112, 'end': 128, 'label': 'SKILLS', 'label_upper': 'SKILLS', 'text': 'CE Control Panel', 'id': 'b84b21d731462543db9e253aa22afdebf574270ccb5169a34e1f87ba84098221'}, {'start': 129, 'end': 136, 'label': 'SKILLS', 'label_upper': 'SKILLS', 'text': 'designs', 'id': 'dbb1831acb4510ce16adf38e18d29183b75c57eee729b8ced985b40e17ca39e5'}, {'start': 138, 'end': 157, 'label': 'SKILLS', 'label_upper': 'SKILLS', 'text': 'Genera Arrangements', 'id': '9fb72c23121c7289785979581feaf3d4c5517da1fcf1f48dc6631e3e7a9db292'}, {'start': 159, 'end': 174, 'label': 'SKILLS', 'label_upper': 'SKILLS', 'text': 'Detail drawings', 'id': '47e96efb81324080267e66aa9f098097b62d7aa6b1264e6619bf4b259cc50336'}, {'start': 176, 'end': 195, 'label': 'SKILLS', 'label_upper': 'SKILLS', 'text': 'Schematics Diagrams', 'id': '0f6df13cafbe0c4841987e04ded2d346dcf7214aa4f8c9831603c78cbb1598af'}, {'start': 197, 'end': 215, 'label': 'SKILLS', 'label_upper': 'SKILLS', 'text': 'Interlock Diagrams', 'id': '73356a6bcae666ea53d9626f5986cce475fd13fdfa1a65be5b450bfe06a8e964'}, {'start': 426, 'end': 440, 'label': 'SKILLS', 'label_upper': 'SKILLS', 'text': 'CE Communicate', 'id': '5819b878daf249b723db5c0e94bba66261ea148320d01c66124d60f78f17fba3'}, {'start': 761, 'end': 765, 'label': 'SKILLS', 'label_upper': 'SKILLS', 'text': 'CE&l', 'id': 'ca20501a95813494d6a833d5a2f705048bd69d333f0dd326bf0a2d4eb88d1b47'}], 'text_sha256': 'c6ca41ab94030204ff0349c4e376771e90802fb5133b82ebfab18613c47ae355'}, {'text': 'Lead Engineers (Stress) Our client provide high end technical and project management services to the prime aerospace companies. Our client are now seeking a Aerospace Senior Stress Engineers to join their growing Aerospace structures teams in Bristol This position of Aerospace Stress Engineer is ideally suited to high calibre engineering graduates with significant and appropriate post graduate experience. You will be expected to take full ownership of technical tasks and to lead others in their execution. Candidates will ideally be degree qualified (min ****:****) or equivalent, and have experience of the technical leadership of projects to time, quality and cost objectives. Aerospace industry experience is an advantage however the calibre of the applicant is more important therefore applicants with Structural Analysis experience from any domain are welcomed. A demonstrable track record in one or more of the following technical disciplines: Fatigue and damage tolerance Static stress analysis (metallic or composite) Finite element analysis. Candidates must also be able to demonstrate: Technical awareness in the field of aerospace structures Effective client management and communication skills Project team leadership Commercial awareness Adaptability Innovative thinking You will need to show a willingness to work outside normal office hours on occasions and flexibility for working from the office, home and clients premises. Ideally you will also: Be pursuing Chartership through the IMechE or RAeS Lead Engineers (Stress) Location: Bristol Salary **** to ****', 'annotations': [{'start': 0, 'end': 14, 'label': 'SKILLS', 'label_upper': 'SKILLS', 'text': 'Lead Engineers', 'id': '5bc0b998daa17ebbbed01f2197b45d3cd894337a70f4ea15a9d9cf82d2e537be'}, {'start': 16, 'end': 22, 'label': 'SKILLS', 'label_upper': 'SKILLS', 'text': 'Stress', 'id': '2319cd90fbab1065767f57378abbc36f6e2e47325acbf01365003069bbcc2553'}, {'start': 66, 'end': 84, 'label': 'SKILLS', 'label_upper': 'SKILLS', 'text': 'project management', 'id': '5a7c3011cba026a3ec113edc43b7dcbb8a6227cf735ac9a88e14ea9321a676a4'}, {'start': 157, 'end': 190, 'label': 'SKILLS', 'label_upper': 'SKILLS', 'text': 'Aerospace Senior Stress Engineers', 'id': '4f740228a4f2f32336f9577db97612277722629d6af2a58d16a5b943d5561bde'}, {'start': 213, 'end': 233, 'label': 'SKILLS', 'label_upper': 'SKILLS', 'text': 'Aerospace structures', 'id': 'cd2b98dff8d0c28adb5d371a049167c5c913adeb5c9d98dd7d359db550967567'}, {'start': 268, 'end': 293, 'label': 'SKILLS', 'label_upper': 'SKILLS', 'text': 'Aerospace Stress Engineer', 'id': '8684795a868f2f5e8c15380ae758ffcbe934c8ce610392db82edfae652ae0ed2'}, {'start': 684, 'end': 702, 'label': 'SKILLS', 'label_upper': 'SKILLS', 'text': 'Aerospace industry', 'id': '4063cd1d8f7867e5335979148bebdc10c7fb01e910231770f9370d8384430756'}, {'start': 811, 'end': 830, 'label': 'SKILLS', 'label_upper': 'SKILLS', 'text': 'Structural Analysis', 'id': '1309500ab9ebcae9afb61c3a0740a7e4fdeabb5005d40aea1d3609c8010e0ce4'}, {'start': 955, 'end': 962, 'label': 'SKILLS', 'label_upper': 'SKILLS', 'text': 'Fatigue', 'id': 'c83bec1f02849a09edc642f2d4226774435f1233abc8b85f7d559ba9d022f570'}, {'start': 967, 'end': 983, 'label': 'SKILLS', 'label_upper': 'SKILLS', 'text': 'damage tolerance', 'id': '6407b888f309538e08df00f0142f6d9cc70c72ecb7ea228f9823a0e0cf27ad66'}, {'start': 984, 'end': 1006, 'label': 'SKILLS', 'label_upper': 'SKILLS', 'text': 'Static stress analysis', 'id': '155f3465c850410290f95d1a935faf05efa5d0c1b93f0c20d7721a98d3e81a2f'}, {'start': 1008, 'end': 1016, 'label': 'SKILLS', 'label_upper': 'SKILLS', 'text': 'metallic', 'id': 'a70a59b3981af385be12b293222f27848fbbb0387d05504b02c7f2012d02e67f'}, {'start': 1020, 'end': 1029, 'label': 'SKILLS', 'label_upper': 'SKILLS', 'text': 'composite', 'id': 'ad1e26066637d18f500318563e09c716fe3b0f6cf646ce32fb4c79f995aa15f5'}, {'start': 1031, 'end': 1054, 'label': 'SKILLS', 'label_upper': 'SKILLS', 'text': 'Finite element analysis', 'id': 'eba790a200e5b72eb16f8adca046c6f1b35632b76b86f2565b17f1bfc0f97d33'}, {'start': 1137, 'end': 1157, 'label': 'SKILLS', 'label_upper': 'SKILLS', 'text': 'aerospace structures', 'id': '3f45681b838ab995449e750604b6fbc1477d6d080f5ec41b18df49cfde0761bf'}, {'start': 1168, 'end': 1185, 'label': 'SKILLS', 'label_upper': 'SKILLS', 'text': 'client management', 'id': '5e0f6b003a399bb65fee47fcbecf1630f8d7f4deead3ddf1a73d5d6f9ce67955'}, {'start': 1190, 'end': 1203, 'label': 'SKILLS', 'label_upper': 'SKILLS', 'text': 'communication', 'id': 'd4e16994df9002e53294f899714d7137592fd13ba986fcd070214dc85d659968'}, {'start': 1211, 'end': 1234, 'label': 'SKILLS', 'label_upper': 'SKILLS', 'text': 'Project team leadership', 'id': 'e9f7973cc5dd6056db3fe836cf9319ba5f9bf73f229f2f03833b83675c85f835'}, {'start': 1235, 'end': 1245, 'label': 'SKILLS', 'label_upper': 'SKILLS', 'text': 'Commercial', 'id': 'ea7d0b7634355f44b9d8380584d66eac54061f00a6d89342a5175c07eaeb4e19'}, {'start': 1505, 'end': 1511, 'label': 'SKILLS', 'label_upper': 'SKILLS', 'text': 'IMechE', 'id': '2102d690bba793c3b51fd2ec9c59e4cdd5cbd785f486d9419b72ad7ab0872603'}, {'start': 1520, 'end': 1543, 'label': 'SKILLS', 'label_upper': 'SKILLS', 'text': 'Lead Engineers (Stress)', 'id': '1707d3674d9357b43f6b71e81678fa02583d5c77dfac211b07704844783f721f'}], 'text_sha256': 'e920b6c43a6f9a85ae13446719b173545d937b0408c79f438bc1079f97529732'}, {'text': ' HOTEL AND CONFERENCE VENUE CHAIN  RELIEF CHEF DE PARTIE  SURREY  1 WEEK ASSIGNMENT  **** STAR  IMMEDIATE START  Our client on this assignment is a **** star property, part of a hotel and conference venue chain. Based in Croydon, Surrey; they are looking for a Relief Chef de Partie to assist them initially for a period of 1 week, but with a view to this being extended as the week progresses. This is a VERY busy operation, catering for C B and lunches of up to **** covers, and dinner for up to **** covers. The successful Relief Chef de Partie must be used to catering from fresh in high volume, and will be working in a team of 11 chefs. Accommodation is available on this assignment for those of you who do not live in the local area, but for those of you who do live close by, it may also be more suited to someone with their own transport as it is not walking distance to any public transport links. To apply for this position or for further information, please forward a copy of your CV to us quoting job reference TW/256 on all correspondence. Contact details: enquiriestowngatepersonnel.co.uk www.towngatepersonnel.co.uk   We value all applications, however due to the volume of response we are currently receiving, we are only able to contact candidates whose skills and experience closely match the requirements of our clients. In line with the requirements of the Asylum and Immigration Act **** all applicants must be eligible to live and work in the UK . As part of the recruitment process, you will be asked to provide documented evidence of eligibility. In line with the requirements of the Employment Agencies Act **** Towngate Personnel are prohibited from charging workseekers for work finding services. This job was originally posted as www.caterer.com/JobSeeking/ReliefChefdePartieCroydonSurreyLivein_job****', 'annotations': [{'start': 1, 'end': 6, 'label': 'SKILLS', 'label_upper': 'SKILLS', 'text': 'HOTEL', 'id': 'ab5470ec3214b1f3afbd1594a3606cfd84ea69af33f0a347df7959ec3ad8f962'}, {'start': 66, 'end': 72, 'label': 'EXPERIENCE', 'label_upper': 'EXPERIENCE', 'text': '1 WEEK', 'id': 'b872640f8c86fca92550b38cd270c22dc0c4e2fa4c5eb50acbd14d97e83b17b9'}, {'start': 178, 'end': 183, 'label': 'SKILLS', 'label_upper': 'SKILLS', 'text': 'hotel', 'id': '8d53a3e3672946bd802cd2037f1d5da8a61081910cb4054a882b905a51550125'}, {'start': 188, 'end': 204, 'label': 'SKILLS', 'label_upper': 'SKILLS', 'text': 'conference venue', 'id': '91e3a69310aaaa07acf1bb1cfd67638f8587b098e5d01a62816d1775836f19e5'}, {'start': 261, 'end': 282, 'label': 'SKILLS', 'label_upper': 'SKILLS', 'text': 'Relief Chef de Partie', 'id': '362fcd8067689109864699b53248cfc9ecd134e1f6e929a5e610dd6e774d7519'}, {'start': 324, 'end': 330, 'label': 'EXPERIENCE', 'label_upper': 'EXPERIENCE', 'text': '1 week', 'id': 'c8cc522340b984b57109fd8b120419170b4301baead519e2a8fd65736b9ddd41'}, {'start': 426, 'end': 434, 'label': 'SKILLS', 'label_upper': 'SKILLS', 'text': 'catering', 'id': '8c57205167043162451195e2c0273e115c71b4619442c034a2b52ffe2722f20c'}, {'start': 447, 'end': 454, 'label': 'SKILLS', 'label_upper': 'SKILLS', 'text': 'lunches', 'id': 'f02b40899780deb54a7e38275366aa926ac54394a71d7ac8b58f2a9fe602bb4b'}, {'start': 481, 'end': 487, 'label': 'SKILLS', 'label_upper': 'SKILLS', 'text': 'dinner', 'id': 'dda209044ad44962b012ececcc2cb2f7efd35c72d22465586e294b6493bc21c1'}, {'start': 533, 'end': 547, 'label': 'SKILLS', 'label_upper': 'SKILLS', 'text': 'Chef de Partie', 'id': '6bc04b690f49d9b72b0b7c85916c21f9058b0c9c64b4581ba1b840334fa6d209'}, {'start': 564, 'end': 572, 'label': 'SKILLS', 'label_upper': 'SKILLS', 'text': 'catering', 'id': '8c57205167043162451195e2c0273e115c71b4619442c034a2b52ffe2722f20c'}], 'text_sha256': '524b5e18d0b812f0b34634634c6f996f94f87d82a1a7e65f5e973f3445df1a77'}, {'text': 'Senior Control and Instrumentation Engineer . Reading, Berkshire. experienced C Senior Control and Instrumentation Engineer. Essential  Degree (or equivalent) in Electrical, Electronic or Control and Instrumentation Engineering or other relevant discipline. Chartered Engineer. Able to demonstrate sound technical experience. A sufficient and appropriate level of building services and controls experience gained within a client organisation, engineering consultancy or equipment supplier. Project management, including controls, planning and estimating and preparation of deliverable/work package. Desirable Working within a multidiscipline engineering team and having a general appreciation of other disciplines constraints and requirements. Nuclear safety case issues and NII site licence conditions. Building management systems. Fire detection and alarms. Telecoms. UPS. Experience of the nuclear industry. Experience of IEE Wiring Regulations 17th edition BS**** Experience of transmission (****kV) electrical plant and configuration design. Experience of distribution (up to ****kV) electrical plant and configuration design. Experience of protection and control design at Transmission and Distribution voltages. The Individual A confident and professional manner. Excellent communication skills. Ability to use initiative and demonstrate creativity. Self motivated and committed to further study. Ability to work within a team. Responsibilities Senior Controls and Instrumentation Engineer  Responsible for managing the control and instrumentation, and potentially electrical, design aspects of substation refurbishment/rekit projects and leading electrical/control aspects of major infrastructure projects from system studies and investment appraisals through to detailed design Act as Project Manager on design projects or on electrical, control and instrumentation aspects of multidisciplinary utilities infrastructure design projects. Mentoring and technical development of a team of junior engineers. Lead on the production of major bids. Cost and time control and reporting. Liaison with clients, suppliers and contractors. Specification, selection and justification of relevant equipment. Generation of Front End Engineering Design packages. Relevant equipment assessment and justification reports. Production of Commissioning Procedures. Production of Technical Specifications. Control Panel/Room Layout Reliability Assessment and C Reading, Berkshire', 'annotations': [{'start': 0, 'end': 14, 'label': 'SKILLS', 'label_upper': 'SKILLS', 'text': 'Senior Control', 'id': '4a7eee04e435af6d2ce61801c1087141ceaedeca4f8e72927ca2778a69997b91'}, {'start': 19, 'end': 34, 'label': 'SKILLS', 'label_upper': 'SKILLS', 'text': 'Instrumentation', 'id': '59084e21477976dc4a9384be4ee587779e1ad44655a4f4dcdf4245d5461f4c03'}, {'start': 46, 'end': 53, 'label': 'SKILLS', 'label_upper': 'SKILLS', 'text': 'Reading', 'id': '463816d07097e1a7cf27b86cf03082ee49f6ce2d87663cd27a24d7254a83e76a'}, {'start': 87, 'end': 94, 'label': 'SKILLS', 'label_upper': 'SKILLS', 'text': 'Control', 'id': '32d7e82082479b8cb546187ff0af11e4915e4d17bc28e02dca7425288b79badd'}, {'start': 99, 'end': 123, 'label': 'SKILLS', 'label_upper': 'SKILLS', 'text': 'Instrumentation Engineer', 'id': '72785cad36461c4d7db67530dbd9aef251c348371d691b2cf28082d69e0648a0'}, {'start': 162, 'end': 172, 'label': 'DIPLOMA_MAJOR', 'label_upper': 'DIPLOMA_MAJOR', 'text': 'Electrical', 'id': 'a2eefbcb6bbec8b46c025493c9509ee2e0f1da0e93c1b41382ada032cdf00a9d'}, {'start': 174, 'end': 184, 'label': 'DIPLOMA_MAJOR', 'label_upper': 'DIPLOMA_MAJOR', 'text': 'Electronic', 'id': 'a284c4f1684aadafdf8d50fc232d831882ee957473e148922bb59dba21b5967b'}, {'start': 188, 'end': 195, 'label': 'SKILLS', 'label_upper': 'SKILLS', 'text': 'Control', 'id': '32d7e82082479b8cb546187ff0af11e4915e4d17bc28e02dca7425288b79badd'}, {'start': 200, 'end': 227, 'label': 'SKILLS', 'label_upper': 'SKILLS', 'text': 'Instrumentation Engineering', 'id': '91a308199d70c38789367bacec19bf0468efba5e52c10064185ae5cfe9133c62'}, {'start': 364, 'end': 381, 'label': 'SKILLS', 'label_upper': 'SKILLS', 'text': 'building services', 'id': '3b09ccf230e9ae4323f62cf342a032e41d68111486076b185f3cc29c8890d149'}, {'start': 386, 'end': 394, 'label': 'SKILLS', 'label_upper': 'SKILLS', 'text': 'controls', 'id': '1e2135d1b50f14d3d3d6cbe24a4294bcb9e4d5d3c28eb1ce4980ff2a17c5d3b6'}, {'start': 470, 'end': 488, 'label': 'SKILLS', 'label_upper': 'SKILLS', 'text': 'equipment supplier', 'id': '4d02684b9fdd480f4f71702ad6e2a0660bb59a53280cb662f773b786db0207d5'}, {'start': 490, 'end': 508, 'label': 'SKILLS', 'label_upper': 'SKILLS', 'text': 'Project management', 'id': '329b3c4622ceca563324d35b682171e5a4c8fc30a405532ef21a01605fc2d6d8'}, {'start': 520, 'end': 528, 'label': 'SKILLS', 'label_upper': 'SKILLS', 'text': 'controls', 'id': '1e2135d1b50f14d3d3d6cbe24a4294bcb9e4d5d3c28eb1ce4980ff2a17c5d3b6'}, {'start': 530, 'end': 538, 'label': 'SKILLS', 'label_upper': 'SKILLS', 'text': 'planning', 'id': '423614833cbdcee4c5d05f43520d155207e5f272fddb7225ada6caf7d6904dc2'}, {'start': 543, 'end': 553, 'label': 'SKILLS', 'label_upper': 'SKILLS', 'text': 'estimating', 'id': '2b320f111b8323963b342843fc9d867754c522bdf7e3863ddca559ac1a7b7ea7'}, {'start': 558, 'end': 569, 'label': 'SKILLS', 'label_upper': 'SKILLS', 'text': 'preparation', 'id': '1d6f04754f9f8c5464cbdd2db0f5dff60b5e4f289b2c3d70a64c35a2cb54e297'}, {'start': 744, 'end': 770, 'label': 'SKILLS', 'label_upper': 'SKILLS', 'text': 'Nuclear safety case issues', 'id': '740138a7ab003ffca62272bbe8d7e0e0af57bb8583a1cb2fad9b58c2560cdf60'}, {'start': 775, 'end': 802, 'label': 'SKILLS', 'label_upper': 'SKILLS', 'text': 'NII site licence conditions', 'id': '6cdedb40a316419922882b0fc5cddc8f40478a3299a7ec5e8d547762d50373d5'}, {'start': 804, 'end': 831, 'label': 'SKILLS', 'label_upper': 'SKILLS', 'text': 'Building management systems', 'id': '1910a0412a0bf9a37b2732cb4dfc53ceed019b29fee9eac34607c97640bb0f37'}, {'start': 833, 'end': 847, 'label': 'SKILLS', 'label_upper': 'SKILLS', 'text': 'Fire detection', 'id': '5366d4f8facaa838f5f51d3e602aa2873f30b94c58dda0d225cb4dde35531639'}, {'start': 852, 'end': 858, 'label': 'SKILLS', 'label_upper': 'SKILLS', 'text': 'alarms', 'id': '423c13f0ca66593d44a1a450404698aaed3f9ab5a0137addc74a90c2e9c6a683'}, {'start': 860, 'end': 868, 'label': 'SKILLS', 'label_upper': 'SKILLS', 'text': 'Telecoms', 'id': '74d8d14dabf30db228b9a9b476a3cdd79d5976908be22efb46d4a8910f34a215'}, {'start': 870, 'end': 873, 'label': 'SKILLS', 'label_upper': 'SKILLS', 'text': 'UPS', 'id': '356479227b434e954ce1051229558fbd4b38a3d1a6bea130a0c22c5927e39ee6'}, {'start': 893, 'end': 909, 'label': 'SKILLS', 'label_upper': 'SKILLS', 'text': 'nuclear industry', 'id': 'a7e0245bc610226523ea67ae0a07c2c43d6758464551491cabff2a535bdf12ff'}, {'start': 925, 'end': 935, 'label': 'SKILLS', 'label_upper': 'SKILLS', 'text': 'IEE Wiring', 'id': '150f883fba6310388d18672a2e03e08084224765e78295d4134a92d748d2aade'}, {'start': 961, 'end': 963, 'label': 'DIPLOMA', 'label_upper': 'DIPLOMA', 'text': 'BS', 'id': '1980e84621c5b257d1c0c0e2478d3b053ebca4c797c022876998a74fca6df69c'}, {'start': 982, 'end': 1003, 'label': 'SKILLS', 'label_upper': 'SKILLS', 'text': 'transmission (****kV)', 'id': 'd1f23b61149a1d1c904d2ac244008e724f3fb989b07e314a72a4f844864b80e6'}, {'start': 1004, 'end': 1020, 'label': 'SKILLS', 'label_upper': 'SKILLS', 'text': 'electrical plant', 'id': '341dfbf69ef9605cde68c355bb037eda4455f26357206d25a87e6a45e9712cea'}, {'start': 1025, 'end': 1045, 'label': 'SKILLS', 'label_upper': 'SKILLS', 'text': 'configuration design', 'id': 'c8bebbfbccb615f9fccc661b931549c87b6403052d305f5b43cb22d505475553'}, {'start': 1061, 'end': 1088, 'label': 'SKILLS', 'label_upper': 'SKILLS', 'text': 'distribution (up to ****kV)', 'id': '9b6dbfc788069eac7537e07f8033108c0d3093bc77ad8da67168c58bbc6c9b29'}, {'start': 1089, 'end': 1105, 'label': 'SKILLS', 'label_upper': 'SKILLS', 'text': 'electrical plant', 'id': '341dfbf69ef9605cde68c355bb037eda4455f26357206d25a87e6a45e9712cea'}, {'start': 1110, 'end': 1130, 'label': 'SKILLS', 'label_upper': 'SKILLS', 'text': 'configuration design', 'id': 'c8bebbfbccb615f9fccc661b931549c87b6403052d305f5b43cb22d505475553'}, {'start': 1146, 'end': 1156, 'label': 'SKILLS', 'label_upper': 'SKILLS', 'text': 'protection', 'id': '433c3507c372d907a357bb02e4632eebc85431812c03aa44ac31b6a66dc26e91'}, {'start': 1161, 'end': 1175, 'label': 'SKILLS', 'label_upper': 'SKILLS', 'text': 'control design', 'id': '2b9b1ad57c2786a7f7a5dd371bc3caadfe0cf4381d213f67ddb3c3d6b587f018'}, {'start': 1179, 'end': 1191, 'label': 'SKILLS', 'label_upper': 'SKILLS', 'text': 'Transmission', 'id': '3e10134259ab3285d4cefc9af923cbcc07f59b4024d37ef44ceea70c7a695a5d'}, {'start': 1281, 'end': 1294, 'label': 'SKILLS', 'label_upper': 'SKILLS', 'text': 'communication', 'id': 'd4e16994df9002e53294f899714d7137592fd13ba986fcd070214dc85d659968'}, {'start': 1459, 'end': 1467, 'label': 'SKILLS', 'label_upper': 'SKILLS', 'text': 'Controls', 'id': '799c269135742a36ae48dddf3a69c47c7d2a428a34e351f6da93ae6490101b47'}, {'start': 1472, 'end': 1487, 'label': 'SKILLS', 'label_upper': 'SKILLS', 'text': 'Instrumentation', 'id': '59084e21477976dc4a9384be4ee587779e1ad44655a4f4dcdf4245d5461f4c03'}, {'start': 1527, 'end': 1534, 'label': 'SKILLS', 'label_upper': 'SKILLS', 'text': 'control', 'id': '0fcd568a5cb9bdb4677b69354b11ee415af8f784519cff3da49a26f84eaee7f2'}, {'start': 1539, 'end': 1554, 'label': 'SKILLS', 'label_upper': 'SKILLS', 'text': 'instrumentation', 'id': '62f83620a259e48e4ae05b1bb597a5b6e62e2a9a62033bf4144a4670d9aabca4'}, {'start': 1572, 'end': 1582, 'label': 'SKILLS', 'label_upper': 'SKILLS', 'text': 'electrical', 'id': 'ed157486b875d92c25c90df1c09bafd0c9455035a3f800abc513545af7d48e3d'}, {'start': 1584, 'end': 1590, 'label': 'SKILLS', 'label_upper': 'SKILLS', 'text': 'design', 'id': 'a77de8a6daa1129516b14c8ca1e233a51a8414b202eac7c8acfbb9b485046ad4'}, {'start': 1602, 'end': 1641, 'label': 'SKILLS', 'label_upper': 'SKILLS', 'text': 'substation refurbishment/rekit projects', 'id': '78b3588ad7bf2dd8a67a943a4208417a5a37135ffb25e786bef0a6da2d1183a0'}, {'start': 1646, 'end': 1672, 'label': 'SKILLS', 'label_upper': 'SKILLS', 'text': 'leading electrical/control', 'id': 'be4aa26a2e7b6899bddd962b9cc03e5d1b21e38fe9102d9ad646450f3322e255'}, {'start': 1719, 'end': 1733, 'label': 'SKILLS', 'label_upper': 'SKILLS', 'text': 'system studies', 'id': 'f09991464449d0e1f302474a949205c887cad23a20967c79aa437d24393ebee8'}, {'start': 1738, 'end': 1759, 'label': 'SKILLS', 'label_upper': 'SKILLS', 'text': 'investment appraisals', 'id': '25bf1a93fd3301ede9fc4d30e140d449757c67f818237377487c4e25c8a4be92'}, {'start': 1771, 'end': 1786, 'label': 'SKILLS', 'label_upper': 'SKILLS', 'text': 'detailed design', 'id': '1eb1e6c04deaf904245d52a5ea00be51ea63dd23faabe59b81b8be057675f082'}, {'start': 1794, 'end': 1809, 'label': 'SKILLS', 'label_upper': 'SKILLS', 'text': 'Project Manager', 'id': '0a6f51e8898aea3073805197fb1ca622a908f7fac07e587e0c7c77aab295d86b'}, {'start': 1813, 'end': 1819, 'label': 'SKILLS', 'label_upper': 'SKILLS', 'text': 'design', 'id': 'a77de8a6daa1129516b14c8ca1e233a51a8414b202eac7c8acfbb9b485046ad4'}, {'start': 1835, 'end': 1845, 'label': 'SKILLS', 'label_upper': 'SKILLS', 'text': 'electrical', 'id': 'ed157486b875d92c25c90df1c09bafd0c9455035a3f800abc513545af7d48e3d'}, {'start': 1847, 'end': 1854, 'label': 'SKILLS', 'label_upper': 'SKILLS', 'text': 'control', 'id': '0fcd568a5cb9bdb4677b69354b11ee415af8f784519cff3da49a26f84eaee7f2'}, {'start': 1904, 'end': 1944, 'label': 'SKILLS', 'label_upper': 'SKILLS', 'text': 'utilities infrastructure design projects', 'id': 'def429f11d235c4851876f43e7c172123950036ba71f4169ab65e31b2906f566'}, {'start': 1946, 'end': 1955, 'label': 'SKILLS', 'label_upper': 'SKILLS', 'text': 'Mentoring', 'id': '2fc55e2195cb1c28e952694074ae390023154d96c72d3eba2969e2f320c723bf'}, {'start': 1960, 'end': 1981, 'label': 'SKILLS', 'label_upper': 'SKILLS', 'text': 'technical development', 'id': '67226889898f94424ec9a61ef2beee138a1df3321cd9ccef8ff1dae42bc92a29'}, {'start': 2060, 'end': 2072, 'label': 'SKILLS', 'label_upper': 'SKILLS', 'text': 'time control', 'id': 'c6fba29207fd994504373c4dab668b4ab34b0a32125daf23af934fc9ae8b6c60'}, {'start': 2077, 'end': 2086, 'label': 'SKILLS', 'label_upper': 'SKILLS', 'text': 'reporting', 'id': '637d7becb9983937d58f53af972dc87373f3b7a2010cfb6805880f1463fcef8d'}, {'start': 2217, 'end': 2245, 'label': 'SKILLS', 'label_upper': 'SKILLS', 'text': 'Front End Engineering Design', 'id': '08bcfa5973bf4f4fbfca77d5855c5c228e20cfc706e382dfc7aca1471bc833d5'}, {'start': 2265, 'end': 2285, 'label': 'SKILLS', 'label_upper': 'SKILLS', 'text': 'equipment assessment', 'id': '2156039f2a5e8ce5732728b0713f4eca8db457d3d77822981057e1e95e09b5bf'}, {'start': 2327, 'end': 2351, 'label': 'SKILLS', 'label_upper': 'SKILLS', 'text': 'Commissioning Procedures', 'id': 'ea7f3f4cbaf8a19a4258e9192396478cfa07b607a5b45a62d01e9e72cf954442'}, {'start': 2353, 'end': 2391, 'label': 'SKILLS', 'label_upper': 'SKILLS', 'text': 'Production of Technical Specifications', 'id': 'ce5c50b3dc8b545485c609ae96f782b97f7862b4ad69937029b6673786b8047a'}, {'start': 2393, 'end': 2406, 'label': 'SKILLS', 'label_upper': 'SKILLS', 'text': 'Control Panel', 'id': '46bb10c9866364195ac203016ee46f88ed475cd531e03065a55cc1db69fe63dc'}, {'start': 2407, 'end': 2441, 'label': 'SKILLS', 'label_upper': 'SKILLS', 'text': 'Room Layout Reliability Assessment', 'id': '4a89f395bf604862be066d9f7c4ce5799b2a6dbf739ad37115e035caf69052bd'}, {'start': 2446, 'end': 2455, 'label': 'SKILLS', 'label_upper': 'SKILLS', 'text': 'C Reading', 'id': 'e8c369053236f5aefb45f477570bb5ff5fa31387033570e10cdbc14912a68b1d'}], 'text_sha256': '5b308a17f8046f3b769f81c29b22437e31b36a3bbbefa4608103d6326b354bd7'}, {'text': 'Control and Instrumentation Engineer / C Reading. Our client is seeking applications from experienced C Control and Instrumentation Engineer / C Degree (or equivalent) in Electrical, Electronic or Control and Instrumentation Engineering or other relevant discipline. Chartered Engineer. Able to demonstrate sound technical experience. A sufficient and appropriate level of building services and controls experience gained within a client organisation, engineering consultancy or equipment supplier. Project management, including controls, planning and estimating and preparation of deliverable/work package. Desirable Working within a multidiscipline engineering team and having a general appreciation of other disciplines constraints and requirements. Nuclear safety case issues and NII site licence conditions. Building management systems. Fire detection and alarms. Telecoms. UPS. Experience of the nuclear industry. Experience of IEE Wiring Regulations 17th edition BS**** Experience of transmission (****kV) electrical plant and configuration design. Experience of distribution (up to ****kV) electrical plant and configuration design. Experience of protection and control design at Transmission and Distribution voltages. The Individual Control and Instrumentation Engineer  A confident and professional manner. Excellent communication skills. Ability to use initiative and demonstrate creativity. Self motivated and committed to further study. Ability to work within a team. Responsibilities  Responsible for providing technical input into the control and instrumentation, and potentially electrical, design aspects of substation refurbishment/rekit projects and leading electrical/control aspects of major infrastructure projects from system studies and investment appraisals through to detailed design. Liaison with clients, suppliers and contractors. Provide technical input into the specification, selection and justification of relevant equipment. Generation of Front End Engineering Design packages. Provide technical input into the relevant equipment assessment and justification reports. Production of Commissioning Procedures. Production of Technical Specifications. Control and Instrumentation Engineer / C Location Reading, Berkshire', 'annotations': [{'start': 0, 'end': 7, 'label': 'SKILLS', 'label_upper': 'SKILLS', 'text': 'Control', 'id': '32d7e82082479b8cb546187ff0af11e4915e4d17bc28e02dca7425288b79badd'}, {'start': 12, 'end': 36, 'label': 'SKILLS', 'label_upper': 'SKILLS', 'text': 'Instrumentation Engineer', 'id': '72785cad36461c4d7db67530dbd9aef251c348371d691b2cf28082d69e0648a0'}, {'start': 39, 'end': 48, 'label': 'SKILLS', 'label_upper': 'SKILLS', 'text': 'C Reading', 'id': 'e8c369053236f5aefb45f477570bb5ff5fa31387033570e10cdbc14912a68b1d'}, {'start': 102, 'end': 111, 'label': 'SKILLS', 'label_upper': 'SKILLS', 'text': 'C Control', 'id': 'ca77c133790ef76b91356c9fc382e0556fcefc96e8447ee2efcd0ec7cd96986b'}, {'start': 116, 'end': 140, 'label': 'SKILLS', 'label_upper': 'SKILLS', 'text': 'Instrumentation Engineer', 'id': '72785cad36461c4d7db67530dbd9aef251c348371d691b2cf28082d69e0648a0'}, {'start': 171, 'end': 181, 'label': 'DIPLOMA_MAJOR', 'label_upper': 'DIPLOMA_MAJOR', 'text': 'Electrical', 'id': 'a2eefbcb6bbec8b46c025493c9509ee2e0f1da0e93c1b41382ada032cdf00a9d'}, {'start': 183, 'end': 193, 'label': 'SKILLS', 'label_upper': 'SKILLS', 'text': 'Electronic', 'id': 'a284c4f1684aadafdf8d50fc232d831882ee957473e148922bb59dba21b5967b'}, {'start': 197, 'end': 204, 'label': 'SKILLS', 'label_upper': 'SKILLS', 'text': 'Control', 'id': '32d7e82082479b8cb546187ff0af11e4915e4d17bc28e02dca7425288b79badd'}, {'start': 209, 'end': 236, 'label': 'SKILLS', 'label_upper': 'SKILLS', 'text': 'Instrumentation Engineering', 'id': '91a308199d70c38789367bacec19bf0468efba5e52c10064185ae5cfe9133c62'}, {'start': 373, 'end': 390, 'label': 'SKILLS', 'label_upper': 'SKILLS', 'text': 'building services', 'id': '3b09ccf230e9ae4323f62cf342a032e41d68111486076b185f3cc29c8890d149'}, {'start': 395, 'end': 403, 'label': 'SKILLS', 'label_upper': 'SKILLS', 'text': 'controls', 'id': '1e2135d1b50f14d3d3d6cbe24a4294bcb9e4d5d3c28eb1ce4980ff2a17c5d3b6'}, {'start': 452, 'end': 475, 'label': 'SKILLS', 'label_upper': 'SKILLS', 'text': 'engineering consultancy', 'id': '3c7bfdc54dc94c70bee25580571a4e501a4d593a932ec20903c61977b25dc2ad'}, {'start': 479, 'end': 497, 'label': 'SKILLS', 'label_upper': 'SKILLS', 'text': 'equipment supplier', 'id': '4d02684b9fdd480f4f71702ad6e2a0660bb59a53280cb662f773b786db0207d5'}, {'start': 499, 'end': 517, 'label': 'SKILLS', 'label_upper': 'SKILLS', 'text': 'Project management', 'id': '329b3c4622ceca563324d35b682171e5a4c8fc30a405532ef21a01605fc2d6d8'}, {'start': 529, 'end': 537, 'label': 'SKILLS', 'label_upper': 'SKILLS', 'text': 'controls', 'id': '1e2135d1b50f14d3d3d6cbe24a4294bcb9e4d5d3c28eb1ce4980ff2a17c5d3b6'}, {'start': 539, 'end': 547, 'label': 'SKILLS', 'label_upper': 'SKILLS', 'text': 'planning', 'id': '423614833cbdcee4c5d05f43520d155207e5f272fddb7225ada6caf7d6904dc2'}, {'start': 552, 'end': 562, 'label': 'SKILLS', 'label_upper': 'SKILLS', 'text': 'estimating', 'id': '2b320f111b8323963b342843fc9d867754c522bdf7e3863ddca559ac1a7b7ea7'}, {'start': 567, 'end': 578, 'label': 'SKILLS', 'label_upper': 'SKILLS', 'text': 'preparation', 'id': '1d6f04754f9f8c5464cbdd2db0f5dff60b5e4f289b2c3d70a64c35a2cb54e297'}, {'start': 753, 'end': 779, 'label': 'SKILLS', 'label_upper': 'SKILLS', 'text': 'Nuclear safety case issues', 'id': '740138a7ab003ffca62272bbe8d7e0e0af57bb8583a1cb2fad9b58c2560cdf60'}, {'start': 784, 'end': 811, 'label': 'SKILLS', 'label_upper': 'SKILLS', 'text': 'NII site licence conditions', 'id': '6cdedb40a316419922882b0fc5cddc8f40478a3299a7ec5e8d547762d50373d5'}, {'start': 813, 'end': 840, 'label': 'SKILLS', 'label_upper': 'SKILLS', 'text': 'Building management systems', 'id': '1910a0412a0bf9a37b2732cb4dfc53ceed019b29fee9eac34607c97640bb0f37'}, {'start': 842, 'end': 856, 'label': 'SKILLS', 'label_upper': 'SKILLS', 'text': 'Fire detection', 'id': '5366d4f8facaa838f5f51d3e602aa2873f30b94c58dda0d225cb4dde35531639'}, {'start': 861, 'end': 867, 'label': 'SKILLS', 'label_upper': 'SKILLS', 'text': 'alarms', 'id': '423c13f0ca66593d44a1a450404698aaed3f9ab5a0137addc74a90c2e9c6a683'}, {'start': 869, 'end': 877, 'label': 'SKILLS', 'label_upper': 'SKILLS', 'text': 'Telecoms', 'id': '74d8d14dabf30db228b9a9b476a3cdd79d5976908be22efb46d4a8910f34a215'}, {'start': 879, 'end': 882, 'label': 'SKILLS', 'label_upper': 'SKILLS', 'text': 'UPS', 'id': '356479227b434e954ce1051229558fbd4b38a3d1a6bea130a0c22c5927e39ee6'}, {'start': 902, 'end': 918, 'label': 'SKILLS', 'label_upper': 'SKILLS', 'text': 'nuclear industry', 'id': 'a7e0245bc610226523ea67ae0a07c2c43d6758464551491cabff2a535bdf12ff'}, {'start': 934, 'end': 944, 'label': 'SKILLS', 'label_upper': 'SKILLS', 'text': 'IEE Wiring', 'id': '150f883fba6310388d18672a2e03e08084224765e78295d4134a92d748d2aade'}, {'start': 970, 'end': 972, 'label': 'DIPLOMA', 'label_upper': 'DIPLOMA', 'text': 'BS', 'id': '1980e84621c5b257d1c0c0e2478d3b053ebca4c797c022876998a74fca6df69c'}, {'start': 991, 'end': 1012, 'label': 'SKILLS', 'label_upper': 'SKILLS', 'text': 'transmission (****kV)', 'id': 'd1f23b61149a1d1c904d2ac244008e724f3fb989b07e314a72a4f844864b80e6'}, {'start': 1013, 'end': 1029, 'label': 'SKILLS', 'label_upper': 'SKILLS', 'text': 'electrical plant', 'id': '341dfbf69ef9605cde68c355bb037eda4455f26357206d25a87e6a45e9712cea'}, {'start': 1034, 'end': 1054, 'label': 'SKILLS', 'label_upper': 'SKILLS', 'text': 'configuration design', 'id': 'c8bebbfbccb615f9fccc661b931549c87b6403052d305f5b43cb22d505475553'}, {'start': 1070, 'end': 1097, 'label': 'SKILLS', 'label_upper': 'SKILLS', 'text': 'distribution (up to ****kV)', 'id': '9b6dbfc788069eac7537e07f8033108c0d3093bc77ad8da67168c58bbc6c9b29'}, {'start': 1098, 'end': 1114, 'label': 'SKILLS', 'label_upper': 'SKILLS', 'text': 'electrical plant', 'id': '341dfbf69ef9605cde68c355bb037eda4455f26357206d25a87e6a45e9712cea'}, {'start': 1119, 'end': 1139, 'label': 'SKILLS', 'label_upper': 'SKILLS', 'text': 'configuration design', 'id': 'c8bebbfbccb615f9fccc661b931549c87b6403052d305f5b43cb22d505475553'}, {'start': 1155, 'end': 1165, 'label': 'SKILLS', 'label_upper': 'SKILLS', 'text': 'protection', 'id': '433c3507c372d907a357bb02e4632eebc85431812c03aa44ac31b6a66dc26e91'}, {'start': 1170, 'end': 1184, 'label': 'SKILLS', 'label_upper': 'SKILLS', 'text': 'control design', 'id': '2b9b1ad57c2786a7f7a5dd371bc3caadfe0cf4381d213f67ddb3c3d6b587f018'}, {'start': 1188, 'end': 1200, 'label': 'SKILLS', 'label_upper': 'SKILLS', 'text': 'Transmission', 'id': '3e10134259ab3285d4cefc9af923cbcc07f59b4024d37ef44ceea70c7a695a5d'}, {'start': 1205, 'end': 1226, 'label': 'SKILLS', 'label_upper': 'SKILLS', 'text': 'Distribution voltages', 'id': '47322786f2a3cdf4b4d26f8617c0a593dff53c044f2abe23a5a4d0cc1f8e8cd1'}, {'start': 1243, 'end': 1250, 'label': 'SKILLS', 'label_upper': 'SKILLS', 'text': 'Control', 'id': '32d7e82082479b8cb546187ff0af11e4915e4d17bc28e02dca7425288b79badd'}, {'start': 1255, 'end': 1279, 'label': 'SKILLS', 'label_upper': 'SKILLS', 'text': 'Instrumentation Engineer', 'id': '72785cad36461c4d7db67530dbd9aef251c348371d691b2cf28082d69e0648a0'}, {'start': 1328, 'end': 1341, 'label': 'SKILLS', 'label_upper': 'SKILLS', 'text': 'communication', 'id': 'd4e16994df9002e53294f899714d7137592fd13ba986fcd070214dc85d659968'}, {'start': 1551, 'end': 1558, 'label': 'SKILLS', 'label_upper': 'SKILLS', 'text': 'control', 'id': '0fcd568a5cb9bdb4677b69354b11ee415af8f784519cff3da49a26f84eaee7f2'}, {'start': 1563, 'end': 1578, 'label': 'SKILLS', 'label_upper': 'SKILLS', 'text': 'instrumentation', 'id': '62f83620a259e48e4ae05b1bb597a5b6e62e2a9a62033bf4144a4670d9aabca4'}, {'start': 1596, 'end': 1606, 'label': 'SKILLS', 'label_upper': 'SKILLS', 'text': 'electrical', 'id': 'ed157486b875d92c25c90df1c09bafd0c9455035a3f800abc513545af7d48e3d'}, {'start': 1608, 'end': 1614, 'label': 'SKILLS', 'label_upper': 'SKILLS', 'text': 'design', 'id': 'a77de8a6daa1129516b14c8ca1e233a51a8414b202eac7c8acfbb9b485046ad4'}, {'start': 1626, 'end': 1665, 'label': 'SKILLS', 'label_upper': 'SKILLS', 'text': 'substation refurbishment/rekit projects', 'id': '78b3588ad7bf2dd8a67a943a4208417a5a37135ffb25e786bef0a6da2d1183a0'}, {'start': 1670, 'end': 1696, 'label': 'SKILLS', 'label_upper': 'SKILLS', 'text': 'leading electrical/control', 'id': 'be4aa26a2e7b6899bddd962b9cc03e5d1b21e38fe9102d9ad646450f3322e255'}, {'start': 1743, 'end': 1757, 'label': 'SKILLS', 'label_upper': 'SKILLS', 'text': 'system studies', 'id': 'f09991464449d0e1f302474a949205c887cad23a20967c79aa437d24393ebee8'}, {'start': 1762, 'end': 1783, 'label': 'SKILLS', 'label_upper': 'SKILLS', 'text': 'investment appraisals', 'id': '25bf1a93fd3301ede9fc4d30e140d449757c67f818237377487c4e25c8a4be92'}, {'start': 1795, 'end': 1810, 'label': 'SKILLS', 'label_upper': 'SKILLS', 'text': 'detailed design', 'id': '1eb1e6c04deaf904245d52a5ea00be51ea63dd23faabe59b81b8be057675f082'}, {'start': 1974, 'end': 2011, 'label': 'SKILLS', 'label_upper': 'SKILLS', 'text': 'Front End Engineering Design packages', 'id': 'fcc3d09691a7960acfd59786d254aab15eb078e0140d6344879b88fb1ce0e475'}, {'start': 2065, 'end': 2075, 'label': 'SKILLS', 'label_upper': 'SKILLS', 'text': 'assessment', 'id': '89c08f7a02989db85066486407e81228ddadae03a30b293e5298cd050bd92db7'}, {'start': 2080, 'end': 2101, 'label': 'SKILLS', 'label_upper': 'SKILLS', 'text': 'justification reports', 'id': '0d1e5185c69357f80cfc7c3239e29894af02ff232959e172eb198b4dab28fea4'}, {'start': 2117, 'end': 2141, 'label': 'SKILLS', 'label_upper': 'SKILLS', 'text': 'Commissioning Procedures', 'id': 'ea7f3f4cbaf8a19a4258e9192396478cfa07b607a5b45a62d01e9e72cf954442'}, {'start': 2143, 'end': 2181, 'label': 'SKILLS', 'label_upper': 'SKILLS', 'text': 'Production of Technical Specifications', 'id': 'ce5c50b3dc8b545485c609ae96f782b97f7862b4ad69937029b6673786b8047a'}, {'start': 2183, 'end': 2190, 'label': 'SKILLS', 'label_upper': 'SKILLS', 'text': 'Control', 'id': '32d7e82082479b8cb546187ff0af11e4915e4d17bc28e02dca7425288b79badd'}, {'start': 2195, 'end': 2223, 'label': 'SKILLS', 'label_upper': 'SKILLS', 'text': 'Instrumentation Engineer / C', 'id': '69d17a4515ba60e5f509caedfddb9f2d08edb1fcf61475946862b76b9e4308b8'}], 'text_sha256': 'c7b69786036a7c054dacb5c4427f7dba69dee07e6b2fe1782b9a70611cdf0555'}, {'text': 'Electrical / ICA Engineer Industry: Environment / Environmental Restoration, Water / Watershed Management We are currently looking for an ambitious Electrical / ICA Engineer with a broadranging background in the Water industry to join our team in Epsom. This role offers a chance for an ambitious engineer to join a busy team delivering work to a variety of clients including Southern Water, Thames Water. Projects include feasibility and outline design for Southern Water as part of our Centres of Excellence framework and also the opportunity to start work on our PR**** business planning opportunities for clients including Southern Water and Thames Water. In addition to this there are a variety of opportunities to work on international projects, based in the UK, but with potential for travel abroad to the Middle East, as an example. Work is also increasing in noncore sectors such as nuclear and oil & gas and there may be opportunities to work on projects within these sectors Requirements The appointed engineer must have a degree in a relevant discipline such as Electrical Engineering. Ideally applicants will be Chartered with the IET or alternative appropriate body, however we will consider candidates who are close to achieving chartership via the most appropriate route. The individual will be able to provide evidence of an ongoing programme of CPD. The individual candidate will be computer literate and able to work effectively work with the basic Microsoft suit of programmes as a minimum. Candidates must have extensive outline and detailed design experience within the Water/Wastewater Industry sector including areas such as potable water production and distribution, waste water treatment and sludge treatment and pumping systems. While we are ideally looking for a candidate with both electrical and ICA experience we are willing to consider candidates with only electrical experience. In addition, some or all of the following would be expected: experience of designing and working with LV electrical equipment (in addition HV experience is desirable), experience of working with WIMES specifications, candidates must be able to demonstrate design experience of: LV electrical design, including MCCs, distribution boards, cable systems etc, HV systems including transformers, RMU, circuit breakers, cable selection and sizing, protection coordination and grading, PLC and SCADA systems design and specification, field bus networks, building services, liaising with utility providers, concepts and requirements of DSEAR/ATEX compliance Responsibilities The role of a Electrical/ICA Engineer within the MEP business will require the individual to undertake the following duties: Project management of small and medium projects and sub projects on larger contracts, Control of budgets and project programmes under the supervision of a principal engineer, Feasibility, outline and detailed electrical and C&I design work, Electrical switchgear panel/MCC specification and design, Control and instrumentation systems functional specification and design, Understanding, interpreting and responding to the needs of other engineering disciplines such as mechanical, process and civil, Production of electrical, control and instrumentation design documentation Personal Qualities Excellent interpersonal, verbal and written communication skills. Electrical / ICA Engineer Location: Epsom, Surrey Salary: **** to **** Industry: Environment / Environmental Restoration, Water / Watershed Management', 'annotations': [{'start': 0, 'end': 10, 'label': 'SKILLS', 'label_upper': 'SKILLS', 'text': 'Electrical', 'id': 'a2eefbcb6bbec8b46c025493c9509ee2e0f1da0e93c1b41382ada032cdf00a9d'}, {'start': 13, 'end': 16, 'label': 'SKILLS', 'label_upper': 'SKILLS', 'text': 'ICA', 'id': '7556b904d2033b7ef193294c2223f4c162c9e6337fc1a37cb5a926c605ab639e'}, {'start': 36, 'end': 75, 'label': 'SKILLS', 'label_upper': 'SKILLS', 'text': 'Environment / Environmental Restoration', 'id': 'eeb63dbb4443edd51a36d7118f6a5eda05017b21772c8e55f11a4a5495b46356'}, {'start': 77, 'end': 105, 'label': 'SKILLS', 'label_upper': 'SKILLS', 'text': 'Water / Watershed Management', 'id': '196159d19b24acc7fea1d53b7fdca8f6b0d2fe28c828fd6301f2ccec135bae23'}, {'start': 148, 'end': 158, 'label': 'SKILLS', 'label_upper': 'SKILLS', 'text': 'Electrical', 'id': 'a2eefbcb6bbec8b46c025493c9509ee2e0f1da0e93c1b41382ada032cdf00a9d'}, {'start': 161, 'end': 164, 'label': 'SKILLS', 'label_upper': 'SKILLS', 'text': 'ICA', 'id': '7556b904d2033b7ef193294c2223f4c162c9e6337fc1a37cb5a926c605ab639e'}, {'start': 212, 'end': 226, 'label': 'SKILLS', 'label_upper': 'SKILLS', 'text': 'Water industry', 'id': 'e49342a869038eb8618a7427cd34dd19119b4c19c017aa6a7a1f3071a299f93a'}, {'start': 376, 'end': 390, 'label': 'SKILLS', 'label_upper': 'SKILLS', 'text': 'Southern Water', 'id': '4821d6b76f21f8c50d87129f519d68a47336e2a0403573cb4b508473554a9b38'}, {'start': 392, 'end': 404, 'label': 'SKILLS', 'label_upper': 'SKILLS', 'text': 'Thames Water', 'id': '738ac5e372a26805c2be43d3537fb60086abf14cbc9cdbd0dfc5a2786ab2b6c6'}, {'start': 423, 'end': 434, 'label': 'SKILLS', 'label_upper': 'SKILLS', 'text': 'feasibility', 'id': 'acf7b2891c73a9e5711274c1360ff50b136014e057e05494016731729ffdc119'}, {'start': 439, 'end': 453, 'label': 'SKILLS', 'label_upper': 'SKILLS', 'text': 'outline design', 'id': '68df40b545d206e14a9c399eec8993afc3fc472c628e52509ba80945951be309'}, {'start': 458, 'end': 472, 'label': 'SKILLS', 'label_upper': 'SKILLS', 'text': 'Southern Water', 'id': '4821d6b76f21f8c50d87129f519d68a47336e2a0403573cb4b508473554a9b38'}, {'start': 566, 'end': 568, 'label': 'SKILLS', 'label_upper': 'SKILLS', 'text': 'PR', 'id': 'c3972ccd735419073803fcacedfe2ea2c95f6c1df260354e9f83aa1befff1efb'}, {'start': 573, 'end': 590, 'label': 'SKILLS', 'label_upper': 'SKILLS', 'text': 'business planning', 'id': 'b749b5ef764db258b2ba75b29d384bf6946e69005f7d0c0ad8fa86ae6082eed2'}, {'start': 627, 'end': 641, 'label': 'SKILLS', 'label_upper': 'SKILLS', 'text': 'Southern Water', 'id': '4821d6b76f21f8c50d87129f519d68a47336e2a0403573cb4b508473554a9b38'}, {'start': 646, 'end': 658, 'label': 'SKILLS', 'label_upper': 'SKILLS', 'text': 'Thames Water', 'id': '738ac5e372a26805c2be43d3537fb60086abf14cbc9cdbd0dfc5a2786ab2b6c6'}, {'start': 728, 'end': 750, 'label': 'SKILLS', 'label_upper': 'SKILLS', 'text': 'international projects', 'id': '0efa529a88ddda5f4ba88a2a94cbb76dc156020eea7256a853d165189742226f'}, {'start': 892, 'end': 899, 'label': 'SKILLS', 'label_upper': 'SKILLS', 'text': 'nuclear', 'id': '901ad244ed23ebc2c4205cbbd904ed42ead03a1b2d27d22a7c76bf1b30e1f334'}, {'start': 904, 'end': 913, 'label': 'SKILLS', 'label_upper': 'SKILLS', 'text': 'oil & gas', 'id': 'b7a9f8c8adc1ac5fdfb91ff9e2dc9d9959ccce76756ccd73f03a69901c8e6438'}, {'start': 1074, 'end': 1096, 'label': 'DIPLOMA_MAJOR', 'label_upper': 'DIPLOMA_MAJOR', 'text': 'Electrical Engineering', 'id': '9392ddb5b5d4a271db09fee2d6e2cfc78e733d36eeec19f5da0ffe2d15d8fc67'}, {'start': 1363, 'end': 1366, 'label': 'SKILLS', 'label_upper': 'SKILLS', 'text': 'CPD', 'id': 'cf668787d58c0a12253c806520c335a12bb5978412cff3b1c7b3cbda75fedbf9'}, {'start': 1401, 'end': 1418, 'label': 'SKILLS', 'label_upper': 'SKILLS', 'text': 'computer literate', 'id': 'c32892a5e0a4081d913733480e6e7b743d0ce92c67205db3dea5327776f7d95e'}, {'start': 1542, 'end': 1549, 'label': 'SKILLS', 'label_upper': 'SKILLS', 'text': 'outline', 'id': '318678825324247b8176d59f83c30bd94d23d2e3ac5cd4a743b0683ee58b88cd'}, {'start': 1554, 'end': 1569, 'label': 'SKILLS', 'label_upper': 'SKILLS', 'text': 'detailed design', 'id': '1eb1e6c04deaf904245d52a5ea00be51ea63dd23faabe59b81b8be057675f082'}, {'start': 1592, 'end': 1617, 'label': 'SKILLS', 'label_upper': 'SKILLS', 'text': 'Water/Wastewater Industry', 'id': '18cf8d8df56880909bac44f67ad202bd41eced02aaf5a343484a8a0a97804d6a'}, {'start': 1649, 'end': 1673, 'label': 'SKILLS', 'label_upper': 'SKILLS', 'text': 'potable water production', 'id': 'd4896fdc13ddad954d9fa36e751d8d6c76176b3e816e2e85601bc6e88faeeb1c'}, {'start': 1678, 'end': 1690, 'label': 'SKILLS', 'label_upper': 'SKILLS', 'text': 'distribution', 'id': '93354845030274cd4bf1686abd60ab28ec52e1a792fa6f7ccb9cbd0ddff53d12'}, {'start': 1692, 'end': 1713, 'label': 'SKILLS', 'label_upper': 'SKILLS', 'text': 'waste water treatment', 'id': 'adfd50c2b02e4557eff16654304b56a21a55e4b5b00d557034a222ae66ef2f2a'}, {'start': 1718, 'end': 1734, 'label': 'SKILLS', 'label_upper': 'SKILLS', 'text': 'sludge treatment', 'id': '60d362d466033313f0df516f3ca02de39f625dcfe2dde05fe89e4d97de095296'}, {'start': 1739, 'end': 1754, 'label': 'SKILLS', 'label_upper': 'SKILLS', 'text': 'pumping systems', 'id': '67061a0278087eef3947ece8286533f105687421f8c3c0234873bdcf1c029224'}, {'start': 1811, 'end': 1821, 'label': 'SKILLS', 'label_upper': 'SKILLS', 'text': 'electrical', 'id': 'ed157486b875d92c25c90df1c09bafd0c9455035a3f800abc513545af7d48e3d'}, {'start': 1826, 'end': 1829, 'label': 'SKILLS', 'label_upper': 'SKILLS', 'text': 'ICA', 'id': '7556b904d2033b7ef193294c2223f4c162c9e6337fc1a37cb5a926c605ab639e'}, {'start': 1889, 'end': 1899, 'label': 'SKILLS', 'label_upper': 'SKILLS', 'text': 'electrical', 'id': 'ed157486b875d92c25c90df1c09bafd0c9455035a3f800abc513545af7d48e3d'}, {'start': 1987, 'end': 1996, 'label': 'SKILLS', 'label_upper': 'SKILLS', 'text': 'designing', 'id': '19a6a9dc4d3816ae4dc4b103f4225c742d8ccf13fe278f5af9a6361e7edd8719'}, {'start': 2014, 'end': 2037, 'label': 'SKILLS', 'label_upper': 'SKILLS', 'text': 'LV electrical equipment', 'id': '353131af9de529882935f3693c236782b4bc4255d34b389df192bfdf6f6b278f'}, {'start': 2051, 'end': 2053, 'label': 'SKILLS', 'label_upper': 'SKILLS', 'text': 'HV', 'id': '9436e0e0f06d5b45c32962befd369a7d0ed555eb77f6cd18f0153e51d54de600'}, {'start': 2107, 'end': 2127, 'label': 'SKILLS', 'label_upper': 'SKILLS', 'text': 'WIMES specifications', 'id': 'f047ab524098934ecf127c86b17ab2dd7bfd3756f578eef3e753c0294878a35f'}, {'start': 2168, 'end': 2174, 'label': 'SKILLS', 'label_upper': 'SKILLS', 'text': 'design', 'id': 'a77de8a6daa1129516b14c8ca1e233a51a8414b202eac7c8acfbb9b485046ad4'}, {'start': 2190, 'end': 2210, 'label': 'SKILLS', 'label_upper': 'SKILLS', 'text': 'LV electrical design', 'id': 'daab4186017ce942187a7ce8ec5e1d215617a2956c9fd684a152a2e1aaca9e8e'}, {'start': 2222, 'end': 2226, 'label': 'SKILLS', 'label_upper': 'SKILLS', 'text': 'MCCs', 'id': '329cac732cd5bdf1edc6c29db8d5fad6bf0becafcf8b24a490ca5058a5f60c62'}, {'start': 2228, 'end': 2247, 'label': 'SKILLS', 'label_upper': 'SKILLS', 'text': 'distribution boards', 'id': '871d9ce615626b66719a8808e4c2329107dfbef2abfc7fec014f0111e081ff67'}, {'start': 2249, 'end': 2262, 'label': 'SKILLS', 'label_upper': 'SKILLS', 'text': 'cable systems', 'id': '313ec0293310bb0f27088a52c44bc66b63896c535d54747a48c48b83326c6699'}, {'start': 2268, 'end': 2278, 'label': 'SKILLS', 'label_upper': 'SKILLS', 'text': 'HV systems', 'id': '16e001344c6c96fd83ba144d3b8dfe2c3c4dc6e04ad2c25987b068a0f6b96b4e'}, {'start': 2289, 'end': 2301, 'label': 'SKILLS', 'label_upper': 'SKILLS', 'text': 'transformers', 'id': 'ad9b0702bc418499b1f2fb4eea3f87e9aaf24aeb315f12b79dd2e9efaa9bda20'}, {'start': 2303, 'end': 2306, 'label': 'SKILLS', 'label_upper': 'SKILLS', 'text': 'RMU', 'id': 'ed519756bbcb88ddd38979935b3a62adc4b53195af554cd0abafe08318aff733'}, {'start': 2308, 'end': 2324, 'label': 'SKILLS', 'label_upper': 'SKILLS', 'text': 'circuit breakers', 'id': 'e8005e7d4185ad0686e69ce85aa677a0a6b71ef6c591c03e99e5e9ab1d4533de'}, {'start': 2326, 'end': 2341, 'label': 'SKILLS', 'label_upper': 'SKILLS', 'text': 'cable selection', 'id': '434d6385929f1284712ee43f5e36e61dc663ef7a0134f0d9864f85e96f1135b3'}, {'start': 2346, 'end': 2352, 'label': 'SKILLS', 'label_upper': 'SKILLS', 'text': 'sizing', 'id': 'ca3eb1da136dc1f53766f30de8e639ff1624ab841eee1990c9498d75846cb0aa'}, {'start': 2354, 'end': 2377, 'label': 'SKILLS', 'label_upper': 'SKILLS', 'text': 'protection coordination', 'id': 'e93c409eb1ca5308f40cf19f929acfe02a1caf2bad686ec87da6c6a2e0156ea6'}, {'start': 2382, 'end': 2389, 'label': 'SKILLS', 'label_upper': 'SKILLS', 'text': 'grading', 'id': '6160ea07e61044cd646e0af685e484fad35d53bb59257731b953216453989918'}, {'start': 2391, 'end': 2394, 'label': 'SKILLS', 'label_upper': 'SKILLS', 'text': 'PLC', 'id': 'ce1d73449bd71b54041bdc80b384660873ef5dec872ff613a0a9a291994b15a1'}, {'start': 2399, 'end': 2419, 'label': 'SKILLS', 'label_upper': 'SKILLS', 'text': 'SCADA systems design', 'id': '909277c64c5198219b4efe1bec7a119d6b715bca6a250f9da411a93411e7a7b7'}, {'start': 2424, 'end': 2437, 'label': 'SKILLS', 'label_upper': 'SKILLS', 'text': 'specification', 'id': '83ae2f5a38db4ea1ec02e0210a84469fdc50dafe1b6a08a6d0904027baf6f32e'}, {'start': 2439, 'end': 2457, 'label': 'SKILLS', 'label_upper': 'SKILLS', 'text': 'field bus networks', 'id': '64732dc90518fcef77fa60f026cce5557daa2a9eb2bdb668511134ae88f67e4b'}, {'start': 2459, 'end': 2476, 'label': 'SKILLS', 'label_upper': 'SKILLS', 'text': 'building services', 'id': '3b09ccf230e9ae4323f62cf342a032e41d68111486076b185f3cc29c8890d149'}, {'start': 2478, 'end': 2509, 'label': 'SKILLS', 'label_upper': 'SKILLS', 'text': 'liaising with utility providers', 'id': '47926554395b94cd41cdaf2148a92a87ecd47a9fd9c219a8d6e57e423c6c7e48'}, {'start': 2511, 'end': 2519, 'label': 'SKILLS', 'label_upper': 'SKILLS', 'text': 'concepts', 'id': 'd78523ad4a6a736cef7d6dba788a47916ca7253bc956ec5395691de076089136'}, {'start': 2593, 'end': 2603, 'label': 'SKILLS', 'label_upper': 'SKILLS', 'text': 'Electrical', 'id': 'a2eefbcb6bbec8b46c025493c9509ee2e0f1da0e93c1b41382ada032cdf00a9d'}, {'start': 2604, 'end': 2607, 'label': 'SKILLS', 'label_upper': 'SKILLS', 'text': 'ICA', 'id': '7556b904d2033b7ef193294c2223f4c162c9e6337fc1a37cb5a926c605ab639e'}, {'start': 2704, 'end': 2722, 'label': 'SKILLS', 'label_upper': 'SKILLS', 'text': 'Project management', 'id': '329b3c4622ceca563324d35b682171e5a4c8fc30a405532ef21a01605fc2d6d8'}, {'start': 2756, 'end': 2768, 'label': 'SKILLS', 'label_upper': 'SKILLS', 'text': 'sub projects', 'id': '6cea6b3924970b66419a838af22724731723f6b402f40a577236c347d5655a5e'}, {'start': 2790, 'end': 2797, 'label': 'SKILLS', 'label_upper': 'SKILLS', 'text': 'Control', 'id': '32d7e82082479b8cb546187ff0af11e4915e4d17bc28e02dca7425288b79badd'}, {'start': 2801, 'end': 2808, 'label': 'SKILLS', 'label_upper': 'SKILLS', 'text': 'budgets', 'id': 'eefa0849e5f5590b3544bbe88ea61eb9b5244649ecc79b88c36a75133b330695'}, {'start': 2813, 'end': 2831, 'label': 'SKILLS', 'label_upper': 'SKILLS', 'text': 'project programmes', 'id': 'a933e1f44add2d15a363b156952c3cff4d09236e009e8b674bd827f26fde10e2'}, {'start': 2892, 'end': 2899, 'label': 'SKILLS', 'label_upper': 'SKILLS', 'text': 'outline', 'id': '318678825324247b8176d59f83c30bd94d23d2e3ac5cd4a743b0683ee58b88cd'}, {'start': 2913, 'end': 2923, 'label': 'SKILLS', 'label_upper': 'SKILLS', 'text': 'electrical', 'id': 'ed157486b875d92c25c90df1c09bafd0c9455035a3f800abc513545af7d48e3d'}, {'start': 2928, 'end': 2931, 'label': 'SKILLS', 'label_upper': 'SKILLS', 'text': 'C&I', 'id': 'ff8d4a204784c531e9bfac6d05865d7c4b13edfc0cbfb6a4f04ed645f8cca54a'}, {'start': 2932, 'end': 2938, 'label': 'SKILLS', 'label_upper': 'SKILLS', 'text': 'design', 'id': 'a77de8a6daa1129516b14c8ca1e233a51a8414b202eac7c8acfbb9b485046ad4'}, {'start': 2945, 'end': 2966, 'label': 'SKILLS', 'label_upper': 'SKILLS', 'text': 'Electrical switchgear', 'id': 'dc9137380e32011da1b1049551fe17966c1d0b86324ce095d11d64e317198fdb'}, {'start': 2973, 'end': 2976, 'label': 'SKILLS', 'label_upper': 'SKILLS', 'text': 'MCC', 'id': '7038db1aaa2faed8bb696ddab4af05ce3dad5985b94df9eb79858c248b5c1594'}, {'start': 2977, 'end': 2990, 'label': 'SKILLS', 'label_upper': 'SKILLS', 'text': 'specification', 'id': '83ae2f5a38db4ea1ec02e0210a84469fdc50dafe1b6a08a6d0904027baf6f32e'}, {'start': 2995, 'end': 3001, 'label': 'SKILLS', 'label_upper': 'SKILLS', 'text': 'design', 'id': 'a77de8a6daa1129516b14c8ca1e233a51a8414b202eac7c8acfbb9b485046ad4'}, {'start': 3003, 'end': 3010, 'label': 'SKILLS', 'label_upper': 'SKILLS', 'text': 'Control', 'id': '32d7e82082479b8cb546187ff0af11e4915e4d17bc28e02dca7425288b79badd'}, {'start': 3015, 'end': 3038, 'label': 'SKILLS', 'label_upper': 'SKILLS', 'text': 'instrumentation systems', 'id': '97f7268fd6441652825e54e86940fddadbb1bb30557611108a67235f73389a11'}, {'start': 3039, 'end': 3063, 'label': 'SKILLS', 'label_upper': 'SKILLS', 'text': 'functional specification', 'id': '8c0d9f9cf87ad051d216ae92bcd6f2e6f7dd1f503be62efcd749702b6b8a0a32'}, {'start': 3068, 'end': 3074, 'label': 'SKILLS', 'label_upper': 'SKILLS', 'text': 'design', 'id': 'a77de8a6daa1129516b14c8ca1e233a51a8414b202eac7c8acfbb9b485046ad4'}, {'start': 3076, 'end': 3089, 'label': 'SKILLS', 'label_upper': 'SKILLS', 'text': 'Understanding', 'id': '6bec5244819cfbe8df72d47698b8acd3181c92af1045e733d8d76811ac659795'}, {'start': 3091, 'end': 3103, 'label': 'SKILLS', 'label_upper': 'SKILLS', 'text': 'interpreting', 'id': '613f08455e9201cabcb754ab7dd9ac3afc624b7f415a28db06307dcec3a76ddc'}, {'start': 3108, 'end': 3118, 'label': 'SKILLS', 'label_upper': 'SKILLS', 'text': 'responding', 'id': '05ba0849c5c367a90e0b307de5fa9b749d6a47c015727ea0f9ce85e83742cada'}, {'start': 3173, 'end': 3183, 'label': 'SKILLS', 'label_upper': 'SKILLS', 'text': 'mechanical', 'id': '96ae0f875bd9062d5e263473590877f82d65b160571e0d4385c65d9a3e3c081f'}, {'start': 3185, 'end': 3192, 'label': 'SKILLS', 'label_upper': 'SKILLS', 'text': 'process', 'id': '19ed40bf62c399b8492efda5b9a9184b68cf4d9d4a165b38557b9d14201d0c03'}, {'start': 3197, 'end': 3202, 'label': 'SKILLS', 'label_upper': 'SKILLS', 'text': 'civil', 'id': '1272dcc42dbfeb2af89e74602906819ed69e7e47a712a8a11f67aa98b4136b43'}, {'start': 3204, 'end': 3214, 'label': 'SKILLS', 'label_upper': 'SKILLS', 'text': 'Production', 'id': '13a7c655a7d4213c0c7e77e83a7be6b267baa3f16937c401bf73371545cc9db8'}, {'start': 3218, 'end': 3228, 'label': 'SKILLS', 'label_upper': 'SKILLS', 'text': 'electrical', 'id': 'ed157486b875d92c25c90df1c09bafd0c9455035a3f800abc513545af7d48e3d'}, {'start': 3230, 'end': 3237, 'label': 'SKILLS', 'label_upper': 'SKILLS', 'text': 'control', 'id': '0fcd568a5cb9bdb4677b69354b11ee415af8f784519cff3da49a26f84eaee7f2'}, {'start': 3242, 'end': 3264, 'label': 'SKILLS', 'label_upper': 'SKILLS', 'text': 'instrumentation design', 'id': '9802a532a04d69ef2817724ec306efe19328811933461809c2803c76883cf90d'}, {'start': 3308, 'end': 3321, 'label': 'SKILLS', 'label_upper': 'SKILLS', 'text': 'interpersonal', 'id': '479f4f37f6244a32aa5feb769ac94c186aa7e3364a4a61aaaf3003f47230f964'}, {'start': 3323, 'end': 3329, 'label': 'SKILLS', 'label_upper': 'SKILLS', 'text': 'verbal', 'id': '713e270f9aebe83fe5c95998d46addd107d76e7549547dbed754d3f5ec977295'}, {'start': 3334, 'end': 3355, 'label': 'SKILLS', 'label_upper': 'SKILLS', 'text': 'written communication', 'id': '564dde8b03460fe5ea31a259395ef5d4d1f75338e3d7664ddf4fea9f043a9a4f'}, {'start': 3364, 'end': 3374, 'label': 'SKILLS', 'label_upper': 'SKILLS', 'text': 'Electrical', 'id': 'a2eefbcb6bbec8b46c025493c9509ee2e0f1da0e93c1b41382ada032cdf00a9d'}, {'start': 3377, 'end': 3380, 'label': 'SKILLS', 'label_upper': 'SKILLS', 'text': 'ICA', 'id': '7556b904d2033b7ef193294c2223f4c162c9e6337fc1a37cb5a926c605ab639e'}, {'start': 3407, 'end': 3413, 'label': 'SKILLS', 'label_upper': 'SKILLS', 'text': 'Surrey', 'id': '4d89fc5548951b8aa7d1ee4e0af8d563c530ec89ed82b805615680a64e8e3726'}, {'start': 3445, 'end': 3484, 'label': 'SKILLS', 'label_upper': 'SKILLS', 'text': 'Environment / Environmental Restoration', 'id': 'eeb63dbb4443edd51a36d7118f6a5eda05017b21772c8e55f11a4a5495b46356'}, {'start': 3486, 'end': 3514, 'label': 'SKILLS', 'label_upper': 'SKILLS', 'text': 'Water / Watershed Management', 'id': '196159d19b24acc7fea1d53b7fdca8f6b0d2fe28c828fd6301f2ccec135bae23'}], 'text_sha256': '9b7bb746b9450a329956116a2fcabfd92bca6920ad663a3e515f4fab28117884'}, {'text': \"Pastry Chef for **** red star **** rosette hotel  **** Beautiful Victorian Country House Hotel awarded **** red stars and **** rosettes is looking for a pastry chef who is technically proficient, yet still values the art of cooking wholesome meals. As pastry chef you will be working in a brigade of around **** chefs, with complete control over the pastry section, having the ability to cook your own desserts for a restaurant that is the top 50 in the UK. If you have rosette experience, but feel that your talent is not being utilised enough, maybe this is the perfect job for you. You don't necessarily need to be at **** rosette level, but the aspiration and ability to learn is paramount  this is a well sought after position, and only the best will be considered. Set in acres of gorgeous lawn, with an acclaimed Head Chef that runs a very neat kitchen with an amazing crew, this Hotel is offering an opportunity that should not be missed. If you work to a very high standard and take real pride in your culinary skills then you could be perfect for the job. You must be the kind to pour your heart and soul into the cooking of some of the finest food around. Doing so is made easy with the fact that there is live in available for just **** per month In this fiery and passionate trade, talented pastry chefs are valued highly. As such the salary is very competitive, but more appealing is the job itself. If you really have what it takes and want to aspire to bigger and better things, and really put your mark on a kitchen that has **** red stars and **** rosette acclaim, then email to apply. Ref ****CW Consultant Chris Wilson  / **** **** Want a quick job search without the hassle of registering then paste www.clearselection.co.uk/search.php to your web browser and enjoy the experience. We are always busy and are constantly receiving new instructions from a number of different client's nationwide, which makes it good for candidates and us. In the majority of cases we have visited the client's establishment and even spent work days with them and have a very enviable reputation for finding the best for the best. If you desire a professional, honest and calm approach with the reassurance that your application will be treated confidentially if requested, we look forward to working on your behalf. Our Consultants love their jobs and its always worth trying to contact them on their mobiles in the evenings or at weekends, if you are to busy during the day. Remember if they do not contact you within **** hours, unfortunately you have not been successful in your application for this position. Clear Selection Recruitment is part of the Clear Selection Group Est. **** This job was originally posted as www.caterer.com/JobSeeking/PastryCheffor****redstar****rosettehotel****_job****\", 'annotations': [{'start': 0, 'end': 11, 'label': 'SKILLS', 'label_upper': 'SKILLS', 'text': 'Pastry Chef', 'id': '99d4850e6f1b0f3b052b300e884a5b11fb43ac5d75a8add59eed27ad0ac3da2a'}, {'start': 65, 'end': 94, 'label': 'SKILLS', 'label_upper': 'SKILLS', 'text': 'Victorian Country House Hotel', 'id': 'b963091543cecd505016ced61258150d047fa4c93bcc225f1e7e3d4a1b1bd30a'}, {'start': 153, 'end': 159, 'label': 'SKILLS', 'label_upper': 'SKILLS', 'text': 'pastry', 'id': 'e8a10a5bb2a29d363e3c159b68a5628a0add9da7f3e1b24eb5b3123c8c769d4f'}, {'start': 224, 'end': 247, 'label': 'SKILLS', 'label_upper': 'SKILLS', 'text': 'cooking wholesome meals', 'id': 'ccde58667cf961f1f8cb9aced39380adaad752afba99cdecf2e46bd9334f2115'}, {'start': 252, 'end': 258, 'label': 'SKILLS', 'label_upper': 'SKILLS', 'text': 'pastry', 'id': 'e8a10a5bb2a29d363e3c159b68a5628a0add9da7f3e1b24eb5b3123c8c769d4f'}, {'start': 350, 'end': 356, 'label': 'SKILLS', 'label_upper': 'SKILLS', 'text': 'pastry', 'id': 'e8a10a5bb2a29d363e3c159b68a5628a0add9da7f3e1b24eb5b3123c8c769d4f'}, {'start': 388, 'end': 410, 'label': 'SKILLS', 'label_upper': 'SKILLS', 'text': 'cook your own desserts', 'id': '62027f810f77ee81f6a8696548d8679b16be91fdce1160aa504f065132e5c216'}, {'start': 470, 'end': 488, 'label': 'SKILLS', 'label_upper': 'SKILLS', 'text': 'rosette experience', 'id': '8e1deaf296740b687a30393f03693cf26f737ec2e75f87ad5ccc21191f1de76a'}, {'start': 787, 'end': 800, 'label': 'SKILLS', 'label_upper': 'SKILLS', 'text': 'gorgeous lawn', 'id': '9d2d512bb455b152617ee9bc30813be4e475dc1dcb8e1505c55cce28b6cddd31'}, {'start': 820, 'end': 824, 'label': 'SKILLS', 'label_upper': 'SKILLS', 'text': 'Head', 'id': '9bb0aacc6d51f1408ed983b84c42e941fca204de70ff5595a4d1b7cff8b22815'}, {'start': 825, 'end': 829, 'label': 'SKILLS', 'label_upper': 'SKILLS', 'text': 'Chef', 'id': 'a9464b40959db15724a8600cc7d6b663f56a65e953b3db6b076a677a2d305d40'}, {'start': 852, 'end': 859, 'label': 'SKILLS', 'label_upper': 'SKILLS', 'text': 'kitchen', 'id': '3171d89ad00530ffa19a244f040e9401a657903cbbbca724996b90a56df2c189'}, {'start': 1011, 'end': 1019, 'label': 'SKILLS', 'label_upper': 'SKILLS', 'text': 'culinary', 'id': '23f532066ea3e43d73de273383637c722e284969d3a22e30db76c71416f21f63'}, {'start': 1304, 'end': 1310, 'label': 'SKILLS', 'label_upper': 'SKILLS', 'text': 'pastry', 'id': 'e8a10a5bb2a29d363e3c159b68a5628a0add9da7f3e1b24eb5b3123c8c769d4f'}, {'start': 1525, 'end': 1532, 'label': 'SKILLS', 'label_upper': 'SKILLS', 'text': 'kitchen', 'id': '3171d89ad00530ffa19a244f040e9401a657903cbbbca724996b90a56df2c189'}], 'text_sha256': '2477222b3757945b57724540a983b3bb3b0c69ab06e90c9f47e508e8fde9e1da'}, {'text': 'Senior Process Engineer We are seeking applications from highly experienced Process Engineers to join our clients multidiscipline design team working on a number of exciting major projects. We are principally looking for first class engineers who have the capacity to learn and develop their skills for the nuclear industry. Our client provides a comprehensive training programme as part of its staff development, so a lack of previous industry experience need not be a barrier to high calibre candidates. This role is based at our clients offices in Reading, though work is likely to involve periods of time within the bounds of their clients premises some travel will be required. Responsibilities Responsible for managing the process engineering design / design assessment aspects for a major nuclear facility Mentoring and technical development of junior process engineers Lead on the production of major bids Cost and time control and reporting. Liaison with clients, suppliers and contractors Specification, selection and justification of Process / Process Services equipment. Generation of Front End Engineering Design packages. Process Design Substantiation, Assessment and Justification reports (DSRs, DARs and DJRs). Requirements Successful candidates will be required to undergo a security vetting process and offers of employment will be subject to relevant security clearance being granted. Essential Degree in chemical engineering or other relevant discipline. Chartered Engineer Able to demonstrate sound technical experience A sufficient and appropriate level of process design experience gained within a site operator, engineering consultancy or equipment supplier Project management, including controls, planning and estimating and preparation of deliverable/work package Desirable Experience of the nuclear, pharmaceutical, oil and gas or other highly regulated industry Experience of safety case production / design substantiation Management of contractors / specialist equipment suppliers Working within a multidiscipline engineering team and having a general appreciation of other disciplines constraints and requirements Nuclear safety case issues and NII site licence conditions Senior Process Engineer Location: Reading, Berkshire Industry: Defence security clearance is required Salary: **** to ****', 'annotations': [{'start': 7, 'end': 14, 'label': 'SKILLS', 'label_upper': 'SKILLS', 'text': 'Process', 'id': 'e083bd83e9d3e97e3b3e7dbe6cca0dcac2c1342b57cb7984792ec01beee22c28'}, {'start': 76, 'end': 83, 'label': 'SKILLS', 'label_upper': 'SKILLS', 'text': 'Process', 'id': 'e083bd83e9d3e97e3b3e7dbe6cca0dcac2c1342b57cb7984792ec01beee22c28'}, {'start': 130, 'end': 136, 'label': 'SKILLS', 'label_upper': 'SKILLS', 'text': 'design', 'id': 'a77de8a6daa1129516b14c8ca1e233a51a8414b202eac7c8acfbb9b485046ad4'}, {'start': 307, 'end': 323, 'label': 'SKILLS', 'label_upper': 'SKILLS', 'text': 'nuclear industry', 'id': 'a7e0245bc610226523ea67ae0a07c2c43d6758464551491cabff2a535bdf12ff'}, {'start': 551, 'end': 558, 'label': 'SKILLS', 'label_upper': 'SKILLS', 'text': 'Reading', 'id': '463816d07097e1a7cf27b86cf03082ee49f6ce2d87663cd27a24d7254a83e76a'}, {'start': 716, 'end': 755, 'label': 'SKILLS', 'label_upper': 'SKILLS', 'text': 'managing the process engineering design', 'id': 'a21a78151558248108511da8732879c631db8459b46e695a3fe74d58f23994dd'}, {'start': 758, 'end': 764, 'label': 'SKILLS', 'label_upper': 'SKILLS', 'text': 'design', 'id': 'a77de8a6daa1129516b14c8ca1e233a51a8414b202eac7c8acfbb9b485046ad4'}, {'start': 796, 'end': 812, 'label': 'SKILLS', 'label_upper': 'SKILLS', 'text': 'nuclear facility', 'id': 'd280dbda5bd04e81cf7b028c8597a97733357cb910a19e48a5032dd0756ce899'}, {'start': 813, 'end': 822, 'label': 'SKILLS', 'label_upper': 'SKILLS', 'text': 'Mentoring', 'id': '2fc55e2195cb1c28e952694074ae390023154d96c72d3eba2969e2f320c723bf'}, {'start': 827, 'end': 848, 'label': 'SKILLS', 'label_upper': 'SKILLS', 'text': 'technical development', 'id': '67226889898f94424ec9a61ef2beee138a1df3321cd9ccef8ff1dae42bc92a29'}, {'start': 923, 'end': 935, 'label': 'SKILLS', 'label_upper': 'SKILLS', 'text': 'time control', 'id': 'c6fba29207fd994504373c4dab668b4ab34b0a32125daf23af934fc9ae8b6c60'}, {'start': 940, 'end': 949, 'label': 'SKILLS', 'label_upper': 'SKILLS', 'text': 'reporting', 'id': '637d7becb9983937d58f53af972dc87373f3b7a2010cfb6805880f1463fcef8d'}, {'start': 1045, 'end': 1071, 'label': 'SKILLS', 'label_upper': 'SKILLS', 'text': 'Process / Process Services', 'id': '0b51aef2a9c2e0775ec4fc632ccc75bd5e037af4d0ccbc8e1a2ba68d603c088d'}, {'start': 1097, 'end': 1125, 'label': 'SKILLS', 'label_upper': 'SKILLS', 'text': 'Front End Engineering Design', 'id': '08bcfa5973bf4f4fbfca77d5855c5c228e20cfc706e382dfc7aca1471bc833d5'}, {'start': 1136, 'end': 1150, 'label': 'SKILLS', 'label_upper': 'SKILLS', 'text': 'Process Design', 'id': 'afb10125222380b20ae41dcb1e68a5ecd8ffc3dbc54b7286064c110cc4288a45'}, {'start': 1167, 'end': 1177, 'label': 'SKILLS', 'label_upper': 'SKILLS', 'text': 'Assessment', 'id': '7808eeeb45dfa074e21b1b6b1be5edfca205495c2b46df66ee1005e479948eaa'}, {'start': 1205, 'end': 1209, 'label': 'SKILLS', 'label_upper': 'SKILLS', 'text': 'DSRs', 'id': '2855f06c05d69944a807ea2b657a32c87eefc438a05be0344f006d70cbd2367c'}, {'start': 1220, 'end': 1224, 'label': 'SKILLS', 'label_upper': 'SKILLS', 'text': 'DJRs', 'id': 'c5ef71319337fa97c3e63381dc60acf2dfdd972034723312a3f93fd07ba0b9ad'}, {'start': 1424, 'end': 1444, 'label': 'DIPLOMA_MAJOR', 'label_upper': 'DIPLOMA_MAJOR', 'text': 'chemical engineering', 'id': 'ca9b38418cac0dc05c6c45f99d7e0f38cb9f3d71c6e3c5b5f3b6532934ed3c9a'}, {'start': 1579, 'end': 1593, 'label': 'SKILLS', 'label_upper': 'SKILLS', 'text': 'process design', 'id': 'a17b4e7d05129d4af6f79c1ab79b66b61f5e117c6c70226d6542f6316ce7a4ea'}, {'start': 1621, 'end': 1634, 'label': 'SKILLS', 'label_upper': 'SKILLS', 'text': 'site operator', 'id': '3ad8f9bb2907e7667063f7c440f3b1eb13b35edde81394e75a4881a37a6bac4b'}, {'start': 1636, 'end': 1659, 'label': 'SKILLS', 'label_upper': 'SKILLS', 'text': 'engineering consultancy', 'id': '3c7bfdc54dc94c70bee25580571a4e501a4d593a932ec20903c61977b25dc2ad'}, {'start': 1663, 'end': 1681, 'label': 'SKILLS', 'label_upper': 'SKILLS', 'text': 'equipment supplier', 'id': '4d02684b9fdd480f4f71702ad6e2a0660bb59a53280cb662f773b786db0207d5'}, {'start': 1682, 'end': 1700, 'label': 'SKILLS', 'label_upper': 'SKILLS', 'text': 'Project management', 'id': '329b3c4622ceca563324d35b682171e5a4c8fc30a405532ef21a01605fc2d6d8'}, {'start': 1712, 'end': 1720, 'label': 'SKILLS', 'label_upper': 'SKILLS', 'text': 'controls', 'id': '1e2135d1b50f14d3d3d6cbe24a4294bcb9e4d5d3c28eb1ce4980ff2a17c5d3b6'}, {'start': 1722, 'end': 1730, 'label': 'SKILLS', 'label_upper': 'SKILLS', 'text': 'planning', 'id': '423614833cbdcee4c5d05f43520d155207e5f272fddb7225ada6caf7d6904dc2'}, {'start': 1735, 'end': 1745, 'label': 'SKILLS', 'label_upper': 'SKILLS', 'text': 'estimating', 'id': '2b320f111b8323963b342843fc9d867754c522bdf7e3863ddca559ac1a7b7ea7'}, {'start': 1750, 'end': 1761, 'label': 'SKILLS', 'label_upper': 'SKILLS', 'text': 'preparation', 'id': '1d6f04754f9f8c5464cbdd2db0f5dff60b5e4f289b2c3d70a64c35a2cb54e297'}, {'start': 1818, 'end': 1825, 'label': 'SKILLS', 'label_upper': 'SKILLS', 'text': 'nuclear', 'id': '901ad244ed23ebc2c4205cbbd904ed42ead03a1b2d27d22a7c76bf1b30e1f334'}, {'start': 1827, 'end': 1841, 'label': 'SKILLS', 'label_upper': 'SKILLS', 'text': 'pharmaceutical', 'id': 'b38e51ecdec447a19d89b32715e7e79f65a7ca67dd612a958072ded9f2293697'}, {'start': 1843, 'end': 1846, 'label': 'SKILLS', 'label_upper': 'SKILLS', 'text': 'oil', 'id': 'ab7902bcbd91137e09d6aeb83a2a8853f75878830c4a550ac8ef2b0ae12b8c86'}, {'start': 1851, 'end': 1854, 'label': 'SKILLS', 'label_upper': 'SKILLS', 'text': 'gas', 'id': '2fe840e13244a9d748883574c1f1b7b1d7020eb39d0735b8f91ef5cf6f35173e'}, {'start': 1904, 'end': 1935, 'label': 'SKILLS', 'label_upper': 'SKILLS', 'text': 'safety case production / design', 'id': '23ebfdde6195a6d5e7e95af88f3b02ed5424e4381cee12b5805c9081069c528b'}, {'start': 1951, 'end': 1961, 'label': 'SKILLS', 'label_upper': 'SKILLS', 'text': 'Management', 'id': 'e51248773b9a3f59f75fe3ad6e5fe45a760035a7380d0b5ce46076c1dfc3735a'}, {'start': 2043, 'end': 2054, 'label': 'SKILLS', 'label_upper': 'SKILLS', 'text': 'engineering', 'id': '8c85b6639e62e10b8330a8b883004b43c119053d7d62b512a98c77eb069627a7'}, {'start': 2144, 'end': 2170, 'label': 'SKILLS', 'label_upper': 'SKILLS', 'text': 'Nuclear safety case issues', 'id': '740138a7ab003ffca62272bbe8d7e0e0af57bb8583a1cb2fad9b58c2560cdf60'}, {'start': 2210, 'end': 2217, 'label': 'SKILLS', 'label_upper': 'SKILLS', 'text': 'Process', 'id': 'e083bd83e9d3e97e3b3e7dbe6cca0dcac2c1342b57cb7984792ec01beee22c28'}, {'start': 2237, 'end': 2244, 'label': 'SKILLS', 'label_upper': 'SKILLS', 'text': 'Reading', 'id': '463816d07097e1a7cf27b86cf03082ee49f6ce2d87663cd27a24d7254a83e76a'}], 'text_sha256': 'b9391d5bfbc4e1cf4db0a30a6adb848ed1dcb4d6aac68bb4ed7bb9d0cd4dbabd'}, {'text': \"CHEF DE PARTIE POSITION IN **** ROSETTE HOTEL N.YORKS  ****k  LIVE IN Our client is a stunning Hotel located in North Yorkshire. Serving authentic Modern British and French Cuisine in elegant surrounds, they enjoy a superb reputation in the area. This is a well organised and structured kitchen that has a stable brigade of **** who all work together to produce fantastic food using fresh local produce. Candidates will need good all round knowledge of the kitchen, be motivated and ambitious and have genuine love of food and cooking. Vacancy Details Chef de Partie Award winning operation Brigade of **** British and French food Fresh local produce Strong Head Chef A strong **** rosette operation If you are interested in this Chef de Partie vacancy then be quick as it does have an end date to the application. My details as below if you wish for more information: Consultant: Chris Wilson Ref: ****CW  / **** **** Want a quick job search without the hassle of registering then paste www.clearselection.co.uk/search.php to your web browser and enjoy the experience. We are always busy and are constantly receiving new instructions from a number of different client's nationwide, which makes it good for candidates and us. In the majority of cases we have visited the client's establishment and even spent work days with them and have a very enviable reputation for finding the best for the best. If you desire a professional, honest and calm approach with the reassurance that your application will be treated confidentially if requested, we look forward to working on your behalf. Our Consultants love their jobs and its always worth trying to contact them on their mobiles in the evenings or at weekends, if you are to busy during the day. Remember if they do not contact you within **** hours, unfortunately you have not been successful in your application for this position. Clear Selection Recruitment is part of the Clear Selection Group Est. **** This job was originally posted as www.caterer.com/JobSeeking/CHEFDEPARTIEPOSITIONIN****ROSETTEHOTELNYORKS****k_job****\", 'annotations': [{'start': 0, 'end': 14, 'label': 'SKILLS', 'label_upper': 'SKILLS', 'text': 'CHEF DE PARTIE', 'id': 'f98f9940f53e732d93bba78b00376ecdd5662f9342b923cc98f23eb67baeb2ac'}, {'start': 147, 'end': 161, 'label': 'SKILLS', 'label_upper': 'SKILLS', 'text': 'Modern British', 'id': '0f97a7589226e7f09e4b8c8c7f3177e7a64450795e436c06b63209d778af8a71'}, {'start': 166, 'end': 180, 'label': 'SKILLS', 'label_upper': 'SKILLS', 'text': 'French Cuisine', 'id': '7c506bdcf81ee86bb9ec71bfb064b288d1d2cbe323ed0cde3cbc02c092a407b1'}, {'start': 287, 'end': 294, 'label': 'SKILLS', 'label_upper': 'SKILLS', 'text': 'kitchen', 'id': '3171d89ad00530ffa19a244f040e9401a657903cbbbca724996b90a56df2c189'}, {'start': 457, 'end': 464, 'label': 'SKILLS', 'label_upper': 'SKILLS', 'text': 'kitchen', 'id': '3171d89ad00530ffa19a244f040e9401a657903cbbbca724996b90a56df2c189'}, {'start': 518, 'end': 522, 'label': 'SKILLS', 'label_upper': 'SKILLS', 'text': 'food', 'id': 'c1f026582fe6e8cb620d0c85a72fe421ddded756662a8ec00ed4c297ad10676b'}, {'start': 527, 'end': 534, 'label': 'SKILLS', 'label_upper': 'SKILLS', 'text': 'cooking', 'id': '82bd81ea4b0302554165ae91628c0965b68b976a62ecf107c2e79688833f7599'}, {'start': 552, 'end': 566, 'label': 'SKILLS', 'label_upper': 'SKILLS', 'text': 'Chef de Partie', 'id': '6bc04b690f49d9b72b0b7c85916c21f9058b0c9c64b4581ba1b840334fa6d209'}, {'start': 607, 'end': 614, 'label': 'SKILLS', 'label_upper': 'SKILLS', 'text': 'British', 'id': 'aa9b5ee9992479d523c87919774770d96ff4837da2a18325019a86b8e444f7e0'}, {'start': 619, 'end': 625, 'label': 'SKILLS', 'label_upper': 'SKILLS', 'text': 'French', 'id': '7458199fe97a184002bfd3c42bae81371f0ae2229b5c0a257a9bae77e4f4eda8'}, {'start': 730, 'end': 752, 'label': 'SKILLS', 'label_upper': 'SKILLS', 'text': 'Chef de Partie vacancy', 'id': '3023e6331cbee5f91f8244eea2d2b25c2d8ed6f7dd91beb6c576c01e40e70152'}], 'text_sha256': 'db6a7275e4a8ad1150558da3a3ed8d233d9b17af98979067e516f0dfe8d15083'}, {'text': \"Senior Sous Chef for **** rosette kitchen, up to ****6000 My client has a very well maintained kitchen, awarded ****AA rosettes serving fine food with a classical style using modern techniques in a **** red star hotel. The Head Chef is a very talented individual who runs a tight ship that needs another leader to join the ranks. As Senior Sous you would need to have the ability to deputise in the Head Chefs absence and ensure the quality of the kitchen does not falter. For this you would ideally have a background in ****AA rosette cooking, or be a very strong and talented chef with 2AA rosette experience. There is a live in opportunity available for very little cost, meaning no matter where you are in the UK there is nothing stopping you from making that next step in your career and working somewhere nationally recognised and acclaimed. In the top 50 Hotels in the UK, this Senior Sous Chef position is a real responsibility, so I am only looking for the strongest of candidates with a natural leadership, but still happy to take orders and learn from a senior chef. If you are serious about your food, love classical British menus with a modern twist and have what it takes to work alongside the best, creating the best then email to apply and get that job you've dreamt of for so long. Ref ****CW Consultant Chris Wilson  / **** **** Want a quick job search without the hassle of registering then paste www.clearselection.co.uk/search.php to your web browser and enjoy the experience. We are always busy and are constantly receiving new instructions from a number of different client's nationwide, which makes it good for candidates and us. In the majority of cases we have visited the client's establishment and even spent work days with them and have a very enviable reputation for finding the best for the best. If you desire a professional, honest and calm approach with the reassurance that your application will be treated confidentially if requested, we look forward to working on your behalf. Our Consultants love their jobs and its always worth trying to contact them on their mobiles in the evenings or at weekends, if you are to busy during the day. Remember if they do not contact you within **** hours, unfortunately you have not been successful in your application for this position. Clear Selection Recruitment is part of the Clear Selection Group Est. **** This job was originally posted as www.caterer.com/JobSeeking/SeniorSousCheffor****rosettekitchenupto****_job****\", 'annotations': [{'start': 95, 'end': 102, 'label': 'SKILLS', 'label_upper': 'SKILLS', 'text': 'kitchen', 'id': '3171d89ad00530ffa19a244f040e9401a657903cbbbca724996b90a56df2c189'}, {'start': 521, 'end': 543, 'label': 'SKILLS', 'label_upper': 'SKILLS', 'text': '****AA rosette cooking', 'id': 'bb12d43c432f889871e17d014713ea4b0071dda6f02da514bd196d9795ccef72'}, {'start': 578, 'end': 582, 'label': 'SKILLS', 'label_upper': 'SKILLS', 'text': 'chef', 'id': 'f59ac0828b9a32293b348e398a0efd342b1e4377a687f3a9055ee2871dff35e4'}, {'start': 588, 'end': 610, 'label': 'SKILLS', 'label_upper': 'SKILLS', 'text': '2AA rosette experience', 'id': 'c9c7f3a6fb77e14884252240ddd62282fa8d6bfa73a0e9750ec357948d473f48'}, {'start': 885, 'end': 901, 'label': 'SKILLS', 'label_upper': 'SKILLS', 'text': 'Senior Sous Chef', 'id': 'd9d144536eb2186329b76dec51228c4e0f64955757b1e82de2a70256ff689113'}, {'start': 1005, 'end': 1015, 'label': 'SKILLS', 'label_upper': 'SKILLS', 'text': 'leadership', 'id': '9e720e53885580b1e0c5866c98e04988f0b0d071037fb54621a5180ba29e72e7'}, {'start': 1129, 'end': 1142, 'label': 'SKILLS', 'label_upper': 'SKILLS', 'text': 'British menus', 'id': '5ad39582cbc7df5ef59ed7315d1adb801fa7b8dd4911be24b379b7614db1ca53'}], 'text_sha256': '182e383e2bde4f24a8922281d8f6f196581ba732947fbdce25bc8632454a6f06'}, {'text': \"Senior General Manager – Funky, Cool, Casual Restaurant Concept  Flagship Site We're looking for a General Manager who wants to run large sites for a great company and make a name for themselves. The Client Their mission is to be different; serving great honest tasty food by cool laidback people in individually designed restaurants. The company has huge expansion plans in place and needs great General Managers. You are able to express yourself and bring your personality. The Role As a General Manager you will be involved with all aspects of running these restaurants; from financials to training and driving sales. The company loves new ideas and input from its Managers as the company is continuing to evolve. We need General Managers who are fun, who love people and can make the rest of their team and customers happy. Essential Skills Experience required for a General Manager •We're looking for General Managers with 1 years experience managing their own site. •You must be great with your people and able to connect with your customers •Passion and drive with a focus on customer service Rewards – General Manager •Great Salary up to ****k  Bonus •Great training and opportunities – Lots of new openings •Great company, exciting time, amazing people Please send your CV to Rory at rorybeerec.com or call on **** Due to the high number of applicants we receive sadly we cannot reply to everyone, therefore if you do not hear back from us within 5 days please assume you have been unsuccessful this time Candidate Information, General Manager All candidates must provide proof of identity and eligibility to work in the UK along with and relevant supporting qualifications. Bee Recruitment is an equal opportunities employer, a recruitment agency dedicated to recruitment in the hospitality industry. This job was originally posted as www.caterer.com/JobSeeking/GeneralManagerFunkyCoolRestaurantConceptLondon****k_job****\", 'annotations': [{'start': 23, 'end': 24, 'label': 'SKILLS', 'label_upper': 'SKILLS', 'text': '–', 'id': 'd4f85d36757c12f0c6dab57721287f327efbfc46ea8c0f820301067f8627fc0f'}, {'start': 25, 'end': 30, 'label': 'SKILLS', 'label_upper': 'SKILLS', 'text': 'Funky', 'id': '480bf266e3d140be1ea5b240d4d48496f150238a7a299846b4da1585f557088e'}, {'start': 32, 'end': 36, 'label': 'SKILLS', 'label_upper': 'SKILLS', 'text': 'Cool', 'id': '0b0fd31e2478cff0d3c5bf526a0f8f1c780abfb435eec0a8f2c9beed0eaa6bc4'}, {'start': 38, 'end': 63, 'label': 'SKILLS', 'label_upper': 'SKILLS', 'text': 'Casual Restaurant Concept', 'id': '652bde5823d93d0f486718e6ae110659d03dc6dff3bcf1ebc7c7bc485defeac7'}, {'start': 579, 'end': 589, 'label': 'SKILLS', 'label_upper': 'SKILLS', 'text': 'financials', 'id': '1576cdf8b20de21196f0b1ea86e2f403f47404c134179858628d2b9115485a42'}, {'start': 593, 'end': 601, 'label': 'SKILLS', 'label_upper': 'SKILLS', 'text': 'training', 'id': 'c2fb788c7deedbeaa296e424d4c2921b871a4f6cb4cf393c1c1105653ab399b4'}, {'start': 606, 'end': 619, 'label': 'SKILLS', 'label_upper': 'SKILLS', 'text': 'driving sales', 'id': '5ccbee6e8950f009ee063de74471d1073f6d78eaf71917580592388b03373dc7'}, {'start': 725, 'end': 741, 'label': 'SKILLS', 'label_upper': 'SKILLS', 'text': 'General Managers', 'id': '8500fb079a423c3a3215bc55cf0688bf8652cef0f6de379af1397055d75c2935'}, {'start': 871, 'end': 886, 'label': 'SKILLS', 'label_upper': 'SKILLS', 'text': 'General Manager', 'id': 'ce8b7dc6dc1fea1ccdd79a01850069caa9895340e329d36cc1b99d39db9858ec'}, {'start': 906, 'end': 922, 'label': 'SKILLS', 'label_upper': 'SKILLS', 'text': 'General Managers', 'id': '8500fb079a423c3a3215bc55cf0688bf8652cef0f6de379af1397055d75c2935'}, {'start': 928, 'end': 935, 'label': 'EXPERIENCE', 'label_upper': 'EXPERIENCE', 'text': '1 years', 'id': 'f453b744d086a522cb1c388bddff829f0f4c2aac198d3a47495a68cb94039391'}, {'start': 947, 'end': 970, 'label': 'SKILLS', 'label_upper': 'SKILLS', 'text': 'managing their own site', 'id': '36608849b8fab63f6c668c61ae1e8b59a0e3d9b498466a726ec744c4ff79bc57'}, {'start': 1061, 'end': 1066, 'label': 'SKILLS', 'label_upper': 'SKILLS', 'text': 'drive', 'id': '7062520c5a0ea9deac825278c9f4f0cbad48864b2c7d0c7f1ebccdb752afb058'}, {'start': 1083, 'end': 1099, 'label': 'SKILLS', 'label_upper': 'SKILLS', 'text': 'customer service', 'id': '349543c18201758b4142bc2140a10587cc99ed9eb43d3407c53733d948085abf'}, {'start': 1108, 'end': 1109, 'label': 'SKILLS', 'label_upper': 'SKILLS', 'text': '–', 'id': 'd4f85d36757c12f0c6dab57721287f327efbfc46ea8c0f820301067f8627fc0f'}, {'start': 1193, 'end': 1194, 'label': 'SKILLS', 'label_upper': 'SKILLS', 'text': '–', 'id': 'd4f85d36757c12f0c6dab57721287f327efbfc46ea8c0f820301067f8627fc0f'}, {'start': 1285, 'end': 1289, 'label': 'SKILLS', 'label_upper': 'SKILLS', 'text': 'Rory', 'id': '2c7e7296f6ae2ff73cfec32cca5a61fc345c09bddd4e577e9681210cc656da31'}, {'start': 1456, 'end': 1462, 'label': 'EXPERIENCE', 'label_upper': 'EXPERIENCE', 'text': '5 days', 'id': '4343085bb01951bcf8ed4f04c36ceaa8d64a52769fc7c73bdb8ee4a6848e4e51'}, {'start': 1684, 'end': 1699, 'label': 'SKILLS', 'label_upper': 'SKILLS', 'text': 'Bee Recruitment', 'id': '2e4a65539d388a6247d2bb95929c7a09d35433010bfb6264b06557242652d106'}, {'start': 1738, 'end': 1749, 'label': 'SKILLS', 'label_upper': 'SKILLS', 'text': 'recruitment', 'id': '3cdc6d6e23e0f9475e986208c25b453d7aca1b947d527659c718359b91c81c06'}, {'start': 1770, 'end': 1781, 'label': 'SKILLS', 'label_upper': 'SKILLS', 'text': 'recruitment', 'id': '3cdc6d6e23e0f9475e986208c25b453d7aca1b947d527659c718359b91c81c06'}, {'start': 1789, 'end': 1809, 'label': 'SKILLS', 'label_upper': 'SKILLS', 'text': 'hospitality industry', 'id': '522f93832d93f312be4f22f622c148099577f22b754b5c48ccbc16018c41c5b8'}], 'text_sha256': '0be14544f13de78a99eae9779884950d4cc22350c0814297db204851d3c385f5'}, {'text': 'Our client, a national hotel chain is seeking an experienced MICE Sales Manager to join their successful team for one of their **** properties. The hotel has approximately ****0 bedrooms and 8 conference rooms. You must live within commutable distance to Buckinghamshire, such as Berkshire, Hampshire, Oxfordshire, Hertfordshire or Middlesex. As MICE Sales and Marketing Manager you will be responsible for the proactive development of new business from the MICE corporate and leisure sectors. The MICE Sales and Marketing Manager will also develop existing accounts through the successful creation of the Sales and Marketing plan and Business Plans. As MICE Sales and Marketing Manager you will oversee the Meetings and Events team which consists of three people, and be responsible for their training and development. The MICE Sales and Marketing Manager will need to perform well under pressure and meet set targets for appointments and revenue generation. The MICE Sales and Marketing Manager role is a fantastic opportunity for an existing Sales Manager or Senior Sales Executive with people management skills. You will have previous experience in hotel sales, be flexible and friendly in your approach and able to offer support to others. This job was originally posted as www.caterer.com/JobSeeking/MICESalesandMarketingManager_job****', 'annotations': [{'start': 23, 'end': 34, 'label': 'SKILLS', 'label_upper': 'SKILLS', 'text': 'hotel chain', 'id': '07ef7acdb0868c0640c9a0af67b0686f94f5750c02aa6430b4d6d3395c99aace'}, {'start': 61, 'end': 79, 'label': 'SKILLS', 'label_upper': 'SKILLS', 'text': 'MICE Sales Manager', 'id': '3d99de7dc8079716f424054730b5b9c6a484cb3e68827589a90d2a3615dfd193'}, {'start': 193, 'end': 209, 'label': 'SKILLS', 'label_upper': 'SKILLS', 'text': 'conference rooms', 'id': '8f4985a9bd5ad93d0795a895a045749c5faa554ce7528c607a246d0e7abdef9a'}, {'start': 291, 'end': 300, 'label': 'SKILLS', 'label_upper': 'SKILLS', 'text': 'Hampshire', 'id': '13c100c88c32d4024132e19d80b58683c9e39e963c538af78cc4c6f24e5fbeb4'}, {'start': 332, 'end': 341, 'label': 'SKILLS', 'label_upper': 'SKILLS', 'text': 'Middlesex', 'id': '39e64de0c0709d9201519eac55a33c543ff810bc7f9faf56a352ae55ff65a621'}, {'start': 346, 'end': 356, 'label': 'SKILLS', 'label_upper': 'SKILLS', 'text': 'MICE Sales', 'id': 'ffaacc15b74f91d42666917c83020e02c849e108363d1d7f9ef7316bcbdb7bb9'}, {'start': 458, 'end': 472, 'label': 'SKILLS', 'label_upper': 'SKILLS', 'text': 'MICE corporate', 'id': '829baac1d6467f249c4eefc4271a2ec90249c4305528460fd16f5f8ffcc11572'}, {'start': 477, 'end': 484, 'label': 'SKILLS', 'label_upper': 'SKILLS', 'text': 'leisure', 'id': '00ed6c583d74e36528feceffa2e3ce9991f3e9f9a18d9c4b1a1a81de48761502'}, {'start': 498, 'end': 508, 'label': 'SKILLS', 'label_upper': 'SKILLS', 'text': 'MICE Sales', 'id': 'ffaacc15b74f91d42666917c83020e02c849e108363d1d7f9ef7316bcbdb7bb9'}, {'start': 513, 'end': 522, 'label': 'SKILLS', 'label_upper': 'SKILLS', 'text': 'Marketing', 'id': 'f5904cf7a1231a7a13a8cffbd2f0482984a1c69e96fc48dd96be8858a1707e60'}, {'start': 606, 'end': 611, 'label': 'SKILLS', 'label_upper': 'SKILLS', 'text': 'Sales', 'id': '8de4e0ea7370e4e60a521379c9edf3253afcba7660e647f3aa788e49e8993d1a'}, {'start': 616, 'end': 625, 'label': 'SKILLS', 'label_upper': 'SKILLS', 'text': 'Marketing', 'id': 'f5904cf7a1231a7a13a8cffbd2f0482984a1c69e96fc48dd96be8858a1707e60'}, {'start': 635, 'end': 649, 'label': 'SKILLS', 'label_upper': 'SKILLS', 'text': 'Business Plans', 'id': '820f140121414fb16e787bbda270f1b7b669ce28303ed72271112b83021e3f8b'}, {'start': 654, 'end': 664, 'label': 'SKILLS', 'label_upper': 'SKILLS', 'text': 'MICE Sales', 'id': 'ffaacc15b74f91d42666917c83020e02c849e108363d1d7f9ef7316bcbdb7bb9'}, {'start': 669, 'end': 678, 'label': 'SKILLS', 'label_upper': 'SKILLS', 'text': 'Marketing', 'id': 'f5904cf7a1231a7a13a8cffbd2f0482984a1c69e96fc48dd96be8858a1707e60'}, {'start': 708, 'end': 716, 'label': 'SKILLS', 'label_upper': 'SKILLS', 'text': 'Meetings', 'id': 'bca705b63a3cf58504af9d281ab45042c0cc234fa8cfe08b6121514270b02c8f'}, {'start': 721, 'end': 727, 'label': 'SKILLS', 'label_upper': 'SKILLS', 'text': 'Events', 'id': '8d14f6e72de8f18ab1ee5c5330f00653c0c3ce099e63024454f80af97e72d333'}, {'start': 807, 'end': 818, 'label': 'SKILLS', 'label_upper': 'SKILLS', 'text': 'development', 'id': '875b9380866e9d56e7110b0ee310962c16d9d4ae103f829d62bdffd2cbe7c61d'}, {'start': 824, 'end': 834, 'label': 'SKILLS', 'label_upper': 'SKILLS', 'text': 'MICE Sales', 'id': 'ffaacc15b74f91d42666917c83020e02c849e108363d1d7f9ef7316bcbdb7bb9'}, {'start': 839, 'end': 848, 'label': 'SKILLS', 'label_upper': 'SKILLS', 'text': 'Marketing', 'id': 'f5904cf7a1231a7a13a8cffbd2f0482984a1c69e96fc48dd96be8858a1707e60'}, {'start': 964, 'end': 974, 'label': 'SKILLS', 'label_upper': 'SKILLS', 'text': 'MICE Sales', 'id': 'ffaacc15b74f91d42666917c83020e02c849e108363d1d7f9ef7316bcbdb7bb9'}, {'start': 979, 'end': 988, 'label': 'SKILLS', 'label_upper': 'SKILLS', 'text': 'Marketing', 'id': 'f5904cf7a1231a7a13a8cffbd2f0482984a1c69e96fc48dd96be8858a1707e60'}, {'start': 1045, 'end': 1058, 'label': 'SKILLS', 'label_upper': 'SKILLS', 'text': 'Sales Manager', 'id': 'aaf12b8e5a09e84891388eb6dfae3dd5e208a0d9476b41492dadf50d6aedf7f0'}, {'start': 1062, 'end': 1084, 'label': 'SKILLS', 'label_upper': 'SKILLS', 'text': 'Senior Sales Executive', 'id': '1c66ed059836c24afe3ae98baf2fb12d46ab74d81c868b9c730b8543170a3284'}, {'start': 1090, 'end': 1107, 'label': 'SKILLS', 'label_upper': 'SKILLS', 'text': 'people management', 'id': '7bdf02f3bf582d7579a126a62aac4d24aa7337389d84d264c73de389a3b15894'}, {'start': 1153, 'end': 1164, 'label': 'SKILLS', 'label_upper': 'SKILLS', 'text': 'hotel sales', 'id': 'c3b058c2cdee8f8b9f3adf9bf4458ac21cdafcc650e7c1dc8a073f70b9c62ed7'}, {'start': 1169, 'end': 1177, 'label': 'SKILLS', 'label_upper': 'SKILLS', 'text': 'flexible', 'id': '800ad6207fe609eac8f8522fc0e0ab414f70e863fd95cc831116a4d83690acbe'}, {'start': 1182, 'end': 1190, 'label': 'SKILLS', 'label_upper': 'SKILLS', 'text': 'friendly', 'id': '4c448a406dcdf064f72628200461936808f1d5c6956078106bfef933c2ae0967'}], 'text_sha256': 'b4555ff4c2d89648d9f135c8e35f76a568050c7f18b84c628c2df553fe7e9c9a'}, {'text': 'A leading company that provides stock market analysis software for both the professional and private investor markets is currently in the hunt for a Junior and Senior C/C++ Software Developer. They have been working as one of the Best UK s Investment Software for the last six years and their development team is expanding to deliver exciting new products. Should you find the role interesting, kindly forward an updated CV elaborating your skills that match with the requirements along with a Cover Letter detailing why you are the right person for the role on offer Below are the job details of the said vacancy: You will be working mainly in an MS Windows environment but required to be flexible in technology with web development. You should have a good numerate Computer Science or AI Degree (at least 2:****) Strong software development and coding skills using C/C++, MFC and Visual Studio **** For the Senior Developer role it is desirable to have at least 2 years commercial C/C++ development experience. Other desirable skills Understanding of data compression techniques Interest in the financial markets and financial calculation Good working knowledge of GUI design, Windows development using MFC and Win**** HTTP, TCP/IP, sockets and network programming System administration skills would also be an advantage. If you think you have what it takes to be part of a dynamic and progressive company who values a flexible working environment, apply now', 'annotations': [{'start': 32, 'end': 53, 'label': 'SKILLS', 'label_upper': 'SKILLS', 'text': 'stock market analysis', 'id': '6fdcdfcf7b21c8c93198162a254651e6bc69bf1d429f46107cb0565c0bdfb6fd'}, {'start': 167, 'end': 172, 'label': 'SKILLS', 'label_upper': 'SKILLS', 'text': 'C/C++', 'id': '6e7c7cc1de33c1620ce647477ee47fc3da8a941fa3ead20ecfab987eee53b6e6'}, {'start': 240, 'end': 259, 'label': 'SKILLS', 'label_upper': 'SKILLS', 'text': 'Investment Software', 'id': 'dc312a37b7703038a04f568a04590f5692c5d32b4f1faff0efd5597322859a04'}, {'start': 273, 'end': 282, 'label': 'EXPERIENCE', 'label_upper': 'EXPERIENCE', 'text': 'six years', 'id': 'e1749ea3661eea54d1d27cb8896fb650a5f877f945fbdebd71ff7ba0d9ccbc6a'}, {'start': 293, 'end': 304, 'label': 'SKILLS', 'label_upper': 'SKILLS', 'text': 'development', 'id': '875b9380866e9d56e7110b0ee310962c16d9d4ae103f829d62bdffd2cbe7c61d'}, {'start': 651, 'end': 658, 'label': 'SKILLS', 'label_upper': 'SKILLS', 'text': 'Windows', 'id': 'd598026a9cbc60505f138ce53ac78088d582100c196d0f70c7e2538d4a8d7e10'}, {'start': 718, 'end': 733, 'label': 'SKILLS', 'label_upper': 'SKILLS', 'text': 'web development', 'id': 'b8e35d694e2bfe4f1e4d4d3f028669def9b453b95a67df0e88cf6a9358dd14b7'}, {'start': 767, 'end': 783, 'label': 'DIPLOMA_MAJOR', 'label_upper': 'DIPLOMA_MAJOR', 'text': 'Computer Science', 'id': '445ddaa59df684ea81e04e1b2aad2ec113a4a8a36ce8c5e802c1542266b8921d'}, {'start': 787, 'end': 789, 'label': 'DIPLOMA_MAJOR', 'label_upper': 'DIPLOMA_MAJOR', 'text': 'AI', 'id': '11fb682be0a0233d5fb899721ecfc1827d20f0d2ff2e093310efa61efca8af1c'}, {'start': 807, 'end': 811, 'label': 'EXPERIENCE', 'label_upper': 'EXPERIENCE', 'text': '2:**', 'id': 'ccf1238b5cf23fc144a584ad1d7103574290da88f810153b8168a915d94b3ed0'}, {'start': 822, 'end': 842, 'label': 'SKILLS', 'label_upper': 'SKILLS', 'text': 'software development', 'id': 'e36077aeb577e03d92d9c9b0d7ce7c62f4a0da1d031c74a88280bf8a68bcdd92'}, {'start': 847, 'end': 853, 'label': 'SKILLS', 'label_upper': 'SKILLS', 'text': 'coding', 'id': '9623c1ece5cf9eac8c087030d2c4be5747556cf40920ebfeba1fcc0cc976f123'}, {'start': 867, 'end': 868, 'label': 'SKILLS', 'label_upper': 'SKILLS', 'text': 'C', 'id': '6b23c0d5f35d1b11f9b683f0b0a617355deb11277d91ae091d399c655b87940d'}, {'start': 868, 'end': 869, 'label': 'SKILLS', 'label_upper': 'SKILLS', 'text': '/', 'id': '8a5edab282632443219e051e4ade2d1d5bbc671c781051bf1437897cbdfea0f1'}, {'start': 869, 'end': 872, 'label': 'SKILLS', 'label_upper': 'SKILLS', 'text': 'C++', 'id': 'f1deb75fa21d3c47a6e7a45967b79fad2d053947066dc95322c5bcee1e9fe21c'}, {'start': 874, 'end': 877, 'label': 'SKILLS', 'label_upper': 'SKILLS', 'text': 'MFC', 'id': 'a02607a7de6450bfc86d8cfa8234bdb9140d77789131319de944da7771847d72'}, {'start': 882, 'end': 895, 'label': 'SKILLS', 'label_upper': 'SKILLS', 'text': 'Visual Studio', 'id': '026bf2b64617f7c3f5945dcecf5ff629ad7dbbe7a5878662f34b61e17870a467'}, {'start': 964, 'end': 971, 'label': 'EXPERIENCE', 'label_upper': 'EXPERIENCE', 'text': '2 years', 'id': '7dab2372ff909b063d57bf1e7ac4212c333337fcd47e30f7791d189a63c912db'}, {'start': 972, 'end': 988, 'label': 'SKILLS', 'label_upper': 'SKILLS', 'text': 'commercial C/C++', 'id': 'dfd59d2656fe294dd15273efe9c392ba1d235b2fe807f25e1e94fcf906ac118f'}, {'start': 1053, 'end': 1069, 'label': 'SKILLS', 'label_upper': 'SKILLS', 'text': 'data compression', 'id': '2114752c092f14693ae543d5c5289ca1522b5ab06ed9d56cadcc41c3af4ae58e'}, {'start': 1097, 'end': 1114, 'label': 'SKILLS', 'label_upper': 'SKILLS', 'text': 'financial markets', 'id': '9a28ff6b31df769a7813ec459b7c6823a1fb1ab86921236cf803be49fc72464b'}, {'start': 1119, 'end': 1140, 'label': 'SKILLS', 'label_upper': 'SKILLS', 'text': 'financial calculation', 'id': 'cf23fac4c80084f46106f7a61d9b577a59bbbb47871ac7227905fc16e99883a0'}, {'start': 1167, 'end': 1177, 'label': 'SKILLS', 'label_upper': 'SKILLS', 'text': 'GUI design', 'id': '2017d67353ce66dff56c9dab2bda3fdb69baa93e56ea4fba7138514969153508'}, {'start': 1179, 'end': 1198, 'label': 'SKILLS', 'label_upper': 'SKILLS', 'text': 'Windows development', 'id': '9e2cf7d6eee9ed4d10c2557f2d97b8901b44fb059cf458d792529096674b5529'}, {'start': 1205, 'end': 1208, 'label': 'SKILLS', 'label_upper': 'SKILLS', 'text': 'MFC', 'id': 'a02607a7de6450bfc86d8cfa8234bdb9140d77789131319de944da7771847d72'}, {'start': 1213, 'end': 1216, 'label': 'SKILLS', 'label_upper': 'SKILLS', 'text': 'Win', 'id': 'b980a145c5e8c9e233a0643366ba520a67e98700dd5c552d1bf44eea555a7dcd'}, {'start': 1221, 'end': 1225, 'label': 'SKILLS', 'label_upper': 'SKILLS', 'text': 'HTTP', 'id': '56d6f32151ad8474f40d7b939c2161ee2bbf10023f4af1dbb3e13260ebdc6342'}, {'start': 1227, 'end': 1231, 'label': 'SKILLS', 'label_upper': 'SKILLS', 'text': 'TCP/', 'id': 'd46ed717cc88b2e38b8cf315850b6537717497979902fd19d62b4197ca777efc'}, {'start': 1231, 'end': 1233, 'label': 'SKILLS', 'label_upper': 'SKILLS', 'text': 'IP', 'id': 'bf5505174a73b2832a95fef91403b87f99df3b1d283ad26729e4cfd22e96f208'}, {'start': 1235, 'end': 1242, 'label': 'SKILLS', 'label_upper': 'SKILLS', 'text': 'sockets', 'id': 'f24383b89891240bff71b98ce53555d329c6adefb877cd0d0723cca259769022'}, {'start': 1247, 'end': 1266, 'label': 'SKILLS', 'label_upper': 'SKILLS', 'text': 'network programming', 'id': '2c9784d3968c36cf1c2224232f8f38717932856b31d61ef7dfcc72a3fba8fb3c'}, {'start': 1267, 'end': 1288, 'label': 'SKILLS', 'label_upper': 'SKILLS', 'text': 'System administration', 'id': '5f95a1640efca82213950768417b70cb73b5a3d132ab9a1a89a15bb15962b2cc'}], 'text_sha256': '016d1aaa45e012b1f3c7448eaa5a890098c1a5303b8d1cb2da9e056a92151990'}, {'text': 'A skilled Senior PHP Developer is required by a leading provider of webbased services and clinical management software based in Central London. The role will involve working with a software architect to develop the company s core products and take over the lead development of these systems. Essential Requirements: Minimum of **** years experience in PHP Development Expertise in PHP **** and MySQL 5 Fluency in OOP Experience in Linux and Apache, Web services, multiserver platforms and cloud computing Experience in Windows/IIS PHP deployments, jQuery, Prototype and XML is desirable. If you are someone who d like to take on a new challenge, send your CV now', 'annotations': [{'start': 17, 'end': 20, 'label': 'SKILLS', 'label_upper': 'SKILLS', 'text': 'PHP', 'id': '0a6a15345ad0c7e36ed9dc3ec9c8ce843af4bc765d1019eb6d563e0836b962f3'}, {'start': 68, 'end': 85, 'label': 'SKILLS', 'label_upper': 'SKILLS', 'text': 'webbased services', 'id': '61036bc5e2e37eb61426ee0cdd8d1ec6c984974f923b6b085c18b27b85981964'}, {'start': 90, 'end': 118, 'label': 'SKILLS', 'label_upper': 'SKILLS', 'text': 'clinical management software', 'id': '7a8d418c948bef4fd2c96fb1ccfaa20d960350cf392e3c2bff3ae724b3adcbec'}, {'start': 181, 'end': 199, 'label': 'SKILLS', 'label_upper': 'SKILLS', 'text': 'software architect', 'id': 'dc8bcd8cc9fa7bbf486ab40f780dc2d2de44e556ab442007b31ca28f1ebb9981'}, {'start': 327, 'end': 337, 'label': 'EXPERIENCE', 'label_upper': 'EXPERIENCE', 'text': '**** years', 'id': '336db639c89d3a472d61be7506016eab4fd0111bb8c9d5cf1baded8855776141'}, {'start': 352, 'end': 367, 'label': 'SKILLS', 'label_upper': 'SKILLS', 'text': 'PHP Development', 'id': 'e81dbf0a471781fee77ee8dfaab23a723597ee911fdf8d7a5fe7f570c263c9b0'}, {'start': 381, 'end': 384, 'label': 'SKILLS', 'label_upper': 'SKILLS', 'text': 'PHP', 'id': '0a6a15345ad0c7e36ed9dc3ec9c8ce843af4bc765d1019eb6d563e0836b962f3'}, {'start': 413, 'end': 416, 'label': 'SKILLS', 'label_upper': 'SKILLS', 'text': 'OOP', 'id': 'dd4c74e8d18e56be9b248edf446af1841bf64c46970be3aeca49a5bc9be48ce5'}, {'start': 431, 'end': 436, 'label': 'SKILLS', 'label_upper': 'SKILLS', 'text': 'Linux', 'id': '4828e60247c1636f57b7446a314e7f599c12b53d40061cc851a1442004354fed'}, {'start': 441, 'end': 447, 'label': 'SKILLS', 'label_upper': 'SKILLS', 'text': 'Apache', 'id': '87ec4027e1c873944291bdd61ee07ed30d74d45cbb418c85ae256e0a18e9e2cc'}, {'start': 449, 'end': 461, 'label': 'SKILLS', 'label_upper': 'SKILLS', 'text': 'Web services', 'id': '563fdd226e8a1efb42b1348d742fa7bdb32a586d6ca323b8aaf7bbbce6f3d218'}, {'start': 463, 'end': 484, 'label': 'SKILLS', 'label_upper': 'SKILLS', 'text': 'multiserver platforms', 'id': '740608b694c070524184e672a59ead2631690765017ed7d92b95616e700f0b2e'}, {'start': 489, 'end': 504, 'label': 'SKILLS', 'label_upper': 'SKILLS', 'text': 'cloud computing', 'id': '81121f330a983b7f11249a2659d31db32d030e76680afe4c829f3e8e9f42e7d0'}, {'start': 519, 'end': 530, 'label': 'SKILLS', 'label_upper': 'SKILLS', 'text': 'Windows/IIS', 'id': 'bdab95a450750293b1b4b71127512c81a6a23187820f60204dce784b9f049dfc'}, {'start': 531, 'end': 546, 'label': 'SKILLS', 'label_upper': 'SKILLS', 'text': 'PHP deployments', 'id': 'e02a4a4262523e37cff12c5e9db778a1dd3626704cdf821ebf7307d998a9e5cd'}, {'start': 548, 'end': 554, 'label': 'SKILLS', 'label_upper': 'SKILLS', 'text': 'jQuery', 'id': '036563f6245658dae5a525294262b7e0b9cb3897e42bc54945590e41e993b552'}, {'start': 556, 'end': 565, 'label': 'SKILLS', 'label_upper': 'SKILLS', 'text': 'Prototype', 'id': 'c570c5baee7ad0d9654107fd0b32c0018fa3b5b0015fde36a4721acc5ac29ba3'}, {'start': 570, 'end': 573, 'label': 'SKILLS', 'label_upper': 'SKILLS', 'text': 'XML', 'id': '40658e9af8fd92229ae162dc98547cb75eb96999edd7dc214582ac6c23ef6585'}], 'text_sha256': '9813d62366b3ea3e678517da191aa6f2c8c21c03e44882bfe107e0747f2faffa'}, {'text': 'SENIOR WEBSITE DESIGNER Location: York, East Yorkshire Type: Permanent Salary: up to ****K (DOE) One of UK s most renowned digital media company is looking to hire a Senior Website Designer to join their team of designers. The successful candidate will be responsible for designing ecommerce websites, developing client strategy with the creative director and in assisting in the development of design. Requirements: 3 years solid experience in ecommerce website design Knowledge in Information Architecture process Must have an understanding of MVT Adobe Suite knowledge also required Prior experience of working in an agency environment will be an advantage but not essential Don t miss this great and exciting opportunity to work for a leading digital media company. Send your CV now', 'annotations': [{'start': 7, 'end': 23, 'label': 'SKILLS', 'label_upper': 'SKILLS', 'text': 'WEBSITE DESIGNER', 'id': 'e6ac47dac29753d4860770232ccc359e31e7986d810f5e04be859bc87008cb92'}, {'start': 123, 'end': 136, 'label': 'SKILLS', 'label_upper': 'SKILLS', 'text': 'digital media', 'id': '3aeb49660f7a110287eecf0ac9bde896148c5ba699bef3c3ba0da6962a79b8a7'}, {'start': 173, 'end': 189, 'label': 'SKILLS', 'label_upper': 'SKILLS', 'text': 'Website Designer', 'id': 'bcd874daa4281763194f3e30fc06063fdb8a33081047d384f9a16b3818e2b3d7'}, {'start': 272, 'end': 300, 'label': 'SKILLS', 'label_upper': 'SKILLS', 'text': 'designing ecommerce websites', 'id': 'fd42bd7b8fd4f345272d701440f2c5650837cf8d32cd753b3090e3ee88526c3e'}, {'start': 302, 'end': 328, 'label': 'SKILLS', 'label_upper': 'SKILLS', 'text': 'developing client strategy', 'id': '4ef52c3f5544e868e367bc3caca1eab2e62155c15df574a1b35234b1b6b8b48c'}, {'start': 417, 'end': 424, 'label': 'EXPERIENCE', 'label_upper': 'EXPERIENCE', 'text': '3 years', 'id': '50a85bc5620bccce3bd18d3de2fd413e4711b0afff5d687d2e6c677135d04b4d'}, {'start': 445, 'end': 469, 'label': 'SKILLS', 'label_upper': 'SKILLS', 'text': 'ecommerce website design', 'id': 'f9606375224b69594f4fcb3f8ac742e75edb655c22cd1d4d40cf57b259f8fa86'}, {'start': 483, 'end': 507, 'label': 'SKILLS', 'label_upper': 'SKILLS', 'text': 'Information Architecture', 'id': '1e27b7aebd5a1322c23f6f41d337de5563d9ed5ec3acda509bce4901d0408e48'}, {'start': 508, 'end': 515, 'label': 'SKILLS', 'label_upper': 'SKILLS', 'text': 'process', 'id': '19ed40bf62c399b8492efda5b9a9184b68cf4d9d4a165b38557b9d14201d0c03'}, {'start': 546, 'end': 561, 'label': 'SKILLS', 'label_upper': 'SKILLS', 'text': 'MVT Adobe Suite', 'id': '97245b4b247f3ba6889a8d5b42b19e9baad73970e811c9f000fbe380a47ef530'}, {'start': 747, 'end': 760, 'label': 'SKILLS', 'label_upper': 'SKILLS', 'text': 'digital media', 'id': '3aeb49660f7a110287eecf0ac9bde896148c5ba699bef3c3ba0da6962a79b8a7'}], 'text_sha256': '66e9638faea5f6e6232c6437665a1cd9cca08c05eef89714bd7ee2c4214fdc0f'}, {'text': 'The Company: Our client are a full service, creative driven, brand & digital communications agency based in Newcastle upon Tyne, specialising in on and offline brand communications and applications. Due to an ever increasing client portfolio and ambition to continue their growth, they are looking for a Business Development Manager. The Role: Reporting to the Managing Director, the Business Development Manager will be responsible for developing new design and digital business throughout the UK. Responsibilities include: Developing new business throughout the UK. Research and identify potential clients. Create and maintain good working relationships with key decision makers and influencers of potential clients. Make proactive outbound calls and emails to contact prospective clients. Maximise each sales opportunity. Attend industry events and networking events representing the company. Present to potential clients over the phone or face to face. The Individual: Will have a proven track record in business to business sales, ideally within a related field. Must be a good negotiator who can close a deal. Will have strong communication skills. Should have excellent time management and organisational skills. Ideally be self motivated individual who can motivate others. Must be commercially aware and financially motivated. Must possess good account management skills, be able to maintain relationships as well as develop them', 'annotations': [{'start': 44, 'end': 59, 'label': 'SKILLS', 'label_upper': 'SKILLS', 'text': 'creative driven', 'id': 'f35723eb24242147f84c3f78554b30427673eadca9b06c7d726b78d84e682643'}, {'start': 61, 'end': 91, 'label': 'SKILLS', 'label_upper': 'SKILLS', 'text': 'brand & digital communications', 'id': 'eaea4ff90d44e2ee47711d7e4bac0b345b9be431316df042744f5db71856c0d1'}, {'start': 108, 'end': 128, 'label': 'SKILLS', 'label_upper': 'SKILLS', 'text': 'Newcastle upon Tyne,', 'id': '08dddca966c75c870a5251bd90cb6698350642b5241aca56ac10483ec52d253e'}, {'start': 145, 'end': 180, 'label': 'SKILLS', 'label_upper': 'SKILLS', 'text': 'on and offline brand communications', 'id': '314888e33a13f3075216c55ef8fe4b48ed03e8e3c42f7dadfbb70449a3b9be36'}, {'start': 185, 'end': 197, 'label': 'SKILLS', 'label_upper': 'SKILLS', 'text': 'applications', 'id': 'fd54e5a82e36d787abb29e938f337caa363e9f11d88331711c0932fca32d2875'}, {'start': 304, 'end': 324, 'label': 'SKILLS', 'label_upper': 'SKILLS', 'text': 'Business Development', 'id': '01b015a92cb6d8992647b4a6e41b35a57b2040ff260ce689e22ee6a1ecf28936'}, {'start': 384, 'end': 404, 'label': 'SKILLS', 'label_upper': 'SKILLS', 'text': 'Business Development', 'id': '01b015a92cb6d8992647b4a6e41b35a57b2040ff260ce689e22ee6a1ecf28936'}, {'start': 452, 'end': 458, 'label': 'SKILLS', 'label_upper': 'SKILLS', 'text': 'design', 'id': 'a77de8a6daa1129516b14c8ca1e233a51a8414b202eac7c8acfbb9b485046ad4'}, {'start': 463, 'end': 479, 'label': 'SKILLS', 'label_upper': 'SKILLS', 'text': 'digital business', 'id': '224e22a9b9a5cc5477f0437adbe3eef8cde9675ba4f6a44f25abb0ca7a58d0f3'}, {'start': 568, 'end': 576, 'label': 'SKILLS', 'label_upper': 'SKILLS', 'text': 'Research', 'id': '979d6300fd9884ff8d8e03391d524fed8e88cd5560788f065ba2444db3b7b20c'}, {'start': 609, 'end': 615, 'label': 'SKILLS', 'label_upper': 'SKILLS', 'text': 'Create', 'id': '4759498ac2a719c619e2c8cf8ee60af2d2407425e95d308eb208425b2a6d427a'}, {'start': 753, 'end': 759, 'label': 'SKILLS', 'label_upper': 'SKILLS', 'text': 'emails', 'id': 'cedbe818746cb0d6beb678b52fa4e4457afa73332ec395b7407ea21cbc5b5d23'}, {'start': 832, 'end': 847, 'label': 'SKILLS', 'label_upper': 'SKILLS', 'text': 'industry events', 'id': '44016df4c63f973fed0cf0f011e7ad8bd21d6915fe7a24f640b7106d1de19907'}, {'start': 852, 'end': 862, 'label': 'SKILLS', 'label_upper': 'SKILLS', 'text': 'networking', 'id': 'fefdcdb71779b768562667473b56f837b5c9391f0d2b3edcf38f0c1e5a9c499b'}, {'start': 896, 'end': 903, 'label': 'SKILLS', 'label_upper': 'SKILLS', 'text': 'Present', 'id': '43f9b89c0b9d22d8110ead813ea3949f20592a8bfc3c777d2d49e64da3b0cc9b'}, {'start': 1008, 'end': 1034, 'label': 'SKILLS', 'label_upper': 'SKILLS', 'text': 'business to business sales', 'id': '79b24af7d2fc83df090337e7fb62ebeea2183a3fc82d31496fb3d7bd0c639ba2'}, {'start': 1083, 'end': 1093, 'label': 'SKILLS', 'label_upper': 'SKILLS', 'text': 'negotiator', 'id': '94a0724c50904af90c3fab4d22facdea3f84159e0b410c6df7289fdd7503f8a1'}, {'start': 1102, 'end': 1114, 'label': 'SKILLS', 'label_upper': 'SKILLS', 'text': 'close a deal', 'id': 'df6d98f1f969101ea5a9c12b028bd6dfe5c025993bffc5e732b412ee6eb78869'}, {'start': 1133, 'end': 1146, 'label': 'SKILLS', 'label_upper': 'SKILLS', 'text': 'communication', 'id': 'd4e16994df9002e53294f899714d7137592fd13ba986fcd070214dc85d659968'}, {'start': 1177, 'end': 1192, 'label': 'SKILLS', 'label_upper': 'SKILLS', 'text': 'time management', 'id': '691f9e21106363b35e980277d2c0d0f345a1f97ff777192a0d2b1398eab511ae'}, {'start': 1197, 'end': 1211, 'label': 'SKILLS', 'label_upper': 'SKILLS', 'text': 'organisational', 'id': '30fc57f674fcf9c51c4549621348133e916d96e232097fc0236302e6fa35cb56'}, {'start': 1231, 'end': 1256, 'label': 'SKILLS', 'label_upper': 'SKILLS', 'text': 'self motivated individual', 'id': '44ed248386d45ad4b15f8637153603a7cba4bdfe779ffb9ec0bbfc096d5cddb1'}, {'start': 1290, 'end': 1308, 'label': 'SKILLS', 'label_upper': 'SKILLS', 'text': 'commercially aware', 'id': 'be34920b0c6a851609cbbce5ae8c1559ddd410f646d3c7f6715de886152772c7'}, {'start': 1354, 'end': 1372, 'label': 'SKILLS', 'label_upper': 'SKILLS', 'text': 'account management', 'id': '46c4bd55736ddd13185cf8555b6ee3e5da707bb8f2c1977b19b81bde4fe585aa'}], 'text_sha256': 'c9beeb9701cdef8404a8a45a6d651addc1c3a6d40234fce703642eca14a60f7e'}, {'text': \"Welwyn Chef de Partie does it get any better than this? **** Rosettes, Mentioned in all major guides, Great National Press reviews and a fabulous team. My client is eager to find a talented Chef de Partie who can create exciting food using some of the best ingredients around. This Chef de Partie vacancy is about fine dining not the casual Rustic approach. Situated within easy driving distance of Welwyn this really is a superb opportunity for a Chef de Partie to flourish and excel. You will need to possess the ability to cope well under pressure, enjoy the buzz of a busy service and be a true team worker. Chef de Partie Details Country Setting Busy Operation Good Job Security Established Team Large Kitchen Team True Fresh Produce Mentioned in all the guides Modern Food Interested and ready to join a great establishment? Then please mail over your details or call me on the number below for a chat Consultant: Chris Wilson Ref: ****CW Chef de Partie Award Winning Nr Welwyn  / **** **** Want a quick job search without the hassle of registering then paste www.clearselection.co.uk/search.php to your web browser and enjoy the experience. We are always busy and are constantly receiving new instructions from a number of different client's nationwide, which makes it good for candidates and us. In the majority of cases we have visited the client's establishment and even spent work days with them and have a very enviable reputation for finding the best for the best. If you desire a professional, honest and calm approach with the reassurance that your application will be treated confidentially if requested, we look forward to working on your behalf. Our Consultants love their jobs and its always worth trying to contact them on their mobiles in the evenings or at weekends, if you are to busy during the day. Remember if they do not contact you within **** hours, unfortunately you have not been successful in your application for this position. Clear Selection Recruitment is part of the Clear Selection Group Est. **** This job was originally posted as www.caterer.com/JobSeeking/WelwynChefdePartiedoesitgetanybetterthanthis****_job****\", 'annotations': [{'start': 61, 'end': 69, 'label': 'SKILLS', 'label_upper': 'SKILLS', 'text': 'Rosettes', 'id': '0ec23a04e44d599dd12b0f4a65d9f727b4488cb609c8cf8d81187bb06e82f0cd'}, {'start': 190, 'end': 204, 'label': 'SKILLS', 'label_upper': 'SKILLS', 'text': 'Chef de Partie', 'id': '6bc04b690f49d9b72b0b7c85916c21f9058b0c9c64b4581ba1b840334fa6d209'}, {'start': 282, 'end': 296, 'label': 'SKILLS', 'label_upper': 'SKILLS', 'text': 'Chef de Partie', 'id': '6bc04b690f49d9b72b0b7c85916c21f9058b0c9c64b4581ba1b840334fa6d209'}, {'start': 314, 'end': 325, 'label': 'SKILLS', 'label_upper': 'SKILLS', 'text': 'fine dining', 'id': 'a5cf08e936479ecfcd80b4d45075a23f1d9ca5b583c535b89b3e1f972d69cf42'}, {'start': 448, 'end': 462, 'label': 'SKILLS', 'label_upper': 'SKILLS', 'text': 'Chef de Partie', 'id': '6bc04b690f49d9b72b0b7c85916c21f9058b0c9c64b4581ba1b840334fa6d209'}, {'start': 612, 'end': 634, 'label': 'SKILLS', 'label_upper': 'SKILLS', 'text': 'Chef de Partie Details', 'id': '00fc722d6c011cc1cd2c520345ae8e7823f66d28ad65ca8828a61a3d11d75b89'}, {'start': 707, 'end': 714, 'label': 'SKILLS', 'label_upper': 'SKILLS', 'text': 'Kitchen', 'id': 'd98e82ae3ccb80a7cf9dfef00d2817c91e5080e4a1684d473907ddb5271fd7e8'}, {'start': 767, 'end': 778, 'label': 'SKILLS', 'label_upper': 'SKILLS', 'text': 'Modern Food', 'id': '2a0583dd951f312f1224de4ee73684d8112e1bb8cd165c28ecc9602630ee7cc7'}, {'start': 945, 'end': 965, 'label': 'SKILLS', 'label_upper': 'SKILLS', 'text': 'Chef de Partie Award', 'id': '1d79e4319645ec91aef779ef1fcd788f25ee759d11b92328bd34c6918bdf6f42'}], 'text_sha256': '5a447a86ee8b381769afb2cef209f5e478d8fdb1342770eb068acec306fdd95f'}, {'text': \"Chef de Partie Sauce Award Winning Hertford **** Ready to work in a TwoRosette Restaurant and assist our client the Head Chef in producing high quality fresh food. We are seeking to find a Chef de Partie for this multi award winning Restaurant situated within **** minutes drive of Hertford, Hertfordshire. We would envisage that you will already have similar experience as a Chef De Partie or maybe you are an ambitious Demi Chef de Partie looking for your next move. You will love the pressure of producing a high standard of food, know your ingredients and be very eager to progress. For this Chef De Partie role, my client is offering sensible hours including some straight shifts and the chance to work with lots of local ingredients. Maybe you are working in an establishment that is not as successful, maybe you are working in an unprofessional environment maybe its just time for a change. Interested in this Chef de Partie vacancy and ready to join a great establishment? Then please mail over your details or call me on the number below for a chat Consultant: Chris Wilson Ref: ****CW Chef de Partie Award Winning Hertford  / **** **** Want a quick job search without the hassle of registering then paste www.clearselection.co.uk/search.php to your web browser and enjoy the experience. We are always busy and are constantly receiving new instructions from a number of different client's nationwide, which makes it good for candidates and us. In the majority of cases we have visited the client's establishment and even spent work days with them and have a very enviable reputation for finding the best for the best. If you desire a professional, honest and calm approach with the reassurance that your application will be treated confidentially if requested, we look forward to working on your behalf. Our Consultants love their jobs and its always worth trying to contact them on their mobiles in the evenings or at weekends, if you are to busy during the day. Remember if they do not contact you within **** hours, unfortunately you have not been successful in your application for this position. Clear Selection Recruitment is part of the Clear Selection Group Est. **** This job was originally posted as www.caterer.com/JobSeeking/ChefdePartieSauceAwardWinningHertford****_job****\", 'annotations': [{'start': 0, 'end': 20, 'label': 'SKILLS', 'label_upper': 'SKILLS', 'text': 'Chef de Partie Sauce', 'id': '145f1d2b82947315c06915b9125bf467c14ee8a1be14f22c96c83652c1dc20f2'}, {'start': 189, 'end': 203, 'label': 'SKILLS', 'label_upper': 'SKILLS', 'text': 'Chef de Partie', 'id': '6bc04b690f49d9b72b0b7c85916c21f9058b0c9c64b4581ba1b840334fa6d209'}, {'start': 260, 'end': 278, 'label': 'SKILLS', 'label_upper': 'SKILLS', 'text': '**** minutes drive', 'id': 'af6f1222995b995193b578f3f9f5994e11153cb67fbee7621237a413ad55dd38'}, {'start': 282, 'end': 290, 'label': 'SKILLS', 'label_upper': 'SKILLS', 'text': 'Hertford', 'id': 'c518762b28cec3bb5fb4d495a2ee87b565b3a984c15143d4c43dc373464df157'}, {'start': 376, 'end': 390, 'label': 'SKILLS', 'label_upper': 'SKILLS', 'text': 'Chef De Partie', 'id': '906d354009104ffafd111cabdf165c67c0b454cdcb10b838cb9c895ba08662de'}, {'start': 421, 'end': 440, 'label': 'SKILLS', 'label_upper': 'SKILLS', 'text': 'Demi Chef de Partie', 'id': '8b326b174e1a150dded3ae28b13b08e3dd613eb17304bec95084ad0836342e6c'}, {'start': 596, 'end': 615, 'label': 'SKILLS', 'label_upper': 'SKILLS', 'text': 'Chef De Partie role', 'id': '76a07075c92baf3e4f2bc6d91486bb317a97adf1955a41d2d0b5e2c6e4d43141'}, {'start': 917, 'end': 939, 'label': 'SKILLS', 'label_upper': 'SKILLS', 'text': 'Chef de Partie vacancy', 'id': '3023e6331cbee5f91f8244eea2d2b25c2d8ed6f7dd91beb6c576c01e40e70152'}, {'start': 1070, 'end': 1075, 'label': 'SKILLS', 'label_upper': 'SKILLS', 'text': 'Chris', 'id': '9ae4bc0e32db0e3484cd398459d20f9b4f79cce36667428181bf037131a3c987'}, {'start': 1095, 'end': 1115, 'label': 'SKILLS', 'label_upper': 'SKILLS', 'text': 'Chef de Partie Award', 'id': '1d79e4319645ec91aef779ef1fcd788f25ee759d11b92328bd34c6918bdf6f42'}], 'text_sha256': '6c4745871dcaa993c1b469ebe9259a030cbc740b8ef1e185680199ed2038f273'}, {'text': \"Pastry Chef De Partie AL**** **** ****AA Rosette My client is looking for a Pastry Chef De Partie to start straight away in their ****AA rosette restaurant in a **** star hotel. Working alongside another Pastry Chef it is not necessary to have rosette experience providing you have the natural talent and ability as well as eagerness to learn. Job Specs: Pastry Chef De Partie **** out of 7 days on **** consecutive days off **** hours a week **** early, **** late, **** doubles **** cover restaurant Breakfast shift at 8am Benefits: Up to****pa Tips Life insurance Healthcare Pension Staff uniform Meals on duty Live in available The Candidate: Pastry qualified (NVQs) Preferably Pastry Chef De Partie experience (or good demi) Eager to learn Hard working Living locally or able to relocate ASAP So if you are a Pastry Chef De Partie looking for a great position working alongside an amazing bunch of colleagues then email or just call **** **** for a quick chat. Consultant: Chris Wilson Ref: ****CW Pastry Chef Stevenage  / **** **** Want a quick job search without the hassle of registering then paste www.clearselection.co.uk/search.php to your web browser and enjoy the experience. We are always busy and are constantly receiving new instructions from a number of different client's nationwide, which makes it good for candidates and us. In the majority of cases we have visited the client's establishment and even spent work days with them and have a very enviable reputation for finding the best for the best. If you desire a professional, honest and calm approach with the reassurance that your application will be treated confidentially if requested, we look forward to working on your behalf. Our Consultants love their jobs and its always worth trying to contact them on their mobiles in the evenings or at weekends, if you are to busy during the day. Remember if they do not contact you within **** hours, unfortunately you have not been successful in your application for this position. Clear Selection Recruitment is part of the Clear Selection Group Est. **** This job was originally posted as www.caterer.com/JobSeeking/PastryChefAL****AARosetteRestaurant_job****\", 'annotations': [{'start': 0, 'end': 21, 'label': 'SKILLS', 'label_upper': 'SKILLS', 'text': 'Pastry Chef De Partie', 'id': '64d7585fbb6af77588e5e19ced7f69e29a88e9d4b761a1da3927a8f305ea5476'}, {'start': 76, 'end': 97, 'label': 'SKILLS', 'label_upper': 'SKILLS', 'text': 'Pastry Chef De Partie', 'id': '64d7585fbb6af77588e5e19ced7f69e29a88e9d4b761a1da3927a8f305ea5476'}, {'start': 204, 'end': 215, 'label': 'SKILLS', 'label_upper': 'SKILLS', 'text': 'Pastry Chef', 'id': '99d4850e6f1b0f3b052b300e884a5b11fb43ac5d75a8add59eed27ad0ac3da2a'}, {'start': 355, 'end': 376, 'label': 'SKILLS', 'label_upper': 'SKILLS', 'text': 'Pastry Chef De Partie', 'id': '64d7585fbb6af77588e5e19ced7f69e29a88e9d4b761a1da3927a8f305ea5476'}, {'start': 646, 'end': 652, 'label': 'SKILLS', 'label_upper': 'SKILLS', 'text': 'Pastry', 'id': 'bb26ab6a03933ed0d92a31188f7bd80f594d4b00644ae0864b5708ed43d9f4c9'}, {'start': 681, 'end': 702, 'label': 'SKILLS', 'label_upper': 'SKILLS', 'text': 'Pastry Chef De Partie', 'id': '64d7585fbb6af77588e5e19ced7f69e29a88e9d4b761a1da3927a8f305ea5476'}, {'start': 813, 'end': 834, 'label': 'SKILLS', 'label_upper': 'SKILLS', 'text': 'Pastry Chef De Partie', 'id': '64d7585fbb6af77588e5e19ced7f69e29a88e9d4b761a1da3927a8f305ea5476'}, {'start': 918, 'end': 923, 'label': 'SKILLS', 'label_upper': 'SKILLS', 'text': 'email', 'id': '82244417f956ac7c599f191593f7e441a4fafa20a4158fd52e154f1dc4c8ed92'}, {'start': 1002, 'end': 1013, 'label': 'SKILLS', 'label_upper': 'SKILLS', 'text': 'Pastry Chef', 'id': '99d4850e6f1b0f3b052b300e884a5b11fb43ac5d75a8add59eed27ad0ac3da2a'}], 'text_sha256': 'e2589a09646a3d93913e8da38dce52f54a240c2c2a8c45fb7f2dbfa916bc4aae'}, {'text': 'An expanding software and consultancy services company based in Cambridge is in need of QA Engineers to join their team of QA Analysts and Developers. In this role, you will be working closely with the development team to review requirements and specifications, produce test plans and reports and initialise testing and profiling. Requirements: A Degree or post graduate qualification Commercial experience in Software Testing (Manual and Automated Testing) Experience of software applications for some or all of version control, defect tracking, test case management, test suite automation Experience in the following: o Commandline tools and scripting Experience in one or more of the following areas Text mining Grid computing Natural Language Processing Life Sciences Chemistry Web applications Web services Security Automated GUI testing Understanding of cross platform issues This is a great opportunity to expand your skills and be part of a rapidly growing organisation. Send in your CV now', 'annotations': [{'start': 13, 'end': 21, 'label': 'SKILLS', 'label_upper': 'SKILLS', 'text': 'software', 'id': '35390f5453e810b6248028c63e5860ce4b2ec6401d3849a7f4f871c0d183c22b'}, {'start': 26, 'end': 46, 'label': 'SKILLS', 'label_upper': 'SKILLS', 'text': 'consultancy services', 'id': '22c560d3b2b7372ecdf2277c069655dd32060c629a3196d61013049ffef95970'}, {'start': 64, 'end': 73, 'label': 'SKILLS', 'label_upper': 'SKILLS', 'text': 'Cambridge', 'id': '086eec074ad18d1159de3c076d7f7d8a55f5bc8d134f6f9f5b3cc306181ced80'}, {'start': 88, 'end': 100, 'label': 'SKILLS', 'label_upper': 'SKILLS', 'text': 'QA Engineers', 'id': '5198453887ad13438045dd3753ee0d91eb4dc7a08460ea665b9532050fe20d13'}, {'start': 123, 'end': 134, 'label': 'SKILLS', 'label_upper': 'SKILLS', 'text': 'QA Analysts', 'id': '70e502eb4c0c921a10ddb4dba4dd358a5468656bdece51afa29a8eb6172878cb'}, {'start': 246, 'end': 260, 'label': 'SKILLS', 'label_upper': 'SKILLS', 'text': 'specifications', 'id': 'ac05a7eb3b0e3ce2ba9c6e4a0e3efbcfe676aa1628bc3d9a80458d98eee56965'}, {'start': 320, 'end': 329, 'label': 'SKILLS', 'label_upper': 'SKILLS', 'text': 'profiling', 'id': '46a56e86ce6264d5cf9ae9e290c95a1e1105276787d4bc4762d9e71d716cd4d1'}, {'start': 357, 'end': 384, 'label': 'DIPLOMA', 'label_upper': 'DIPLOMA', 'text': 'post graduate qualification', 'id': 'a51563c3d993df5629bccec4cb78e800d3d142c4c949103dd8c7728d2744368f'}, {'start': 410, 'end': 426, 'label': 'SKILLS', 'label_upper': 'SKILLS', 'text': 'Software Testing', 'id': '4ce538e5beab1b3d85b5b9845edc0ae8f05c28969c3aa69bb01cead3351307ad'}, {'start': 428, 'end': 434, 'label': 'SKILLS', 'label_upper': 'SKILLS', 'text': 'Manual', 'id': 'b0b9fe24ffa9629125bdc59b122f80d605ab604eb1b74485c2f2ecfde26576ae'}, {'start': 439, 'end': 456, 'label': 'SKILLS', 'label_upper': 'SKILLS', 'text': 'Automated Testing', 'id': 'a8d24711a44590448f8ea90c50ec68525e6af2c6dfa42127f454827c362128db'}, {'start': 472, 'end': 493, 'label': 'SKILLS', 'label_upper': 'SKILLS', 'text': 'software applications', 'id': '92bcec01fe41d990c2700f5912f05968cca981402486931d1c905ea00dfae125'}, {'start': 513, 'end': 528, 'label': 'SKILLS', 'label_upper': 'SKILLS', 'text': 'version control', 'id': 'c87a5566f56352fcf557a44b8a6cd442c73b6173a2c98fc8a61b41298af735a1'}, {'start': 530, 'end': 545, 'label': 'SKILLS', 'label_upper': 'SKILLS', 'text': 'defect tracking', 'id': '26e830f06f7388d5dd759006f27c80ac07327a46d6e659ccf2a28062083db52a'}, {'start': 547, 'end': 567, 'label': 'SKILLS', 'label_upper': 'SKILLS', 'text': 'test case management', 'id': 'dde94e2b746a8deebd7a6665eb33ccad41af9e052984ae1442466571e346a157'}, {'start': 569, 'end': 590, 'label': 'SKILLS', 'label_upper': 'SKILLS', 'text': 'test suite automation', 'id': 'e1bbc7b31f9a84973f3e0b4ee9da55e0e883945a27b1ef8389cb2fd2ae2a5219'}, {'start': 622, 'end': 639, 'label': 'SKILLS', 'label_upper': 'SKILLS', 'text': 'Commandline tools', 'id': '99a25de9899b007098dd223f247bb3da5f34b51ad66e73f7893688b64b6c53ee'}, {'start': 644, 'end': 653, 'label': 'SKILLS', 'label_upper': 'SKILLS', 'text': 'scripting', 'id': 'dab751f45000becc78185bf76ff71cbe3fada6f3d1483ff480f55fd34783925d'}, {'start': 703, 'end': 714, 'label': 'SKILLS', 'label_upper': 'SKILLS', 'text': 'Text mining', 'id': '72bcfd86ca184f01a490427124c4df6418ddccd8a49b69cb1dd90a7ea036184c'}, {'start': 715, 'end': 729, 'label': 'SKILLS', 'label_upper': 'SKILLS', 'text': 'Grid computing', 'id': 'e3c50962fd6d234e4ef4e9ba468a7e41e0eb19e0294915f16494d29b90d5d9c0'}, {'start': 730, 'end': 757, 'label': 'SKILLS', 'label_upper': 'SKILLS', 'text': 'Natural Language Processing', 'id': 'b11715562f26ff15acd462701d4a427dbaae610f687fbdd3530581892ec5e1ac'}, {'start': 758, 'end': 771, 'label': 'SKILLS', 'label_upper': 'SKILLS', 'text': 'Life Sciences', 'id': 'a2efdeba871bf99ee275a96c8af4cb2d571277b962e47f8179cfa8c534d09c8f'}, {'start': 772, 'end': 781, 'label': 'SKILLS', 'label_upper': 'SKILLS', 'text': 'Chemistry', 'id': 'ab2cc833ed40c8b3c97b0617e4df0ec6097084c7e3a68c2befb0d34347bf69c2'}, {'start': 782, 'end': 798, 'label': 'SKILLS', 'label_upper': 'SKILLS', 'text': 'Web applications', 'id': 'e78782c9032f574bad37e0791877fd9dbf695b7e1fdedbd902b9495e05f054ac'}, {'start': 799, 'end': 811, 'label': 'SKILLS', 'label_upper': 'SKILLS', 'text': 'Web services', 'id': '563fdd226e8a1efb42b1348d742fa7bdb32a586d6ca323b8aaf7bbbce6f3d218'}, {'start': 812, 'end': 830, 'label': 'SKILLS', 'label_upper': 'SKILLS', 'text': 'Security Automated', 'id': 'bab50628da15eb9b1e534f5d6122b69293c142d3794fe6327fa0b6d35ef2b8d8'}, {'start': 831, 'end': 842, 'label': 'SKILLS', 'label_upper': 'SKILLS', 'text': 'GUI testing', 'id': '7866c921eafa75f2a054220dec896bcfc402b765fae5c4ce0bf6c6692ef3ae1b'}], 'text_sha256': '6c884ed7a6d4a86cee3c8e70527a951c1bb66861b23540962a29cc2c5739ab62'}, {'text': 'Our client is looking for a Documentation Engineer/Technical Author. The preffered candidate will be practiced in interpreting engineering drawings and producing instructional documentation based on the information gained. Candidates must be proficient in Microsoft Office suite of applications predominantly Word. Looking for experience in the production of documentation in one or more of the following areas:  Operation and Maintenance Instructions  Recovery Instructions  Schedule of Recommended Spares  Commissioning Method Statements   System Performance Demonstrations  Training Materials Candidates must have good communications skills, being able to liaise with inhouse engineering design personnel and to interface with client representatives. CE hands on experience in a nuclear plant environment. Plant commissioning experience is a valuable asset. Security clearance to Basic Check (BC) I Revised Baseline Standard (RBS) level is advantageous', 'annotations': [{'start': 28, 'end': 50, 'label': 'SKILLS', 'label_upper': 'SKILLS', 'text': 'Documentation Engineer', 'id': '781344798b4ea47372ecd10451cae15208b8cadaf760bbe183fa6804853aef70'}, {'start': 51, 'end': 67, 'label': 'SKILLS', 'label_upper': 'SKILLS', 'text': 'Technical Author', 'id': '7b009c5f8d0ef31bfec81a796657e329aed839abc0b98851c81e280d97f56b38'}, {'start': 114, 'end': 138, 'label': 'SKILLS', 'label_upper': 'SKILLS', 'text': 'interpreting engineering', 'id': '9b630f6a6e1ac82ccbeb9d5533eff3923126d9375148f38f4c1849f2110f0213'}, {'start': 152, 'end': 189, 'label': 'SKILLS', 'label_upper': 'SKILLS', 'text': 'producing instructional documentation', 'id': '1213e985263a84ebdec98bdfcdc13794f57697c9df3636cfb2d015bee53ff47c'}, {'start': 309, 'end': 313, 'label': 'SKILLS', 'label_upper': 'SKILLS', 'text': 'Word', 'id': '3a2860ece5a4ee0b48b41ee96dd8054cf9bc6f113249ec601478b2582d72ead4'}, {'start': 413, 'end': 422, 'label': 'SKILLS', 'label_upper': 'SKILLS', 'text': 'Operation', 'id': '0f044feb6ca7d6764650e6b800425a84b5ea518d6f531ee92c3995d6c3eca11e'}, {'start': 427, 'end': 438, 'label': 'SKILLS', 'label_upper': 'SKILLS', 'text': 'Maintenance', 'id': '17ccfa5b681e3e7b293165981520187dfe2c3d5d610669735da1c9ea0421d55d'}, {'start': 453, 'end': 474, 'label': 'SKILLS', 'label_upper': 'SKILLS', 'text': 'Recovery Instructions', 'id': 'df9c714aacf96287c9681d467ffb7f667c042ad8ccb74047aeaeea8b493e4e00'}, {'start': 508, 'end': 539, 'label': 'SKILLS', 'label_upper': 'SKILLS', 'text': 'Commissioning Method Statements', 'id': '18e6a06981f83127f79a3a469d5507ec66dd00f95385d3f2bdad83a9e5c4d60b'}, {'start': 542, 'end': 575, 'label': 'SKILLS', 'label_upper': 'SKILLS', 'text': 'System Performance Demonstrations', 'id': 'd53af758cfd9e0bf96df01403707ba13982162f506ae14ebbd6c3c91414ada4d'}, {'start': 577, 'end': 595, 'label': 'SKILLS', 'label_upper': 'SKILLS', 'text': 'Training Materials', 'id': 'bfa5beb733630f377f6a9d3a37c3f30ad3c493139f1091db8f37ab07bb5bddfa'}, {'start': 622, 'end': 636, 'label': 'SKILLS', 'label_upper': 'SKILLS', 'text': 'communications', 'id': '19ec6af8eddb1c0e8811f027ecc93a47c51792412203cf6a6d57e91c0db89212'}, {'start': 691, 'end': 697, 'label': 'SKILLS', 'label_upper': 'SKILLS', 'text': 'design', 'id': 'a77de8a6daa1129516b14c8ca1e233a51a8414b202eac7c8acfbb9b485046ad4'}, {'start': 715, 'end': 724, 'label': 'SKILLS', 'label_upper': 'SKILLS', 'text': 'interface', 'id': 'c796d37c6d491e8f0c6e9b83eed34c15c0f377f9f0f3cbb3216fbbf776da6325'}, {'start': 754, 'end': 756, 'label': 'SKILLS', 'label_upper': 'SKILLS', 'text': 'CE', 'id': 'd68956cd067ac773650ef6f94387fd88662528204b65eae20165055281041e0b'}, {'start': 782, 'end': 795, 'label': 'SKILLS', 'label_upper': 'SKILLS', 'text': 'nuclear plant', 'id': '4bf349f72dd48a380a49e67e5fa8bff1f97e1369bbc9bfef6ce7431b2cb33be3'}, {'start': 809, 'end': 828, 'label': 'SKILLS', 'label_upper': 'SKILLS', 'text': 'Plant commissioning', 'id': '688d8ee8d2fac8cbcfc3cddfa5f1f1eaf773dfab32bdbbdd1285d0c05926f39b'}], 'text_sha256': '27f6712f4c65b4ffabf588449255f4152c9804f69d539c60d3c714e9e0070fbf'}, {'text': 'Are you fluent in English and another European language? Are you looking for an exciting opportunity to use your languages in a fastpaced Customer Service role? We are presenting the opportunity to work for a leading Global Conferencing provider; we are currently looking for bright and dynamic language speakers to join the busy multilingual European Customer Service team. Working within this busy and dynamic office, you will be dealing with business clients on a daily basis. You will be setting up and managing live teleconferences, from office meetings, court hearings to large business events. This is an office based role dealing with inbound/outbound calls and managing the automated conference service. Above all you will consistently provide excellent customer service to valuable clients, and be an outstanding representative for the company. This client is an upandcoming company, excellent to work for, who are stronger than ever during the current economic climate. The company offer a welcoming and supportive working environment as well as fantastic career progression opportunities and an excellent benefit package You must be fluent in English AND at least one of the following languages: German, French, Spanish, Italian, Portuguese, Dutch, Swedish, Finnish or Russian. You must also have: Customer Service experience (this can be retail, hospitality, receptionist, office, customer service, call centre). Experience dealing with business clients (B2B) would be preferable. Proven ability to use your own initiative and work well under pressure. Other important qualities are organisation, attention to detail, strong communication skills and reliability/punctuality. This is a fulltime permanent position based in Croydon, Surrey. Hours of work are Monday to Friday shifts between ****:30am ****:00pm, however flexibility is required to meet customer requirements and bank holiday working may be required. Bilingual, customer service, call centre, contact centre, events, event management, event coordinator, teleconferencing, teleconference, telecommunications, telecoms, languages, language skills', 'annotations': [{'start': 18, 'end': 25, 'label': 'SKILLS', 'label_upper': 'SKILLS', 'text': 'English', 'id': 'ba118bf7fc9c1aedc1edb28a0aa86e0b43b681f222af6616e13c43be87815b06'}, {'start': 138, 'end': 154, 'label': 'SKILLS', 'label_upper': 'SKILLS', 'text': 'Customer Service', 'id': 'cdf7689a4e7e9d8dc09828df1d5c397a03232b2f53db67a5d3949c7991f48030'}, {'start': 217, 'end': 236, 'label': 'SKILLS', 'label_upper': 'SKILLS', 'text': 'Global Conferencing', 'id': '26b3132aeb54d43d371c4c57cfa2eb4d8933d9ccb7ab90efa4f9cf562f19580f'}, {'start': 343, 'end': 368, 'label': 'SKILLS', 'label_upper': 'SKILLS', 'text': 'European Customer Service', 'id': '326e04e6d2d397702a6b0bf44d63763463c48f5db07829bd4b23c46f37f0ef51'}, {'start': 507, 'end': 536, 'label': 'SKILLS', 'label_upper': 'SKILLS', 'text': 'managing live teleconferences', 'id': 'ddb7d5dfc7bbbd0debf1b4574c3eed601078191809dc2e77b4bfba800d22112c'}, {'start': 670, 'end': 711, 'label': 'SKILLS', 'label_upper': 'SKILLS', 'text': 'managing the automated conference service', 'id': '0fed7366f70e2c50b4463ec258f7e2951c7b7cc6473240df022e54b7e913468a'}, {'start': 763, 'end': 779, 'label': 'SKILLS', 'label_upper': 'SKILLS', 'text': 'customer service', 'id': '349543c18201758b4142bc2140a10587cc99ed9eb43d3407c53733d948085abf'}, {'start': 1155, 'end': 1162, 'label': 'SKILLS', 'label_upper': 'SKILLS', 'text': 'English', 'id': 'ba118bf7fc9c1aedc1edb28a0aa86e0b43b681f222af6616e13c43be87815b06'}, {'start': 1208, 'end': 1214, 'label': 'SKILLS', 'label_upper': 'SKILLS', 'text': 'German', 'id': 'a659b60d246dce8d4865d45673963de83d0e49a57e8559da98581c2bc5d7d97f'}, {'start': 1216, 'end': 1222, 'label': 'SKILLS', 'label_upper': 'SKILLS', 'text': 'French', 'id': '7458199fe97a184002bfd3c42bae81371f0ae2229b5c0a257a9bae77e4f4eda8'}, {'start': 1224, 'end': 1231, 'label': 'SKILLS', 'label_upper': 'SKILLS', 'text': 'Spanish', 'id': '3411059cb8e0660e29dd7a3737e65a28b08eb01524a8ebc3d4168932649f23e6'}, {'start': 1233, 'end': 1240, 'label': 'SKILLS', 'label_upper': 'SKILLS', 'text': 'Italian', 'id': 'fe1d9c7db3762da63c17852f7652e3d4a73154f90bcd90474550c7a552d3d0bf'}, {'start': 1242, 'end': 1252, 'label': 'SKILLS', 'label_upper': 'SKILLS', 'text': 'Portuguese', 'id': '98b01b890687f9a075cb21e9b3015b56d14b05d582b4520105c26ab2e38b8970'}, {'start': 1254, 'end': 1259, 'label': 'SKILLS', 'label_upper': 'SKILLS', 'text': 'Dutch', 'id': '45f16144c18cb09894ec3e2410e50711f7edcd915b80bf7c7151701dda0ee98a'}, {'start': 1261, 'end': 1268, 'label': 'SKILLS', 'label_upper': 'SKILLS', 'text': 'Swedish', 'id': 'a89a9329d3d41ad2a7a622a7018bb94175d5e9003ada3a903b124e859c27c9bd'}, {'start': 1270, 'end': 1277, 'label': 'SKILLS', 'label_upper': 'SKILLS', 'text': 'Finnish', 'id': '5710b435f90ac7fc54b5bdae5af3d6b989f7fd78d1ef095048d01d1edd89db12'}, {'start': 1281, 'end': 1288, 'label': 'SKILLS', 'label_upper': 'SKILLS', 'text': 'Russian', 'id': '5bcc40adf6e0a2a9c9317f9ac01481271b45ffdd5850d96b562752eee8167b85'}, {'start': 1310, 'end': 1326, 'label': 'SKILLS', 'label_upper': 'SKILLS', 'text': 'Customer Service', 'id': 'cdf7689a4e7e9d8dc09828df1d5c397a03232b2f53db67a5d3949c7991f48030'}, {'start': 1351, 'end': 1357, 'label': 'SKILLS', 'label_upper': 'SKILLS', 'text': 'retail', 'id': '1778c2d9b45bac0ae39a11b400add3b0461f6d8413262678ee3b0c573a4c63a8'}, {'start': 1359, 'end': 1370, 'label': 'SKILLS', 'label_upper': 'SKILLS', 'text': 'hospitality', 'id': 'd61d74587224c86ab5c17128e230fd06bd78ba5d2dbcedcbae22c3b89d378dde'}, {'start': 1372, 'end': 1384, 'label': 'SKILLS', 'label_upper': 'SKILLS', 'text': 'receptionist', 'id': 'c3bca14c650063bb88e5a82f757c11defaf4ea06c18368c9c9b70c5d77933dd3'}, {'start': 1386, 'end': 1392, 'label': 'SKILLS', 'label_upper': 'SKILLS', 'text': 'office', 'id': '5cc3f82838ba7260203e4590ce03d00e1663d41f6a5167144f5c95d6be2166a0'}, {'start': 1394, 'end': 1410, 'label': 'SKILLS', 'label_upper': 'SKILLS', 'text': 'customer service', 'id': '349543c18201758b4142bc2140a10587cc99ed9eb43d3407c53733d948085abf'}, {'start': 1412, 'end': 1423, 'label': 'SKILLS', 'label_upper': 'SKILLS', 'text': 'call centre', 'id': 'a2bf3d18cdf958dc499f973318936cb38652125abffde5b17119f3a484ff4277'}, {'start': 1437, 'end': 1466, 'label': 'SKILLS', 'label_upper': 'SKILLS', 'text': 'dealing with business clients', 'id': '10d0ed74f5e10e190525f6e4ef1cdb32b542a4e279b5404a6c66f9529ccd9a00'}, {'start': 1596, 'end': 1608, 'label': 'SKILLS', 'label_upper': 'SKILLS', 'text': 'organisation', 'id': 'd9019ff220a47ff8fc99a817e65ded92f7920f0a1e26acf02163d28d10b1f9f0'}, {'start': 1610, 'end': 1629, 'label': 'SKILLS', 'label_upper': 'SKILLS', 'text': 'attention to detail', 'id': '4ab7a5209fdbe1fbc211c67ca6cde3c9834cf4bb34e5ef2fad134e21b638dd60'}, {'start': 1638, 'end': 1651, 'label': 'SKILLS', 'label_upper': 'SKILLS', 'text': 'communication', 'id': 'd4e16994df9002e53294f899714d7137592fd13ba986fcd070214dc85d659968'}, {'start': 1663, 'end': 1686, 'label': 'SKILLS', 'label_upper': 'SKILLS', 'text': 'reliability/punctuality', 'id': '2f47d5f71dc9f150a056b7d5cfbcd2ca10f987c2849f040cb556c3f9d8baa6fc'}, {'start': 1927, 'end': 1936, 'label': 'SKILLS', 'label_upper': 'SKILLS', 'text': 'Bilingual', 'id': '2519a066598fa4f84d38fac9413466c3c4f74f23f42001ba83621644665c7414'}, {'start': 1938, 'end': 1954, 'label': 'SKILLS', 'label_upper': 'SKILLS', 'text': 'customer service', 'id': '349543c18201758b4142bc2140a10587cc99ed9eb43d3407c53733d948085abf'}, {'start': 1956, 'end': 1967, 'label': 'SKILLS', 'label_upper': 'SKILLS', 'text': 'call centre', 'id': 'a2bf3d18cdf958dc499f973318936cb38652125abffde5b17119f3a484ff4277'}, {'start': 1969, 'end': 1983, 'label': 'SKILLS', 'label_upper': 'SKILLS', 'text': 'contact centre', 'id': 'ee4e49e30b2e4ba104d31c8c6679cd75273fd7a2716a1408f36d2f041f255386'}, {'start': 1985, 'end': 1991, 'label': 'SKILLS', 'label_upper': 'SKILLS', 'text': 'events', 'id': '862417b9e7c3720bcb3263cd873b09892d787823b6f9a0f453e42824c5a4d4b6'}, {'start': 1993, 'end': 2009, 'label': 'SKILLS', 'label_upper': 'SKILLS', 'text': 'event management', 'id': '2c71b4219712c14c0cc4877ebd942facaa5bbf80cf1c8f9b015e73816f89e84e'}, {'start': 2011, 'end': 2028, 'label': 'SKILLS', 'label_upper': 'SKILLS', 'text': 'event coordinator', 'id': 'acc4849a18b40763ed0c18ea3b2d1dede6448f6dffe950c9bea38c2c5267029d'}, {'start': 2030, 'end': 2046, 'label': 'SKILLS', 'label_upper': 'SKILLS', 'text': 'teleconferencing', 'id': '4659a30444b1852a9d8bfdb48d7055c71d1d20dae7fd897b5bc9d7c48df45499'}, {'start': 2048, 'end': 2062, 'label': 'SKILLS', 'label_upper': 'SKILLS', 'text': 'teleconference', 'id': '391c8243e97bc029467c0e50984f939007df986e6e3fb5282da221734024db54'}, {'start': 2064, 'end': 2082, 'label': 'SKILLS', 'label_upper': 'SKILLS', 'text': 'telecommunications', 'id': '717a1cda828d2c9a2678dedb09948a5d5dcf7e2d12bba75947cbde0bdf7c0271'}, {'start': 2084, 'end': 2092, 'label': 'SKILLS', 'label_upper': 'SKILLS', 'text': 'telecoms', 'id': '46f5e14ed918ce3b826aa789c32deb90f21c38de7940f96d466663620cf4b486'}, {'start': 2094, 'end': 2103, 'label': 'SKILLS', 'label_upper': 'SKILLS', 'text': 'languages', 'id': '6cb574fa10b6ee206bf9b8e73dcb1913e3ee52c09f4534027d01c354c0c2d68c'}, {'start': 2105, 'end': 2120, 'label': 'SKILLS', 'label_upper': 'SKILLS', 'text': 'language skills', 'id': '4dd33aa3c2c939729b2171458843a5aed405e101546065f79f443955f2c32e4e'}], 'text_sha256': '53461aecc9b2f06ec7f4b28415d8428e63f4a3e2e379fb42009247f0247ad4c8'}, {'text': 'Are you fluent in English and German? Are you looking for an exciting opportunity to use your language skills in a fastpaced Customer Service role? We are presenting the opportunity to work for a leading Global Conferencing provider; we are currently looking for a bright and dynamic Germanspeaker to join the busy multilingual European Customer Service team. Working within this busy yet friendly office, you will be dealing with business clients on a daily basis. You will be setting up and managing live teleconferences, from office meetings, court hearings to large business events. This is an office based role dealing with inbound/outbound calls and managing the automated conference service. Above all you will consistently provide excellent customer service to valuable clients, and be an outstanding representative for the company. This client is a successful company, excellent to work for, who are stronger than ever during the current economic climate. The company offer a welcoming and supportive working environment as well as fantastic career progression opportunities and an excellent benefit package You must be fluent in German Customer Service experience (this can be retail, hospitality, receptionist, office, customer service, call centre). Experience dealing with business clients (B2B) would be preferable. Proven ability to use your own initiative and work well under pressure. Other important qualities are organisation, attention to detail, strong communication skills and reliability/punctuality. This is a fulltime permanent position based in Croydon, Surrey. Hours of work are Monday to Friday shifts between ****:30am ****:00pm. Bilingual, German, customer service, call centre, contact centre, events, event management, event coordinator, teleconferencing, teleconference, telecommunications, telecoms, languages, language skills', 'annotations': [{'start': 18, 'end': 25, 'label': 'SKILLS', 'label_upper': 'SKILLS', 'text': 'English', 'id': 'ba118bf7fc9c1aedc1edb28a0aa86e0b43b681f222af6616e13c43be87815b06'}, {'start': 30, 'end': 36, 'label': 'SKILLS', 'label_upper': 'SKILLS', 'text': 'German', 'id': 'a659b60d246dce8d4865d45673963de83d0e49a57e8559da98581c2bc5d7d97f'}, {'start': 125, 'end': 141, 'label': 'SKILLS', 'label_upper': 'SKILLS', 'text': 'Customer Service', 'id': 'cdf7689a4e7e9d8dc09828df1d5c397a03232b2f53db67a5d3949c7991f48030'}, {'start': 204, 'end': 223, 'label': 'SKILLS', 'label_upper': 'SKILLS', 'text': 'Global Conferencing', 'id': '26b3132aeb54d43d371c4c57cfa2eb4d8933d9ccb7ab90efa4f9cf562f19580f'}, {'start': 284, 'end': 297, 'label': 'SKILLS', 'label_upper': 'SKILLS', 'text': 'Germanspeaker', 'id': '06dcf5b216b3e15184366052e386b25f5f2a4427f5b21a46460bf5e16daa5ef8'}, {'start': 328, 'end': 353, 'label': 'SKILLS', 'label_upper': 'SKILLS', 'text': 'European Customer Service', 'id': '326e04e6d2d397702a6b0bf44d63763463c48f5db07829bd4b23c46f37f0ef51'}, {'start': 478, 'end': 488, 'label': 'SKILLS', 'label_upper': 'SKILLS', 'text': 'setting up', 'id': '6ae46cb7870f12d1542fdb8e1c970588aed277e3a1273063a032b9f0eea47c1e'}, {'start': 493, 'end': 522, 'label': 'SKILLS', 'label_upper': 'SKILLS', 'text': 'managing live teleconferences', 'id': 'ddb7d5dfc7bbbd0debf1b4574c3eed601078191809dc2e77b4bfba800d22112c'}, {'start': 546, 'end': 560, 'label': 'SKILLS', 'label_upper': 'SKILLS', 'text': 'court hearings', 'id': 'b0bfb24bc295ddf0fc470c8e5c08834b4ce71862cb25a576ac53b740908e61e8'}, {'start': 656, 'end': 697, 'label': 'SKILLS', 'label_upper': 'SKILLS', 'text': 'managing the automated conference service', 'id': '0fed7366f70e2c50b4463ec258f7e2951c7b7cc6473240df022e54b7e913468a'}, {'start': 749, 'end': 765, 'label': 'SKILLS', 'label_upper': 'SKILLS', 'text': 'customer service', 'id': '349543c18201758b4142bc2140a10587cc99ed9eb43d3407c53733d948085abf'}, {'start': 1139, 'end': 1162, 'label': 'SKILLS', 'label_upper': 'SKILLS', 'text': 'German Customer Service', 'id': 'd58bcabdf2ac6b050a9d168355be54afaec1740e187590e4c10864818bca7ebf'}, {'start': 1187, 'end': 1193, 'label': 'SKILLS', 'label_upper': 'SKILLS', 'text': 'retail', 'id': '1778c2d9b45bac0ae39a11b400add3b0461f6d8413262678ee3b0c573a4c63a8'}, {'start': 1195, 'end': 1206, 'label': 'SKILLS', 'label_upper': 'SKILLS', 'text': 'hospitality', 'id': 'd61d74587224c86ab5c17128e230fd06bd78ba5d2dbcedcbae22c3b89d378dde'}, {'start': 1208, 'end': 1220, 'label': 'SKILLS', 'label_upper': 'SKILLS', 'text': 'receptionist', 'id': 'c3bca14c650063bb88e5a82f757c11defaf4ea06c18368c9c9b70c5d77933dd3'}, {'start': 1222, 'end': 1228, 'label': 'SKILLS', 'label_upper': 'SKILLS', 'text': 'office', 'id': '5cc3f82838ba7260203e4590ce03d00e1663d41f6a5167144f5c95d6be2166a0'}, {'start': 1230, 'end': 1246, 'label': 'SKILLS', 'label_upper': 'SKILLS', 'text': 'customer service', 'id': '349543c18201758b4142bc2140a10587cc99ed9eb43d3407c53733d948085abf'}, {'start': 1248, 'end': 1259, 'label': 'SKILLS', 'label_upper': 'SKILLS', 'text': 'call centre', 'id': 'a2bf3d18cdf958dc499f973318936cb38652125abffde5b17119f3a484ff4277'}, {'start': 1273, 'end': 1302, 'label': 'SKILLS', 'label_upper': 'SKILLS', 'text': 'dealing with business clients', 'id': '10d0ed74f5e10e190525f6e4ef1cdb32b542a4e279b5404a6c66f9529ccd9a00'}, {'start': 1432, 'end': 1444, 'label': 'SKILLS', 'label_upper': 'SKILLS', 'text': 'organisation', 'id': 'd9019ff220a47ff8fc99a817e65ded92f7920f0a1e26acf02163d28d10b1f9f0'}, {'start': 1446, 'end': 1465, 'label': 'SKILLS', 'label_upper': 'SKILLS', 'text': 'attention to detail', 'id': '4ab7a5209fdbe1fbc211c67ca6cde3c9834cf4bb34e5ef2fad134e21b638dd60'}, {'start': 1474, 'end': 1487, 'label': 'SKILLS', 'label_upper': 'SKILLS', 'text': 'communication', 'id': 'd4e16994df9002e53294f899714d7137592fd13ba986fcd070214dc85d659968'}, {'start': 1659, 'end': 1668, 'label': 'SKILLS', 'label_upper': 'SKILLS', 'text': 'Bilingual', 'id': '2519a066598fa4f84d38fac9413466c3c4f74f23f42001ba83621644665c7414'}, {'start': 1670, 'end': 1676, 'label': 'SKILLS', 'label_upper': 'SKILLS', 'text': 'German', 'id': 'a659b60d246dce8d4865d45673963de83d0e49a57e8559da98581c2bc5d7d97f'}, {'start': 1678, 'end': 1694, 'label': 'SKILLS', 'label_upper': 'SKILLS', 'text': 'customer service', 'id': '349543c18201758b4142bc2140a10587cc99ed9eb43d3407c53733d948085abf'}, {'start': 1696, 'end': 1707, 'label': 'SKILLS', 'label_upper': 'SKILLS', 'text': 'call centre', 'id': 'a2bf3d18cdf958dc499f973318936cb38652125abffde5b17119f3a484ff4277'}, {'start': 1709, 'end': 1723, 'label': 'SKILLS', 'label_upper': 'SKILLS', 'text': 'contact centre', 'id': 'ee4e49e30b2e4ba104d31c8c6679cd75273fd7a2716a1408f36d2f041f255386'}, {'start': 1725, 'end': 1731, 'label': 'SKILLS', 'label_upper': 'SKILLS', 'text': 'events', 'id': '862417b9e7c3720bcb3263cd873b09892d787823b6f9a0f453e42824c5a4d4b6'}, {'start': 1733, 'end': 1749, 'label': 'SKILLS', 'label_upper': 'SKILLS', 'text': 'event management', 'id': '2c71b4219712c14c0cc4877ebd942facaa5bbf80cf1c8f9b015e73816f89e84e'}, {'start': 1751, 'end': 1768, 'label': 'SKILLS', 'label_upper': 'SKILLS', 'text': 'event coordinator', 'id': 'acc4849a18b40763ed0c18ea3b2d1dede6448f6dffe950c9bea38c2c5267029d'}, {'start': 1770, 'end': 1786, 'label': 'SKILLS', 'label_upper': 'SKILLS', 'text': 'teleconferencing', 'id': '4659a30444b1852a9d8bfdb48d7055c71d1d20dae7fd897b5bc9d7c48df45499'}, {'start': 1788, 'end': 1802, 'label': 'SKILLS', 'label_upper': 'SKILLS', 'text': 'teleconference', 'id': '391c8243e97bc029467c0e50984f939007df986e6e3fb5282da221734024db54'}, {'start': 1804, 'end': 1822, 'label': 'SKILLS', 'label_upper': 'SKILLS', 'text': 'telecommunications', 'id': '717a1cda828d2c9a2678dedb09948a5d5dcf7e2d12bba75947cbde0bdf7c0271'}, {'start': 1824, 'end': 1832, 'label': 'SKILLS', 'label_upper': 'SKILLS', 'text': 'telecoms', 'id': '46f5e14ed918ce3b826aa789c32deb90f21c38de7940f96d466663620cf4b486'}, {'start': 1834, 'end': 1843, 'label': 'SKILLS', 'label_upper': 'SKILLS', 'text': 'languages', 'id': '6cb574fa10b6ee206bf9b8e73dcb1913e3ee52c09f4534027d01c354c0c2d68c'}, {'start': 1845, 'end': 1860, 'label': 'SKILLS', 'label_upper': 'SKILLS', 'text': 'language skills', 'id': '4dd33aa3c2c939729b2171458843a5aed405e101546065f79f443955f2c32e4e'}], 'text_sha256': 'c677ee6ea6313e69a0bb7d8d4a0b71d1b8ee800d1eb754abf0a7e6c7a527bb69'}, {'text': 'Senior Planning Engineer, Nuclear Experience Required, Primavera P**** Working half the time in Manchester and half the time at Sellafield', 'annotations': [{'start': 7, 'end': 15, 'label': 'SKILLS', 'label_upper': 'SKILLS', 'text': 'Planning', 'id': '21cc305095786cd35cdd0e43b4ab2d5b032f95b8e692ab97dcfda3bae2c12d24'}, {'start': 26, 'end': 33, 'label': 'SKILLS', 'label_upper': 'SKILLS', 'text': 'Nuclear', 'id': 'ac9086b1c4befadc3f94f1bfa9401865aff8972e6b539488921879fd97804081'}, {'start': 96, 'end': 106, 'label': 'SKILLS', 'label_upper': 'SKILLS', 'text': 'Manchester', 'id': '5e02dadaa7e4cd29809e2f8a115f1e5e9c01b29813a1fb9707218804218da32a'}, {'start': 128, 'end': 138, 'label': 'SKILLS', 'label_upper': 'SKILLS', 'text': 'Sellafield', 'id': 'c4f6a6307083f7ec5cfcfc7c554b429c10fbf5a71f50dbae112a867f8c070b9b'}], 'text_sha256': '4fae7d3ddd856f90c1eebe6c9b32041b3a31f3fad4510e92e6956b0cbc731f68'}, {'text': 'Do you have experience in Customer Service? Do you speak another European language? If so we want to hear from you We are presenting the opportunity to work for a leading Communications company within their multilingual Customer Service team. Working within a busy and dynamic service centre, you will book and confirm Reservations by telephone, fax and email, and check booking details with the customer, giving them the appropriate information to ensure the service runs smoothly. This is an office based role dealing with inbound calls from business clients. Above all you will consistently provide excellent customer service to valuable clients, and be an outstanding representative for the company. This role presents the opportunity to use your language skills, as you would be liaising with international clients. Our client is an established and internationally successful company, who are excellent to work for, and stronger than ever during the current economic climate. The company offer thorough training, a welcoming and supportive working environment, as well as fantastic career progression opportunities and an excellent benefits package The right candidate must be committed, reliable and have an excellent telephone manner. You must be fluent in English and one of the following languages (French, German, Danish, Dutch, Swedish, Finnish, Italian or Spanish). Candidates with experience in telesales, callcentre, customer service, receptionist or travel are ideal for this role You must also demonstrate the ability to use your own initiative and work well under pressure. Working hours are MondayFriday, and flexibility to work shift patterns (including early starts) is a must. Basic salary is ****  ****  **** bonus  language supplement. This is a fulltime permanent position based in Gloucester', 'annotations': [{'start': 26, 'end': 42, 'label': 'SKILLS', 'label_upper': 'SKILLS', 'text': 'Customer Service', 'id': 'cdf7689a4e7e9d8dc09828df1d5c397a03232b2f53db67a5d3949c7991f48030'}, {'start': 171, 'end': 185, 'label': 'SKILLS', 'label_upper': 'SKILLS', 'text': 'Communications', 'id': '919a92533fbe1d8129cc12e67ce06b13c83f1cc619b4e0b2088bbd2d4cc9583c'}, {'start': 220, 'end': 236, 'label': 'SKILLS', 'label_upper': 'SKILLS', 'text': 'Customer Service', 'id': 'cdf7689a4e7e9d8dc09828df1d5c397a03232b2f53db67a5d3949c7991f48030'}, {'start': 346, 'end': 349, 'label': 'SKILLS', 'label_upper': 'SKILLS', 'text': 'fax', 'id': '4af4e217c06a9b00b977575ac8f4018b162f570703da2e818e84ac77297c0433'}, {'start': 612, 'end': 628, 'label': 'SKILLS', 'label_upper': 'SKILLS', 'text': 'customer service', 'id': '349543c18201758b4142bc2140a10587cc99ed9eb43d3407c53733d948085abf'}, {'start': 1264, 'end': 1271, 'label': 'SKILLS', 'label_upper': 'SKILLS', 'text': 'English', 'id': 'ba118bf7fc9c1aedc1edb28a0aa86e0b43b681f222af6616e13c43be87815b06'}, {'start': 1308, 'end': 1314, 'label': 'SKILLS', 'label_upper': 'SKILLS', 'text': 'French', 'id': '7458199fe97a184002bfd3c42bae81371f0ae2229b5c0a257a9bae77e4f4eda8'}, {'start': 1316, 'end': 1322, 'label': 'SKILLS', 'label_upper': 'SKILLS', 'text': 'German', 'id': 'a659b60d246dce8d4865d45673963de83d0e49a57e8559da98581c2bc5d7d97f'}, {'start': 1324, 'end': 1330, 'label': 'SKILLS', 'label_upper': 'SKILLS', 'text': 'Danish', 'id': 'fe4338ad620c8d7c4905e0b4b350ca7d8b9d84cc9fc9055574f2d16362fdbc6a'}, {'start': 1332, 'end': 1337, 'label': 'SKILLS', 'label_upper': 'SKILLS', 'text': 'Dutch', 'id': '45f16144c18cb09894ec3e2410e50711f7edcd915b80bf7c7151701dda0ee98a'}, {'start': 1339, 'end': 1346, 'label': 'SKILLS', 'label_upper': 'SKILLS', 'text': 'Swedish', 'id': 'a89a9329d3d41ad2a7a622a7018bb94175d5e9003ada3a903b124e859c27c9bd'}, {'start': 1348, 'end': 1355, 'label': 'SKILLS', 'label_upper': 'SKILLS', 'text': 'Finnish', 'id': '5710b435f90ac7fc54b5bdae5af3d6b989f7fd78d1ef095048d01d1edd89db12'}, {'start': 1357, 'end': 1364, 'label': 'SKILLS', 'label_upper': 'SKILLS', 'text': 'Italian', 'id': 'fe1d9c7db3762da63c17852f7652e3d4a73154f90bcd90474550c7a552d3d0bf'}, {'start': 1368, 'end': 1375, 'label': 'SKILLS', 'label_upper': 'SKILLS', 'text': 'Spanish', 'id': '3411059cb8e0660e29dd7a3737e65a28b08eb01524a8ebc3d4168932649f23e6'}, {'start': 1408, 'end': 1417, 'label': 'SKILLS', 'label_upper': 'SKILLS', 'text': 'telesales', 'id': 'e5bf56e134a1a68f0a1399dfcac786f1b33ebad1209a0e9ff00156e6ffe34ef4'}, {'start': 1419, 'end': 1429, 'label': 'SKILLS', 'label_upper': 'SKILLS', 'text': 'callcentre', 'id': 'd243aee747c66a184d74daf0affdc1e54877b7aabec04984d3c8ad44d83ccbcb'}, {'start': 1431, 'end': 1447, 'label': 'SKILLS', 'label_upper': 'SKILLS', 'text': 'customer service', 'id': '349543c18201758b4142bc2140a10587cc99ed9eb43d3407c53733d948085abf'}, {'start': 1449, 'end': 1461, 'label': 'SKILLS', 'label_upper': 'SKILLS', 'text': 'receptionist', 'id': 'c3bca14c650063bb88e5a82f757c11defaf4ea06c18368c9c9b70c5d77933dd3'}, {'start': 1465, 'end': 1471, 'label': 'SKILLS', 'label_upper': 'SKILLS', 'text': 'travel', 'id': '0209442e115ad7bc79fd281d91423a86b619e3c711fe574b7cc198d2e3c461c4'}], 'text_sha256': 'd74cd286b1d22821752be7b8f1c04e33ee87c2d0bef3b2a5aaa6342496880ca5'}, {'text': 'We are looking for a motivated, hard working, conscientious members of staff to work in accordance with our junior course programme coaching trampolining on a Saturday mornings ****:30am  ****:30pm term time. This individual will compliment our existing team. The post holder must hold as a minimum Level 1 in Trampolining (British Gymnastics) and have experience in working with children, be fun, outgoing and have excellent customer service skills and be able to instruct in line with the British Gymnastics syllabus. This post are exempt from the Rehabilitation of Offenders Act **** and will be conditional upon a satisfactory disclosure from the Criminal Records Bureau Hertsmere Leisure is an equal opportunities employer.Hertsmere Leisure promotes a positive attitude towards attendance at work.  following successful probation period', 'annotations': [{'start': 132, 'end': 140, 'label': 'SKILLS', 'label_upper': 'SKILLS', 'text': 'coaching', 'id': '3e0f9f03a736ef32e423c2ad3746bc77279e0b65357edfbd8c7010e14ba59139'}, {'start': 141, 'end': 153, 'label': 'SKILLS', 'label_upper': 'SKILLS', 'text': 'trampolining', 'id': 'a254ae7ed46f1f324314162da126f914876f27d0b1bcdf3caf9675e4fb641b3d'}, {'start': 310, 'end': 322, 'label': 'SKILLS', 'label_upper': 'SKILLS', 'text': 'Trampolining', 'id': '4d642a25b1048d228ab0f11e084c63022ce4d6f4eda0487d98e17a6ccda284ee'}, {'start': 324, 'end': 342, 'label': 'SKILLS', 'label_upper': 'SKILLS', 'text': 'British Gymnastics', 'id': '54c411161bc51ff32a3fa630a9dfb800fa3cd167689647950e692215aebe473b'}, {'start': 367, 'end': 388, 'label': 'SKILLS', 'label_upper': 'SKILLS', 'text': 'working with children', 'id': '1bc355f8f83c8427adebd7a9240346e34e7aa3174628747dceda96b70235f053'}, {'start': 393, 'end': 396, 'label': 'SKILLS', 'label_upper': 'SKILLS', 'text': 'fun', 'id': '00c4285274fcc5d6fba2ee58daf0d8c2b9b825b68d35d65d0e90a9bb333a51b5'}, {'start': 426, 'end': 442, 'label': 'SKILLS', 'label_upper': 'SKILLS', 'text': 'customer service', 'id': '349543c18201758b4142bc2140a10587cc99ed9eb43d3407c53733d948085abf'}, {'start': 465, 'end': 473, 'label': 'SKILLS', 'label_upper': 'SKILLS', 'text': 'instruct', 'id': 'c1c58eabfe7be8974c54ff9f9063dee3812321e83ebcd49d4e2bedd2656fd10c'}, {'start': 491, 'end': 518, 'label': 'SKILLS', 'label_upper': 'SKILLS', 'text': 'British Gymnastics syllabus', 'id': '6d4ea71a74624617afb8d0557d74f07b07fc9047413aa22eb9aed6bcbc7fb1d9'}, {'start': 550, 'end': 583, 'label': 'SKILLS', 'label_upper': 'SKILLS', 'text': 'Rehabilitation of Offenders Act *', 'id': 'a42235550ea98bd603e38fcb8ad025fd1328af84771583e63dda1600cf5394f7'}], 'text_sha256': '7d3922b9c2c9475c0bc1d34bdcb15597180d9b9882a89bebdd154e863d2d0c58'}, {'text': 'Do you have a passion for Swimming? Can you motivate others to improve their skills? If the answer is yes and you have a ASA UKCC Level 2 or STA Full qualification, this could be the job for you Kirklees Active Leisure is looking to develop and grow our existing swimming instructor program for both children and adults and we are looking for enthusiastic individuals to join our team on a Self Employed Basis and become part of our KAL Swim Academy Programme across our sites. We are actively seeking individuals who can teach swimming including a wide range of disciplines including Coaching, Triathlon, Adult and Child, Disabilities, Synchro, Waterpolo, and Diving (information for CPD upskilling is available on a regular basis). You will stand out because of your motivational and fun style of teaching, passion for Swimming and your ability to inspire people, ensuring pupils enjoy your sessions week on week. You will be a vibrant presence in our facilities and willing to go that extra mile. To apply for this opportunity you will need to have proof of your qualification and public liability insurance. Most sessions are held on evenings and weekends and availability differs at each pool. For an informal discussion regarding this opportunity please contact the Aquatics Manager at your Kirklees Active Leisure local pool. An Enhanced Criminal Record Bureau (CRB) Disclosure is required for these posts, a conviction will not necessarily exclude a candidate but will be considered as part of the recruitment process.', 'annotations': [{'start': 26, 'end': 34, 'label': 'SKILLS', 'label_upper': 'SKILLS', 'text': 'Swimming', 'id': '54230802dfda0e8beeb5a86f02f85969d579ff8d6e237be0d167c83dde1cbafb'}, {'start': 433, 'end': 449, 'label': 'SKILLS', 'label_upper': 'SKILLS', 'text': 'KAL Swim Academy', 'id': '2d214f1fbf45b34713487bae9fb05203a2491c1bf3d018f6fc99fd6c16460cac'}, {'start': 528, 'end': 536, 'label': 'SKILLS', 'label_upper': 'SKILLS', 'text': 'swimming', 'id': '7aab06cd90b6efabfbc581922a4ad2ddfba2a20a0be4120eb5d0e5e72a59df66'}, {'start': 585, 'end': 593, 'label': 'SKILLS', 'label_upper': 'SKILLS', 'text': 'Coaching', 'id': 'cf7f3e1a7568723fb11939d484060bc489c965b594b71310777529b6143f5f3c'}, {'start': 595, 'end': 604, 'label': 'SKILLS', 'label_upper': 'SKILLS', 'text': 'Triathlon', 'id': '134c50c5646717449cd9f5a3382dda48db445dd75adc0b158f6ff7bb4ac63e8a'}, {'start': 606, 'end': 611, 'label': 'SKILLS', 'label_upper': 'SKILLS', 'text': 'Adult', 'id': 'ad08defcbfea908e4c8d6b3097b6f2c96572a09a779bf322cee503554fad0006'}, {'start': 616, 'end': 621, 'label': 'SKILLS', 'label_upper': 'SKILLS', 'text': 'Child', 'id': '8053321281f5d162ee6c1c1263a0d1a88ee2d500e4c30c65dc343f37240aaefd'}, {'start': 637, 'end': 644, 'label': 'SKILLS', 'label_upper': 'SKILLS', 'text': 'Synchro', 'id': '652d1ce2857264b62cc43a9156173ccb7e21bae3df49d196ea6fc2d248784004'}, {'start': 646, 'end': 655, 'label': 'SKILLS', 'label_upper': 'SKILLS', 'text': 'Waterpolo', 'id': 'eef03600327d5b511cf91b35334df28d42828f5ad77aa33e27b8bd9d239e90e7'}, {'start': 661, 'end': 667, 'label': 'SKILLS', 'label_upper': 'SKILLS', 'text': 'Diving', 'id': '34e49da7280de1ea25d8a7621110f91c68a959a4ff3fd6bd43eb7aaf00b2b9e1'}, {'start': 685, 'end': 688, 'label': 'SKILLS', 'label_upper': 'SKILLS', 'text': 'CPD', 'id': 'cf668787d58c0a12253c806520c335a12bb5978412cff3b1c7b3cbda75fedbf9'}, {'start': 769, 'end': 781, 'label': 'SKILLS', 'label_upper': 'SKILLS', 'text': 'motivational', 'id': 'aabde36a7aeeec2f8a5f250bacf859711f274ca5fa3dea84d4f1c386f662a2d4'}, {'start': 821, 'end': 829, 'label': 'SKILLS', 'label_upper': 'SKILLS', 'text': 'Swimming', 'id': '54230802dfda0e8beeb5a86f02f85969d579ff8d6e237be0d167c83dde1cbafb'}, {'start': 850, 'end': 857, 'label': 'SKILLS', 'label_upper': 'SKILLS', 'text': 'inspire', 'id': '1cb6508098e9e5955ef7b22b1f0c43f59fe17e429ac321791073cb04e06e4864'}, {'start': 1272, 'end': 1288, 'label': 'SKILLS', 'label_upper': 'SKILLS', 'text': 'Aquatics Manager', 'id': 'df294e50f3049d9b2debc269a66945b9565a205874973831000ff233e673bb99'}], 'text_sha256': '35266eb1d7ea84d2019cdfcd3b11b5e8a089cd5bbc257fdbfded86923196d9b2'}, {'text': \"Do you have a passion for Sport? Can you motivate others to improve their skills? Do you have a valid Level 1 or Level 2 National Governing Body Qualification? Kirklees Active Leisure (KAL) is looking to develop and grow our existing sport coaching programme for both adults and young people and we are looking for enthusiastic individuals to join our teams on a Self Employed basis and become part of our Sport Coaching Programmes across our sites. We are actively seeking individuals who can coach a wide range of sports including Gymnstics, Trampolining, Netball, Football and Climbing. You will stand out because of your motivational style of Coaching, passion for Sport and your ability to inspire people, ensuring individuals return to your session week on week. You will be a vibrant presence in our facilities and will be willing to go that extra mile for our customers. To apply for this opportunity you will need to have proof of your qualification and public liability insurance. Various hourly sessions are held throughout the week including evenings and weekends and availability differs at each Centre. For an informal discussion regarding this opportunity please contact the Sports Activity Manager at your Kirklees Active Leisure Centre. Details of all our Centre's are shown on www.kirkleesactive.co.uk . An Enhanced Criminal Record Bureau (CRB) Disclosure is required for these posts, a conviction will not necessarily exclude a candidate but will be considered as part of the recruitment process.\", 'annotations': [{'start': 160, 'end': 183, 'label': 'SKILLS', 'label_upper': 'SKILLS', 'text': 'Kirklees Active Leisure', 'id': 'd45638af27bb81e3400df312235f318cde2990ef7c1cc420177f409ccbd941d8'}, {'start': 185, 'end': 188, 'label': 'SKILLS', 'label_upper': 'SKILLS', 'text': 'KAL', 'id': 'e2dfbba0deedf474aa684dc4377da0b4e5c3124b40013f4f5a296b3585575e2b'}, {'start': 234, 'end': 248, 'label': 'SKILLS', 'label_upper': 'SKILLS', 'text': 'sport coaching', 'id': '000649d1a2a30a38d59b4178bc582722367160b93f76a0f09159b5d4393252c7'}, {'start': 406, 'end': 420, 'label': 'SKILLS', 'label_upper': 'SKILLS', 'text': 'Sport Coaching', 'id': '0544f418f2440f4473c87da59815e9655d65c809540e6f78153335d2cf96e171'}, {'start': 494, 'end': 499, 'label': 'SKILLS', 'label_upper': 'SKILLS', 'text': 'coach', 'id': 'e0f167bc84b881bc06f6884fb48e02f41dfc5579e25489db6c6bde238e4aed15'}, {'start': 533, 'end': 542, 'label': 'SKILLS', 'label_upper': 'SKILLS', 'text': 'Gymnstics', 'id': '621d218815afe1ffdbe39cc68660fcefc47c952945b440b67cbd22f8fe483554'}, {'start': 544, 'end': 556, 'label': 'SKILLS', 'label_upper': 'SKILLS', 'text': 'Trampolining', 'id': '4d642a25b1048d228ab0f11e084c63022ce4d6f4eda0487d98e17a6ccda284ee'}, {'start': 558, 'end': 565, 'label': 'SKILLS', 'label_upper': 'SKILLS', 'text': 'Netball', 'id': 'a0a01a392eb04139dbe457bb4033235091a651b7d237d6af0b55a60e8e0add3b'}, {'start': 567, 'end': 575, 'label': 'SKILLS', 'label_upper': 'SKILLS', 'text': 'Football', 'id': 'cbe1b7d7f446e134f78cefe973dfbbde9969b81e541853b56eec04a77a6505c3'}, {'start': 580, 'end': 588, 'label': 'SKILLS', 'label_upper': 'SKILLS', 'text': 'Climbing', 'id': '40c03c70e0ad137570c5ee5a3dbf9d41057d3c1e3236311e9d4ccfc0912564f4'}, {'start': 625, 'end': 637, 'label': 'SKILLS', 'label_upper': 'SKILLS', 'text': 'motivational', 'id': 'aabde36a7aeeec2f8a5f250bacf859711f274ca5fa3dea84d4f1c386f662a2d4'}, {'start': 647, 'end': 655, 'label': 'SKILLS', 'label_upper': 'SKILLS', 'text': 'Coaching', 'id': 'cf7f3e1a7568723fb11939d484060bc489c965b594b71310777529b6143f5f3c'}, {'start': 695, 'end': 702, 'label': 'SKILLS', 'label_upper': 'SKILLS', 'text': 'inspire', 'id': '1cb6508098e9e5955ef7b22b1f0c43f59fe17e429ac321791073cb04e06e4864'}, {'start': 1190, 'end': 1213, 'label': 'SKILLS', 'label_upper': 'SKILLS', 'text': 'Sports Activity Manager', 'id': 'd34f8a19d8ee5722fe65ba97a4e458b83dc3acb91b9ea3d1bb87b27e2fd2a50b'}, {'start': 1231, 'end': 1252, 'label': 'SKILLS', 'label_upper': 'SKILLS', 'text': 'Active Leisure Centre', 'id': '943783bd03d05581a55970074ec4b68dd9c8a6da5f91d827e36a467b50b51c27'}], 'text_sha256': '85bc3f21a9c03d45c99cf999eabb1fcaf74400e72abe02f779e4a23f435df343'}, {'text': \"We are looking for outgoing, friendly people to join our crew. Previous experience is always helpful but not essential, as long as you enjoy looking after people and are able to work evenings and weekends, we would like to hear from you. We are very flexible and try to work around people's commitmentshowever you run your life we're sure you'll enjoy working for us.\", 'annotations': [{'start': 141, 'end': 161, 'label': 'SKILLS', 'label_upper': 'SKILLS', 'text': 'looking after people', 'id': 'e3a3d0df9de93a45e778d72a7f8c9c1a47f16bff47b10e14aaf9b22032bb534e'}], 'text_sha256': '0711bc553ee1c0c9550ab2e20bf82cc6889f36bf09c7c6b09a325d50e5ec6f9b'}, {'text': \"We are looking for an experienced Deputy Manager with a big front of house character and good knowledge of food, wine and beer to help run the pub alongside the Manager. You will frequently work opposite shifts to the manager, and run the pub in the manager's absence, so the skill sets needed are broadly the same. You won't carry the full weight of responsibility for the wellbeing of the business, but you will be the manager's righthand person, and will be a senior member of the management team, making decisions and directing things on a daily basis. You'll need to understand and love pubs, take real pleasure in making people happy and play a full role in keeping the business profitable, the crew happy and the customers coming back for more. Being a deputy manager is an ideal opportunity to gain knowledge and experience of every aspect of pub life. We see our deputy managers as our managers of the future, and try to promote from within whenever we can. Our rate of growth means that there are exciting opportunities springing up all the time, and you will be able to develop your career at a pace that is appropriate to you. Contact: Please send your CV with a covering letter telling us what makes you tick Please take some time to look through our website http://www.brunningandprice.co.uk/ and ensure that you include a covering letter when at the final stage of your application.\", 'annotations': [{'start': 107, 'end': 111, 'label': 'SKILLS', 'label_upper': 'SKILLS', 'text': 'food', 'id': 'c1f026582fe6e8cb620d0c85a72fe421ddded756662a8ec00ed4c297ad10676b'}, {'start': 113, 'end': 117, 'label': 'SKILLS', 'label_upper': 'SKILLS', 'text': 'wine', 'id': '32c4feed996880bc92a062dc476f9b8cdb2596a989f2cc5246e9cef605bd5c78'}, {'start': 122, 'end': 126, 'label': 'SKILLS', 'label_upper': 'SKILLS', 'text': 'beer', 'id': '1d8b4cf854cd42f4868849c4ce329da72c406cc11983b4bf45acdae0805f7a72'}, {'start': 231, 'end': 242, 'label': 'SKILLS', 'label_upper': 'SKILLS', 'text': 'run the pub', 'id': 'c262e5c62602756d5962f77e7d17d141d2aac2fc714813489ad611b684650978'}, {'start': 501, 'end': 517, 'label': 'SKILLS', 'label_upper': 'SKILLS', 'text': 'making decisions', 'id': '39268b405baca797d0316f725d99de822cc43a4a0a850cb55e8e7b8040fbae46'}, {'start': 522, 'end': 538, 'label': 'SKILLS', 'label_upper': 'SKILLS', 'text': 'directing things', 'id': '97f2c11b9c82d30d62583e947a0ae7cfcbe2bbee0d8dd3f60531d7f9535c604c'}, {'start': 592, 'end': 596, 'label': 'SKILLS', 'label_upper': 'SKILLS', 'text': 'pubs', 'id': 'ca0e707c939a141e81c19c16e519a09eab58e9e3f13d14f104c1b290dc85d026'}, {'start': 767, 'end': 774, 'label': 'SKILLS', 'label_upper': 'SKILLS', 'text': 'manager', 'id': '6ee4a469cd4e91053847f5d3fcb61dbcc91e8f0ef10be7748da4c4a1ba382d17'}, {'start': 851, 'end': 859, 'label': 'SKILLS', 'label_upper': 'SKILLS', 'text': 'pub life', 'id': '41f6ae7cfce18b6c59ccd9a26176924ca9303afacd83c65c22fc0fae287dd325'}, {'start': 895, 'end': 903, 'label': 'SKILLS', 'label_upper': 'SKILLS', 'text': 'managers', 'id': 'e6ef1856e376fff10d5159f5f6f5a8d35cb7032a3954c32a616ab9b91e7d19d3'}], 'text_sha256': '6a5230fdb3da59c21bdec31f02695f752fe592dbd53b42785d207308b9c6c777'}, {'text': \"We are looking for outgoing, friendly people to join our crew. Previous experience is always helpful but not essential, as long as you enjoy looking after people and are able to work evenings and weekends, we would like to hear from you. We are very flexible and try to work around people's commitmentshowever you run your life we're sure you'll enjoy working for us. Contact: If you think you have got what it takes please send your CV along with a cover letter telling us about yourself\", 'annotations': [{'start': 141, 'end': 161, 'label': 'SKILLS', 'label_upper': 'SKILLS', 'text': 'looking after people', 'id': 'e3a3d0df9de93a45e778d72a7f8c9c1a47f16bff47b10e14aaf9b22032bb534e'}], 'text_sha256': '99c06e2b06a13ae2cc5e750225f25e93372f24f55ac5d7ac89df8b4945afe4ed'}, {'text': \"Fine Dining Chefs for rosette restaurants  up to ****  benefits At Clear Selection, we only deal with clients that are worth working for. Right now is the perfect time to find that out for yourself I have clients across the UK looking for chefs with experience in fine dining  particularly restaurants awarded with rosettes. Across the board, the roles range from Chef De Parties to Conference and Banqueting Sous Chefs. If you are a Chef De Partie, maybe you only have **** AA Rosette experience. Do you want to have experience in a **** AA Rosette restaurant? Then call me today. Maybe you are a Junior Sous Chef with past experience in a restaurant with one or two more rosettes? Call me today. Maybe you haven't worked in a Rosette restaurant, but feel that is the next step? Call me today. Whatever your level in the kitchen, be it Commis Chef or Executive Head Chef, then I undoubtedly have a role that is perfectly suited to your ability and preference. All you have to do is email your CV and call me on **** **** to express your interest. No signing up, just a quick chat about what is available and leave the rest to me. Consultant: Chris Wilson Ref: ****CW Fine Dining Chef Positions  / **** **** Want a quick job search without the hassle of registering then paste www.clearselection.co.uk/search.php to your web browser and enjoy the experience. We are always busy and are constantly receiving new instructions from a number of different client's nationwide, which makes it good for candidates and us. In the majority of cases we have visited the client's establishment and even spent work days with them and have a very enviable reputation for finding the best for the best. If you desire a professional, honest and calm approach with the reassurance that your application will be treated confidentially if requested, we look forward to working on your behalf. Our Consultants love their jobs and its always worth trying to contact them on their mobiles in the evenings or at weekends, if you are to busy during the day. Remember if they do not contact you within **** hours, unfortunately you have not been successful in your application for this position. Clear Selection Recruitment is part of the Clear Selection Group Est. **** This job was originally posted as www.caterer.com/JobSeeking/FineDiningChefsforrosetterestaurantsupto****_job****\", 'annotations': [{'start': 0, 'end': 11, 'label': 'SKILLS', 'label_upper': 'SKILLS', 'text': 'Fine Dining', 'id': 'b358e48771f36688ef0fde3efe2700173df458ca69a50388061ffaa922bcea52'}, {'start': 264, 'end': 275, 'label': 'SKILLS', 'label_upper': 'SKILLS', 'text': 'fine dining', 'id': 'a5cf08e936479ecfcd80b4d45075a23f1d9ca5b583c535b89b3e1f972d69cf42'}, {'start': 364, 'end': 379, 'label': 'SKILLS', 'label_upper': 'SKILLS', 'text': 'Chef De Parties', 'id': '34d801539018e9187e4b896076cda02a34515c38522fb2d2dc437cea6fa0f78c'}, {'start': 383, 'end': 393, 'label': 'SKILLS', 'label_upper': 'SKILLS', 'text': 'Conference', 'id': '4e565e7064bea277b5522fcb19506385ed0fdea140f22a5d9d77d3135ee1a3e5'}, {'start': 398, 'end': 419, 'label': 'SKILLS', 'label_upper': 'SKILLS', 'text': 'Banqueting Sous Chefs', 'id': 'b388c0a21be2e5eeecb08115519a7758559fd50eb3ea3853ddf00b8d93538936'}, {'start': 434, 'end': 448, 'label': 'SKILLS', 'label_upper': 'SKILLS', 'text': 'Chef De Partie', 'id': '906d354009104ffafd111cabdf165c67c0b454cdcb10b838cb9c895ba08662de'}, {'start': 470, 'end': 485, 'label': 'SKILLS', 'label_upper': 'SKILLS', 'text': '**** AA Rosette', 'id': '40794053b8981ce9bd0df44f60d900a604bf9ab2f7b20a274ae4e187580f190b'}, {'start': 534, 'end': 560, 'label': 'SKILLS', 'label_upper': 'SKILLS', 'text': '**** AA Rosette restaurant', 'id': 'ab03022c8818184e6883e05239bd81664fb8ddbd6ba791ef5774aee0fc055b69'}, {'start': 598, 'end': 614, 'label': 'SKILLS', 'label_upper': 'SKILLS', 'text': 'Junior Sous Chef', 'id': '7678af2c8a0561f4716001832afce0a6526ed1353da89141be89906a56b8cdb1'}, {'start': 728, 'end': 746, 'label': 'SKILLS', 'label_upper': 'SKILLS', 'text': 'Rosette restaurant', 'id': '5a19c1c7e8f258839bdb15c79a710480e51e75b58392ba75b879a4b87645118b'}, {'start': 822, 'end': 829, 'label': 'SKILLS', 'label_upper': 'SKILLS', 'text': 'kitchen', 'id': '3171d89ad00530ffa19a244f040e9401a657903cbbbca724996b90a56df2c189'}, {'start': 837, 'end': 848, 'label': 'SKILLS', 'label_upper': 'SKILLS', 'text': 'Commis Chef', 'id': 'd4a4bb10b9de31c3f9a38e815b9fe60c00c28830762c8d20cbbb716459464837'}, {'start': 852, 'end': 871, 'label': 'SKILLS', 'label_upper': 'SKILLS', 'text': 'Executive Head Chef', 'id': 'fed05f3b0f2a497a49b27cfab63a93ff9d611a6a6f434e551f6ab48543ed2724'}, {'start': 1076, 'end': 1080, 'label': 'SKILLS', 'label_upper': 'SKILLS', 'text': 'chat', 'id': '31e06f7d89feb99a0e6c0affe198748c3bb5bef5e3cc92d95cb9e996197d3fc3'}, {'start': 1168, 'end': 1184, 'label': 'SKILLS', 'label_upper': 'SKILLS', 'text': 'Fine Dining Chef', 'id': '4cb0da92c5b460cb6ded978b80e1fcc69b4f43c4c2f2e6ad6f66f0b619c922f3'}], 'text_sha256': '66204e56aebb8a89ff759f626a53bc8061afe1e11ce8e85205446df0373edc69'}]\n"
          ]
        }
      ]
    },
    {
      "cell_type": "code",
      "source": [
        "cd /content/rel_component\n"
      ],
      "metadata": {
        "colab": {
          "base_uri": "https://localhost:8080/"
        },
        "id": "rL6En1s0xYSb",
        "outputId": "26a08ff3-7858-42fa-de96-02677bf121a1"
      },
      "execution_count": null,
      "outputs": [
        {
          "output_type": "stream",
          "name": "stdout",
          "text": [
            "/content/rel_component\n"
          ]
        }
      ]
    },
    {
      "cell_type": "code",
      "source": [
        "import hashlib\n",
        "\n",
        "import pandas as pd\n",
        "import spacy\n",
        "import random\n",
        "import typer\n",
        "from pathlib import Path\n",
        "import spacy\n",
        "from spacy.tokens import DocBin, Doc\n",
        "from spacy.training.example import Example\n",
        "\n",
        "# make the factory work\n",
        "from rel_pipe import make_relation_extractor, score_relations\n",
        "\n",
        "# make the config work\n",
        "from rel_model import create_relation_model, create_classification_layer, create_instances, create_tensors\n",
        "\n",
        "#restart the runtime after installation of deps\n",
        "nlp2 = spacy.load(\"/content/rel_component/training/model-best\")\n",
        "nlp2.add_pipe('sentencizer')\n",
        "\n",
        "\n",
        "\n",
        "def extract_relations():\n",
        "  col_names = [\"Id\", \"Title\", \"FullDescription\", \"LocationRaw\", \"LocationNormalized\", \"Company\", \"Category\", \"SalaryRaw\", \"SalaryNormalized\",\"SourceName\"]\n",
        "  df = pd.read_csv(\"/content/traindataset.csv\",names=col_names, header=None)\n",
        "  documents = []\n",
        "  # docs = list()\n",
        "\n",
        "  nlp = spacy.load(\"/content/drive/MyDrive/Spacy-Project/model-best\")\n",
        "  nlp.add_pipe('sentencizer')\n",
        "  predicted_rels = list()\n",
        "\n",
        "\n",
        "\n",
        "  for index, row in df.iterrows():\n",
        "    text=[row['FullDescription']]\n",
        "    for doc in nlp.pipe(text, disable=[\"tagger\"]):\n",
        "      source_hash = hashlib.sha256(doc.text.encode('utf-8')).hexdigest()\n",
        "\n",
        "      for name, proc in nlp2.pipeline:\n",
        "          doc = proc(doc)\n",
        "      for value, rel_dict in doc._.rel.items():\n",
        "        for sent in doc.sents:\n",
        "          for e in sent.ents:\n",
        "            for b in sent.ents:\n",
        "              if e.start == value[0] and b.start == value[1]:\n",
        "                max_key = max(rel_dict, key=rel_dict. get)\n",
        "                e_id = hashlib.sha256(str(e).encode('utf-8')).hexdigest()\n",
        "                b_id = hashlib.sha256(str(b).encode('utf-8')).hexdigest()\n",
        "                if rel_dict['EXPERIENCE_IN'] >=0.5 :\n",
        "                  print(f\" entities: {e.text, b.text} --> predicted relation: {rel_dict}\")\n",
        "                  predicted_rels.append({'head': e_id, 'tail': b_id, 'type':max_key, 'source': source_hash})\n",
        "  return predicted_rels\n",
        "\n",
        "predicted_rels = extract_relations()\n",
        "print(predicted_rels)\n",
        "\n"
      ],
      "metadata": {
        "colab": {
          "base_uri": "https://localhost:8080/"
        },
        "id": "hPq6mByxxfhc",
        "outputId": "25626dc2-2682-4a21-e238-549b153b7234"
      },
      "execution_count": null,
      "outputs": [
        {
          "output_type": "stream",
          "name": "stdout",
          "text": [
            "\u001b[38;5;4mℹ Could not determine any instances in doc - returning doc as is.\u001b[0m\n",
            " entities: ('35 years', 'dental') --> predicted relation: {'DEGREE_IN': 4.271239e-05, 'EXPERIENCE_IN': 0.8525344}\n",
            " entities: ('35 years', 'consultancy') --> predicted relation: {'DEGREE_IN': 4.1818756e-05, 'EXPERIENCE_IN': 0.9357275}\n",
            " entities: ('35 years', 'Data Analyst') --> predicted relation: {'DEGREE_IN': 5.0497532e-05, 'EXPERIENCE_IN': 0.97777915}\n",
            " entities: ('10 years', 'subsea engineering') --> predicted relation: {'DEGREE_IN': 6.3112995e-05, 'EXPERIENCE_IN': 0.98992145}\n",
            " entities: ('10 years', 'pipelines design') --> predicted relation: {'DEGREE_IN': 4.870046e-05, 'EXPERIENCE_IN': 0.9904096}\n",
            " entities: ('10 years', 'construction') --> predicted relation: {'DEGREE_IN': 3.3431686e-05, 'EXPERIENCE_IN': 0.9840476}\n",
            " entities: ('2 years', 'Recruitment') --> predicted relation: {'DEGREE_IN': 2.028081e-06, 'EXPERIENCE_IN': 0.6721942}\n",
            " entities: ('2 years', 'business to business sales') --> predicted relation: {'DEGREE_IN': 9.492323e-06, 'EXPERIENCE_IN': 0.9820972}\n",
            " entities: ('1015 years', 'subsea cable engineering') --> predicted relation: {'DEGREE_IN': 0.000101789774, 'EXPERIENCE_IN': 0.92706144}\n",
            " entities: ('1015 years', 'offshore oil and gas industries') --> predicted relation: {'DEGREE_IN': 0.00013542248, 'EXPERIENCE_IN': 0.9835984}\n",
            " entities: ('15 years', 'Subsea Controls Engineering') --> predicted relation: {'DEGREE_IN': 0.00022529923, 'EXPERIENCE_IN': 0.9403822}\n",
            " entities: ('15 years', 'Oil and Gas industry') --> predicted relation: {'DEGREE_IN': 0.00013650347, 'EXPERIENCE_IN': 0.97551835}\n",
            " entities: ('1 years', 'General Manager') --> predicted relation: {'DEGREE_IN': 3.9116887e-05, 'EXPERIENCE_IN': 0.60310346}\n",
            " entities: ('1 years', 'managing their own site') --> predicted relation: {'DEGREE_IN': 8.399594e-06, 'EXPERIENCE_IN': 0.8712332}\n",
            " entities: ('six years', 'Investment Software') --> predicted relation: {'DEGREE_IN': 3.8825776e-05, 'EXPERIENCE_IN': 0.9843871}\n",
            " entities: ('six years', 'development') --> predicted relation: {'DEGREE_IN': 1.1551466e-05, 'EXPERIENCE_IN': 0.989165}\n",
            " entities: ('2:**', 'C') --> predicted relation: {'DEGREE_IN': 0.00019168245, 'EXPERIENCE_IN': 0.5777826}\n",
            " entities: ('2:**', '/') --> predicted relation: {'DEGREE_IN': 0.00024196091, 'EXPERIENCE_IN': 0.553817}\n",
            " entities: ('2 years', 'Visual Studio') --> predicted relation: {'DEGREE_IN': 1.8884892e-05, 'EXPERIENCE_IN': 0.57691294}\n",
            " entities: ('2 years', 'commercial C/C++') --> predicted relation: {'DEGREE_IN': 1.0564405e-05, 'EXPERIENCE_IN': 0.9475162}\n",
            " entities: ('**** years', 'PHP Development') --> predicted relation: {'DEGREE_IN': 4.5297667e-05, 'EXPERIENCE_IN': 0.9975204}\n",
            " entities: ('**** years', 'PHP') --> predicted relation: {'DEGREE_IN': 4.646788e-05, 'EXPERIENCE_IN': 0.82171065}\n",
            " entities: ('3 years', 'ecommerce website design') --> predicted relation: {'DEGREE_IN': 3.8613316e-06, 'EXPERIENCE_IN': 0.99966085}\n",
            " entities: ('3 years', 'Information Architecture') --> predicted relation: {'DEGREE_IN': 2.0244008e-05, 'EXPERIENCE_IN': 0.99989855}\n",
            " entities: ('3 years', 'process') --> predicted relation: {'DEGREE_IN': 5.9621234e-06, 'EXPERIENCE_IN': 0.99979025}\n",
            " entities: ('3 years', 'MVT Adobe Suite') --> predicted relation: {'DEGREE_IN': 8.594847e-06, 'EXPERIENCE_IN': 0.99992275}\n",
            " entities: ('**** minutes drive', 'Hertford') --> predicted relation: {'DEGREE_IN': 0.0026177692, 'EXPERIENCE_IN': 0.6171958}\n",
            "\u001b[38;5;4mℹ Could not determine any instances in doc - returning doc as is.\u001b[0m\n",
            "\u001b[38;5;4mℹ Could not determine any instances in doc - returning doc as is.\u001b[0m\n",
            "[{'head': '1bddf730f6351e4a9e2c31a2d50d8d53d718cdc3ee54fbc509fc98db5d01c997', 'tail': 'd138e4e2606d9c58caab4709a9a5e295aef1efdbc7dacfe64b462ac238691bfc', 'type': 'EXPERIENCE_IN', 'source': 'b0b7425e328182dbc46a24f4cd397cfeeb5cc96fd5fd55b717d0306f4260a6cc'}, {'head': '1bddf730f6351e4a9e2c31a2d50d8d53d718cdc3ee54fbc509fc98db5d01c997', 'tail': '3f2e8d6863fe45c7ee9f982a10ad9b9490391ba0bdb63ba4443e60d19b8158a6', 'type': 'EXPERIENCE_IN', 'source': 'b0b7425e328182dbc46a24f4cd397cfeeb5cc96fd5fd55b717d0306f4260a6cc'}, {'head': '1bddf730f6351e4a9e2c31a2d50d8d53d718cdc3ee54fbc509fc98db5d01c997', 'tail': 'f7ffdd206e7ee16b70acb2f0f00fbfd5d4f000766c9d02d286ca9e8dfa0f0486', 'type': 'EXPERIENCE_IN', 'source': 'b0b7425e328182dbc46a24f4cd397cfeeb5cc96fd5fd55b717d0306f4260a6cc'}, {'head': 'b5dbae5bc9a65f93ce2b66899d34ec42121b4629518880374f59c589fbbde20c', 'tail': 'b8804fc38daef4a56cf69b8a636a664403e926346f0824dfd7400554d1017db4', 'type': 'EXPERIENCE_IN', 'source': '6914927f548ec01736d8ba06b3d9654f5b312606bce1505fab3218a941093fd8'}, {'head': 'b5dbae5bc9a65f93ce2b66899d34ec42121b4629518880374f59c589fbbde20c', 'tail': '3b3013392dc210aef48029d0055b63410947114b5cdd2c4ea10796b2de0ee07a', 'type': 'EXPERIENCE_IN', 'source': '6914927f548ec01736d8ba06b3d9654f5b312606bce1505fab3218a941093fd8'}, {'head': 'b5dbae5bc9a65f93ce2b66899d34ec42121b4629518880374f59c589fbbde20c', 'tail': '7a01adea4b8a1084a7aebd7f3256080c31a3013aa5ad7638add2136d6f3e5371', 'type': 'EXPERIENCE_IN', 'source': '6914927f548ec01736d8ba06b3d9654f5b312606bce1505fab3218a941093fd8'}, {'head': '7dab2372ff909b063d57bf1e7ac4212c333337fcd47e30f7791d189a63c912db', 'tail': '9396ed8f2948bfa6e6a7b666a407746891f7b4d5be46b978ee025b96420dd901', 'type': 'EXPERIENCE_IN', 'source': '745170ffa0339574119fbe5162c39bc530055fe3858c6f07cdc69a0d085669b6'}, {'head': '7dab2372ff909b063d57bf1e7ac4212c333337fcd47e30f7791d189a63c912db', 'tail': '79b24af7d2fc83df090337e7fb62ebeea2183a3fc82d31496fb3d7bd0c639ba2', 'type': 'EXPERIENCE_IN', 'source': '745170ffa0339574119fbe5162c39bc530055fe3858c6f07cdc69a0d085669b6'}, {'head': '2b3320436db117ffa73acdb30802f07f2f854be87b6c35dfeb3f4de80da05a9a', 'tail': 'de6a432fa5fbf0834daffa9f2f6ddd2c5ccce71f7cc857e1053b2f5f14f2dbfe', 'type': 'EXPERIENCE_IN', 'source': '01ebbef3b655d5cc1f3ff286b29104c0e09181da9cf9c63ea35e9cd1a8ed478d'}, {'head': '2b3320436db117ffa73acdb30802f07f2f854be87b6c35dfeb3f4de80da05a9a', 'tail': '0da10e1d7d04b0b26c311293a68e471eac37d6f31dd0d33fde6a88bf200a00ca', 'type': 'EXPERIENCE_IN', 'source': '01ebbef3b655d5cc1f3ff286b29104c0e09181da9cf9c63ea35e9cd1a8ed478d'}, {'head': '8a3215765ef853a76cf186dedaa1163708a3d0fe8bcf6a81658a168dc260f0d2', 'tail': '87d42b05a59cbbc1954df2e14105490a5dd7606332bcb768e215d3b5ab70577a', 'type': 'EXPERIENCE_IN', 'source': '9446d2f28aff6df52d6657d9dbad8d068a93634a65b90be9c739e2317af1afe7'}, {'head': '8a3215765ef853a76cf186dedaa1163708a3d0fe8bcf6a81658a168dc260f0d2', 'tail': 'fa260feebc2a10618802329f46b7a3fad914c4bd3327e52d23f5ac16651dc9d8', 'type': 'EXPERIENCE_IN', 'source': '9446d2f28aff6df52d6657d9dbad8d068a93634a65b90be9c739e2317af1afe7'}, {'head': 'f453b744d086a522cb1c388bddff829f0f4c2aac198d3a47495a68cb94039391', 'tail': 'ce8b7dc6dc1fea1ccdd79a01850069caa9895340e329d36cc1b99d39db9858ec', 'type': 'EXPERIENCE_IN', 'source': '0be14544f13de78a99eae9779884950d4cc22350c0814297db204851d3c385f5'}, {'head': 'f453b744d086a522cb1c388bddff829f0f4c2aac198d3a47495a68cb94039391', 'tail': '36608849b8fab63f6c668c61ae1e8b59a0e3d9b498466a726ec744c4ff79bc57', 'type': 'EXPERIENCE_IN', 'source': '0be14544f13de78a99eae9779884950d4cc22350c0814297db204851d3c385f5'}, {'head': 'e1749ea3661eea54d1d27cb8896fb650a5f877f945fbdebd71ff7ba0d9ccbc6a', 'tail': 'dc312a37b7703038a04f568a04590f5692c5d32b4f1faff0efd5597322859a04', 'type': 'EXPERIENCE_IN', 'source': '016d1aaa45e012b1f3c7448eaa5a890098c1a5303b8d1cb2da9e056a92151990'}, {'head': 'e1749ea3661eea54d1d27cb8896fb650a5f877f945fbdebd71ff7ba0d9ccbc6a', 'tail': '875b9380866e9d56e7110b0ee310962c16d9d4ae103f829d62bdffd2cbe7c61d', 'type': 'EXPERIENCE_IN', 'source': '016d1aaa45e012b1f3c7448eaa5a890098c1a5303b8d1cb2da9e056a92151990'}, {'head': 'ccf1238b5cf23fc144a584ad1d7103574290da88f810153b8168a915d94b3ed0', 'tail': '6b23c0d5f35d1b11f9b683f0b0a617355deb11277d91ae091d399c655b87940d', 'type': 'EXPERIENCE_IN', 'source': '016d1aaa45e012b1f3c7448eaa5a890098c1a5303b8d1cb2da9e056a92151990'}, {'head': 'ccf1238b5cf23fc144a584ad1d7103574290da88f810153b8168a915d94b3ed0', 'tail': '8a5edab282632443219e051e4ade2d1d5bbc671c781051bf1437897cbdfea0f1', 'type': 'EXPERIENCE_IN', 'source': '016d1aaa45e012b1f3c7448eaa5a890098c1a5303b8d1cb2da9e056a92151990'}, {'head': '7dab2372ff909b063d57bf1e7ac4212c333337fcd47e30f7791d189a63c912db', 'tail': '026bf2b64617f7c3f5945dcecf5ff629ad7dbbe7a5878662f34b61e17870a467', 'type': 'EXPERIENCE_IN', 'source': '016d1aaa45e012b1f3c7448eaa5a890098c1a5303b8d1cb2da9e056a92151990'}, {'head': '7dab2372ff909b063d57bf1e7ac4212c333337fcd47e30f7791d189a63c912db', 'tail': 'dfd59d2656fe294dd15273efe9c392ba1d235b2fe807f25e1e94fcf906ac118f', 'type': 'EXPERIENCE_IN', 'source': '016d1aaa45e012b1f3c7448eaa5a890098c1a5303b8d1cb2da9e056a92151990'}, {'head': '336db639c89d3a472d61be7506016eab4fd0111bb8c9d5cf1baded8855776141', 'tail': 'e81dbf0a471781fee77ee8dfaab23a723597ee911fdf8d7a5fe7f570c263c9b0', 'type': 'EXPERIENCE_IN', 'source': '9813d62366b3ea3e678517da191aa6f2c8c21c03e44882bfe107e0747f2faffa'}, {'head': '336db639c89d3a472d61be7506016eab4fd0111bb8c9d5cf1baded8855776141', 'tail': '0a6a15345ad0c7e36ed9dc3ec9c8ce843af4bc765d1019eb6d563e0836b962f3', 'type': 'EXPERIENCE_IN', 'source': '9813d62366b3ea3e678517da191aa6f2c8c21c03e44882bfe107e0747f2faffa'}, {'head': '50a85bc5620bccce3bd18d3de2fd413e4711b0afff5d687d2e6c677135d04b4d', 'tail': 'f9606375224b69594f4fcb3f8ac742e75edb655c22cd1d4d40cf57b259f8fa86', 'type': 'EXPERIENCE_IN', 'source': '66e9638faea5f6e6232c6437665a1cd9cca08c05eef89714bd7ee2c4214fdc0f'}, {'head': '50a85bc5620bccce3bd18d3de2fd413e4711b0afff5d687d2e6c677135d04b4d', 'tail': '1e27b7aebd5a1322c23f6f41d337de5563d9ed5ec3acda509bce4901d0408e48', 'type': 'EXPERIENCE_IN', 'source': '66e9638faea5f6e6232c6437665a1cd9cca08c05eef89714bd7ee2c4214fdc0f'}, {'head': '50a85bc5620bccce3bd18d3de2fd413e4711b0afff5d687d2e6c677135d04b4d', 'tail': '19ed40bf62c399b8492efda5b9a9184b68cf4d9d4a165b38557b9d14201d0c03', 'type': 'EXPERIENCE_IN', 'source': '66e9638faea5f6e6232c6437665a1cd9cca08c05eef89714bd7ee2c4214fdc0f'}, {'head': '50a85bc5620bccce3bd18d3de2fd413e4711b0afff5d687d2e6c677135d04b4d', 'tail': '97245b4b247f3ba6889a8d5b42b19e9baad73970e811c9f000fbe380a47ef530', 'type': 'EXPERIENCE_IN', 'source': '66e9638faea5f6e6232c6437665a1cd9cca08c05eef89714bd7ee2c4214fdc0f'}, {'head': 'af6f1222995b995193b578f3f9f5994e11153cb67fbee7621237a413ad55dd38', 'tail': 'c518762b28cec3bb5fb4d495a2ee87b565b3a984c15143d4c43dc373464df157', 'type': 'EXPERIENCE_IN', 'source': '6c4745871dcaa993c1b469ebe9259a030cbc740b8ef1e185680199ed2038f273'}]\n"
          ]
        }
      ]
    },
    {
      "cell_type": "code",
      "source": [
        "parsed_ents = extract_ents()\n",
        "predicted_rels = extract_relations()\n",
        "\n"
      ],
      "metadata": {
        "colab": {
          "base_uri": "https://localhost:8080/"
        },
        "id": "LN_EMYzbNzf9",
        "outputId": "65e99f66-94b2-43f2-ced7-f16fd2d67963"
      },
      "execution_count": null,
      "outputs": [
        {
          "output_type": "stream",
          "name": "stdout",
          "text": [
            "\u001b[38;5;4mℹ Could not determine any instances in doc - returning doc as is.\u001b[0m\n",
            " entities: ('35 years', 'dental') --> predicted relation: {'DEGREE_IN': 4.271239e-05, 'EXPERIENCE_IN': 0.8525344}\n",
            " entities: ('35 years', 'consultancy') --> predicted relation: {'DEGREE_IN': 4.1818756e-05, 'EXPERIENCE_IN': 0.9357275}\n",
            " entities: ('35 years', 'Data Analyst') --> predicted relation: {'DEGREE_IN': 5.0497532e-05, 'EXPERIENCE_IN': 0.97777915}\n",
            " entities: ('10 years', 'subsea engineering') --> predicted relation: {'DEGREE_IN': 6.3112995e-05, 'EXPERIENCE_IN': 0.98992145}\n",
            " entities: ('10 years', 'pipelines design') --> predicted relation: {'DEGREE_IN': 4.870046e-05, 'EXPERIENCE_IN': 0.9904096}\n",
            " entities: ('10 years', 'construction') --> predicted relation: {'DEGREE_IN': 3.3431686e-05, 'EXPERIENCE_IN': 0.9840476}\n",
            " entities: ('2 years', 'Recruitment') --> predicted relation: {'DEGREE_IN': 2.028081e-06, 'EXPERIENCE_IN': 0.6721942}\n",
            " entities: ('2 years', 'business to business sales') --> predicted relation: {'DEGREE_IN': 9.492323e-06, 'EXPERIENCE_IN': 0.9820972}\n",
            " entities: ('1015 years', 'subsea cable engineering') --> predicted relation: {'DEGREE_IN': 0.000101789774, 'EXPERIENCE_IN': 0.92706144}\n",
            " entities: ('1015 years', 'offshore oil and gas industries') --> predicted relation: {'DEGREE_IN': 0.00013542248, 'EXPERIENCE_IN': 0.9835984}\n",
            " entities: ('15 years', 'Subsea Controls Engineering') --> predicted relation: {'DEGREE_IN': 0.00022529923, 'EXPERIENCE_IN': 0.9403822}\n",
            " entities: ('15 years', 'Oil and Gas industry') --> predicted relation: {'DEGREE_IN': 0.00013650347, 'EXPERIENCE_IN': 0.97551835}\n",
            " entities: ('1 years', 'General Manager') --> predicted relation: {'DEGREE_IN': 3.9116887e-05, 'EXPERIENCE_IN': 0.60310346}\n",
            " entities: ('1 years', 'managing their own site') --> predicted relation: {'DEGREE_IN': 8.399594e-06, 'EXPERIENCE_IN': 0.8712332}\n",
            " entities: ('six years', 'Investment Software') --> predicted relation: {'DEGREE_IN': 3.8825776e-05, 'EXPERIENCE_IN': 0.9843871}\n",
            " entities: ('six years', 'development') --> predicted relation: {'DEGREE_IN': 1.1551466e-05, 'EXPERIENCE_IN': 0.989165}\n",
            " entities: ('2:**', 'C') --> predicted relation: {'DEGREE_IN': 0.00019168245, 'EXPERIENCE_IN': 0.5777826}\n",
            " entities: ('2:**', '/') --> predicted relation: {'DEGREE_IN': 0.00024196091, 'EXPERIENCE_IN': 0.553817}\n",
            " entities: ('2 years', 'Visual Studio') --> predicted relation: {'DEGREE_IN': 1.8884892e-05, 'EXPERIENCE_IN': 0.57691294}\n",
            " entities: ('2 years', 'commercial C/C++') --> predicted relation: {'DEGREE_IN': 1.0564405e-05, 'EXPERIENCE_IN': 0.9475162}\n",
            " entities: ('**** years', 'PHP Development') --> predicted relation: {'DEGREE_IN': 4.5297667e-05, 'EXPERIENCE_IN': 0.9975204}\n",
            " entities: ('**** years', 'PHP') --> predicted relation: {'DEGREE_IN': 4.646788e-05, 'EXPERIENCE_IN': 0.82171065}\n",
            " entities: ('3 years', 'ecommerce website design') --> predicted relation: {'DEGREE_IN': 3.8613316e-06, 'EXPERIENCE_IN': 0.99966085}\n",
            " entities: ('3 years', 'Information Architecture') --> predicted relation: {'DEGREE_IN': 2.0244008e-05, 'EXPERIENCE_IN': 0.99989855}\n",
            " entities: ('3 years', 'process') --> predicted relation: {'DEGREE_IN': 5.9621234e-06, 'EXPERIENCE_IN': 0.99979025}\n",
            " entities: ('3 years', 'MVT Adobe Suite') --> predicted relation: {'DEGREE_IN': 8.594847e-06, 'EXPERIENCE_IN': 0.99992275}\n",
            " entities: ('**** minutes drive', 'Hertford') --> predicted relation: {'DEGREE_IN': 0.0026177692, 'EXPERIENCE_IN': 0.6171958}\n",
            "\u001b[38;5;4mℹ Could not determine any instances in doc - returning doc as is.\u001b[0m\n",
            "\u001b[38;5;4mℹ Could not determine any instances in doc - returning doc as is.\u001b[0m\n"
          ]
        }
      ]
    },
    {
      "cell_type": "code",
      "source": [
        "pip install neo4j"
      ],
      "metadata": {
        "colab": {
          "base_uri": "https://localhost:8080/"
        },
        "id": "mNgzOFugQ2-L",
        "outputId": "d083bc13-1f9f-4e8a-d7a8-93b5593e1c89"
      },
      "execution_count": null,
      "outputs": [
        {
          "output_type": "stream",
          "name": "stdout",
          "text": [
            "Requirement already satisfied: neo4j in /usr/local/lib/python3.7/dist-packages (4.4.2)\n",
            "Requirement already satisfied: pytz in /usr/local/lib/python3.7/dist-packages (from neo4j) (2018.9)\n",
            "\u001b[33mWARNING: Running pip as the 'root' user can result in broken permissions and conflicting behaviour with the system package manager. It is recommended to use a virtual environment instead: https://pip.pypa.io/warnings/venv\u001b[0m\u001b[33m\n",
            "\u001b[0m"
          ]
        }
      ]
    },
    {
      "cell_type": "code",
      "source": [
        "from neo4j import GraphDatabase\n",
        "import pandas as pd\n",
        "\n",
        "host = 'bolt://3.238.142.112:7687'\n",
        "user = 'neo4j'\n",
        "password = 'speaker-courtesy-fans'\n",
        "driver = GraphDatabase.driver(host,auth=(user, password))\n",
        "\n",
        "def neo4j_query(query, params=None):\n",
        "    with driver.session() as session:\n",
        "        result = session.run(query, params)\n",
        "        return pd.DataFrame([r.values() for r in result], columns=result.keys())"
      ],
      "metadata": {
        "id": "xsdNAwoKQz_l"
      },
      "execution_count": null,
      "outputs": []
    },
    {
      "cell_type": "code",
      "source": [
        "\n",
        "#Create a first main node\n",
        "neo4j_query(\"\"\"\n",
        "MERGE (l:BaseNode {name:\"Base Node\"}) \n",
        "RETURN l\n",
        "\"\"\")"
      ],
      "metadata": {
        "colab": {
          "base_uri": "https://localhost:8080/",
          "height": 81
        },
        "id": "hwH6TE2wSV69",
        "outputId": "4c3dd3f8-2845-4091-bc2a-7a9b5b5ba027"
      },
      "execution_count": null,
      "outputs": [
        {
          "output_type": "execute_result",
          "data": {
            "text/plain": [
              "        l\n",
              "0  (name)"
            ],
            "text/html": [
              "\n",
              "  <div id=\"df-cd0ec80c-bdd9-4712-88ac-5a06b2851a3a\">\n",
              "    <div class=\"colab-df-container\">\n",
              "      <div>\n",
              "<style scoped>\n",
              "    .dataframe tbody tr th:only-of-type {\n",
              "        vertical-align: middle;\n",
              "    }\n",
              "\n",
              "    .dataframe tbody tr th {\n",
              "        vertical-align: top;\n",
              "    }\n",
              "\n",
              "    .dataframe thead th {\n",
              "        text-align: right;\n",
              "    }\n",
              "</style>\n",
              "<table border=\"1\" class=\"dataframe\">\n",
              "  <thead>\n",
              "    <tr style=\"text-align: right;\">\n",
              "      <th></th>\n",
              "      <th>l</th>\n",
              "    </tr>\n",
              "  </thead>\n",
              "  <tbody>\n",
              "    <tr>\n",
              "      <th>0</th>\n",
              "      <td>(name)</td>\n",
              "    </tr>\n",
              "  </tbody>\n",
              "</table>\n",
              "</div>\n",
              "      <button class=\"colab-df-convert\" onclick=\"convertToInteractive('df-cd0ec80c-bdd9-4712-88ac-5a06b2851a3a')\"\n",
              "              title=\"Convert this dataframe to an interactive table.\"\n",
              "              style=\"display:none;\">\n",
              "        \n",
              "  <svg xmlns=\"http://www.w3.org/2000/svg\" height=\"24px\"viewBox=\"0 0 24 24\"\n",
              "       width=\"24px\">\n",
              "    <path d=\"M0 0h24v24H0V0z\" fill=\"none\"/>\n",
              "    <path d=\"M18.56 5.44l.94 2.06.94-2.06 2.06-.94-2.06-.94-.94-2.06-.94 2.06-2.06.94zm-11 1L8.5 8.5l.94-2.06 2.06-.94-2.06-.94L8.5 2.5l-.94 2.06-2.06.94zm10 10l.94 2.06.94-2.06 2.06-.94-2.06-.94-.94-2.06-.94 2.06-2.06.94z\"/><path d=\"M17.41 7.96l-1.37-1.37c-.4-.4-.92-.59-1.43-.59-.52 0-1.04.2-1.43.59L10.3 9.45l-7.72 7.72c-.78.78-.78 2.05 0 2.83L4 21.41c.39.39.9.59 1.41.59.51 0 1.02-.2 1.41-.59l7.78-7.78 2.81-2.81c.8-.78.8-2.07 0-2.86zM5.41 20L4 18.59l7.72-7.72 1.47 1.35L5.41 20z\"/>\n",
              "  </svg>\n",
              "      </button>\n",
              "      \n",
              "  <style>\n",
              "    .colab-df-container {\n",
              "      display:flex;\n",
              "      flex-wrap:wrap;\n",
              "      gap: 12px;\n",
              "    }\n",
              "\n",
              "    .colab-df-convert {\n",
              "      background-color: #E8F0FE;\n",
              "      border: none;\n",
              "      border-radius: 50%;\n",
              "      cursor: pointer;\n",
              "      display: none;\n",
              "      fill: #1967D2;\n",
              "      height: 32px;\n",
              "      padding: 0 0 0 0;\n",
              "      width: 32px;\n",
              "    }\n",
              "\n",
              "    .colab-df-convert:hover {\n",
              "      background-color: #E2EBFA;\n",
              "      box-shadow: 0px 1px 2px rgba(60, 64, 67, 0.3), 0px 1px 3px 1px rgba(60, 64, 67, 0.15);\n",
              "      fill: #174EA6;\n",
              "    }\n",
              "\n",
              "    [theme=dark] .colab-df-convert {\n",
              "      background-color: #3B4455;\n",
              "      fill: #D2E3FC;\n",
              "    }\n",
              "\n",
              "    [theme=dark] .colab-df-convert:hover {\n",
              "      background-color: #434B5C;\n",
              "      box-shadow: 0px 1px 3px 1px rgba(0, 0, 0, 0.15);\n",
              "      filter: drop-shadow(0px 1px 2px rgba(0, 0, 0, 0.3));\n",
              "      fill: #FFFFFF;\n",
              "    }\n",
              "  </style>\n",
              "\n",
              "      <script>\n",
              "        const buttonEl =\n",
              "          document.querySelector('#df-cd0ec80c-bdd9-4712-88ac-5a06b2851a3a button.colab-df-convert');\n",
              "        buttonEl.style.display =\n",
              "          google.colab.kernel.accessAllowed ? 'block' : 'none';\n",
              "\n",
              "        async function convertToInteractive(key) {\n",
              "          const element = document.querySelector('#df-cd0ec80c-bdd9-4712-88ac-5a06b2851a3a');\n",
              "          const dataTable =\n",
              "            await google.colab.kernel.invokeFunction('convertToInteractive',\n",
              "                                                     [key], {});\n",
              "          if (!dataTable) return;\n",
              "\n",
              "          const docLinkHtml = 'Like what you see? Visit the ' +\n",
              "            '<a target=\"_blank\" href=https://colab.research.google.com/notebooks/data_table.ipynb>data table notebook</a>'\n",
              "            + ' to learn more about interactive tables.';\n",
              "          element.innerHTML = '';\n",
              "          dataTable['output_type'] = 'display_data';\n",
              "          await google.colab.output.renderOutput(dataTable, element);\n",
              "          const docLink = document.createElement('div');\n",
              "          docLink.innerHTML = docLinkHtml;\n",
              "          element.appendChild(docLink);\n",
              "        }\n",
              "      </script>\n",
              "    </div>\n",
              "  </div>\n",
              "  "
            ]
          },
          "metadata": {},
          "execution_count": 21
        }
      ]
    },
    {
      "cell_type": "code",
      "source": [
        "neo4j_query(\"\"\"\n",
        "MATCH (l:BaseNode)\n",
        "UNWIND $data as row\n",
        "MERGE (o:Offer{id:row.text_sha256})\n",
        "SET o.text = row.text\n",
        "MERGE (l)-[:HAS_OFFER]->(o)\n",
        "WITH o, row.annotations as entities\n",
        "UNWIND entities as entity\n",
        "MERGE (e:Entity {id:entity.id})\n",
        "ON CREATE SET \n",
        "              e.name = entity.text,\n",
        "              e.label = entity.label_upper\n",
        "MERGE (o)-[m:MENTIONS]->(e)\n",
        "ON CREATE SET m.count = 1\n",
        "ON MATCH SET m.count = m.count + 1\n",
        "WITH e as e\n",
        "CALL apoc.create.addLabels( id(e), [ e.label ] )\n",
        "YIELD node\n",
        "REMOVE node.label\n",
        "RETURN node\n",
        "\"\"\", {'data': parsed_ents})"
      ],
      "metadata": {
        "colab": {
          "base_uri": "https://localhost:8080/",
          "height": 423
        },
        "id": "TyezrGEPSclM",
        "outputId": "2b49b758-cdfb-4e22-a8d4-dd01fa316b30"
      },
      "execution_count": null,
      "outputs": [
        {
          "output_type": "execute_result",
          "data": {
            "text/plain": [
              "            node\n",
              "0     (name, id)\n",
              "1     (name, id)\n",
              "2     (name, id)\n",
              "3     (name, id)\n",
              "4     (name, id)\n",
              "...          ...\n",
              "1060  (name, id)\n",
              "1061  (name, id)\n",
              "1062  (name, id)\n",
              "1063  (name, id)\n",
              "1064  (name, id)\n",
              "\n",
              "[1065 rows x 1 columns]"
            ],
            "text/html": [
              "\n",
              "  <div id=\"df-1f370eaf-8575-4d23-92c5-3999550fdf8a\">\n",
              "    <div class=\"colab-df-container\">\n",
              "      <div>\n",
              "<style scoped>\n",
              "    .dataframe tbody tr th:only-of-type {\n",
              "        vertical-align: middle;\n",
              "    }\n",
              "\n",
              "    .dataframe tbody tr th {\n",
              "        vertical-align: top;\n",
              "    }\n",
              "\n",
              "    .dataframe thead th {\n",
              "        text-align: right;\n",
              "    }\n",
              "</style>\n",
              "<table border=\"1\" class=\"dataframe\">\n",
              "  <thead>\n",
              "    <tr style=\"text-align: right;\">\n",
              "      <th></th>\n",
              "      <th>node</th>\n",
              "    </tr>\n",
              "  </thead>\n",
              "  <tbody>\n",
              "    <tr>\n",
              "      <th>0</th>\n",
              "      <td>(name, id)</td>\n",
              "    </tr>\n",
              "    <tr>\n",
              "      <th>1</th>\n",
              "      <td>(name, id)</td>\n",
              "    </tr>\n",
              "    <tr>\n",
              "      <th>2</th>\n",
              "      <td>(name, id)</td>\n",
              "    </tr>\n",
              "    <tr>\n",
              "      <th>3</th>\n",
              "      <td>(name, id)</td>\n",
              "    </tr>\n",
              "    <tr>\n",
              "      <th>4</th>\n",
              "      <td>(name, id)</td>\n",
              "    </tr>\n",
              "    <tr>\n",
              "      <th>...</th>\n",
              "      <td>...</td>\n",
              "    </tr>\n",
              "    <tr>\n",
              "      <th>1060</th>\n",
              "      <td>(name, id)</td>\n",
              "    </tr>\n",
              "    <tr>\n",
              "      <th>1061</th>\n",
              "      <td>(name, id)</td>\n",
              "    </tr>\n",
              "    <tr>\n",
              "      <th>1062</th>\n",
              "      <td>(name, id)</td>\n",
              "    </tr>\n",
              "    <tr>\n",
              "      <th>1063</th>\n",
              "      <td>(name, id)</td>\n",
              "    </tr>\n",
              "    <tr>\n",
              "      <th>1064</th>\n",
              "      <td>(name, id)</td>\n",
              "    </tr>\n",
              "  </tbody>\n",
              "</table>\n",
              "<p>1065 rows × 1 columns</p>\n",
              "</div>\n",
              "      <button class=\"colab-df-convert\" onclick=\"convertToInteractive('df-1f370eaf-8575-4d23-92c5-3999550fdf8a')\"\n",
              "              title=\"Convert this dataframe to an interactive table.\"\n",
              "              style=\"display:none;\">\n",
              "        \n",
              "  <svg xmlns=\"http://www.w3.org/2000/svg\" height=\"24px\"viewBox=\"0 0 24 24\"\n",
              "       width=\"24px\">\n",
              "    <path d=\"M0 0h24v24H0V0z\" fill=\"none\"/>\n",
              "    <path d=\"M18.56 5.44l.94 2.06.94-2.06 2.06-.94-2.06-.94-.94-2.06-.94 2.06-2.06.94zm-11 1L8.5 8.5l.94-2.06 2.06-.94-2.06-.94L8.5 2.5l-.94 2.06-2.06.94zm10 10l.94 2.06.94-2.06 2.06-.94-2.06-.94-.94-2.06-.94 2.06-2.06.94z\"/><path d=\"M17.41 7.96l-1.37-1.37c-.4-.4-.92-.59-1.43-.59-.52 0-1.04.2-1.43.59L10.3 9.45l-7.72 7.72c-.78.78-.78 2.05 0 2.83L4 21.41c.39.39.9.59 1.41.59.51 0 1.02-.2 1.41-.59l7.78-7.78 2.81-2.81c.8-.78.8-2.07 0-2.86zM5.41 20L4 18.59l7.72-7.72 1.47 1.35L5.41 20z\"/>\n",
              "  </svg>\n",
              "      </button>\n",
              "      \n",
              "  <style>\n",
              "    .colab-df-container {\n",
              "      display:flex;\n",
              "      flex-wrap:wrap;\n",
              "      gap: 12px;\n",
              "    }\n",
              "\n",
              "    .colab-df-convert {\n",
              "      background-color: #E8F0FE;\n",
              "      border: none;\n",
              "      border-radius: 50%;\n",
              "      cursor: pointer;\n",
              "      display: none;\n",
              "      fill: #1967D2;\n",
              "      height: 32px;\n",
              "      padding: 0 0 0 0;\n",
              "      width: 32px;\n",
              "    }\n",
              "\n",
              "    .colab-df-convert:hover {\n",
              "      background-color: #E2EBFA;\n",
              "      box-shadow: 0px 1px 2px rgba(60, 64, 67, 0.3), 0px 1px 3px 1px rgba(60, 64, 67, 0.15);\n",
              "      fill: #174EA6;\n",
              "    }\n",
              "\n",
              "    [theme=dark] .colab-df-convert {\n",
              "      background-color: #3B4455;\n",
              "      fill: #D2E3FC;\n",
              "    }\n",
              "\n",
              "    [theme=dark] .colab-df-convert:hover {\n",
              "      background-color: #434B5C;\n",
              "      box-shadow: 0px 1px 3px 1px rgba(0, 0, 0, 0.15);\n",
              "      filter: drop-shadow(0px 1px 2px rgba(0, 0, 0, 0.3));\n",
              "      fill: #FFFFFF;\n",
              "    }\n",
              "  </style>\n",
              "\n",
              "      <script>\n",
              "        const buttonEl =\n",
              "          document.querySelector('#df-1f370eaf-8575-4d23-92c5-3999550fdf8a button.colab-df-convert');\n",
              "        buttonEl.style.display =\n",
              "          google.colab.kernel.accessAllowed ? 'block' : 'none';\n",
              "\n",
              "        async function convertToInteractive(key) {\n",
              "          const element = document.querySelector('#df-1f370eaf-8575-4d23-92c5-3999550fdf8a');\n",
              "          const dataTable =\n",
              "            await google.colab.kernel.invokeFunction('convertToInteractive',\n",
              "                                                     [key], {});\n",
              "          if (!dataTable) return;\n",
              "\n",
              "          const docLinkHtml = 'Like what you see? Visit the ' +\n",
              "            '<a target=\"_blank\" href=https://colab.research.google.com/notebooks/data_table.ipynb>data table notebook</a>'\n",
              "            + ' to learn more about interactive tables.';\n",
              "          element.innerHTML = '';\n",
              "          dataTable['output_type'] = 'display_data';\n",
              "          await google.colab.output.renderOutput(dataTable, element);\n",
              "          const docLink = document.createElement('div');\n",
              "          docLink.innerHTML = docLinkHtml;\n",
              "          element.appendChild(docLink);\n",
              "        }\n",
              "      </script>\n",
              "    </div>\n",
              "  </div>\n",
              "  "
            ]
          },
          "metadata": {},
          "execution_count": 22
        }
      ]
    },
    {
      "cell_type": "code",
      "source": [
        "res = neo4j_query(\"\"\"\n",
        "MATCH (e:EXPERIENCE)\n",
        "RETURN e.id as id, e.name as name\n",
        "\"\"\")\n",
        "import re\n",
        "def get_years(name):\n",
        "  return re.findall(r\"\\d+\",name)\n",
        "res[\"years\"] = res.name.map(lambda name: get_years(name))\n",
        "data = res.to_dict('records')"
      ],
      "metadata": {
        "id": "RbxXfsCSU4H_"
      },
      "execution_count": null,
      "outputs": []
    },
    {
      "cell_type": "code",
      "source": [
        "print(data)"
      ],
      "metadata": {
        "colab": {
          "base_uri": "https://localhost:8080/"
        },
        "id": "5zbvW3XmVL3z",
        "outputId": "f35e74e4-f125-49f0-8bd0-d7cdffc99837"
      },
      "execution_count": null,
      "outputs": [
        {
          "output_type": "stream",
          "name": "stdout",
          "text": [
            "[{'id': '1bddf730f6351e4a9e2c31a2d50d8d53d718cdc3ee54fbc509fc98db5d01c997', 'name': '35 years', 'years': ['35']}, {'id': 'b5dbae5bc9a65f93ce2b66899d34ec42121b4629518880374f59c589fbbde20c', 'name': '10 years', 'years': ['10']}, {'id': '7dab2372ff909b063d57bf1e7ac4212c333337fcd47e30f7791d189a63c912db', 'name': '2 years', 'years': ['2']}, {'id': 'ee2af0d73abf8c51f09c4d83fafbc09b7b8fe9aabae45214b0c8d996a65f1b4a', 'name': 'couple of years', 'years': []}, {'id': '2b3320436db117ffa73acdb30802f07f2f854be87b6c35dfeb3f4de80da05a9a', 'name': '1015 years', 'years': ['1015']}, {'id': '8a3215765ef853a76cf186dedaa1163708a3d0fe8bcf6a81658a168dc260f0d2', 'name': '15 years', 'years': ['15']}, {'id': 'b872640f8c86fca92550b38cd270c22dc0c4e2fa4c5eb50acbd14d97e83b17b9', 'name': '1 WEEK', 'years': ['1']}, {'id': 'c8cc522340b984b57109fd8b120419170b4301baead519e2a8fd65736b9ddd41', 'name': '1 week', 'years': ['1']}, {'id': 'f453b744d086a522cb1c388bddff829f0f4c2aac198d3a47495a68cb94039391', 'name': '1 years', 'years': ['1']}, {'id': '4343085bb01951bcf8ed4f04c36ceaa8d64a52769fc7c73bdb8ee4a6848e4e51', 'name': '5 days', 'years': ['5']}, {'id': 'e1749ea3661eea54d1d27cb8896fb650a5f877f945fbdebd71ff7ba0d9ccbc6a', 'name': 'six years', 'years': []}, {'id': 'ccf1238b5cf23fc144a584ad1d7103574290da88f810153b8168a915d94b3ed0', 'name': '2:**', 'years': ['2']}, {'id': '336db639c89d3a472d61be7506016eab4fd0111bb8c9d5cf1baded8855776141', 'name': '**** years', 'years': []}, {'id': '50a85bc5620bccce3bd18d3de2fd413e4711b0afff5d687d2e6c677135d04b4d', 'name': '3 years', 'years': ['3']}]\n"
          ]
        }
      ]
    },
    {
      "cell_type": "code",
      "source": [
        "neo4j_query(\"\"\"\n",
        "UNWIND $data as row\n",
        "MATCH (e:EXPERIENCE {id:row.id})\n",
        "SET e.years = row.years\n",
        "RETURN e.name as name, e.years as years\n",
        "\"\"\",{\"data\":data})\n"
      ],
      "metadata": {
        "colab": {
          "base_uri": "https://localhost:8080/",
          "height": 488
        },
        "id": "sujSjjLwVO0E",
        "outputId": "c799eded-24f6-42db-8d89-8241aa3f09db"
      },
      "execution_count": null,
      "outputs": [
        {
          "output_type": "execute_result",
          "data": {
            "text/plain": [
              "               name   years\n",
              "0          35 years    [35]\n",
              "1          10 years    [10]\n",
              "2           2 years     [2]\n",
              "3   couple of years      []\n",
              "4        1015 years  [1015]\n",
              "5          15 years    [15]\n",
              "6            1 WEEK     [1]\n",
              "7            1 week     [1]\n",
              "8           1 years     [1]\n",
              "9            5 days     [5]\n",
              "10        six years      []\n",
              "11             2:**     [2]\n",
              "12       **** years      []\n",
              "13          3 years     [3]"
            ],
            "text/html": [
              "\n",
              "  <div id=\"df-76405e7e-6c1c-47f0-a30f-0c1483815f82\">\n",
              "    <div class=\"colab-df-container\">\n",
              "      <div>\n",
              "<style scoped>\n",
              "    .dataframe tbody tr th:only-of-type {\n",
              "        vertical-align: middle;\n",
              "    }\n",
              "\n",
              "    .dataframe tbody tr th {\n",
              "        vertical-align: top;\n",
              "    }\n",
              "\n",
              "    .dataframe thead th {\n",
              "        text-align: right;\n",
              "    }\n",
              "</style>\n",
              "<table border=\"1\" class=\"dataframe\">\n",
              "  <thead>\n",
              "    <tr style=\"text-align: right;\">\n",
              "      <th></th>\n",
              "      <th>name</th>\n",
              "      <th>years</th>\n",
              "    </tr>\n",
              "  </thead>\n",
              "  <tbody>\n",
              "    <tr>\n",
              "      <th>0</th>\n",
              "      <td>35 years</td>\n",
              "      <td>[35]</td>\n",
              "    </tr>\n",
              "    <tr>\n",
              "      <th>1</th>\n",
              "      <td>10 years</td>\n",
              "      <td>[10]</td>\n",
              "    </tr>\n",
              "    <tr>\n",
              "      <th>2</th>\n",
              "      <td>2 years</td>\n",
              "      <td>[2]</td>\n",
              "    </tr>\n",
              "    <tr>\n",
              "      <th>3</th>\n",
              "      <td>couple of years</td>\n",
              "      <td>[]</td>\n",
              "    </tr>\n",
              "    <tr>\n",
              "      <th>4</th>\n",
              "      <td>1015 years</td>\n",
              "      <td>[1015]</td>\n",
              "    </tr>\n",
              "    <tr>\n",
              "      <th>5</th>\n",
              "      <td>15 years</td>\n",
              "      <td>[15]</td>\n",
              "    </tr>\n",
              "    <tr>\n",
              "      <th>6</th>\n",
              "      <td>1 WEEK</td>\n",
              "      <td>[1]</td>\n",
              "    </tr>\n",
              "    <tr>\n",
              "      <th>7</th>\n",
              "      <td>1 week</td>\n",
              "      <td>[1]</td>\n",
              "    </tr>\n",
              "    <tr>\n",
              "      <th>8</th>\n",
              "      <td>1 years</td>\n",
              "      <td>[1]</td>\n",
              "    </tr>\n",
              "    <tr>\n",
              "      <th>9</th>\n",
              "      <td>5 days</td>\n",
              "      <td>[5]</td>\n",
              "    </tr>\n",
              "    <tr>\n",
              "      <th>10</th>\n",
              "      <td>six years</td>\n",
              "      <td>[]</td>\n",
              "    </tr>\n",
              "    <tr>\n",
              "      <th>11</th>\n",
              "      <td>2:**</td>\n",
              "      <td>[2]</td>\n",
              "    </tr>\n",
              "    <tr>\n",
              "      <th>12</th>\n",
              "      <td>**** years</td>\n",
              "      <td>[]</td>\n",
              "    </tr>\n",
              "    <tr>\n",
              "      <th>13</th>\n",
              "      <td>3 years</td>\n",
              "      <td>[3]</td>\n",
              "    </tr>\n",
              "  </tbody>\n",
              "</table>\n",
              "</div>\n",
              "      <button class=\"colab-df-convert\" onclick=\"convertToInteractive('df-76405e7e-6c1c-47f0-a30f-0c1483815f82')\"\n",
              "              title=\"Convert this dataframe to an interactive table.\"\n",
              "              style=\"display:none;\">\n",
              "        \n",
              "  <svg xmlns=\"http://www.w3.org/2000/svg\" height=\"24px\"viewBox=\"0 0 24 24\"\n",
              "       width=\"24px\">\n",
              "    <path d=\"M0 0h24v24H0V0z\" fill=\"none\"/>\n",
              "    <path d=\"M18.56 5.44l.94 2.06.94-2.06 2.06-.94-2.06-.94-.94-2.06-.94 2.06-2.06.94zm-11 1L8.5 8.5l.94-2.06 2.06-.94-2.06-.94L8.5 2.5l-.94 2.06-2.06.94zm10 10l.94 2.06.94-2.06 2.06-.94-2.06-.94-.94-2.06-.94 2.06-2.06.94z\"/><path d=\"M17.41 7.96l-1.37-1.37c-.4-.4-.92-.59-1.43-.59-.52 0-1.04.2-1.43.59L10.3 9.45l-7.72 7.72c-.78.78-.78 2.05 0 2.83L4 21.41c.39.39.9.59 1.41.59.51 0 1.02-.2 1.41-.59l7.78-7.78 2.81-2.81c.8-.78.8-2.07 0-2.86zM5.41 20L4 18.59l7.72-7.72 1.47 1.35L5.41 20z\"/>\n",
              "  </svg>\n",
              "      </button>\n",
              "      \n",
              "  <style>\n",
              "    .colab-df-container {\n",
              "      display:flex;\n",
              "      flex-wrap:wrap;\n",
              "      gap: 12px;\n",
              "    }\n",
              "\n",
              "    .colab-df-convert {\n",
              "      background-color: #E8F0FE;\n",
              "      border: none;\n",
              "      border-radius: 50%;\n",
              "      cursor: pointer;\n",
              "      display: none;\n",
              "      fill: #1967D2;\n",
              "      height: 32px;\n",
              "      padding: 0 0 0 0;\n",
              "      width: 32px;\n",
              "    }\n",
              "\n",
              "    .colab-df-convert:hover {\n",
              "      background-color: #E2EBFA;\n",
              "      box-shadow: 0px 1px 2px rgba(60, 64, 67, 0.3), 0px 1px 3px 1px rgba(60, 64, 67, 0.15);\n",
              "      fill: #174EA6;\n",
              "    }\n",
              "\n",
              "    [theme=dark] .colab-df-convert {\n",
              "      background-color: #3B4455;\n",
              "      fill: #D2E3FC;\n",
              "    }\n",
              "\n",
              "    [theme=dark] .colab-df-convert:hover {\n",
              "      background-color: #434B5C;\n",
              "      box-shadow: 0px 1px 3px 1px rgba(0, 0, 0, 0.15);\n",
              "      filter: drop-shadow(0px 1px 2px rgba(0, 0, 0, 0.3));\n",
              "      fill: #FFFFFF;\n",
              "    }\n",
              "  </style>\n",
              "\n",
              "      <script>\n",
              "        const buttonEl =\n",
              "          document.querySelector('#df-76405e7e-6c1c-47f0-a30f-0c1483815f82 button.colab-df-convert');\n",
              "        buttonEl.style.display =\n",
              "          google.colab.kernel.accessAllowed ? 'block' : 'none';\n",
              "\n",
              "        async function convertToInteractive(key) {\n",
              "          const element = document.querySelector('#df-76405e7e-6c1c-47f0-a30f-0c1483815f82');\n",
              "          const dataTable =\n",
              "            await google.colab.kernel.invokeFunction('convertToInteractive',\n",
              "                                                     [key], {});\n",
              "          if (!dataTable) return;\n",
              "\n",
              "          const docLinkHtml = 'Like what you see? Visit the ' +\n",
              "            '<a target=\"_blank\" href=https://colab.research.google.com/notebooks/data_table.ipynb>data table notebook</a>'\n",
              "            + ' to learn more about interactive tables.';\n",
              "          element.innerHTML = '';\n",
              "          dataTable['output_type'] = 'display_data';\n",
              "          await google.colab.output.renderOutput(dataTable, element);\n",
              "          const docLink = document.createElement('div');\n",
              "          docLink.innerHTML = docLinkHtml;\n",
              "          element.appendChild(docLink);\n",
              "        }\n",
              "      </script>\n",
              "    </div>\n",
              "  </div>\n",
              "  "
            ]
          },
          "metadata": {},
          "execution_count": 27
        }
      ]
    },
    {
      "cell_type": "code",
      "source": [
        "neo4j_query(\"\"\"\n",
        "UNWIND $data as row\n",
        "MATCH (source:Entity {id: row.head})\n",
        "MATCH (target:Entity {id: row.tail})\n",
        "MATCH (offer:Offer {id: row.source})\n",
        "MERGE (source)-[:REL]->(r:Relation {type: row.type})-[:REL]->(target)\n",
        "MERGE (offer)-[:MENTIONS]->(r)\n",
        "\"\"\", {'data': predicted_rels})"
      ],
      "metadata": {
        "colab": {
          "base_uri": "https://localhost:8080/",
          "height": 49
        },
        "id": "KXNDluJOVRrN",
        "outputId": "2887d2ca-25e7-49a6-b919-93e63f7f2648"
      },
      "execution_count": null,
      "outputs": [
        {
          "output_type": "execute_result",
          "data": {
            "text/plain": [
              "Empty DataFrame\n",
              "Columns: []\n",
              "Index: []"
            ],
            "text/html": [
              "\n",
              "  <div id=\"df-aa30228e-8fdf-42c7-986e-b0eb37802980\">\n",
              "    <div class=\"colab-df-container\">\n",
              "      <div>\n",
              "<style scoped>\n",
              "    .dataframe tbody tr th:only-of-type {\n",
              "        vertical-align: middle;\n",
              "    }\n",
              "\n",
              "    .dataframe tbody tr th {\n",
              "        vertical-align: top;\n",
              "    }\n",
              "\n",
              "    .dataframe thead th {\n",
              "        text-align: right;\n",
              "    }\n",
              "</style>\n",
              "<table border=\"1\" class=\"dataframe\">\n",
              "  <thead>\n",
              "    <tr style=\"text-align: right;\">\n",
              "      <th></th>\n",
              "    </tr>\n",
              "  </thead>\n",
              "  <tbody>\n",
              "  </tbody>\n",
              "</table>\n",
              "</div>\n",
              "      <button class=\"colab-df-convert\" onclick=\"convertToInteractive('df-aa30228e-8fdf-42c7-986e-b0eb37802980')\"\n",
              "              title=\"Convert this dataframe to an interactive table.\"\n",
              "              style=\"display:none;\">\n",
              "        \n",
              "  <svg xmlns=\"http://www.w3.org/2000/svg\" height=\"24px\"viewBox=\"0 0 24 24\"\n",
              "       width=\"24px\">\n",
              "    <path d=\"M0 0h24v24H0V0z\" fill=\"none\"/>\n",
              "    <path d=\"M18.56 5.44l.94 2.06.94-2.06 2.06-.94-2.06-.94-.94-2.06-.94 2.06-2.06.94zm-11 1L8.5 8.5l.94-2.06 2.06-.94-2.06-.94L8.5 2.5l-.94 2.06-2.06.94zm10 10l.94 2.06.94-2.06 2.06-.94-2.06-.94-.94-2.06-.94 2.06-2.06.94z\"/><path d=\"M17.41 7.96l-1.37-1.37c-.4-.4-.92-.59-1.43-.59-.52 0-1.04.2-1.43.59L10.3 9.45l-7.72 7.72c-.78.78-.78 2.05 0 2.83L4 21.41c.39.39.9.59 1.41.59.51 0 1.02-.2 1.41-.59l7.78-7.78 2.81-2.81c.8-.78.8-2.07 0-2.86zM5.41 20L4 18.59l7.72-7.72 1.47 1.35L5.41 20z\"/>\n",
              "  </svg>\n",
              "      </button>\n",
              "      \n",
              "  <style>\n",
              "    .colab-df-container {\n",
              "      display:flex;\n",
              "      flex-wrap:wrap;\n",
              "      gap: 12px;\n",
              "    }\n",
              "\n",
              "    .colab-df-convert {\n",
              "      background-color: #E8F0FE;\n",
              "      border: none;\n",
              "      border-radius: 50%;\n",
              "      cursor: pointer;\n",
              "      display: none;\n",
              "      fill: #1967D2;\n",
              "      height: 32px;\n",
              "      padding: 0 0 0 0;\n",
              "      width: 32px;\n",
              "    }\n",
              "\n",
              "    .colab-df-convert:hover {\n",
              "      background-color: #E2EBFA;\n",
              "      box-shadow: 0px 1px 2px rgba(60, 64, 67, 0.3), 0px 1px 3px 1px rgba(60, 64, 67, 0.15);\n",
              "      fill: #174EA6;\n",
              "    }\n",
              "\n",
              "    [theme=dark] .colab-df-convert {\n",
              "      background-color: #3B4455;\n",
              "      fill: #D2E3FC;\n",
              "    }\n",
              "\n",
              "    [theme=dark] .colab-df-convert:hover {\n",
              "      background-color: #434B5C;\n",
              "      box-shadow: 0px 1px 3px 1px rgba(0, 0, 0, 0.15);\n",
              "      filter: drop-shadow(0px 1px 2px rgba(0, 0, 0, 0.3));\n",
              "      fill: #FFFFFF;\n",
              "    }\n",
              "  </style>\n",
              "\n",
              "      <script>\n",
              "        const buttonEl =\n",
              "          document.querySelector('#df-aa30228e-8fdf-42c7-986e-b0eb37802980 button.colab-df-convert');\n",
              "        buttonEl.style.display =\n",
              "          google.colab.kernel.accessAllowed ? 'block' : 'none';\n",
              "\n",
              "        async function convertToInteractive(key) {\n",
              "          const element = document.querySelector('#df-aa30228e-8fdf-42c7-986e-b0eb37802980');\n",
              "          const dataTable =\n",
              "            await google.colab.kernel.invokeFunction('convertToInteractive',\n",
              "                                                     [key], {});\n",
              "          if (!dataTable) return;\n",
              "\n",
              "          const docLinkHtml = 'Like what you see? Visit the ' +\n",
              "            '<a target=\"_blank\" href=https://colab.research.google.com/notebooks/data_table.ipynb>data table notebook</a>'\n",
              "            + ' to learn more about interactive tables.';\n",
              "          element.innerHTML = '';\n",
              "          dataTable['output_type'] = 'display_data';\n",
              "          await google.colab.output.renderOutput(dataTable, element);\n",
              "          const docLink = document.createElement('div');\n",
              "          docLink.innerHTML = docLinkHtml;\n",
              "          element.appendChild(docLink);\n",
              "        }\n",
              "      </script>\n",
              "    </div>\n",
              "  </div>\n",
              "  "
            ]
          },
          "metadata": {},
          "execution_count": 29
        }
      ]
    }
  ]
}