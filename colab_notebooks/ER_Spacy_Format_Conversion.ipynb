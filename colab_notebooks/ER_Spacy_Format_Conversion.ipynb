{
  "nbformat": 4,
  "nbformat_minor": 0,
  "metadata": {
    "colab": {
      "name": "ER_Spacy_Format_Conversion.ipynb",
      "provenance": [],
      "collapsed_sections": []
    },
    "kernelspec": {
      "name": "python3",
      "display_name": "Python 3"
    },
    "language_info": {
      "name": "python"
    },
    "accelerator": "GPU"
  },
  "cells": [
    {
      "cell_type": "code",
      "execution_count": null,
      "metadata": {
        "colab": {
          "base_uri": "https://localhost:8080/"
        },
        "id": "S0jpc8sO9ulR",
        "outputId": "2f360edc-c66b-4966-ed81-f03ac34d0f6b"
      },
      "outputs": [
        {
          "output_type": "stream",
          "name": "stdout",
          "text": [
            "Drive already mounted at /content/drive; to attempt to forcibly remount, call drive.mount(\"/content/drive\", force_remount=True).\n"
          ]
        }
      ],
      "source": [
        "from google.colab import drive\n",
        "drive.mount('/content/drive')"
      ]
    },
    {
      "cell_type": "code",
      "source": [
        "pip install -U spacy"
      ],
      "metadata": {
        "colab": {
          "base_uri": "https://localhost:8080/"
        },
        "id": "-B-13o3mA0Ds",
        "outputId": "ab43dd8f-2319-4ab4-8fe6-da96a87158c9"
      },
      "execution_count": null,
      "outputs": [
        {
          "output_type": "stream",
          "name": "stdout",
          "text": [
            "Requirement already satisfied: spacy in /usr/local/lib/python3.7/dist-packages (3.2.3)\n",
            "Requirement already satisfied: requests<3.0.0,>=2.13.0 in /usr/local/lib/python3.7/dist-packages (from spacy) (2.23.0)\n",
            "Requirement already satisfied: preshed<3.1.0,>=3.0.2 in /usr/local/lib/python3.7/dist-packages (from spacy) (3.0.6)\n",
            "Requirement already satisfied: numpy>=1.15.0 in /usr/local/lib/python3.7/dist-packages (from spacy) (1.21.5)\n",
            "Requirement already satisfied: tqdm<5.0.0,>=4.38.0 in /usr/local/lib/python3.7/dist-packages (from spacy) (4.63.0)\n",
            "Requirement already satisfied: jinja2 in /usr/local/lib/python3.7/dist-packages (from spacy) (2.11.3)\n",
            "Requirement already satisfied: typer<0.5.0,>=0.3.0 in /usr/local/lib/python3.7/dist-packages (from spacy) (0.4.0)\n",
            "Requirement already satisfied: pathy>=0.3.5 in /usr/local/lib/python3.7/dist-packages (from spacy) (0.6.1)\n",
            "Requirement already satisfied: langcodes<4.0.0,>=3.2.0 in /usr/local/lib/python3.7/dist-packages (from spacy) (3.3.0)\n",
            "Requirement already satisfied: srsly<3.0.0,>=2.4.1 in /usr/local/lib/python3.7/dist-packages (from spacy) (2.4.2)\n",
            "Requirement already satisfied: packaging>=20.0 in /usr/local/lib/python3.7/dist-packages (from spacy) (21.3)\n",
            "Requirement already satisfied: wasabi<1.1.0,>=0.8.1 in /usr/local/lib/python3.7/dist-packages (from spacy) (0.9.0)\n",
            "Requirement already satisfied: spacy-legacy<3.1.0,>=3.0.8 in /usr/local/lib/python3.7/dist-packages (from spacy) (3.0.9)\n",
            "Requirement already satisfied: catalogue<2.1.0,>=2.0.6 in /usr/local/lib/python3.7/dist-packages (from spacy) (2.0.7)\n",
            "Requirement already satisfied: setuptools in /usr/local/lib/python3.7/dist-packages (from spacy) (60.10.0)\n",
            "Requirement already satisfied: murmurhash<1.1.0,>=0.28.0 in /usr/local/lib/python3.7/dist-packages (from spacy) (1.0.6)\n",
            "Requirement already satisfied: cymem<2.1.0,>=2.0.2 in /usr/local/lib/python3.7/dist-packages (from spacy) (2.0.6)\n",
            "Requirement already satisfied: blis<0.8.0,>=0.4.0 in /usr/local/lib/python3.7/dist-packages (from spacy) (0.4.1)\n",
            "Requirement already satisfied: pydantic!=1.8,!=1.8.1,<1.9.0,>=1.7.4 in /usr/local/lib/python3.7/dist-packages (from spacy) (1.8.2)\n",
            "Requirement already satisfied: spacy-loggers<2.0.0,>=1.0.0 in /usr/local/lib/python3.7/dist-packages (from spacy) (1.0.1)\n",
            "Requirement already satisfied: typing-extensions<4.0.0.0,>=3.7.4 in /usr/local/lib/python3.7/dist-packages (from spacy) (3.10.0.2)\n",
            "Requirement already satisfied: thinc<8.1.0,>=8.0.12 in /usr/local/lib/python3.7/dist-packages (from spacy) (8.0.15)\n",
            "Requirement already satisfied: zipp>=0.5 in /usr/local/lib/python3.7/dist-packages (from catalogue<2.1.0,>=2.0.6->spacy) (3.7.0)\n",
            "Requirement already satisfied: pyparsing!=3.0.5,>=2.0.2 in /usr/local/lib/python3.7/dist-packages (from packaging>=20.0->spacy) (3.0.7)\n",
            "Requirement already satisfied: smart-open<6.0.0,>=5.0.0 in /usr/local/lib/python3.7/dist-packages (from pathy>=0.3.5->spacy) (5.2.1)\n",
            "Requirement already satisfied: idna<3,>=2.5 in /usr/local/lib/python3.7/dist-packages (from requests<3.0.0,>=2.13.0->spacy) (2.10)\n",
            "Requirement already satisfied: chardet<4,>=3.0.2 in /usr/local/lib/python3.7/dist-packages (from requests<3.0.0,>=2.13.0->spacy) (3.0.4)\n",
            "Requirement already satisfied: urllib3!=1.25.0,!=1.25.1,<1.26,>=1.21.1 in /usr/local/lib/python3.7/dist-packages (from requests<3.0.0,>=2.13.0->spacy) (1.24.3)\n",
            "Requirement already satisfied: certifi>=2017.4.17 in /usr/local/lib/python3.7/dist-packages (from requests<3.0.0,>=2.13.0->spacy) (2021.10.8)\n",
            "Requirement already satisfied: click<9.0.0,>=7.1.1 in /usr/local/lib/python3.7/dist-packages (from typer<0.5.0,>=0.3.0->spacy) (7.1.2)\n",
            "Requirement already satisfied: MarkupSafe>=0.23 in /usr/local/lib/python3.7/dist-packages (from jinja2->spacy) (2.0.1)\n",
            "\u001b[33mWARNING: Running pip as the 'root' user can result in broken permissions and conflicting behaviour with the system package manager. It is recommended to use a virtual environment instead: https://pip.pypa.io/warnings/venv\u001b[0m\u001b[33m\n",
            "\u001b[0m"
          ]
        }
      ]
    },
    {
      "cell_type": "code",
      "source": [
        "!pip install -U pip setuptools wheel"
      ],
      "metadata": {
        "colab": {
          "base_uri": "https://localhost:8080/"
        },
        "id": "FxDSkcefA-FR",
        "outputId": "d1808dcf-366b-4c6c-fa3f-2094bee9d906"
      },
      "execution_count": null,
      "outputs": [
        {
          "output_type": "stream",
          "name": "stdout",
          "text": [
            "Requirement already satisfied: pip in /usr/local/lib/python3.7/dist-packages (22.0.4)\n",
            "Requirement already satisfied: setuptools in /usr/local/lib/python3.7/dist-packages (60.10.0)\n",
            "Requirement already satisfied: wheel in /usr/local/lib/python3.7/dist-packages (0.37.1)\n",
            "\u001b[33mWARNING: Running pip as the 'root' user can result in broken permissions and conflicting behaviour with the system package manager. It is recommended to use a virtual environment instead: https://pip.pypa.io/warnings/venv\u001b[0m\u001b[33m\n",
            "\u001b[0m"
          ]
        }
      ]
    },
    {
      "cell_type": "code",
      "source": [
        "!python -m spacy download en_core_web_trf"
      ],
      "metadata": {
        "colab": {
          "base_uri": "https://localhost:8080/"
        },
        "id": "2D_DyoIWCFdC",
        "outputId": "e706a7ee-ab81-4feb-8d04-8c5d855deaf2"
      },
      "execution_count": null,
      "outputs": [
        {
          "output_type": "stream",
          "name": "stdout",
          "text": [
            "Collecting en-core-web-trf==3.2.0\n",
            "  Downloading https://github.com/explosion/spacy-models/releases/download/en_core_web_trf-3.2.0/en_core_web_trf-3.2.0-py3-none-any.whl (460.2 MB)\n",
            "\u001b[2K     \u001b[90m━━━━━━━━━━━━━━━━━━━━━━━━━━━━━━━━━━━━━━━\u001b[0m \u001b[32m460.2/460.2 MB\u001b[0m \u001b[31m3.3 MB/s\u001b[0m eta \u001b[36m0:00:00\u001b[0m\n",
            "\u001b[?25hRequirement already satisfied: spacy-transformers<1.2.0,>=1.1.2 in /usr/local/lib/python3.7/dist-packages (from en-core-web-trf==3.2.0) (1.1.5)\n",
            "Requirement already satisfied: spacy<3.3.0,>=3.2.0 in /usr/local/lib/python3.7/dist-packages (from en-core-web-trf==3.2.0) (3.2.3)\n",
            "Requirement already satisfied: blis<0.8.0,>=0.4.0 in /usr/local/lib/python3.7/dist-packages (from spacy<3.3.0,>=3.2.0->en-core-web-trf==3.2.0) (0.4.1)\n",
            "Requirement already satisfied: spacy-legacy<3.1.0,>=3.0.8 in /usr/local/lib/python3.7/dist-packages (from spacy<3.3.0,>=3.2.0->en-core-web-trf==3.2.0) (3.0.9)\n",
            "Requirement already satisfied: packaging>=20.0 in /usr/local/lib/python3.7/dist-packages (from spacy<3.3.0,>=3.2.0->en-core-web-trf==3.2.0) (21.3)\n",
            "Requirement already satisfied: langcodes<4.0.0,>=3.2.0 in /usr/local/lib/python3.7/dist-packages (from spacy<3.3.0,>=3.2.0->en-core-web-trf==3.2.0) (3.3.0)\n",
            "Requirement already satisfied: typer<0.5.0,>=0.3.0 in /usr/local/lib/python3.7/dist-packages (from spacy<3.3.0,>=3.2.0->en-core-web-trf==3.2.0) (0.4.0)\n",
            "Requirement already satisfied: preshed<3.1.0,>=3.0.2 in /usr/local/lib/python3.7/dist-packages (from spacy<3.3.0,>=3.2.0->en-core-web-trf==3.2.0) (3.0.6)\n",
            "Requirement already satisfied: wasabi<1.1.0,>=0.8.1 in /usr/local/lib/python3.7/dist-packages (from spacy<3.3.0,>=3.2.0->en-core-web-trf==3.2.0) (0.9.0)\n",
            "Requirement already satisfied: cymem<2.1.0,>=2.0.2 in /usr/local/lib/python3.7/dist-packages (from spacy<3.3.0,>=3.2.0->en-core-web-trf==3.2.0) (2.0.6)\n",
            "Requirement already satisfied: pydantic!=1.8,!=1.8.1,<1.9.0,>=1.7.4 in /usr/local/lib/python3.7/dist-packages (from spacy<3.3.0,>=3.2.0->en-core-web-trf==3.2.0) (1.8.2)\n",
            "Requirement already satisfied: requests<3.0.0,>=2.13.0 in /usr/local/lib/python3.7/dist-packages (from spacy<3.3.0,>=3.2.0->en-core-web-trf==3.2.0) (2.23.0)\n",
            "Requirement already satisfied: murmurhash<1.1.0,>=0.28.0 in /usr/local/lib/python3.7/dist-packages (from spacy<3.3.0,>=3.2.0->en-core-web-trf==3.2.0) (1.0.6)\n",
            "Requirement already satisfied: spacy-loggers<2.0.0,>=1.0.0 in /usr/local/lib/python3.7/dist-packages (from spacy<3.3.0,>=3.2.0->en-core-web-trf==3.2.0) (1.0.1)\n",
            "Requirement already satisfied: tqdm<5.0.0,>=4.38.0 in /usr/local/lib/python3.7/dist-packages (from spacy<3.3.0,>=3.2.0->en-core-web-trf==3.2.0) (4.63.0)\n",
            "Requirement already satisfied: srsly<3.0.0,>=2.4.1 in /usr/local/lib/python3.7/dist-packages (from spacy<3.3.0,>=3.2.0->en-core-web-trf==3.2.0) (2.4.2)\n",
            "Requirement already satisfied: numpy>=1.15.0 in /usr/local/lib/python3.7/dist-packages (from spacy<3.3.0,>=3.2.0->en-core-web-trf==3.2.0) (1.21.5)\n",
            "Requirement already satisfied: jinja2 in /usr/local/lib/python3.7/dist-packages (from spacy<3.3.0,>=3.2.0->en-core-web-trf==3.2.0) (2.11.3)\n",
            "Requirement already satisfied: typing-extensions<4.0.0.0,>=3.7.4 in /usr/local/lib/python3.7/dist-packages (from spacy<3.3.0,>=3.2.0->en-core-web-trf==3.2.0) (3.10.0.2)\n",
            "Requirement already satisfied: catalogue<2.1.0,>=2.0.6 in /usr/local/lib/python3.7/dist-packages (from spacy<3.3.0,>=3.2.0->en-core-web-trf==3.2.0) (2.0.7)\n",
            "Requirement already satisfied: thinc<8.1.0,>=8.0.12 in /usr/local/lib/python3.7/dist-packages (from spacy<3.3.0,>=3.2.0->en-core-web-trf==3.2.0) (8.0.15)\n",
            "Requirement already satisfied: setuptools in /usr/local/lib/python3.7/dist-packages (from spacy<3.3.0,>=3.2.0->en-core-web-trf==3.2.0) (60.10.0)\n",
            "Requirement already satisfied: pathy>=0.3.5 in /usr/local/lib/python3.7/dist-packages (from spacy<3.3.0,>=3.2.0->en-core-web-trf==3.2.0) (0.6.1)\n",
            "Requirement already satisfied: spacy-alignments<1.0.0,>=0.7.2 in /usr/local/lib/python3.7/dist-packages (from spacy-transformers<1.2.0,>=1.1.2->en-core-web-trf==3.2.0) (0.8.4)\n",
            "Requirement already satisfied: torch>=1.6.0 in /usr/local/lib/python3.7/dist-packages (from spacy-transformers<1.2.0,>=1.1.2->en-core-web-trf==3.2.0) (1.7.1+cu92)\n",
            "Requirement already satisfied: transformers<4.18.0,>=3.4.0 in /usr/local/lib/python3.7/dist-packages (from spacy-transformers<1.2.0,>=1.1.2->en-core-web-trf==3.2.0) (4.17.0)\n",
            "Requirement already satisfied: zipp>=0.5 in /usr/local/lib/python3.7/dist-packages (from catalogue<2.1.0,>=2.0.6->spacy<3.3.0,>=3.2.0->en-core-web-trf==3.2.0) (3.7.0)\n",
            "Requirement already satisfied: pyparsing!=3.0.5,>=2.0.2 in /usr/local/lib/python3.7/dist-packages (from packaging>=20.0->spacy<3.3.0,>=3.2.0->en-core-web-trf==3.2.0) (3.0.7)\n",
            "Requirement already satisfied: smart-open<6.0.0,>=5.0.0 in /usr/local/lib/python3.7/dist-packages (from pathy>=0.3.5->spacy<3.3.0,>=3.2.0->en-core-web-trf==3.2.0) (5.2.1)\n",
            "Requirement already satisfied: urllib3!=1.25.0,!=1.25.1,<1.26,>=1.21.1 in /usr/local/lib/python3.7/dist-packages (from requests<3.0.0,>=2.13.0->spacy<3.3.0,>=3.2.0->en-core-web-trf==3.2.0) (1.24.3)\n",
            "Requirement already satisfied: certifi>=2017.4.17 in /usr/local/lib/python3.7/dist-packages (from requests<3.0.0,>=2.13.0->spacy<3.3.0,>=3.2.0->en-core-web-trf==3.2.0) (2021.10.8)\n",
            "Requirement already satisfied: idna<3,>=2.5 in /usr/local/lib/python3.7/dist-packages (from requests<3.0.0,>=2.13.0->spacy<3.3.0,>=3.2.0->en-core-web-trf==3.2.0) (2.10)\n",
            "Requirement already satisfied: chardet<4,>=3.0.2 in /usr/local/lib/python3.7/dist-packages (from requests<3.0.0,>=2.13.0->spacy<3.3.0,>=3.2.0->en-core-web-trf==3.2.0) (3.0.4)\n",
            "Requirement already satisfied: filelock in /usr/local/lib/python3.7/dist-packages (from transformers<4.18.0,>=3.4.0->spacy-transformers<1.2.0,>=1.1.2->en-core-web-trf==3.2.0) (3.6.0)\n",
            "Requirement already satisfied: regex!=2019.12.17 in /usr/local/lib/python3.7/dist-packages (from transformers<4.18.0,>=3.4.0->spacy-transformers<1.2.0,>=1.1.2->en-core-web-trf==3.2.0) (2019.12.20)\n",
            "Requirement already satisfied: sacremoses in /usr/local/lib/python3.7/dist-packages (from transformers<4.18.0,>=3.4.0->spacy-transformers<1.2.0,>=1.1.2->en-core-web-trf==3.2.0) (0.0.49)\n",
            "Requirement already satisfied: tokenizers!=0.11.3,>=0.11.1 in /usr/local/lib/python3.7/dist-packages (from transformers<4.18.0,>=3.4.0->spacy-transformers<1.2.0,>=1.1.2->en-core-web-trf==3.2.0) (0.11.6)\n",
            "Requirement already satisfied: huggingface-hub<1.0,>=0.1.0 in /usr/local/lib/python3.7/dist-packages (from transformers<4.18.0,>=3.4.0->spacy-transformers<1.2.0,>=1.1.2->en-core-web-trf==3.2.0) (0.4.0)\n",
            "Requirement already satisfied: pyyaml>=5.1 in /usr/local/lib/python3.7/dist-packages (from transformers<4.18.0,>=3.4.0->spacy-transformers<1.2.0,>=1.1.2->en-core-web-trf==3.2.0) (6.0)\n",
            "Requirement already satisfied: importlib-metadata in /usr/local/lib/python3.7/dist-packages (from transformers<4.18.0,>=3.4.0->spacy-transformers<1.2.0,>=1.1.2->en-core-web-trf==3.2.0) (4.11.3)\n",
            "Requirement already satisfied: click<9.0.0,>=7.1.1 in /usr/local/lib/python3.7/dist-packages (from typer<0.5.0,>=0.3.0->spacy<3.3.0,>=3.2.0->en-core-web-trf==3.2.0) (7.1.2)\n",
            "Requirement already satisfied: MarkupSafe>=0.23 in /usr/local/lib/python3.7/dist-packages (from jinja2->spacy<3.3.0,>=3.2.0->en-core-web-trf==3.2.0) (2.0.1)\n",
            "Requirement already satisfied: joblib in /usr/local/lib/python3.7/dist-packages (from sacremoses->transformers<4.18.0,>=3.4.0->spacy-transformers<1.2.0,>=1.1.2->en-core-web-trf==3.2.0) (1.1.0)\n",
            "Requirement already satisfied: six in /usr/local/lib/python3.7/dist-packages (from sacremoses->transformers<4.18.0,>=3.4.0->spacy-transformers<1.2.0,>=1.1.2->en-core-web-trf==3.2.0) (1.15.0)\n",
            "\u001b[33mWARNING: Running pip as the 'root' user can result in broken permissions and conflicting behaviour with the system package manager. It is recommended to use a virtual environment instead: https://pip.pypa.io/warnings/venv\u001b[0m\u001b[33m\n",
            "\u001b[0m\u001b[38;5;2m✔ Download and installation successful\u001b[0m\n",
            "You can now load the package via spacy.load('en_core_web_trf')\n"
          ]
        }
      ]
    },
    {
      "cell_type": "code",
      "source": [
        "!python -m spacy convert drive/MyDrive/Spacy-Project/train.tsv ./ -t json -n 1 -c iob"
      ],
      "metadata": {
        "colab": {
          "base_uri": "https://localhost:8080/"
        },
        "id": "F3tqoXDRCYch",
        "outputId": "8337038c-b855-48e1-f149-1e803e067706"
      },
      "execution_count": null,
      "outputs": [
        {
          "output_type": "stream",
          "name": "stdout",
          "text": [
            "\u001b[38;5;4mℹ Auto-detected token-per-line NER format\u001b[0m\n",
            "\u001b[38;5;3m⚠ Document delimiters found, automatic document segmentation with `-n`\n",
            "disabled.\u001b[0m\n",
            "\u001b[38;5;2m✔ Generated output file (1 documents): train.json\u001b[0m\n"
          ]
        }
      ]
    },
    {
      "cell_type": "code",
      "source": [
        "!python -m spacy convert drive/MyDrive/Spacy-Project/test.tsv ./ -t json -n 1 -c iob"
      ],
      "metadata": {
        "colab": {
          "base_uri": "https://localhost:8080/"
        },
        "id": "MJSiQs_WDCJK",
        "outputId": "fc445937-9ece-4450-d834-4abe1e36b214"
      },
      "execution_count": null,
      "outputs": [
        {
          "output_type": "stream",
          "name": "stdout",
          "text": [
            "\u001b[38;5;4mℹ Auto-detected token-per-line NER format\u001b[0m\n",
            "\u001b[38;5;3m⚠ Document delimiters found, automatic document segmentation with `-n`\n",
            "disabled.\u001b[0m\n",
            "\u001b[38;5;2m✔ Generated output file (1 documents): test.json\u001b[0m\n"
          ]
        }
      ]
    },
    {
      "cell_type": "code",
      "source": [
        "!python -m spacy convert drive/MyDrive/Spacy-Project/train.json ./ -t spacy\n",
        "!python -m spacy convert drive/MyDrive/Spacy-Project/test.json ./ -t spacy"
      ],
      "metadata": {
        "colab": {
          "base_uri": "https://localhost:8080/"
        },
        "id": "SZTLYVejkint",
        "outputId": "6f3cda85-4141-4a50-dca9-701568664959"
      },
      "execution_count": null,
      "outputs": [
        {
          "output_type": "stream",
          "name": "stdout",
          "text": [
            "\u001b[38;5;2m✔ Generated output file (77 documents): train.spacy\u001b[0m\n",
            "\u001b[38;5;2m✔ Generated output file (11 documents): test.spacy\u001b[0m\n"
          ]
        }
      ]
    },
    {
      "cell_type": "code",
      "source": [
        "import torch\n",
        "torch.cuda.is_available()"
      ],
      "metadata": {
        "colab": {
          "base_uri": "https://localhost:8080/"
        },
        "id": "f8rNsE2FDKNJ",
        "outputId": "831c606e-9f7d-4a72-98d7-bc6bda44bbf1"
      },
      "execution_count": null,
      "outputs": [
        {
          "output_type": "execute_result",
          "data": {
            "text/plain": [
              "True"
            ]
          },
          "metadata": {},
          "execution_count": 8
        }
      ]
    },
    {
      "cell_type": "code",
      "source": [
        "!wget https://developer.nvidia.com/compute/cuda/9.2/Prod/local_installers/cuda-repo-ubuntu1604-9-2-local_9.2.88-1_amd64 -O cuda-repo-ubuntu1604-9-2-local_9.2.88-1_amd64.deb\n",
        "!dpkg -i cuda-repo-ubuntu1604-9-2-local_9.2.88-1_amd64.deb\n",
        "!apt-key add /var/cuda-repo-9-2-local/7fa2af80.pub\n",
        "!apt-get update\n",
        "!apt-get install cuda-9.2"
      ],
      "metadata": {
        "colab": {
          "base_uri": "https://localhost:8080/"
        },
        "id": "CvWf0r7KDoBq",
        "outputId": "a2a5569e-5ff2-4bec-ab64-f42529917911"
      },
      "execution_count": null,
      "outputs": [
        {
          "output_type": "stream",
          "name": "stdout",
          "text": [
            "--2022-03-24 02:50:30--  https://developer.nvidia.com/compute/cuda/9.2/Prod/local_installers/cuda-repo-ubuntu1604-9-2-local_9.2.88-1_amd64\n",
            "Resolving developer.nvidia.com (developer.nvidia.com)... 152.195.19.142\n",
            "Connecting to developer.nvidia.com (developer.nvidia.com)|152.195.19.142|:443... connected.\n",
            "HTTP request sent, awaiting response... 301 Moved Permanently\n",
            "Location: https://developer.nvidia.com/compute/cuda/9.2/prod/local_installers/cuda-repo-ubuntu1604-9-2-local_9.2.88-1_amd64 [following]\n",
            "--2022-03-24 02:50:31--  https://developer.nvidia.com/compute/cuda/9.2/prod/local_installers/cuda-repo-ubuntu1604-9-2-local_9.2.88-1_amd64\n",
            "Reusing existing connection to developer.nvidia.com:443.\n",
            "HTTP request sent, awaiting response... 302 Found\n",
            "Location: https://developer.download.nvidia.com/compute/cuda/9.2/secure/Prod/local_installers/cuda-repo-ubuntu1604-9-2-local_9.2.88-1_amd64.deb?HIeGp8Qjc3PwBXuau1MQyVWQ-MUPwKwn4L7lr5g0ykIV1expVOP_YgeiVaxeLvDonA2E1WWhr8Km0I6SsdKf0ftjFeFVFAwcDqPiVSULxIDBsT6FcYJBciJyXxj50ANnIjJ2gCtzoCHwtmF91mlxF0zCaybQfuqVpjgYnkR9SbwxaCGQM2ShMaigAeFczMQ1EoZl09Wd1wo9NR0Jl6A [following]\n",
            "--2022-03-24 02:50:31--  https://developer.download.nvidia.com/compute/cuda/9.2/secure/Prod/local_installers/cuda-repo-ubuntu1604-9-2-local_9.2.88-1_amd64.deb?HIeGp8Qjc3PwBXuau1MQyVWQ-MUPwKwn4L7lr5g0ykIV1expVOP_YgeiVaxeLvDonA2E1WWhr8Km0I6SsdKf0ftjFeFVFAwcDqPiVSULxIDBsT6FcYJBciJyXxj50ANnIjJ2gCtzoCHwtmF91mlxF0zCaybQfuqVpjgYnkR9SbwxaCGQM2ShMaigAeFczMQ1EoZl09Wd1wo9NR0Jl6A\n",
            "Resolving developer.download.nvidia.com (developer.download.nvidia.com)... 152.195.19.142\n",
            "Connecting to developer.download.nvidia.com (developer.download.nvidia.com)|152.195.19.142|:443... connected.\n",
            "HTTP request sent, awaiting response... 200 OK\n",
            "Length: 1267391958 (1.2G) [application/x-deb]\n",
            "Saving to: ‘cuda-repo-ubuntu1604-9-2-local_9.2.88-1_amd64.deb’\n",
            "\n",
            "cuda-repo-ubuntu160 100%[===================>]   1.18G   209MB/s    in 6.2s    \n",
            "\n",
            "2022-03-24 02:50:37 (196 MB/s) - ‘cuda-repo-ubuntu1604-9-2-local_9.2.88-1_amd64.deb’ saved [1267391958/1267391958]\n",
            "\n",
            "Selecting previously unselected package cuda-repo-ubuntu1604-9-2-local.\n",
            "(Reading database ... 155335 files and directories currently installed.)\n",
            "Preparing to unpack cuda-repo-ubuntu1604-9-2-local_9.2.88-1_amd64.deb ...\n",
            "Unpacking cuda-repo-ubuntu1604-9-2-local (9.2.88-1) ...\n",
            "Setting up cuda-repo-ubuntu1604-9-2-local (9.2.88-1) ...\n",
            "OK\n",
            "Get:1 file:/var/cuda-repo-9-2-local  InRelease\n",
            "Ign:1 file:/var/cuda-repo-9-2-local  InRelease\n",
            "Get:2 file:/var/cuda-repo-9-2-local  Release [574 B]\n",
            "Get:2 file:/var/cuda-repo-9-2-local  Release [574 B]\n",
            "Get:3 file:/var/cuda-repo-9-2-local  Release.gpg [819 B]\n",
            "Get:3 file:/var/cuda-repo-9-2-local  Release.gpg [819 B]\n",
            "Get:4 https://cloud.r-project.org/bin/linux/ubuntu bionic-cran40/ InRelease [3,626 B]\n",
            "Ign:5 https://developer.download.nvidia.com/compute/cuda/repos/ubuntu1804/x86_64  InRelease\n",
            "Hit:6 http://archive.ubuntu.com/ubuntu bionic InRelease\n",
            "Get:7 http://archive.ubuntu.com/ubuntu bionic-updates InRelease [88.7 kB]\n",
            "Ign:8 https://developer.download.nvidia.com/compute/machine-learning/repos/ubuntu1804/x86_64  InRelease\n",
            "Get:9 http://ppa.launchpad.net/c2d4u.team/c2d4u4.0+/ubuntu bionic InRelease [15.9 kB]\n",
            "Get:10 https://developer.download.nvidia.com/compute/cuda/repos/ubuntu1804/x86_64  Release [696 B]\n",
            "Get:11 file:/var/cuda-repo-9-2-local  Packages [18.7 kB]\n",
            "Hit:12 https://developer.download.nvidia.com/compute/machine-learning/repos/ubuntu1804/x86_64  Release\n",
            "Get:13 https://developer.download.nvidia.com/compute/cuda/repos/ubuntu1804/x86_64  Release.gpg [836 B]\n",
            "Get:14 http://security.ubuntu.com/ubuntu bionic-security InRelease [88.7 kB]\n",
            "Get:15 http://archive.ubuntu.com/ubuntu bionic-backports InRelease [74.6 kB]\n",
            "Get:16 https://cloud.r-project.org/bin/linux/ubuntu bionic-cran40/ Packages [80.4 kB]\n",
            "Hit:17 http://ppa.launchpad.net/cran/libgit2/ubuntu bionic InRelease\n",
            "Get:18 http://ppa.launchpad.net/deadsnakes/ppa/ubuntu bionic InRelease [15.9 kB]\n",
            "Get:20 https://developer.download.nvidia.com/compute/cuda/repos/ubuntu1804/x86_64  Packages [933 kB]\n",
            "Hit:21 http://ppa.launchpad.net/graphics-drivers/ppa/ubuntu bionic InRelease\n",
            "Get:22 http://archive.ubuntu.com/ubuntu bionic-updates/main amd64 Packages [3,098 kB]\n",
            "Get:23 http://archive.ubuntu.com/ubuntu bionic-updates/multiverse amd64 Packages [29.9 kB]\n",
            "Get:24 http://archive.ubuntu.com/ubuntu bionic-updates/universe amd64 Packages [2,262 kB]\n",
            "Get:25 http://archive.ubuntu.com/ubuntu bionic-updates/restricted amd64 Packages [893 kB]\n",
            "Get:26 http://ppa.launchpad.net/c2d4u.team/c2d4u4.0+/ubuntu bionic/main Sources [1,829 kB]\n",
            "Get:27 http://security.ubuntu.com/ubuntu bionic-security/universe amd64 Packages [1,484 kB]\n",
            "Get:28 http://ppa.launchpad.net/c2d4u.team/c2d4u4.0+/ubuntu bionic/main amd64 Packages [937 kB]\n",
            "Get:29 http://security.ubuntu.com/ubuntu bionic-security/main amd64 Packages [2,660 kB]\n",
            "Get:30 http://security.ubuntu.com/ubuntu bionic-security/restricted amd64 Packages [860 kB]\n",
            "Get:31 http://ppa.launchpad.net/deadsnakes/ppa/ubuntu bionic/main amd64 Packages [45.2 kB]\n",
            "Fetched 15.4 MB in 4s (4,033 kB/s)\n",
            "Reading package lists... Done\n",
            "Reading package lists... Done\n",
            "Building dependency tree       \n",
            "Reading state information... Done\n",
            "Note, selecting 'cuda-9-2' for regex 'cuda-9.2'\n",
            "Note, selecting 'libcuda-9.2-1' for regex 'cuda-9.2'\n",
            "The following additional packages will be installed:\n",
            "  cuda-command-line-tools-9-2 cuda-compiler-9-2 cuda-cublas-9-2\n",
            "  cuda-cublas-dev-9-2 cuda-cudart-9-2 cuda-cudart-dev-9-2 cuda-cufft-9-2\n",
            "  cuda-cufft-dev-9-2 cuda-cuobjdump-9-2 cuda-cupti-9-2 cuda-curand-9-2\n",
            "  cuda-curand-dev-9-2 cuda-cusolver-9-2 cuda-cusolver-dev-9-2\n",
            "  cuda-cusparse-9-2 cuda-cusparse-dev-9-2 cuda-demo-suite-9-2\n",
            "  cuda-documentation-9-2 cuda-driver-dev-9-2 cuda-gdb-9-2\n",
            "  cuda-gpu-library-advisor-9-2 cuda-libraries-9-2 cuda-libraries-dev-9-2\n",
            "  cuda-license-9-2 cuda-memcheck-9-2 cuda-misc-headers-9-2 cuda-npp-9-2\n",
            "  cuda-npp-dev-9-2 cuda-nsight-9-2 cuda-nvcc-9-2 cuda-nvdisasm-9-2\n",
            "  cuda-nvgraph-9-2 cuda-nvgraph-dev-9-2 cuda-nvml-dev-9-2 cuda-nvprof-9-2\n",
            "  cuda-nvprune-9-2 cuda-nvrtc-9-2 cuda-nvrtc-dev-9-2 cuda-nvtx-9-2\n",
            "  cuda-nvvp-9-2 cuda-runtime-9-2 cuda-samples-9-2 cuda-toolkit-9-2\n",
            "  cuda-tools-9-2 cuda-visual-tools-9-2\n",
            "The following NEW packages will be installed:\n",
            "  cuda-9-2 cuda-command-line-tools-9-2 cuda-compiler-9-2 cuda-cublas-9-2\n",
            "  cuda-cublas-dev-9-2 cuda-cudart-9-2 cuda-cudart-dev-9-2 cuda-cufft-9-2\n",
            "  cuda-cufft-dev-9-2 cuda-cuobjdump-9-2 cuda-cupti-9-2 cuda-curand-9-2\n",
            "  cuda-curand-dev-9-2 cuda-cusolver-9-2 cuda-cusolver-dev-9-2\n",
            "  cuda-cusparse-9-2 cuda-cusparse-dev-9-2 cuda-demo-suite-9-2\n",
            "  cuda-documentation-9-2 cuda-driver-dev-9-2 cuda-gdb-9-2\n",
            "  cuda-gpu-library-advisor-9-2 cuda-libraries-9-2 cuda-libraries-dev-9-2\n",
            "  cuda-license-9-2 cuda-memcheck-9-2 cuda-misc-headers-9-2 cuda-npp-9-2\n",
            "  cuda-npp-dev-9-2 cuda-nsight-9-2 cuda-nvcc-9-2 cuda-nvdisasm-9-2\n",
            "  cuda-nvgraph-9-2 cuda-nvgraph-dev-9-2 cuda-nvml-dev-9-2 cuda-nvprof-9-2\n",
            "  cuda-nvprune-9-2 cuda-nvrtc-9-2 cuda-nvrtc-dev-9-2 cuda-nvtx-9-2\n",
            "  cuda-nvvp-9-2 cuda-runtime-9-2 cuda-samples-9-2 cuda-toolkit-9-2\n",
            "  cuda-tools-9-2 cuda-visual-tools-9-2\n",
            "0 upgraded, 46 newly installed, 0 to remove and 70 not upgraded.\n",
            "Need to get 0 B/1,146 MB of archives.\n",
            "After this operation, 2,642 MB of additional disk space will be used.\n",
            "Get:1 file:/var/cuda-repo-9-2-local  cuda-license-9-2 9.2.88-1 [22.0 kB]\n",
            "Get:2 file:/var/cuda-repo-9-2-local  cuda-misc-headers-9-2 9.2.88-1 [640 kB]\n",
            "Get:3 file:/var/cuda-repo-9-2-local  cuda-nvcc-9-2 9.2.88-1 [15.4 MB]\n",
            "Get:4 file:/var/cuda-repo-9-2-local  cuda-cuobjdump-9-2 9.2.88-1 [129 kB]\n",
            "Get:5 file:/var/cuda-repo-9-2-local  cuda-nvprune-9-2 9.2.88-1 [36.7 kB]\n",
            "Get:6 file:/var/cuda-repo-9-2-local  cuda-compiler-9-2 9.2.88-1 [2,518 B]\n",
            "Get:7 file:/var/cuda-repo-9-2-local  cuda-nvdisasm-9-2 9.2.88-1 [17.4 MB]\n",
            "Get:8 file:/var/cuda-repo-9-2-local  cuda-gdb-9-2 9.2.88-1 [2,765 kB]\n",
            "Get:9 file:/var/cuda-repo-9-2-local  cuda-nvprof-9-2 9.2.88-1 [4,737 kB]\n",
            "Get:10 file:/var/cuda-repo-9-2-local  cuda-memcheck-9-2 9.2.88-1 [137 kB]\n",
            "Get:11 file:/var/cuda-repo-9-2-local  cuda-cudart-9-2 9.2.88-1 [97.8 kB]\n",
            "Get:12 file:/var/cuda-repo-9-2-local  cuda-driver-dev-9-2 9.2.88-1 [11.1 kB]\n",
            "Get:13 file:/var/cuda-repo-9-2-local  cuda-cudart-dev-9-2 9.2.88-1 [718 kB]\n",
            "Get:14 file:/var/cuda-repo-9-2-local  cuda-cupti-9-2 9.2.88-1 [1,537 kB]\n",
            "Get:15 file:/var/cuda-repo-9-2-local  cuda-gpu-library-advisor-9-2 9.2.88-1 [1,002 kB]\n",
            "Get:16 file:/var/cuda-repo-9-2-local  cuda-nvtx-9-2 9.2.88-1 [24.3 kB]\n",
            "Get:17 file:/var/cuda-repo-9-2-local  cuda-command-line-tools-9-2 9.2.88-1 [26.3 kB]\n",
            "Get:18 file:/var/cuda-repo-9-2-local  cuda-nsight-9-2 9.2.88-1 [2,580 B]\n",
            "Get:19 file:/var/cuda-repo-9-2-local  cuda-nvvp-9-2 9.2.88-1 [2,528 B]\n",
            "Get:20 file:/var/cuda-repo-9-2-local  cuda-nvrtc-9-2 9.2.88-1 [5,908 kB]\n",
            "Get:21 file:/var/cuda-repo-9-2-local  cuda-nvrtc-dev-9-2 9.2.88-1 [9,318 B]\n",
            "Get:22 file:/var/cuda-repo-9-2-local  cuda-cusolver-9-2 9.2.88-1 [31.1 MB]\n",
            "Get:23 file:/var/cuda-repo-9-2-local  cuda-cusolver-dev-9-2 9.2.88-1 [8,184 kB]\n",
            "Get:24 file:/var/cuda-repo-9-2-local  cuda-cublas-9-2 9.2.88-1 [24.9 MB]\n",
            "Get:25 file:/var/cuda-repo-9-2-local  cuda-cublas-dev-9-2 9.2.88-1 [49.1 MB]\n",
            "Get:26 file:/var/cuda-repo-9-2-local  cuda-cufft-9-2 9.2.88-1 [51.5 MB]\n",
            "Get:27 file:/var/cuda-repo-9-2-local  cuda-cufft-dev-9-2 9.2.88-1 [106 MB]\n",
            "Get:28 file:/var/cuda-repo-9-2-local  cuda-curand-9-2 9.2.88-1 [38.8 MB]\n",
            "Get:29 file:/var/cuda-repo-9-2-local  cuda-curand-dev-9-2 9.2.88-1 [57.8 MB]\n",
            "Get:30 file:/var/cuda-repo-9-2-local  cuda-cusparse-9-2 9.2.88-1 [27.6 MB]\n",
            "Get:31 file:/var/cuda-repo-9-2-local  cuda-cusparse-dev-9-2 9.2.88-1 [27.8 MB]\n",
            "Get:32 file:/var/cuda-repo-9-2-local  cuda-npp-9-2 9.2.88-1 [52.1 MB]\n",
            "Get:33 file:/var/cuda-repo-9-2-local  cuda-npp-dev-9-2 9.2.88-1 [52.0 MB]\n",
            "Get:34 file:/var/cuda-repo-9-2-local  cuda-nvml-dev-9-2 9.2.88-1 [49.4 kB]\n",
            "Get:35 file:/var/cuda-repo-9-2-local  cuda-nvgraph-9-2 9.2.88-1 [11.7 MB]\n",
            "Get:36 file:/var/cuda-repo-9-2-local  cuda-nvgraph-dev-9-2 9.2.88-1 [30.0 MB]\n",
            "Get:37 file:/var/cuda-repo-9-2-local  cuda-visual-tools-9-2 9.2.88-1 [396 MB]\n",
            "Get:38 file:/var/cuda-repo-9-2-local  cuda-tools-9-2 9.2.88-1 [2,486 B]\n",
            "Get:39 file:/var/cuda-repo-9-2-local  cuda-samples-9-2 9.2.88-1 [76.3 MB]\n",
            "Get:40 file:/var/cuda-repo-9-2-local  cuda-documentation-9-2 9.2.88-1 [50.4 MB]\n",
            "Get:41 file:/var/cuda-repo-9-2-local  cuda-libraries-dev-9-2 9.2.88-1 [2,598 B]\n",
            "Get:42 file:/var/cuda-repo-9-2-local  cuda-toolkit-9-2 9.2.88-1 [2,828 B]\n",
            "Get:43 file:/var/cuda-repo-9-2-local  cuda-libraries-9-2 9.2.88-1 [2,568 B]\n",
            "Get:44 file:/var/cuda-repo-9-2-local  cuda-runtime-9-2 9.2.88-1 [2,530 B]\n",
            "Get:45 file:/var/cuda-repo-9-2-local  cuda-demo-suite-9-2 9.2.88-1 [3,889 kB]\n",
            "Get:46 file:/var/cuda-repo-9-2-local  cuda-9-2 9.2.88-1 [2,560 B]\n",
            "Extracting templates from packages: 100%\n",
            "Selecting previously unselected package cuda-license-9-2.\n",
            "(Reading database ... 155408 files and directories currently installed.)\n",
            "Preparing to unpack .../00-cuda-license-9-2_9.2.88-1_amd64.deb ...\n",
            "Unpacking cuda-license-9-2 (9.2.88-1) ...\n",
            "Selecting previously unselected package cuda-misc-headers-9-2.\n",
            "Preparing to unpack .../01-cuda-misc-headers-9-2_9.2.88-1_amd64.deb ...\n",
            "Unpacking cuda-misc-headers-9-2 (9.2.88-1) ...\n",
            "Selecting previously unselected package cuda-nvcc-9-2.\n",
            "Preparing to unpack .../02-cuda-nvcc-9-2_9.2.88-1_amd64.deb ...\n",
            "Unpacking cuda-nvcc-9-2 (9.2.88-1) ...\n",
            "Selecting previously unselected package cuda-cuobjdump-9-2.\n",
            "Preparing to unpack .../03-cuda-cuobjdump-9-2_9.2.88-1_amd64.deb ...\n",
            "Unpacking cuda-cuobjdump-9-2 (9.2.88-1) ...\n",
            "Selecting previously unselected package cuda-nvprune-9-2.\n",
            "Preparing to unpack .../04-cuda-nvprune-9-2_9.2.88-1_amd64.deb ...\n",
            "Unpacking cuda-nvprune-9-2 (9.2.88-1) ...\n",
            "Selecting previously unselected package cuda-compiler-9-2.\n",
            "Preparing to unpack .../05-cuda-compiler-9-2_9.2.88-1_amd64.deb ...\n",
            "Unpacking cuda-compiler-9-2 (9.2.88-1) ...\n",
            "Selecting previously unselected package cuda-nvdisasm-9-2.\n",
            "Preparing to unpack .../06-cuda-nvdisasm-9-2_9.2.88-1_amd64.deb ...\n",
            "Unpacking cuda-nvdisasm-9-2 (9.2.88-1) ...\n",
            "Selecting previously unselected package cuda-gdb-9-2.\n",
            "Preparing to unpack .../07-cuda-gdb-9-2_9.2.88-1_amd64.deb ...\n",
            "Unpacking cuda-gdb-9-2 (9.2.88-1) ...\n",
            "Selecting previously unselected package cuda-nvprof-9-2.\n",
            "Preparing to unpack .../08-cuda-nvprof-9-2_9.2.88-1_amd64.deb ...\n",
            "Unpacking cuda-nvprof-9-2 (9.2.88-1) ...\n",
            "Selecting previously unselected package cuda-memcheck-9-2.\n",
            "Preparing to unpack .../09-cuda-memcheck-9-2_9.2.88-1_amd64.deb ...\n",
            "Unpacking cuda-memcheck-9-2 (9.2.88-1) ...\n",
            "Selecting previously unselected package cuda-cudart-9-2.\n",
            "Preparing to unpack .../10-cuda-cudart-9-2_9.2.88-1_amd64.deb ...\n",
            "Unpacking cuda-cudart-9-2 (9.2.88-1) ...\n",
            "Selecting previously unselected package cuda-driver-dev-9-2.\n",
            "Preparing to unpack .../11-cuda-driver-dev-9-2_9.2.88-1_amd64.deb ...\n",
            "Unpacking cuda-driver-dev-9-2 (9.2.88-1) ...\n",
            "Selecting previously unselected package cuda-cudart-dev-9-2.\n",
            "Preparing to unpack .../12-cuda-cudart-dev-9-2_9.2.88-1_amd64.deb ...\n",
            "Unpacking cuda-cudart-dev-9-2 (9.2.88-1) ...\n",
            "Selecting previously unselected package cuda-cupti-9-2.\n",
            "Preparing to unpack .../13-cuda-cupti-9-2_9.2.88-1_amd64.deb ...\n",
            "Unpacking cuda-cupti-9-2 (9.2.88-1) ...\n",
            "Selecting previously unselected package cuda-gpu-library-advisor-9-2.\n",
            "Preparing to unpack .../14-cuda-gpu-library-advisor-9-2_9.2.88-1_amd64.deb ...\n",
            "Unpacking cuda-gpu-library-advisor-9-2 (9.2.88-1) ...\n",
            "Selecting previously unselected package cuda-nvtx-9-2.\n",
            "Preparing to unpack .../15-cuda-nvtx-9-2_9.2.88-1_amd64.deb ...\n",
            "Unpacking cuda-nvtx-9-2 (9.2.88-1) ...\n",
            "Selecting previously unselected package cuda-command-line-tools-9-2.\n",
            "Preparing to unpack .../16-cuda-command-line-tools-9-2_9.2.88-1_amd64.deb ...\n",
            "Unpacking cuda-command-line-tools-9-2 (9.2.88-1) ...\n",
            "Selecting previously unselected package cuda-nsight-9-2.\n",
            "Preparing to unpack .../17-cuda-nsight-9-2_9.2.88-1_amd64.deb ...\n",
            "Unpacking cuda-nsight-9-2 (9.2.88-1) ...\n",
            "Selecting previously unselected package cuda-nvvp-9-2.\n",
            "Preparing to unpack .../18-cuda-nvvp-9-2_9.2.88-1_amd64.deb ...\n",
            "Unpacking cuda-nvvp-9-2 (9.2.88-1) ...\n",
            "Selecting previously unselected package cuda-nvrtc-9-2.\n",
            "Preparing to unpack .../19-cuda-nvrtc-9-2_9.2.88-1_amd64.deb ...\n",
            "Unpacking cuda-nvrtc-9-2 (9.2.88-1) ...\n",
            "Selecting previously unselected package cuda-nvrtc-dev-9-2.\n",
            "Preparing to unpack .../20-cuda-nvrtc-dev-9-2_9.2.88-1_amd64.deb ...\n",
            "Unpacking cuda-nvrtc-dev-9-2 (9.2.88-1) ...\n",
            "Selecting previously unselected package cuda-cusolver-9-2.\n",
            "Preparing to unpack .../21-cuda-cusolver-9-2_9.2.88-1_amd64.deb ...\n",
            "Unpacking cuda-cusolver-9-2 (9.2.88-1) ...\n",
            "Selecting previously unselected package cuda-cusolver-dev-9-2.\n",
            "Preparing to unpack .../22-cuda-cusolver-dev-9-2_9.2.88-1_amd64.deb ...\n",
            "Unpacking cuda-cusolver-dev-9-2 (9.2.88-1) ...\n",
            "Selecting previously unselected package cuda-cublas-9-2.\n",
            "Preparing to unpack .../23-cuda-cublas-9-2_9.2.88-1_amd64.deb ...\n",
            "Unpacking cuda-cublas-9-2 (9.2.88-1) ...\n",
            "Selecting previously unselected package cuda-cublas-dev-9-2.\n",
            "Preparing to unpack .../24-cuda-cublas-dev-9-2_9.2.88-1_amd64.deb ...\n",
            "Unpacking cuda-cublas-dev-9-2 (9.2.88-1) ...\n",
            "Selecting previously unselected package cuda-cufft-9-2.\n",
            "Preparing to unpack .../25-cuda-cufft-9-2_9.2.88-1_amd64.deb ...\n",
            "Unpacking cuda-cufft-9-2 (9.2.88-1) ...\n",
            "Selecting previously unselected package cuda-cufft-dev-9-2.\n",
            "Preparing to unpack .../26-cuda-cufft-dev-9-2_9.2.88-1_amd64.deb ...\n",
            "Unpacking cuda-cufft-dev-9-2 (9.2.88-1) ...\n",
            "Selecting previously unselected package cuda-curand-9-2.\n",
            "Preparing to unpack .../27-cuda-curand-9-2_9.2.88-1_amd64.deb ...\n",
            "Unpacking cuda-curand-9-2 (9.2.88-1) ...\n",
            "Selecting previously unselected package cuda-curand-dev-9-2.\n",
            "Preparing to unpack .../28-cuda-curand-dev-9-2_9.2.88-1_amd64.deb ...\n",
            "Unpacking cuda-curand-dev-9-2 (9.2.88-1) ...\n",
            "Selecting previously unselected package cuda-cusparse-9-2.\n",
            "Preparing to unpack .../29-cuda-cusparse-9-2_9.2.88-1_amd64.deb ...\n",
            "Unpacking cuda-cusparse-9-2 (9.2.88-1) ...\n",
            "Selecting previously unselected package cuda-cusparse-dev-9-2.\n",
            "Preparing to unpack .../30-cuda-cusparse-dev-9-2_9.2.88-1_amd64.deb ...\n",
            "Unpacking cuda-cusparse-dev-9-2 (9.2.88-1) ...\n",
            "Selecting previously unselected package cuda-npp-9-2.\n",
            "Preparing to unpack .../31-cuda-npp-9-2_9.2.88-1_amd64.deb ...\n",
            "Unpacking cuda-npp-9-2 (9.2.88-1) ...\n",
            "Selecting previously unselected package cuda-npp-dev-9-2.\n",
            "Preparing to unpack .../32-cuda-npp-dev-9-2_9.2.88-1_amd64.deb ...\n",
            "Unpacking cuda-npp-dev-9-2 (9.2.88-1) ...\n",
            "Selecting previously unselected package cuda-nvml-dev-9-2.\n",
            "Preparing to unpack .../33-cuda-nvml-dev-9-2_9.2.88-1_amd64.deb ...\n",
            "Unpacking cuda-nvml-dev-9-2 (9.2.88-1) ...\n",
            "Selecting previously unselected package cuda-nvgraph-9-2.\n",
            "Preparing to unpack .../34-cuda-nvgraph-9-2_9.2.88-1_amd64.deb ...\n",
            "Unpacking cuda-nvgraph-9-2 (9.2.88-1) ...\n",
            "Selecting previously unselected package cuda-nvgraph-dev-9-2.\n",
            "Preparing to unpack .../35-cuda-nvgraph-dev-9-2_9.2.88-1_amd64.deb ...\n",
            "Unpacking cuda-nvgraph-dev-9-2 (9.2.88-1) ...\n",
            "Selecting previously unselected package cuda-visual-tools-9-2.\n",
            "Preparing to unpack .../36-cuda-visual-tools-9-2_9.2.88-1_amd64.deb ...\n",
            "Unpacking cuda-visual-tools-9-2 (9.2.88-1) ...\n",
            "Selecting previously unselected package cuda-tools-9-2.\n",
            "Preparing to unpack .../37-cuda-tools-9-2_9.2.88-1_amd64.deb ...\n",
            "Unpacking cuda-tools-9-2 (9.2.88-1) ...\n",
            "Selecting previously unselected package cuda-samples-9-2.\n",
            "Preparing to unpack .../38-cuda-samples-9-2_9.2.88-1_amd64.deb ...\n",
            "Unpacking cuda-samples-9-2 (9.2.88-1) ...\n",
            "Selecting previously unselected package cuda-documentation-9-2.\n",
            "Preparing to unpack .../39-cuda-documentation-9-2_9.2.88-1_amd64.deb ...\n",
            "Unpacking cuda-documentation-9-2 (9.2.88-1) ...\n",
            "Selecting previously unselected package cuda-libraries-dev-9-2.\n",
            "Preparing to unpack .../40-cuda-libraries-dev-9-2_9.2.88-1_amd64.deb ...\n",
            "Unpacking cuda-libraries-dev-9-2 (9.2.88-1) ...\n",
            "Selecting previously unselected package cuda-toolkit-9-2.\n",
            "Preparing to unpack .../41-cuda-toolkit-9-2_9.2.88-1_amd64.deb ...\n",
            "Unpacking cuda-toolkit-9-2 (9.2.88-1) ...\n",
            "Selecting previously unselected package cuda-libraries-9-2.\n",
            "Preparing to unpack .../42-cuda-libraries-9-2_9.2.88-1_amd64.deb ...\n",
            "Unpacking cuda-libraries-9-2 (9.2.88-1) ...\n",
            "Selecting previously unselected package cuda-runtime-9-2.\n",
            "Preparing to unpack .../43-cuda-runtime-9-2_9.2.88-1_amd64.deb ...\n",
            "Unpacking cuda-runtime-9-2 (9.2.88-1) ...\n",
            "Selecting previously unselected package cuda-demo-suite-9-2.\n",
            "Preparing to unpack .../44-cuda-demo-suite-9-2_9.2.88-1_amd64.deb ...\n",
            "Unpacking cuda-demo-suite-9-2 (9.2.88-1) ...\n",
            "Selecting previously unselected package cuda-9-2.\n",
            "Preparing to unpack .../45-cuda-9-2_9.2.88-1_amd64.deb ...\n",
            "Unpacking cuda-9-2 (9.2.88-1) ...\n",
            "Setting up cuda-license-9-2 (9.2.88-1) ...\n",
            "*** LICENSE AGREEMENT ***\n",
            "By using this software you agree to fully comply with the terms and \n",
            "conditions of the EULA (End User License Agreement). The EULA is located\n",
            "at /usr/local/cuda-9.2/doc/EULA.txt. The EULA can also be found at\n",
            "http://docs.nvidia.com/cuda/eula/index.html. If you do not agree to the\n",
            "terms and conditions of the EULA, do not use the software.\n",
            "\n",
            "Setting up cuda-nvprune-9-2 (9.2.88-1) ...\n",
            "Setting up cuda-cudart-9-2 (9.2.88-1) ...\n",
            "Setting up cuda-nvprof-9-2 (9.2.88-1) ...\n",
            "Setting up cuda-nvrtc-9-2 (9.2.88-1) ...\n",
            "Setting up cuda-nvtx-9-2 (9.2.88-1) ...\n",
            "Setting up cuda-cusolver-9-2 (9.2.88-1) ...\n",
            "Setting up cuda-nvml-dev-9-2 (9.2.88-1) ...\n",
            "Setting up cuda-cufft-9-2 (9.2.88-1) ...\n",
            "Setting up cuda-npp-9-2 (9.2.88-1) ...\n",
            "Setting up cuda-misc-headers-9-2 (9.2.88-1) ...\n",
            "Setting up cuda-memcheck-9-2 (9.2.88-1) ...\n",
            "Setting up cuda-npp-dev-9-2 (9.2.88-1) ...\n",
            "Setting up cuda-nvdisasm-9-2 (9.2.88-1) ...\n",
            "Setting up cuda-nvvp-9-2 (9.2.88-1) ...\n",
            "Setting up cuda-nvrtc-dev-9-2 (9.2.88-1) ...\n",
            "Setting up cuda-driver-dev-9-2 (9.2.88-1) ...\n",
            "Setting up cuda-curand-9-2 (9.2.88-1) ...\n",
            "Setting up cuda-cusolver-dev-9-2 (9.2.88-1) ...\n",
            "Setting up cuda-nsight-9-2 (9.2.88-1) ...\n",
            "Setting up cuda-cublas-9-2 (9.2.88-1) ...\n",
            "Setting up cuda-cuobjdump-9-2 (9.2.88-1) ...\n",
            "Setting up cuda-cusparse-9-2 (9.2.88-1) ...\n",
            "Setting up cuda-nvgraph-9-2 (9.2.88-1) ...\n",
            "Setting up cuda-gpu-library-advisor-9-2 (9.2.88-1) ...\n",
            "Setting up cuda-gdb-9-2 (9.2.88-1) ...\n",
            "Setting up cuda-cudart-dev-9-2 (9.2.88-1) ...\n",
            "Setting up cuda-cufft-dev-9-2 (9.2.88-1) ...\n",
            "Setting up cuda-libraries-9-2 (9.2.88-1) ...\n",
            "Setting up cuda-cusparse-dev-9-2 (9.2.88-1) ...\n",
            "Setting up cuda-runtime-9-2 (9.2.88-1) ...\n",
            "Setting up cuda-nvcc-9-2 (9.2.88-1) ...\n",
            "Setting up cuda-cupti-9-2 (9.2.88-1) ...\n",
            "Setting up cuda-cublas-dev-9-2 (9.2.88-1) ...\n",
            "Setting up cuda-nvgraph-dev-9-2 (9.2.88-1) ...\n",
            "Setting up cuda-command-line-tools-9-2 (9.2.88-1) ...\n",
            "Setting up cuda-curand-dev-9-2 (9.2.88-1) ...\n",
            "Setting up cuda-demo-suite-9-2 (9.2.88-1) ...\n",
            "Setting up cuda-visual-tools-9-2 (9.2.88-1) ...\n",
            "Setting up cuda-compiler-9-2 (9.2.88-1) ...\n",
            "Setting up cuda-libraries-dev-9-2 (9.2.88-1) ...\n",
            "Setting up cuda-samples-9-2 (9.2.88-1) ...\n",
            "Setting up cuda-documentation-9-2 (9.2.88-1) ...\n",
            "Setting up cuda-tools-9-2 (9.2.88-1) ...\n",
            "Setting up cuda-toolkit-9-2 (9.2.88-1) ...\n",
            "Setting up cuda-9-2 (9.2.88-1) ...\n",
            "Processing triggers for libc-bin (2.27-3ubuntu1.3) ...\n",
            "/sbin/ldconfig.real: /usr/local/lib/python3.7/dist-packages/ideep4py/lib/libmkldnn.so.0 is not a symbolic link\n",
            "\n"
          ]
        }
      ]
    },
    {
      "cell_type": "code",
      "source": [
        "pip install torch==1.7.1+cu92 torchvision==0.8.2+cu92 torchaudio==0.7.2 -f https://download.pytorch.org/whl/torch_stable.html"
      ],
      "metadata": {
        "colab": {
          "base_uri": "https://localhost:8080/"
        },
        "id": "106dlwezEAjb",
        "outputId": "93b9f6e8-3748-4501-f74c-e89091feb538"
      },
      "execution_count": null,
      "outputs": [
        {
          "output_type": "stream",
          "name": "stdout",
          "text": [
            "Looking in links: https://download.pytorch.org/whl/torch_stable.html\n",
            "Collecting torch==1.7.1+cu92\n",
            "  Downloading https://download.pytorch.org/whl/cu92/torch-1.7.1%2Bcu92-cp37-cp37m-linux_x86_64.whl (577.3 MB)\n",
            "\u001b[2K     \u001b[90m━━━━━━━━━━━━━━━━━━━━━━━━━━━━━━━━━━━━━━━\u001b[0m \u001b[32m577.3/577.3 MB\u001b[0m \u001b[31m2.8 MB/s\u001b[0m eta \u001b[36m0:00:00\u001b[0m\n",
            "\u001b[?25hCollecting torchvision==0.8.2+cu92\n",
            "  Downloading https://download.pytorch.org/whl/cu92/torchvision-0.8.2%2Bcu92-cp37-cp37m-linux_x86_64.whl (12.5 MB)\n",
            "\u001b[2K     \u001b[90m━━━━━━━━━━━━━━━━━━━━━━━━━━━━━━━━━━━━━━━━\u001b[0m \u001b[32m12.5/12.5 MB\u001b[0m \u001b[31m34.4 MB/s\u001b[0m eta \u001b[36m0:00:00\u001b[0m\n",
            "\u001b[?25hCollecting torchaudio==0.7.2\n",
            "  Downloading torchaudio-0.7.2-cp37-cp37m-manylinux1_x86_64.whl (7.6 MB)\n",
            "\u001b[2K     \u001b[90m━━━━━━━━━━━━━━━━━━━━━━━━━━━━━━━━━━━━━━━━\u001b[0m \u001b[32m7.6/7.6 MB\u001b[0m \u001b[31m43.1 MB/s\u001b[0m eta \u001b[36m0:00:00\u001b[0m\n",
            "\u001b[?25hRequirement already satisfied: numpy in /usr/local/lib/python3.7/dist-packages (from torch==1.7.1+cu92) (1.21.5)\n",
            "Requirement already satisfied: typing-extensions in /usr/local/lib/python3.7/dist-packages (from torch==1.7.1+cu92) (3.10.0.2)\n",
            "Requirement already satisfied: pillow>=4.1.1 in /usr/local/lib/python3.7/dist-packages (from torchvision==0.8.2+cu92) (7.1.2)\n",
            "Installing collected packages: torch, torchvision, torchaudio\n",
            "  Attempting uninstall: torch\n",
            "    Found existing installation: torch 1.10.0+cu111\n",
            "    Uninstalling torch-1.10.0+cu111:\n",
            "      Successfully uninstalled torch-1.10.0+cu111\n",
            "  Attempting uninstall: torchvision\n",
            "    Found existing installation: torchvision 0.11.1+cu111\n",
            "    Uninstalling torchvision-0.11.1+cu111:\n",
            "      Successfully uninstalled torchvision-0.11.1+cu111\n",
            "  Attempting uninstall: torchaudio\n",
            "    Found existing installation: torchaudio 0.10.0+cu111\n",
            "    Uninstalling torchaudio-0.10.0+cu111:\n",
            "      Successfully uninstalled torchaudio-0.10.0+cu111\n",
            "\u001b[31mERROR: pip's dependency resolver does not currently take into account all the packages that are installed. This behaviour is the source of the following dependency conflicts.\n",
            "torchtext 0.11.0 requires torch==1.10.0, but you have torch 1.7.1+cu92 which is incompatible.\u001b[0m\u001b[31m\n",
            "\u001b[0mSuccessfully installed torch-1.7.1+cu92 torchaudio-0.7.2 torchvision-0.8.2+cu92\n",
            "\u001b[33mWARNING: Running pip as the 'root' user can result in broken permissions and conflicting behaviour with the system package manager. It is recommended to use a virtual environment instead: https://pip.pypa.io/warnings/venv\u001b[0m\u001b[33m\n",
            "\u001b[0m"
          ]
        }
      ]
    },
    {
      "cell_type": "code",
      "source": [
        "!pip install -U spacy[cuda92,transformers]"
      ],
      "metadata": {
        "colab": {
          "base_uri": "https://localhost:8080/"
        },
        "id": "nOI8IkOQEv47",
        "outputId": "4a3134c6-1b8f-4377-8ded-9d68008d8866"
      },
      "execution_count": null,
      "outputs": [
        {
          "output_type": "stream",
          "name": "stdout",
          "text": [
            "Requirement already satisfied: spacy[cuda92,transformers] in /usr/local/lib/python3.7/dist-packages (3.2.3)\n",
            "Requirement already satisfied: srsly<3.0.0,>=2.4.1 in /usr/local/lib/python3.7/dist-packages (from spacy[cuda92,transformers]) (2.4.2)\n",
            "Requirement already satisfied: cymem<2.1.0,>=2.0.2 in /usr/local/lib/python3.7/dist-packages (from spacy[cuda92,transformers]) (2.0.6)\n",
            "Requirement already satisfied: spacy-legacy<3.1.0,>=3.0.8 in /usr/local/lib/python3.7/dist-packages (from spacy[cuda92,transformers]) (3.0.9)\n",
            "Requirement already satisfied: typer<0.5.0,>=0.3.0 in /usr/local/lib/python3.7/dist-packages (from spacy[cuda92,transformers]) (0.4.0)\n",
            "Requirement already satisfied: jinja2 in /usr/local/lib/python3.7/dist-packages (from spacy[cuda92,transformers]) (2.11.3)\n",
            "Requirement already satisfied: preshed<3.1.0,>=3.0.2 in /usr/local/lib/python3.7/dist-packages (from spacy[cuda92,transformers]) (3.0.6)\n",
            "Requirement already satisfied: langcodes<4.0.0,>=3.2.0 in /usr/local/lib/python3.7/dist-packages (from spacy[cuda92,transformers]) (3.3.0)\n",
            "Requirement already satisfied: setuptools in /usr/local/lib/python3.7/dist-packages (from spacy[cuda92,transformers]) (60.10.0)\n",
            "Requirement already satisfied: catalogue<2.1.0,>=2.0.6 in /usr/local/lib/python3.7/dist-packages (from spacy[cuda92,transformers]) (2.0.7)\n",
            "Requirement already satisfied: murmurhash<1.1.0,>=0.28.0 in /usr/local/lib/python3.7/dist-packages (from spacy[cuda92,transformers]) (1.0.6)\n",
            "Requirement already satisfied: tqdm<5.0.0,>=4.38.0 in /usr/local/lib/python3.7/dist-packages (from spacy[cuda92,transformers]) (4.63.0)\n",
            "Requirement already satisfied: spacy-loggers<2.0.0,>=1.0.0 in /usr/local/lib/python3.7/dist-packages (from spacy[cuda92,transformers]) (1.0.1)\n",
            "Requirement already satisfied: wasabi<1.1.0,>=0.8.1 in /usr/local/lib/python3.7/dist-packages (from spacy[cuda92,transformers]) (0.9.0)\n",
            "Requirement already satisfied: packaging>=20.0 in /usr/local/lib/python3.7/dist-packages (from spacy[cuda92,transformers]) (21.3)\n",
            "Requirement already satisfied: blis<0.8.0,>=0.4.0 in /usr/local/lib/python3.7/dist-packages (from spacy[cuda92,transformers]) (0.4.1)\n",
            "Requirement already satisfied: typing-extensions<4.0.0.0,>=3.7.4 in /usr/local/lib/python3.7/dist-packages (from spacy[cuda92,transformers]) (3.10.0.2)\n",
            "Requirement already satisfied: pydantic!=1.8,!=1.8.1,<1.9.0,>=1.7.4 in /usr/local/lib/python3.7/dist-packages (from spacy[cuda92,transformers]) (1.8.2)\n",
            "Requirement already satisfied: pathy>=0.3.5 in /usr/local/lib/python3.7/dist-packages (from spacy[cuda92,transformers]) (0.6.1)\n",
            "Requirement already satisfied: requests<3.0.0,>=2.13.0 in /usr/local/lib/python3.7/dist-packages (from spacy[cuda92,transformers]) (2.23.0)\n",
            "Requirement already satisfied: numpy>=1.15.0 in /usr/local/lib/python3.7/dist-packages (from spacy[cuda92,transformers]) (1.21.5)\n",
            "Requirement already satisfied: thinc<8.1.0,>=8.0.12 in /usr/local/lib/python3.7/dist-packages (from spacy[cuda92,transformers]) (8.0.15)\n",
            "Requirement already satisfied: spacy-transformers<1.2.0,>=1.1.2 in /usr/local/lib/python3.7/dist-packages (from spacy[cuda92,transformers]) (1.1.5)\n",
            "Collecting cupy-cuda92<11.0.0,>=5.0.0b4\n",
            "  Downloading cupy_cuda92-9.6.0-cp37-cp37m-manylinux1_x86_64.whl (55.0 MB)\n",
            "\u001b[2K     \u001b[90m━━━━━━━━━━━━━━━━━━━━━━━━━━━━━━━━━━━━━━━━\u001b[0m \u001b[32m55.0/55.0 MB\u001b[0m \u001b[31m10.0 MB/s\u001b[0m eta \u001b[36m0:00:00\u001b[0m\n",
            "\u001b[?25hRequirement already satisfied: zipp>=0.5 in /usr/local/lib/python3.7/dist-packages (from catalogue<2.1.0,>=2.0.6->spacy[cuda92,transformers]) (3.7.0)\n",
            "Requirement already satisfied: fastrlock>=0.5 in /usr/local/lib/python3.7/dist-packages (from cupy-cuda92<11.0.0,>=5.0.0b4->spacy[cuda92,transformers]) (0.8)\n",
            "Requirement already satisfied: pyparsing!=3.0.5,>=2.0.2 in /usr/local/lib/python3.7/dist-packages (from packaging>=20.0->spacy[cuda92,transformers]) (3.0.7)\n",
            "Requirement already satisfied: smart-open<6.0.0,>=5.0.0 in /usr/local/lib/python3.7/dist-packages (from pathy>=0.3.5->spacy[cuda92,transformers]) (5.2.1)\n",
            "Requirement already satisfied: certifi>=2017.4.17 in /usr/local/lib/python3.7/dist-packages (from requests<3.0.0,>=2.13.0->spacy[cuda92,transformers]) (2021.10.8)\n",
            "Requirement already satisfied: chardet<4,>=3.0.2 in /usr/local/lib/python3.7/dist-packages (from requests<3.0.0,>=2.13.0->spacy[cuda92,transformers]) (3.0.4)\n",
            "Requirement already satisfied: urllib3!=1.25.0,!=1.25.1,<1.26,>=1.21.1 in /usr/local/lib/python3.7/dist-packages (from requests<3.0.0,>=2.13.0->spacy[cuda92,transformers]) (1.24.3)\n",
            "Requirement already satisfied: idna<3,>=2.5 in /usr/local/lib/python3.7/dist-packages (from requests<3.0.0,>=2.13.0->spacy[cuda92,transformers]) (2.10)\n",
            "Requirement already satisfied: torch>=1.6.0 in /usr/local/lib/python3.7/dist-packages (from spacy-transformers<1.2.0,>=1.1.2->spacy[cuda92,transformers]) (1.7.1+cu92)\n",
            "Requirement already satisfied: transformers<4.18.0,>=3.4.0 in /usr/local/lib/python3.7/dist-packages (from spacy-transformers<1.2.0,>=1.1.2->spacy[cuda92,transformers]) (4.17.0)\n",
            "Requirement already satisfied: spacy-alignments<1.0.0,>=0.7.2 in /usr/local/lib/python3.7/dist-packages (from spacy-transformers<1.2.0,>=1.1.2->spacy[cuda92,transformers]) (0.8.4)\n",
            "Requirement already satisfied: click<9.0.0,>=7.1.1 in /usr/local/lib/python3.7/dist-packages (from typer<0.5.0,>=0.3.0->spacy[cuda92,transformers]) (7.1.2)\n",
            "Requirement already satisfied: MarkupSafe>=0.23 in /usr/local/lib/python3.7/dist-packages (from jinja2->spacy[cuda92,transformers]) (2.0.1)\n",
            "Requirement already satisfied: filelock in /usr/local/lib/python3.7/dist-packages (from transformers<4.18.0,>=3.4.0->spacy-transformers<1.2.0,>=1.1.2->spacy[cuda92,transformers]) (3.6.0)\n",
            "Requirement already satisfied: sacremoses in /usr/local/lib/python3.7/dist-packages (from transformers<4.18.0,>=3.4.0->spacy-transformers<1.2.0,>=1.1.2->spacy[cuda92,transformers]) (0.0.49)\n",
            "Requirement already satisfied: regex!=2019.12.17 in /usr/local/lib/python3.7/dist-packages (from transformers<4.18.0,>=3.4.0->spacy-transformers<1.2.0,>=1.1.2->spacy[cuda92,transformers]) (2019.12.20)\n",
            "Requirement already satisfied: importlib-metadata in /usr/local/lib/python3.7/dist-packages (from transformers<4.18.0,>=3.4.0->spacy-transformers<1.2.0,>=1.1.2->spacy[cuda92,transformers]) (4.11.3)\n",
            "Requirement already satisfied: huggingface-hub<1.0,>=0.1.0 in /usr/local/lib/python3.7/dist-packages (from transformers<4.18.0,>=3.4.0->spacy-transformers<1.2.0,>=1.1.2->spacy[cuda92,transformers]) (0.4.0)\n",
            "Requirement already satisfied: pyyaml>=5.1 in /usr/local/lib/python3.7/dist-packages (from transformers<4.18.0,>=3.4.0->spacy-transformers<1.2.0,>=1.1.2->spacy[cuda92,transformers]) (6.0)\n",
            "Requirement already satisfied: tokenizers!=0.11.3,>=0.11.1 in /usr/local/lib/python3.7/dist-packages (from transformers<4.18.0,>=3.4.0->spacy-transformers<1.2.0,>=1.1.2->spacy[cuda92,transformers]) (0.11.6)\n",
            "Requirement already satisfied: six in /usr/local/lib/python3.7/dist-packages (from sacremoses->transformers<4.18.0,>=3.4.0->spacy-transformers<1.2.0,>=1.1.2->spacy[cuda92,transformers]) (1.15.0)\n",
            "Requirement already satisfied: joblib in /usr/local/lib/python3.7/dist-packages (from sacremoses->transformers<4.18.0,>=3.4.0->spacy-transformers<1.2.0,>=1.1.2->spacy[cuda92,transformers]) (1.1.0)\n",
            "Installing collected packages: cupy-cuda92\n",
            "Successfully installed cupy-cuda92-9.6.0\n",
            "\u001b[33mWARNING: Running pip as the 'root' user can result in broken permissions and conflicting behaviour with the system package manager. It is recommended to use a virtual environment instead: https://pip.pypa.io/warnings/venv\u001b[0m\u001b[33m\n",
            "\u001b[0m"
          ]
        }
      ]
    },
    {
      "cell_type": "code",
      "source": [
        "pip install wheel"
      ],
      "metadata": {
        "colab": {
          "base_uri": "https://localhost:8080/"
        },
        "id": "JQFiul66oTSe",
        "outputId": "d1e6566e-4541-4389-cdbc-8db05e3b6eb8"
      },
      "execution_count": null,
      "outputs": [
        {
          "output_type": "stream",
          "name": "stdout",
          "text": [
            "Requirement already satisfied: wheel in /usr/local/lib/python3.7/dist-packages (0.37.1)\n",
            "\u001b[33mWARNING: Running pip as the 'root' user can result in broken permissions and conflicting behaviour with the system package manager. It is recommended to use a virtual environment instead: https://pip.pypa.io/warnings/venv\u001b[0m\u001b[33m\n",
            "\u001b[0m"
          ]
        }
      ]
    },
    {
      "cell_type": "code",
      "source": [
        "python setup.py bdist_wheel "
      ],
      "metadata": {
        "colab": {
          "base_uri": "https://localhost:8080/",
          "height": 130
        },
        "id": "Zl7yWqznoW_d",
        "outputId": "31032710-15ce-41fa-bee8-8874dcb1db6f"
      },
      "execution_count": 1,
      "outputs": [
        {
          "output_type": "error",
          "ename": "SyntaxError",
          "evalue": "ignored",
          "traceback": [
            "\u001b[0;36m  File \u001b[0;32m\"<ipython-input-1-64902ac117eb>\"\u001b[0;36m, line \u001b[0;32m1\u001b[0m\n\u001b[0;31m    python setup.py bdist_wheel\u001b[0m\n\u001b[0m               ^\u001b[0m\n\u001b[0;31mSyntaxError\u001b[0m\u001b[0;31m:\u001b[0m invalid syntax\n"
          ]
        }
      ]
    },
    {
      "cell_type": "code",
      "source": [
        "pip install cupy-cuda100"
      ],
      "metadata": {
        "colab": {
          "base_uri": "https://localhost:8080/"
        },
        "id": "PXkd-TlEE4mB",
        "outputId": "e2eb47a5-1707-4b4f-87b2-3f127f0bca00"
      },
      "execution_count": null,
      "outputs": [
        {
          "output_type": "stream",
          "name": "stdout",
          "text": [
            "Collecting cupy-cuda100\n",
            "  Downloading cupy_cuda100-9.6.0-cp37-cp37m-manylinux1_x86_64.whl (58.9 MB)\n",
            "\u001b[2K     \u001b[90m━━━━━━━━━━━━━━━━━━━━━━━━━━━━━━━━━━━━━━━━\u001b[0m \u001b[32m58.9/58.9 MB\u001b[0m \u001b[31m10.1 MB/s\u001b[0m eta \u001b[36m0:00:00\u001b[0m\n",
            "\u001b[?25hRequirement already satisfied: numpy<1.24,>=1.17 in /usr/local/lib/python3.7/dist-packages (from cupy-cuda100) (1.21.5)\n",
            "Requirement already satisfied: fastrlock>=0.5 in /usr/local/lib/python3.7/dist-packages (from cupy-cuda100) (0.8)\n",
            "Installing collected packages: cupy-cuda100\n",
            "Successfully installed cupy-cuda100-9.6.0\n",
            "\u001b[33mWARNING: Running pip as the 'root' user can result in broken permissions and conflicting behaviour with the system package manager. It is recommended to use a virtual environment instead: https://pip.pypa.io/warnings/venv\u001b[0m\u001b[33m\n",
            "\u001b[0m"
          ]
        }
      ]
    },
    {
      "cell_type": "code",
      "source": [
        "!export LD_LIBRARY_PATH=$CUDA_PATH/lib64:$LD_LIBRARY_PATH"
      ],
      "metadata": {
        "id": "0BbfBlLuE4qB"
      },
      "execution_count": null,
      "outputs": []
    },
    {
      "cell_type": "code",
      "source": [
        "import torch\n",
        "torch.cuda.is_available()"
      ],
      "metadata": {
        "colab": {
          "base_uri": "https://localhost:8080/"
        },
        "id": "ufcNJtgrjBN8",
        "outputId": "ce86ce17-dbf3-473a-f986-e4ec377ebd59"
      },
      "execution_count": null,
      "outputs": [
        {
          "output_type": "execute_result",
          "data": {
            "text/plain": [
              "True"
            ]
          },
          "metadata": {},
          "execution_count": 14
        }
      ]
    },
    {
      "cell_type": "code",
      "source": [
        "!python -m spacy debug data drive/MyDrive/Spacy-Project/config.cfg\n"
      ],
      "metadata": {
        "colab": {
          "base_uri": "https://localhost:8080/"
        },
        "id": "wDF8g8FFjFib",
        "outputId": "822d04db-6910-4af1-c434-15a9818d2eaf"
      },
      "execution_count": null,
      "outputs": [
        {
          "output_type": "stream",
          "name": "stdout",
          "text": [
            "\u001b[1m\n",
            "============================ Data file validation ============================\u001b[0m\n",
            "Some weights of the model checkpoint at roberta-base were not used when initializing RobertaModel: ['lm_head.decoder.weight', 'lm_head.layer_norm.weight', 'lm_head.dense.bias', 'lm_head.layer_norm.bias', 'lm_head.dense.weight', 'lm_head.bias']\n",
            "- This IS expected if you are initializing RobertaModel from the checkpoint of a model trained on another task or with another architecture (e.g. initializing a BertForSequenceClassification model from a BertForPreTraining model).\n",
            "- This IS NOT expected if you are initializing RobertaModel from the checkpoint of a model that you expect to be exactly identical (initializing a BertForSequenceClassification model from a BertForSequenceClassification model).\n",
            "\u001b[38;5;2m✔ Pipeline can be initialized with data\u001b[0m\n",
            "\u001b[38;5;2m✔ Corpus is loadable\u001b[0m\n",
            "\u001b[1m\n",
            "=============================== Training stats ===============================\u001b[0m\n",
            "Language: en\n",
            "Training pipeline: transformer, ner\n",
            "77 training docs\n",
            "11 evaluation docs\n",
            "\u001b[38;5;2m✔ No overlap between training and evaluation data\u001b[0m\n",
            "\u001b[38;5;1m✘ Low number of examples to train a new pipeline (77)\u001b[0m\n",
            "\u001b[1m\n",
            "============================== Vocab & Vectors ==============================\u001b[0m\n",
            "\u001b[38;5;4mℹ 13228 total word(s) in the data (1950 unique)\u001b[0m\n",
            "\u001b[38;5;4mℹ No word vectors present in the package\u001b[0m\n",
            "\u001b[1m\n",
            "========================== Named Entity Recognition ==========================\u001b[0m\n",
            "\u001b[38;5;4mℹ 4 label(s)\u001b[0m\n",
            "0 missing value(s) (tokens with '-' label)\n",
            "\u001b[38;5;2m✔ Good amount of examples for all labels\u001b[0m\n",
            "\u001b[38;5;2m✔ Examples without occurrences available for all labels\u001b[0m\n",
            "\u001b[38;5;2m✔ No entities consisting of or starting/ending with whitespace\u001b[0m\n",
            "\u001b[38;5;2m✔ No entities crossing sentence boundaries\u001b[0m\n",
            "\u001b[1m\n",
            "================================== Summary ==================================\u001b[0m\n",
            "\u001b[38;5;2m✔ 7 checks passed\u001b[0m\n",
            "\u001b[38;5;1m✘ 1 error\u001b[0m\n"
          ]
        }
      ]
    },
    {
      "cell_type": "code",
      "source": [
        "!pip uninstall cupy\n"
      ],
      "metadata": {
        "colab": {
          "base_uri": "https://localhost:8080/"
        },
        "id": "FcXHTL78msv8",
        "outputId": "e97a2cd9-447f-4411-c415-3da8d98062d0"
      },
      "execution_count": null,
      "outputs": [
        {
          "output_type": "stream",
          "name": "stdout",
          "text": [
            "\u001b[33mWARNING: Skipping cupy as it is not installed.\u001b[0m\u001b[33m\n",
            "\u001b[0m\u001b[33mWARNING: Running pip as the 'root' user can result in broken permissions and conflicting behaviour with the system package manager. It is recommended to use a virtual environment instead: https://pip.pypa.io/warnings/venv\u001b[0m\u001b[33m\n",
            "\u001b[0m"
          ]
        }
      ]
    },
    {
      "cell_type": "code",
      "source": [
        "!python -m spacy train -g 0 drive/MyDrive/Spacy-Project/config.cfg --output drive/MyDrive/\n"
      ],
      "metadata": {
        "colab": {
          "base_uri": "https://localhost:8080/"
        },
        "id": "EFhcYyk_lehv",
        "outputId": "cd266834-fef0-4d4c-98df-ae44736c700d"
      },
      "execution_count": null,
      "outputs": [
        {
          "output_type": "stream",
          "name": "stdout",
          "text": [
            "\u001b[38;5;4mℹ Saving to output directory: drive/MyDrive\u001b[0m\n",
            "\u001b[38;5;4mℹ Using GPU: 0\u001b[0m\n",
            "\u001b[1m\n",
            "=========================== Initializing pipeline ===========================\u001b[0m\n",
            "[2022-03-24 02:56:01,670] [INFO] Set up nlp object from config\n",
            "[2022-03-24 02:56:01,685] [INFO] Pipeline: ['transformer', 'ner']\n",
            "[2022-03-24 02:56:01,690] [INFO] Created vocabulary\n",
            "[2022-03-24 02:56:01,691] [INFO] Finished initializing nlp object\n",
            "Some weights of the model checkpoint at roberta-base were not used when initializing RobertaModel: ['lm_head.bias', 'lm_head.dense.weight', 'lm_head.decoder.weight', 'lm_head.layer_norm.bias', 'lm_head.layer_norm.weight', 'lm_head.dense.bias']\n",
            "- This IS expected if you are initializing RobertaModel from the checkpoint of a model trained on another task or with another architecture (e.g. initializing a BertForSequenceClassification model from a BertForPreTraining model).\n",
            "- This IS NOT expected if you are initializing RobertaModel from the checkpoint of a model that you expect to be exactly identical (initializing a BertForSequenceClassification model from a BertForSequenceClassification model).\n",
            "[2022-03-24 02:56:51,631] [INFO] Initialized pipeline components: ['transformer', 'ner']\n",
            "\u001b[38;5;2m✔ Initialized pipeline\u001b[0m\n",
            "\u001b[1m\n",
            "============================= Training pipeline =============================\u001b[0m\n",
            "\u001b[38;5;4mℹ Pipeline: ['transformer', 'ner']\u001b[0m\n",
            "\u001b[38;5;4mℹ Initial learn rate: 0.0\u001b[0m\n",
            "E    #       LOSS TRANS...  LOSS NER  ENTS_F  ENTS_P  ENTS_R  SCORE \n",
            "---  ------  -------------  --------  ------  ------  ------  ------\n",
            "  0       0        1350.37   1803.45   15.74    9.38   48.96    0.16\n",
            " 25     200      211376.96  86763.53   64.89   66.94   62.95    0.65\n",
            " 50     400        5228.49   5343.16   64.03   65.15   62.95    0.64\n",
            " 75     600        1930.81   2033.92   66.14   67.29   65.03    0.66\n",
            "100     800        1597.73   1522.57   64.43   64.10   64.77    0.64\n",
            "125    1000        1310.60   1213.85   65.00   66.04   63.99    0.65\n",
            "150    1200        1394.86   1203.25   63.85   65.05   62.69    0.64\n",
            "175    1400        1303.07   1098.37   64.39   65.33   63.47    0.64\n",
            "200    1600        1330.66   1063.11   63.47   65.38   61.66    0.63\n",
            "225    1800        1303.48    988.57   61.66   63.89   59.59    0.62\n",
            "250    2000        1345.37    988.15   67.61   67.09   68.13    0.68\n",
            "275    2200        1398.48   1001.23   65.04   64.54   65.54    0.65\n",
            "300    2400        1366.15    979.08   62.82   62.18   63.47    0.63\n",
            "325    2600        1386.56    958.02   64.90   66.40   63.47    0.65\n",
            "350    2800        1381.68    945.89   64.35   63.94   64.77    0.64\n",
            "375    3000        1357.07    908.87   65.72   65.63   65.80    0.66\n",
            "400    3200        1505.17    980.04   65.12   64.95   65.28    0.65\n",
            "425    3400        1418.03    900.03   67.11   68.75   65.54    0.67\n",
            "450    3600        1454.63    915.47   67.01   66.16   67.88    0.67\n",
            "\u001b[38;5;2m✔ Saved pipeline to output directory\u001b[0m\n",
            "drive/MyDrive/model-last\n"
          ]
        }
      ]
    },
    {
      "cell_type": "code",
      "source": [
        "import spacy\n",
        "nlp = spacy.load(\"drive/MyDrive/Spacy-Project/model-best\")\n",
        "text = [\n",
        "'''Qualifications\n",
        "- A thorough understanding of C# and .NET Core\n",
        "- Knowledge of good database design and usage\n",
        "- An understanding of NoSQL principles\n",
        "- Excellent problem solving and critical thinking skills\n",
        "- Curious about new technologies\n",
        "- Experience building cloud hosted, scalable web services\n",
        "- Azure experience is a plus\n",
        "Requirements\n",
        "- Bachelor's degree in Computer Science or related field\n",
        "(Equivalent experience can substitute for earned educational qualifications)\n",
        "- Minimum 4 years experience with C# and .NET\n",
        "- Minimum 4 years overall experience in developing commercial software\n",
        "'''\n",
        "]\n",
        "for doc in nlp.pipe(text, disable=[\"tagger\", \"parser\"]):\n",
        "    print([(ent.text, ent.label_) for ent in doc.ents])"
      ],
      "metadata": {
        "colab": {
          "base_uri": "https://localhost:8080/"
        },
        "id": "epx6M2gU7hb0",
        "outputId": "48297029-4a64-47bb-9fde-1e6c565ceb3c"
      },
      "execution_count": null,
      "outputs": [
        {
          "output_type": "stream",
          "name": "stdout",
          "text": [
            "[('C', 'SKILLS'), ('#', 'SKILLS'), ('.NET', 'SKILLS'), ('database design', 'SKILLS'), ('usage\\n', 'SKILLS'), ('NoSQL', 'SKILLS'), ('problem solving', 'SKILLS'), ('critical thinking', 'SKILLS'), ('building cloud hosted, scalable web services', 'SKILLS'), ('Azure', 'SKILLS'), ('Bachelor', 'DIPLOMA'), (\"'s\", 'DIPLOMA'), ('Computer Science', 'DIPLOMA_MAJOR'), ('4 years', 'EXPERIENCE'), ('C', 'SKILLS'), ('#', 'SKILLS'), ('.NET', 'SKILLS'), ('4 years', 'EXPERIENCE'), ('developing commercial software', 'SKILLS')]\n"
          ]
        }
      ]
    },
    {
      "cell_type": "code",
      "source": [
        ""
      ],
      "metadata": {
        "id": "Qh2kJN9DmEo-"
      },
      "execution_count": null,
      "outputs": []
    }
  ]
}